{
 "cells": [
  {
   "cell_type": "markdown",
   "metadata": {},
   "source": [
    "___\n",
    "\n",
    "<a href='http://www.pieriandata.com'> <img src='../Pierian_Data_Logo.png' /></a>\n",
    "___\n",
    "# Plotly and Cufflinks"
   ]
  },
  {
   "cell_type": "markdown",
   "metadata": {},
   "source": [
    "Plotly is a library that allows you to create interactive plots that you can use in dashboards or websites (you can save them as html files or static images).\n",
    "\n",
    "## Installation\n",
    "\n",
    "In order for this all to work, you'll need to install plotly and cufflinks to call plots directly off of a pandas dataframe. These libraries are not currently available through **conda** but are available through **pip**. Install the libraries at your command line/terminal using:\n",
    "\n",
    "    pip install plotly\n",
    "    pip install cufflinks\n",
    "\n",
    "** NOTE: Make sure you only have one installation of Python on your computer when you do this, otherwise the installation may not work. **\n",
    "\n",
    "## Imports and Set-up"
   ]
  },
  {
   "cell_type": "code",
   "execution_count": 20,
   "metadata": {},
   "outputs": [],
   "source": [
    "import chart_studio.plotly as py"
   ]
  },
  {
   "cell_type": "code",
   "execution_count": 21,
   "metadata": {},
   "outputs": [],
   "source": [
    "import pandas as pd\n",
    "import numpy as np\n",
    "%matplotlib inline"
   ]
  },
  {
   "cell_type": "code",
   "execution_count": 22,
   "metadata": {},
   "outputs": [
    {
     "name": "stdout",
     "output_type": "stream",
     "text": [
      "5.8.0\n"
     ]
    }
   ],
   "source": [
    "from plotly import __version__\n",
    "from plotly.offline import download_plotlyjs, init_notebook_mode, plot, iplot\n",
    "\n",
    "print(__version__) # requires version >= 1.9.0"
   ]
  },
  {
   "cell_type": "code",
   "execution_count": 23,
   "metadata": {},
   "outputs": [],
   "source": [
    "import cufflinks as cf"
   ]
  },
  {
   "cell_type": "code",
   "execution_count": 24,
   "metadata": {},
   "outputs": [
    {
     "data": {
      "text/html": [
       "        <script type=\"text/javascript\">\n",
       "        window.PlotlyConfig = {MathJaxConfig: 'local'};\n",
       "        if (window.MathJax && window.MathJax.Hub && window.MathJax.Hub.Config) {window.MathJax.Hub.Config({SVG: {font: \"STIX-Web\"}});}\n",
       "        if (typeof require !== 'undefined') {\n",
       "        require.undef(\"plotly\");\n",
       "        requirejs.config({\n",
       "            paths: {\n",
       "                'plotly': ['https://cdn.plot.ly/plotly-2.12.1.min']\n",
       "            }\n",
       "        });\n",
       "        require(['plotly'], function(Plotly) {\n",
       "            window._Plotly = Plotly;\n",
       "        });\n",
       "        }\n",
       "        </script>\n",
       "        "
      ]
     },
     "metadata": {},
     "output_type": "display_data"
    }
   ],
   "source": [
    "# For Notebooks\n",
    "init_notebook_mode(connected=True)"
   ]
  },
  {
   "cell_type": "code",
   "execution_count": 5,
   "metadata": {},
   "outputs": [
    {
     "data": {
      "text/html": [
       "        <script type=\"text/javascript\">\n",
       "        window.PlotlyConfig = {MathJaxConfig: 'local'};\n",
       "        if (window.MathJax && window.MathJax.Hub && window.MathJax.Hub.Config) {window.MathJax.Hub.Config({SVG: {font: \"STIX-Web\"}});}\n",
       "        if (typeof require !== 'undefined') {\n",
       "        require.undef(\"plotly\");\n",
       "        requirejs.config({\n",
       "            paths: {\n",
       "                'plotly': ['https://cdn.plot.ly/plotly-2.12.1.min']\n",
       "            }\n",
       "        });\n",
       "        require(['plotly'], function(Plotly) {\n",
       "            window._Plotly = Plotly;\n",
       "        });\n",
       "        }\n",
       "        </script>\n",
       "        "
      ]
     },
     "metadata": {},
     "output_type": "display_data"
    }
   ],
   "source": [
    "# For offline use\n",
    "cf.go_offline()"
   ]
  },
  {
   "cell_type": "markdown",
   "metadata": {},
   "source": [
    "### Fake Data"
   ]
  },
  {
   "cell_type": "code",
   "execution_count": 6,
   "metadata": {},
   "outputs": [],
   "source": [
    "df = pd.DataFrame(np.random.randn(100,4),columns='A B C D'.split())"
   ]
  },
  {
   "cell_type": "code",
   "execution_count": 7,
   "metadata": {},
   "outputs": [
    {
     "data": {
      "text/html": [
       "<div>\n",
       "<style scoped>\n",
       "    .dataframe tbody tr th:only-of-type {\n",
       "        vertical-align: middle;\n",
       "    }\n",
       "\n",
       "    .dataframe tbody tr th {\n",
       "        vertical-align: top;\n",
       "    }\n",
       "\n",
       "    .dataframe thead th {\n",
       "        text-align: right;\n",
       "    }\n",
       "</style>\n",
       "<table border=\"1\" class=\"dataframe\">\n",
       "  <thead>\n",
       "    <tr style=\"text-align: right;\">\n",
       "      <th></th>\n",
       "      <th>A</th>\n",
       "      <th>B</th>\n",
       "      <th>C</th>\n",
       "      <th>D</th>\n",
       "    </tr>\n",
       "  </thead>\n",
       "  <tbody>\n",
       "    <tr>\n",
       "      <th>0</th>\n",
       "      <td>0.921476</td>\n",
       "      <td>-0.764408</td>\n",
       "      <td>0.679572</td>\n",
       "      <td>-0.614146</td>\n",
       "    </tr>\n",
       "    <tr>\n",
       "      <th>1</th>\n",
       "      <td>0.995942</td>\n",
       "      <td>1.490383</td>\n",
       "      <td>-0.646100</td>\n",
       "      <td>-1.019083</td>\n",
       "    </tr>\n",
       "    <tr>\n",
       "      <th>2</th>\n",
       "      <td>-1.317223</td>\n",
       "      <td>1.775355</td>\n",
       "      <td>-0.872278</td>\n",
       "      <td>-2.111378</td>\n",
       "    </tr>\n",
       "    <tr>\n",
       "      <th>3</th>\n",
       "      <td>0.540725</td>\n",
       "      <td>-0.219411</td>\n",
       "      <td>0.844584</td>\n",
       "      <td>2.080530</td>\n",
       "    </tr>\n",
       "    <tr>\n",
       "      <th>4</th>\n",
       "      <td>0.642092</td>\n",
       "      <td>1.490906</td>\n",
       "      <td>-0.855280</td>\n",
       "      <td>-0.209715</td>\n",
       "    </tr>\n",
       "  </tbody>\n",
       "</table>\n",
       "</div>"
      ],
      "text/plain": [
       "          A         B         C         D\n",
       "0  0.921476 -0.764408  0.679572 -0.614146\n",
       "1  0.995942  1.490383 -0.646100 -1.019083\n",
       "2 -1.317223  1.775355 -0.872278 -2.111378\n",
       "3  0.540725 -0.219411  0.844584  2.080530\n",
       "4  0.642092  1.490906 -0.855280 -0.209715"
      ]
     },
     "execution_count": 7,
     "metadata": {},
     "output_type": "execute_result"
    }
   ],
   "source": [
    "df.head()"
   ]
  },
  {
   "cell_type": "code",
   "execution_count": 9,
   "metadata": {},
   "outputs": [],
   "source": [
    "df2 = pd.DataFrame({'Category':['A','B','C'],'Values':[32,43,50]})"
   ]
  },
  {
   "cell_type": "code",
   "execution_count": 10,
   "metadata": {},
   "outputs": [
    {
     "data": {
      "text/html": [
       "<div>\n",
       "<style scoped>\n",
       "    .dataframe tbody tr th:only-of-type {\n",
       "        vertical-align: middle;\n",
       "    }\n",
       "\n",
       "    .dataframe tbody tr th {\n",
       "        vertical-align: top;\n",
       "    }\n",
       "\n",
       "    .dataframe thead th {\n",
       "        text-align: right;\n",
       "    }\n",
       "</style>\n",
       "<table border=\"1\" class=\"dataframe\">\n",
       "  <thead>\n",
       "    <tr style=\"text-align: right;\">\n",
       "      <th></th>\n",
       "      <th>Category</th>\n",
       "      <th>Values</th>\n",
       "    </tr>\n",
       "  </thead>\n",
       "  <tbody>\n",
       "    <tr>\n",
       "      <th>0</th>\n",
       "      <td>A</td>\n",
       "      <td>32</td>\n",
       "    </tr>\n",
       "    <tr>\n",
       "      <th>1</th>\n",
       "      <td>B</td>\n",
       "      <td>43</td>\n",
       "    </tr>\n",
       "    <tr>\n",
       "      <th>2</th>\n",
       "      <td>C</td>\n",
       "      <td>50</td>\n",
       "    </tr>\n",
       "  </tbody>\n",
       "</table>\n",
       "</div>"
      ],
      "text/plain": [
       "  Category  Values\n",
       "0        A      32\n",
       "1        B      43\n",
       "2        C      50"
      ]
     },
     "execution_count": 10,
     "metadata": {},
     "output_type": "execute_result"
    }
   ],
   "source": [
    "df2.head()"
   ]
  },
  {
   "cell_type": "code",
   "execution_count": 25,
   "metadata": {},
   "outputs": [
    {
     "data": {
      "text/plain": [
       "<AxesSubplot:>"
      ]
     },
     "execution_count": 25,
     "metadata": {},
     "output_type": "execute_result"
    },
    {
     "data": {
      "image/png": "[encoded data removed]",
      "text/plain": [
       "<Figure size 432x288 with 1 Axes>"
      ]
     },
     "metadata": {
      "needs_background": "light"
     },
     "output_type": "display_data"
    }
   ],
   "source": [
    "df.plot()"
   ]
  },
  {
   "cell_type": "markdown",
   "metadata": {},
   "source": [
    "## Using Cufflinks and iplot()\n",
    "\n",
    "* scatter\n",
    "* bar\n",
    "* box\n",
    "* spread\n",
    "* ratio\n",
    "* heatmap\n",
    "* surface\n",
    "* histogram\n",
    "* bubble"
   ]
  },
  {
   "cell_type": "markdown",
   "metadata": {},
   "source": [
    "## Scatter"
   ]
  },
  {
   "cell_type": "code",
   "execution_count": 30,
   "metadata": {},
   "outputs": [
    {
     "data": {
      "application/vnd.plotly.v1+json": {
       "config": {
        "linkText": "Export to plot.ly",
        "plotlyServerURL": "https://plot.ly",
        "showLink": true
       },
       "data": [
        {
         "line": {
          "color": "rgba(255, 153, 51, 1.0)",
          "dash": "solid",
          "shape": "linear",
          "width": 1.3
         },
         "marker": {
          "size": 10,
          "symbol": "circle"
         },
         "mode": "markers",
         "name": "B",
         "text": "",
         "type": "scatter",
         "x": [
          0.9214764218981654,
          0.9959423769262518,
          -1.3172230483026206,
          0.5407245812119383,
          0.642092394587669,
          -0.30864026929741556,
          -0.5064444603327013,
          -0.5082815706886411,
          1.5678242419240762,
          -0.5914735326347423,
          -1.7445375813070596,
          -0.8511532090360143,
          -0.30766078290663085,
          1.5312966921963567,
          0.58170307007244,
          0.7320952946850469,
          0.3738115273086843,
          1.0477262234425586,
          0.32586248987629135,
          0.7806172065163496,
          -1.5995344740588855,
          2.023197403454082,
          2.402146094037926,
          -0.14741254282516394,
          -1.0067375200215045,
          -1.1891762623742206,
          0.12349188869339653,
          0.700258798909914,
          1.413176658445167,
          1.3420667334049952,
          -0.8342798273525154,
          0.025666334238967782,
          -0.24069702509724686,
          0.21364229057549278,
          -1.4426144467776687,
          -0.08932745930767785,
          -0.5284704942944856,
          1.6058386748639275,
          -0.9387770840200482,
          1.2872196386808337,
          -0.19202162275969953,
          0.38100206767575034,
          1.18575609626376,
          0.5553161661699734,
          0.24115791611163684,
          1.4969203576631427,
          -0.5634481211552631,
          2.3703829812061907,
          1.767720902380606,
          0.28017710804105206,
          0.49646553023790985,
          -0.9360754821689791,
          0.5869592300176261,
          -0.09093762307121381,
          1.243246510213567,
          -0.13893385760855262,
          0.7044853625728603,
          -1.1561576840919168,
          -0.7579595928722608,
          -0.21471118458934224,
          0.9257381946080985,
          0.9766127047858868,
          0.6098074478067186,
          1.2146699177361575,
          -0.5123135622157158,
          0.4146388607013162,
          0.4128765741740123,
          -0.47478297707165257,
          -1.3107320275718506,
          -2.0141388970915552,
          0.2149067903001285,
          -0.4501277888894486,
          0.7373901809780066,
          0.6883782375334397,
          -1.0147904664394065,
          0.42183307829222266,
          0.19307449546973163,
          -0.1352813133812439,
          -0.9985451716644858,
          0.21851619701166838,
          0.04588262391096019,
          -0.710749838574289,
          -1.1436647243076707,
          2.0431288115605994,
          0.6826865242180874,
          2.1521093097078667,
          -0.9855146625140069,
          -0.5688666413452645,
          0.7891903836062417,
          -0.9964714269602141,
          -1.528259272876875,
          -0.3176272610541392,
          1.122088699841059,
          0.37043387975814307,
          -2.0079156864099224,
          0.5474650843712826,
          -0.8485065697644134,
          1.207729628300678,
          1.5330545394715986,
          0.7406995419159385
         ],
         "y": [
          -0.7644080455499217,
          1.4903826348831475,
          1.7753545095320915,
          -0.21941143583926614,
          1.490906394340638,
          0.05073007190325578,
          0.12891772924536005,
          0.9806341778768883,
          -1.4661106752532236,
          -1.8313822255569998,
          0.47711893311476583,
          0.3131582522918956,
          -1.4876819494001086,
          0.4750270444642189,
          2.0066305754796363,
          -1.5746220778422455,
          0.8510602760662758,
          0.5719808271700746,
          0.6086311492941431,
          -0.21401882438581846,
          -0.008657512498816817,
          0.6462715111133875,
          0.4657825991101462,
          -0.18737563711800978,
          0.16102303677942756,
          -0.3795194564004293,
          0.8805971750184391,
          -1.983928310036097,
          0.1931908606848667,
          -0.573221545296363,
          -0.7290244844446884,
          1.2128004880039103,
          0.4698273138772131,
          0.048029218692651005,
          0.4695259557613381,
          -0.8317369219897317,
          0.5633419089126847,
          -0.8864010907405202,
          -2.641968777183869,
          0.3958577374625747,
          0.5186893701304792,
          1.2774497848166861,
          -0.8941640946451048,
          -1.030456318697221,
          -0.9476122545711053,
          -0.2215741965974773,
          -0.33168783533905394,
          0.2933464634639469,
          1.1867330131865892,
          0.8040438563800378,
          -1.1980813882327417,
          0.8811886381415173,
          -0.24527772072678253,
          -0.6047611251358266,
          0.6776159331532022,
          0.2953541950827958,
          -2.3542882896518726,
          0.7294238680285776,
          -0.806114640441142,
          -0.14848521420104727,
          -0.25456290617086313,
          0.3185997119934261,
          -0.3232354568659813,
          -0.11591756327650839,
          0.45483205884065314,
          0.4621990285026095,
          1.472241567653293,
          0.27327614131344097,
          -0.8793666301201867,
          -0.24006525086929933,
          -0.5416831198154325,
          -0.07269629668585165,
          -0.9455796443367955,
          -0.7776122374725006,
          -0.9957952145034031,
          -1.1588967154402783,
          -0.5692902124415858,
          -0.5048771831228177,
          0.6434105582341395,
          -0.8902449420628814,
          -1.3944901166622579,
          0.019674051335566385,
          0.34807679578906436,
          1.9174342520796577,
          -0.40825511799886244,
          1.0078061832304828,
          -0.3375270586616938,
          1.854701379945328,
          -1.3545874562375024,
          1.5237278750361651,
          -0.20114573136672684,
          2.493310901723775,
          0.2825786235371873,
          -0.5844043067849404,
          0.031369299183915185,
          0.6170880343815135,
          -0.867010872289918,
          -0.435178928798219,
          1.3699292017692202,
          -0.41248911766088653
         ]
        }
       ],
       "layout": {
        "legend": {
         "bgcolor": "#F5F6F9",
         "font": {
          "color": "#4D5663"
         }
        },
        "paper_bgcolor": "#F5F6F9",
        "plot_bgcolor": "#F5F6F9",
        "template": {
         "data": {
          "bar": [
           {
            "error_x": {
             "color": "#2a3f5f"
            },
            "error_y": {
             "color": "#2a3f5f"
            },
            "marker": {
             "line": {
              "color": "#E5ECF6",
              "width": 0.5
             },
             "pattern": {
              "fillmode": "overlay",
              "size": 10,
              "solidity": 0.2
             }
            },
            "type": "bar"
           }
          ],
          "barpolar": [
           {
            "marker": {
             "line": {
              "color": "#E5ECF6",
              "width": 0.5
             },
             "pattern": {
              "fillmode": "overlay",
              "size": 10,
              "solidity": 0.2
             }
            },
            "type": "barpolar"
           }
          ],
          "carpet": [
           {
            "aaxis": {
             "endlinecolor": "#2a3f5f",
             "gridcolor": "white",
             "linecolor": "white",
             "minorgridcolor": "white",
             "startlinecolor": "#2a3f5f"
            },
            "baxis": {
             "endlinecolor": "#2a3f5f",
             "gridcolor": "white",
             "linecolor": "white",
             "minorgridcolor": "white",
             "startlinecolor": "#2a3f5f"
            },
            "type": "carpet"
           }
          ],
          "choropleth": [
           {
            "colorbar": {
             "outlinewidth": 0,
             "ticks": ""
            },
            "type": "choropleth"
           }
          ],
          "contour": [
           {
            "colorbar": {
             "outlinewidth": 0,
             "ticks": ""
            },
            "colorscale": [
             [
              0,
              "#0d0887"
             ],
             [
              0.1111111111111111,
              "#46039f"
             ],
             [
              0.2222222222222222,
              "#7201a8"
             ],
             [
              0.3333333333333333,
              "#9c179e"
             ],
             [
              0.4444444444444444,
              "#bd3786"
             ],
             [
              0.5555555555555556,
              "#d8576b"
             ],
             [
              0.6666666666666666,
              "#ed7953"
             ],
             [
              0.7777777777777778,
              "#fb9f3a"
             ],
             [
              0.8888888888888888,
              "#fdca26"
             ],
             [
              1,
              "#f0f921"
             ]
            ],
            "type": "contour"
           }
          ],
          "contourcarpet": [
           {
            "colorbar": {
             "outlinewidth": 0,
             "ticks": ""
            },
            "type": "contourcarpet"
           }
          ],
          "heatmap": [
           {
            "colorbar": {
             "outlinewidth": 0,
             "ticks": ""
            },
            "colorscale": [
             [
              0,
              "#0d0887"
             ],
             [
              0.1111111111111111,
              "#46039f"
             ],
             [
              0.2222222222222222,
              "#7201a8"
             ],
             [
              0.3333333333333333,
              "#9c179e"
             ],
             [
              0.4444444444444444,
              "#bd3786"
             ],
             [
              0.5555555555555556,
              "#d8576b"
             ],
             [
              0.6666666666666666,
              "#ed7953"
             ],
             [
              0.7777777777777778,
              "#fb9f3a"
             ],
             [
              0.8888888888888888,
              "#fdca26"
             ],
             [
              1,
              "#f0f921"
             ]
            ],
            "type": "heatmap"
           }
          ],
          "heatmapgl": [
           {
            "colorbar": {
             "outlinewidth": 0,
             "ticks": ""
            },
            "colorscale": [
             [
              0,
              "#0d0887"
             ],
             [
              0.1111111111111111,
              "#46039f"
             ],
             [
              0.2222222222222222,
              "#7201a8"
             ],
             [
              0.3333333333333333,
              "#9c179e"
             ],
             [
              0.4444444444444444,
              "#bd3786"
             ],
             [
              0.5555555555555556,
              "#d8576b"
             ],
             [
              0.6666666666666666,
              "#ed7953"
             ],
             [
              0.7777777777777778,
              "#fb9f3a"
             ],
             [
              0.8888888888888888,
              "#fdca26"
             ],
             [
              1,
              "#f0f921"
             ]
            ],
            "type": "heatmapgl"
           }
          ],
          "histogram": [
           {
            "marker": {
             "pattern": {
              "fillmode": "overlay",
              "size": 10,
              "solidity": 0.2
             }
            },
            "type": "histogram"
           }
          ],
          "histogram2d": [
           {
            "colorbar": {
             "outlinewidth": 0,
             "ticks": ""
            },
            "colorscale": [
             [
              0,
              "#0d0887"
             ],
             [
              0.1111111111111111,
              "#46039f"
             ],
             [
              0.2222222222222222,
              "#7201a8"
             ],
             [
              0.3333333333333333,
              "#9c179e"
             ],
             [
              0.4444444444444444,
              "#bd3786"
             ],
             [
              0.5555555555555556,
              "#d8576b"
             ],
             [
              0.6666666666666666,
              "#ed7953"
             ],
             [
              0.7777777777777778,
              "#fb9f3a"
             ],
             [
              0.8888888888888888,
              "#fdca26"
             ],
             [
              1,
              "#f0f921"
             ]
            ],
            "type": "histogram2d"
           }
          ],
          "histogram2dcontour": [
           {
            "colorbar": {
             "outlinewidth": 0,
             "ticks": ""
            },
            "colorscale": [
             [
              0,
              "#0d0887"
             ],
             [
              0.1111111111111111,
              "#46039f"
             ],
             [
              0.2222222222222222,
              "#7201a8"
             ],
             [
              0.3333333333333333,
              "#9c179e"
             ],
             [
              0.4444444444444444,
              "#bd3786"
             ],
             [
              0.5555555555555556,
              "#d8576b"
             ],
             [
              0.6666666666666666,
              "#ed7953"
             ],
             [
              0.7777777777777778,
              "#fb9f3a"
             ],
             [
              0.8888888888888888,
              "#fdca26"
             ],
             [
              1,
              "#f0f921"
             ]
            ],
            "type": "histogram2dcontour"
           }
          ],
          "mesh3d": [
           {
            "colorbar": {
             "outlinewidth": 0,
             "ticks": ""
            },
            "type": "mesh3d"
           }
          ],
          "parcoords": [
           {
            "line": {
             "colorbar": {
              "outlinewidth": 0,
              "ticks": ""
             }
            },
            "type": "parcoords"
           }
          ],
          "pie": [
           {
            "automargin": true,
            "type": "pie"
           }
          ],
          "scatter": [
           {
            "fillpattern": {
             "fillmode": "overlay",
             "size": 10,
             "solidity": 0.2
            },
            "type": "scatter"
           }
          ],
          "scatter3d": [
           {
            "line": {
             "colorbar": {
              "outlinewidth": 0,
              "ticks": ""
             }
            },
            "marker": {
             "colorbar": {
              "outlinewidth": 0,
              "ticks": ""
             }
            },
            "type": "scatter3d"
           }
          ],
          "scattercarpet": [
           {
            "marker": {
             "colorbar": {
              "outlinewidth": 0,
              "ticks": ""
             }
            },
            "type": "scattercarpet"
           }
          ],
          "scattergeo": [
           {
            "marker": {
             "colorbar": {
              "outlinewidth": 0,
              "ticks": ""
             }
            },
            "type": "scattergeo"
           }
          ],
          "scattergl": [
           {
            "marker": {
             "colorbar": {
              "outlinewidth": 0,
              "ticks": ""
             }
            },
            "type": "scattergl"
           }
          ],
          "scattermapbox": [
           {
            "marker": {
             "colorbar": {
              "outlinewidth": 0,
              "ticks": ""
             }
            },
            "type": "scattermapbox"
           }
          ],
          "scatterpolar": [
           {
            "marker": {
             "colorbar": {
              "outlinewidth": 0,
              "ticks": ""
             }
            },
            "type": "scatterpolar"
           }
          ],
          "scatterpolargl": [
           {
            "marker": {
             "colorbar": {
              "outlinewidth": 0,
              "ticks": ""
             }
            },
            "type": "scatterpolargl"
           }
          ],
          "scatterternary": [
           {
            "marker": {
             "colorbar": {
              "outlinewidth": 0,
              "ticks": ""
             }
            },
            "type": "scatterternary"
           }
          ],
          "surface": [
           {
            "colorbar": {
             "outlinewidth": 0,
             "ticks": ""
            },
            "colorscale": [
             [
              0,
              "#0d0887"
             ],
             [
              0.1111111111111111,
              "#46039f"
             ],
             [
              0.2222222222222222,
              "#7201a8"
             ],
             [
              0.3333333333333333,
              "#9c179e"
             ],
             [
              0.4444444444444444,
              "#bd3786"
             ],
             [
              0.5555555555555556,
              "#d8576b"
             ],
             [
              0.6666666666666666,
              "#ed7953"
             ],
             [
              0.7777777777777778,
              "#fb9f3a"
             ],
             [
              0.8888888888888888,
              "#fdca26"
             ],
             [
              1,
              "#f0f921"
             ]
            ],
            "type": "surface"
           }
          ],
          "table": [
           {
            "cells": {
             "fill": {
              "color": "#EBF0F8"
             },
             "line": {
              "color": "white"
             }
            },
            "header": {
             "fill": {
              "color": "#C8D4E3"
             },
             "line": {
              "color": "white"
             }
            },
            "type": "table"
           }
          ]
         },
         "layout": {
          "annotationdefaults": {
           "arrowcolor": "#2a3f5f",
           "arrowhead": 0,
           "arrowwidth": 1
          },
          "autotypenumbers": "strict",
          "coloraxis": {
           "colorbar": {
            "outlinewidth": 0,
            "ticks": ""
           }
          },
          "colorscale": {
           "diverging": [
            [
             0,
             "#8e0152"
            ],
            [
             0.1,
             "#c51b7d"
            ],
            [
             0.2,
             "#de77ae"
            ],
            [
             0.3,
             "#f1b6da"
            ],
            [
             0.4,
             "#fde0ef"
            ],
            [
             0.5,
             "#f7f7f7"
            ],
            [
             0.6,
             "#e6f5d0"
            ],
            [
             0.7,
             "#b8e186"
            ],
            [
             0.8,
             "#7fbc41"
            ],
            [
             0.9,
             "#4d9221"
            ],
            [
             1,
             "#276419"
            ]
           ],
           "sequential": [
            [
             0,
             "#0d0887"
            ],
            [
             0.1111111111111111,
             "#46039f"
            ],
            [
             0.2222222222222222,
             "#7201a8"
            ],
            [
             0.3333333333333333,
             "#9c179e"
            ],
            [
             0.4444444444444444,
             "#bd3786"
            ],
            [
             0.5555555555555556,
             "#d8576b"
            ],
            [
             0.6666666666666666,
             "#ed7953"
            ],
            [
             0.7777777777777778,
             "#fb9f3a"
            ],
            [
             0.8888888888888888,
             "#fdca26"
            ],
            [
             1,
             "#f0f921"
            ]
           ],
           "sequentialminus": [
            [
             0,
             "#0d0887"
            ],
            [
             0.1111111111111111,
             "#46039f"
            ],
            [
             0.2222222222222222,
             "#7201a8"
            ],
            [
             0.3333333333333333,
             "#9c179e"
            ],
            [
             0.4444444444444444,
             "#bd3786"
            ],
            [
             0.5555555555555556,
             "#d8576b"
            ],
            [
             0.6666666666666666,
             "#ed7953"
            ],
            [
             0.7777777777777778,
             "#fb9f3a"
            ],
            [
             0.8888888888888888,
             "#fdca26"
            ],
            [
             1,
             "#f0f921"
            ]
           ]
          },
          "colorway": [
           "#636efa",
           "#EF553B",
           "#00cc96",
           "#ab63fa",
           "#FFA15A",
           "#19d3f3",
           "#FF6692",
           "#B6E880",
           "#FF97FF",
           "#FECB52"
          ],
          "font": {
           "color": "#2a3f5f"
          },
          "geo": {
           "bgcolor": "white",
           "lakecolor": "white",
           "landcolor": "#E5ECF6",
           "showlakes": true,
           "showland": true,
           "subunitcolor": "white"
          },
          "hoverlabel": {
           "align": "left"
          },
          "hovermode": "closest",
          "mapbox": {
           "style": "light"
          },
          "paper_bgcolor": "white",
          "plot_bgcolor": "#E5ECF6",
          "polar": {
           "angularaxis": {
            "gridcolor": "white",
            "linecolor": "white",
            "ticks": ""
           },
           "bgcolor": "#E5ECF6",
           "radialaxis": {
            "gridcolor": "white",
            "linecolor": "white",
            "ticks": ""
           }
          },
          "scene": {
           "xaxis": {
            "backgroundcolor": "#E5ECF6",
            "gridcolor": "white",
            "gridwidth": 2,
            "linecolor": "white",
            "showbackground": true,
            "ticks": "",
            "zerolinecolor": "white"
           },
           "yaxis": {
            "backgroundcolor": "#E5ECF6",
            "gridcolor": "white",
            "gridwidth": 2,
            "linecolor": "white",
            "showbackground": true,
            "ticks": "",
            "zerolinecolor": "white"
           },
           "zaxis": {
            "backgroundcolor": "#E5ECF6",
            "gridcolor": "white",
            "gridwidth": 2,
            "linecolor": "white",
            "showbackground": true,
            "ticks": "",
            "zerolinecolor": "white"
           }
          },
          "shapedefaults": {
           "line": {
            "color": "#2a3f5f"
           }
          },
          "ternary": {
           "aaxis": {
            "gridcolor": "white",
            "linecolor": "white",
            "ticks": ""
           },
           "baxis": {
            "gridcolor": "white",
            "linecolor": "white",
            "ticks": ""
           },
           "bgcolor": "#E5ECF6",
           "caxis": {
            "gridcolor": "white",
            "linecolor": "white",
            "ticks": ""
           }
          },
          "title": {
           "x": 0.05
          },
          "xaxis": {
           "automargin": true,
           "gridcolor": "white",
           "linecolor": "white",
           "ticks": "",
           "title": {
            "standoff": 15
           },
           "zerolinecolor": "white",
           "zerolinewidth": 2
          },
          "yaxis": {
           "automargin": true,
           "gridcolor": "white",
           "linecolor": "white",
           "ticks": "",
           "title": {
            "standoff": 15
           },
           "zerolinecolor": "white",
           "zerolinewidth": 2
          }
         }
        },
        "title": {
         "font": {
          "color": "#4D5663"
         }
        },
        "xaxis": {
         "gridcolor": "#E1E5ED",
         "showgrid": true,
         "tickfont": {
          "color": "#4D5663"
         },
         "title": {
          "font": {
           "color": "#4D5663"
          },
          "text": ""
         },
         "zerolinecolor": "#E1E5ED"
        },
        "yaxis": {
         "gridcolor": "#E1E5ED",
         "showgrid": true,
         "tickfont": {
          "color": "#4D5663"
         },
         "title": {
          "font": {
           "color": "#4D5663"
          },
          "text": ""
         },
         "zerolinecolor": "#E1E5ED"
        }
       }
      },
      "text/html": [
       "<div>                            <div id=\"f6e8a0f3-cd4a-42f4-9e21-91a1dfcc941e\" class=\"plotly-graph-div\" style=\"height:525px; width:100%;\"></div>            <script type=\"text/javascript\">                require([\"plotly\"], function(Plotly) {                    window.PLOTLYENV=window.PLOTLYENV || {};\n",
       "                    window.PLOTLYENV.BASE_URL='https://plot.ly';                                    if (document.getElementById(\"f6e8a0f3-cd4a-42f4-9e21-91a1dfcc941e\")) {                    Plotly.newPlot(                        \"f6e8a0f3-cd4a-42f4-9e21-91a1dfcc941e\",                        [{\"line\":{\"color\":\"rgba(255, 153, 51, 1.0)\",\"dash\":\"solid\",\"shape\":\"linear\",\"width\":1.3},\"marker\":{\"size\":10,\"symbol\":\"circle\"},\"mode\":\"markers\",\"name\":\"B\",\"text\":\"\",\"x\":[0.9214764218981654,0.9959423769262518,-1.3172230483026206,0.5407245812119383,0.642092394587669,-0.30864026929741556,-0.5064444603327013,-0.5082815706886411,1.5678242419240762,-0.5914735326347423,-1.7445375813070596,-0.8511532090360143,-0.30766078290663085,1.5312966921963567,0.58170307007244,0.7320952946850469,0.3738115273086843,1.0477262234425586,0.32586248987629135,0.7806172065163496,-1.5995344740588855,2.023197403454082,2.402146094037926,-0.14741254282516394,-1.0067375200215045,-1.1891762623742206,0.12349188869339653,0.700258798909914,1.413176658445167,1.3420667334049952,-0.8342798273525154,0.025666334238967782,-0.24069702509724686,0.21364229057549278,-1.4426144467776687,-0.08932745930767785,-0.5284704942944856,1.6058386748639275,-0.9387770840200482,1.2872196386808337,-0.19202162275969953,0.38100206767575034,1.18575609626376,0.5553161661699734,0.24115791611163684,1.4969203576631427,-0.5634481211552631,2.3703829812061907,1.767720902380606,0.28017710804105206,0.49646553023790985,-0.9360754821689791,0.5869592300176261,-0.09093762307121381,1.243246510213567,-0.13893385760855262,0.7044853625728603,-1.1561576840919168,-0.7579595928722608,-0.21471118458934224,0.9257381946080985,0.9766127047858868,0.6098074478067186,1.2146699177361575,-0.5123135622157158,0.4146388607013162,0.4128765741740123,-0.47478297707165257,-1.3107320275718506,-2.0141388970915552,0.2149067903001285,-0.4501277888894486,0.7373901809780066,0.6883782375334397,-1.0147904664394065,0.42183307829222266,0.19307449546973163,-0.1352813133812439,-0.9985451716644858,0.21851619701166838,0.04588262391096019,-0.710749838574289,-1.1436647243076707,2.0431288115605994,0.6826865242180874,2.1521093097078667,-0.9855146625140069,-0.5688666413452645,0.7891903836062417,-0.9964714269602141,-1.528259272876875,-0.3176272610541392,1.122088699841059,0.37043387975814307,-2.0079156864099224,0.5474650843712826,-0.8485065697644134,1.207729628300678,1.5330545394715986,0.7406995419159385],\"y\":[-0.7644080455499217,1.4903826348831475,1.7753545095320915,-0.21941143583926614,1.490906394340638,0.05073007190325578,0.12891772924536005,0.9806341778768883,-1.4661106752532236,-1.8313822255569998,0.47711893311476583,0.3131582522918956,-1.4876819494001086,0.4750270444642189,2.0066305754796363,-1.5746220778422455,0.8510602760662758,0.5719808271700746,0.6086311492941431,-0.21401882438581846,-0.008657512498816817,0.6462715111133875,0.4657825991101462,-0.18737563711800978,0.16102303677942756,-0.3795194564004293,0.8805971750184391,-1.983928310036097,0.1931908606848667,-0.573221545296363,-0.7290244844446884,1.2128004880039103,0.4698273138772131,0.048029218692651005,0.4695259557613381,-0.8317369219897317,0.5633419089126847,-0.8864010907405202,-2.641968777183869,0.3958577374625747,0.5186893701304792,1.2774497848166861,-0.8941640946451048,-1.030456318697221,-0.9476122545711053,-0.2215741965974773,-0.33168783533905394,0.2933464634639469,1.1867330131865892,0.8040438563800378,-1.1980813882327417,0.8811886381415173,-0.24527772072678253,-0.6047611251358266,0.6776159331532022,0.2953541950827958,-2.3542882896518726,0.7294238680285776,-0.806114640441142,-0.14848521420104727,-0.25456290617086313,0.3185997119934261,-0.3232354568659813,-0.11591756327650839,0.45483205884065314,0.4621990285026095,1.472241567653293,0.27327614131344097,-0.8793666301201867,-0.24006525086929933,-0.5416831198154325,-0.07269629668585165,-0.9455796443367955,-0.7776122374725006,-0.9957952145034031,-1.1588967154402783,-0.5692902124415858,-0.5048771831228177,0.6434105582341395,-0.8902449420628814,-1.3944901166622579,0.019674051335566385,0.34807679578906436,1.9174342520796577,-0.40825511799886244,1.0078061832304828,-0.3375270586616938,1.854701379945328,-1.3545874562375024,1.5237278750361651,-0.20114573136672684,2.493310901723775,0.2825786235371873,-0.5844043067849404,0.031369299183915185,0.6170880343815135,-0.867010872289918,-0.435178928798219,1.3699292017692202,-0.41248911766088653],\"type\":\"scatter\"}],                        {\"legend\":{\"bgcolor\":\"#F5F6F9\",\"font\":{\"color\":\"#4D5663\"}},\"paper_bgcolor\":\"#F5F6F9\",\"plot_bgcolor\":\"#F5F6F9\",\"template\":{\"data\":{\"barpolar\":[{\"marker\":{\"line\":{\"color\":\"#E5ECF6\",\"width\":0.5},\"pattern\":{\"fillmode\":\"overlay\",\"size\":10,\"solidity\":0.2}},\"type\":\"barpolar\"}],\"bar\":[{\"error_x\":{\"color\":\"#2a3f5f\"},\"error_y\":{\"color\":\"#2a3f5f\"},\"marker\":{\"line\":{\"color\":\"#E5ECF6\",\"width\":0.5},\"pattern\":{\"fillmode\":\"overlay\",\"size\":10,\"solidity\":0.2}},\"type\":\"bar\"}],\"carpet\":[{\"aaxis\":{\"endlinecolor\":\"#2a3f5f\",\"gridcolor\":\"white\",\"linecolor\":\"white\",\"minorgridcolor\":\"white\",\"startlinecolor\":\"#2a3f5f\"},\"baxis\":{\"endlinecolor\":\"#2a3f5f\",\"gridcolor\":\"white\",\"linecolor\":\"white\",\"minorgridcolor\":\"white\",\"startlinecolor\":\"#2a3f5f\"},\"type\":\"carpet\"}],\"choropleth\":[{\"colorbar\":{\"outlinewidth\":0,\"ticks\":\"\"},\"type\":\"choropleth\"}],\"contourcarpet\":[{\"colorbar\":{\"outlinewidth\":0,\"ticks\":\"\"},\"type\":\"contourcarpet\"}],\"contour\":[{\"colorbar\":{\"outlinewidth\":0,\"ticks\":\"\"},\"colorscale\":[[0.0,\"#0d0887\"],[0.1111111111111111,\"#46039f\"],[0.2222222222222222,\"#7201a8\"],[0.3333333333333333,\"#9c179e\"],[0.4444444444444444,\"#bd3786\"],[0.5555555555555556,\"#d8576b\"],[0.6666666666666666,\"#ed7953\"],[0.7777777777777778,\"#fb9f3a\"],[0.8888888888888888,\"#fdca26\"],[1.0,\"#f0f921\"]],\"type\":\"contour\"}],\"heatmapgl\":[{\"colorbar\":{\"outlinewidth\":0,\"ticks\":\"\"},\"colorscale\":[[0.0,\"#0d0887\"],[0.1111111111111111,\"#46039f\"],[0.2222222222222222,\"#7201a8\"],[0.3333333333333333,\"#9c179e\"],[0.4444444444444444,\"#bd3786\"],[0.5555555555555556,\"#d8576b\"],[0.6666666666666666,\"#ed7953\"],[0.7777777777777778,\"#fb9f3a\"],[0.8888888888888888,\"#fdca26\"],[1.0,\"#f0f921\"]],\"type\":\"heatmapgl\"}],\"heatmap\":[{\"colorbar\":{\"outlinewidth\":0,\"ticks\":\"\"},\"colorscale\":[[0.0,\"#0d0887\"],[0.1111111111111111,\"#46039f\"],[0.2222222222222222,\"#7201a8\"],[0.3333333333333333,\"#9c179e\"],[0.4444444444444444,\"#bd3786\"],[0.5555555555555556,\"#d8576b\"],[0.6666666666666666,\"#ed7953\"],[0.7777777777777778,\"#fb9f3a\"],[0.8888888888888888,\"#fdca26\"],[1.0,\"#f0f921\"]],\"type\":\"heatmap\"}],\"histogram2dcontour\":[{\"colorbar\":{\"outlinewidth\":0,\"ticks\":\"\"},\"colorscale\":[[0.0,\"#0d0887\"],[0.1111111111111111,\"#46039f\"],[0.2222222222222222,\"#7201a8\"],[0.3333333333333333,\"#9c179e\"],[0.4444444444444444,\"#bd3786\"],[0.5555555555555556,\"#d8576b\"],[0.6666666666666666,\"#ed7953\"],[0.7777777777777778,\"#fb9f3a\"],[0.8888888888888888,\"#fdca26\"],[1.0,\"#f0f921\"]],\"type\":\"histogram2dcontour\"}],\"histogram2d\":[{\"colorbar\":{\"outlinewidth\":0,\"ticks\":\"\"},\"colorscale\":[[0.0,\"#0d0887\"],[0.1111111111111111,\"#46039f\"],[0.2222222222222222,\"#7201a8\"],[0.3333333333333333,\"#9c179e\"],[0.4444444444444444,\"#bd3786\"],[0.5555555555555556,\"#d8576b\"],[0.6666666666666666,\"#ed7953\"],[0.7777777777777778,\"#fb9f3a\"],[0.8888888888888888,\"#fdca26\"],[1.0,\"#f0f921\"]],\"type\":\"histogram2d\"}],\"histogram\":[{\"marker\":{\"pattern\":{\"fillmode\":\"overlay\",\"size\":10,\"solidity\":0.2}},\"type\":\"histogram\"}],\"mesh3d\":[{\"colorbar\":{\"outlinewidth\":0,\"ticks\":\"\"},\"type\":\"mesh3d\"}],\"parcoords\":[{\"line\":{\"colorbar\":{\"outlinewidth\":0,\"ticks\":\"\"}},\"type\":\"parcoords\"}],\"pie\":[{\"automargin\":true,\"type\":\"pie\"}],\"scatter3d\":[{\"line\":{\"colorbar\":{\"outlinewidth\":0,\"ticks\":\"\"}},\"marker\":{\"colorbar\":{\"outlinewidth\":0,\"ticks\":\"\"}},\"type\":\"scatter3d\"}],\"scattercarpet\":[{\"marker\":{\"colorbar\":{\"outlinewidth\":0,\"ticks\":\"\"}},\"type\":\"scattercarpet\"}],\"scattergeo\":[{\"marker\":{\"colorbar\":{\"outlinewidth\":0,\"ticks\":\"\"}},\"type\":\"scattergeo\"}],\"scattergl\":[{\"marker\":{\"colorbar\":{\"outlinewidth\":0,\"ticks\":\"\"}},\"type\":\"scattergl\"}],\"scattermapbox\":[{\"marker\":{\"colorbar\":{\"outlinewidth\":0,\"ticks\":\"\"}},\"type\":\"scattermapbox\"}],\"scatterpolargl\":[{\"marker\":{\"colorbar\":{\"outlinewidth\":0,\"ticks\":\"\"}},\"type\":\"scatterpolargl\"}],\"scatterpolar\":[{\"marker\":{\"colorbar\":{\"outlinewidth\":0,\"ticks\":\"\"}},\"type\":\"scatterpolar\"}],\"scatter\":[{\"fillpattern\":{\"fillmode\":\"overlay\",\"size\":10,\"solidity\":0.2},\"type\":\"scatter\"}],\"scatterternary\":[{\"marker\":{\"colorbar\":{\"outlinewidth\":0,\"ticks\":\"\"}},\"type\":\"scatterternary\"}],\"surface\":[{\"colorbar\":{\"outlinewidth\":0,\"ticks\":\"\"},\"colorscale\":[[0.0,\"#0d0887\"],[0.1111111111111111,\"#46039f\"],[0.2222222222222222,\"#7201a8\"],[0.3333333333333333,\"#9c179e\"],[0.4444444444444444,\"#bd3786\"],[0.5555555555555556,\"#d8576b\"],[0.6666666666666666,\"#ed7953\"],[0.7777777777777778,\"#fb9f3a\"],[0.8888888888888888,\"#fdca26\"],[1.0,\"#f0f921\"]],\"type\":\"surface\"}],\"table\":[{\"cells\":{\"fill\":{\"color\":\"#EBF0F8\"},\"line\":{\"color\":\"white\"}},\"header\":{\"fill\":{\"color\":\"#C8D4E3\"},\"line\":{\"color\":\"white\"}},\"type\":\"table\"}]},\"layout\":{\"annotationdefaults\":{\"arrowcolor\":\"#2a3f5f\",\"arrowhead\":0,\"arrowwidth\":1},\"autotypenumbers\":\"strict\",\"coloraxis\":{\"colorbar\":{\"outlinewidth\":0,\"ticks\":\"\"}},\"colorscale\":{\"diverging\":[[0,\"#8e0152\"],[0.1,\"#c51b7d\"],[0.2,\"#de77ae\"],[0.3,\"#f1b6da\"],[0.4,\"#fde0ef\"],[0.5,\"#f7f7f7\"],[0.6,\"#e6f5d0\"],[0.7,\"#b8e186\"],[0.8,\"#7fbc41\"],[0.9,\"#4d9221\"],[1,\"#276419\"]],\"sequential\":[[0.0,\"#0d0887\"],[0.1111111111111111,\"#46039f\"],[0.2222222222222222,\"#7201a8\"],[0.3333333333333333,\"#9c179e\"],[0.4444444444444444,\"#bd3786\"],[0.5555555555555556,\"#d8576b\"],[0.6666666666666666,\"#ed7953\"],[0.7777777777777778,\"#fb9f3a\"],[0.8888888888888888,\"#fdca26\"],[1.0,\"#f0f921\"]],\"sequentialminus\":[[0.0,\"#0d0887\"],[0.1111111111111111,\"#46039f\"],[0.2222222222222222,\"#7201a8\"],[0.3333333333333333,\"#9c179e\"],[0.4444444444444444,\"#bd3786\"],[0.5555555555555556,\"#d8576b\"],[0.6666666666666666,\"#ed7953\"],[0.7777777777777778,\"#fb9f3a\"],[0.8888888888888888,\"#fdca26\"],[1.0,\"#f0f921\"]]},\"colorway\":[\"#636efa\",\"#EF553B\",\"#00cc96\",\"#ab63fa\",\"#FFA15A\",\"#19d3f3\",\"#FF6692\",\"#B6E880\",\"#FF97FF\",\"#FECB52\"],\"font\":{\"color\":\"#2a3f5f\"},\"geo\":{\"bgcolor\":\"white\",\"lakecolor\":\"white\",\"landcolor\":\"#E5ECF6\",\"showlakes\":true,\"showland\":true,\"subunitcolor\":\"white\"},\"hoverlabel\":{\"align\":\"left\"},\"hovermode\":\"closest\",\"mapbox\":{\"style\":\"light\"},\"paper_bgcolor\":\"white\",\"plot_bgcolor\":\"#E5ECF6\",\"polar\":{\"angularaxis\":{\"gridcolor\":\"white\",\"linecolor\":\"white\",\"ticks\":\"\"},\"bgcolor\":\"#E5ECF6\",\"radialaxis\":{\"gridcolor\":\"white\",\"linecolor\":\"white\",\"ticks\":\"\"}},\"scene\":{\"xaxis\":{\"backgroundcolor\":\"#E5ECF6\",\"gridcolor\":\"white\",\"gridwidth\":2,\"linecolor\":\"white\",\"showbackground\":true,\"ticks\":\"\",\"zerolinecolor\":\"white\"},\"yaxis\":{\"backgroundcolor\":\"#E5ECF6\",\"gridcolor\":\"white\",\"gridwidth\":2,\"linecolor\":\"white\",\"showbackground\":true,\"ticks\":\"\",\"zerolinecolor\":\"white\"},\"zaxis\":{\"backgroundcolor\":\"#E5ECF6\",\"gridcolor\":\"white\",\"gridwidth\":2,\"linecolor\":\"white\",\"showbackground\":true,\"ticks\":\"\",\"zerolinecolor\":\"white\"}},\"shapedefaults\":{\"line\":{\"color\":\"#2a3f5f\"}},\"ternary\":{\"aaxis\":{\"gridcolor\":\"white\",\"linecolor\":\"white\",\"ticks\":\"\"},\"baxis\":{\"gridcolor\":\"white\",\"linecolor\":\"white\",\"ticks\":\"\"},\"bgcolor\":\"#E5ECF6\",\"caxis\":{\"gridcolor\":\"white\",\"linecolor\":\"white\",\"ticks\":\"\"}},\"title\":{\"x\":0.05},\"xaxis\":{\"automargin\":true,\"gridcolor\":\"white\",\"linecolor\":\"white\",\"ticks\":\"\",\"title\":{\"standoff\":15},\"zerolinecolor\":\"white\",\"zerolinewidth\":2},\"yaxis\":{\"automargin\":true,\"gridcolor\":\"white\",\"linecolor\":\"white\",\"ticks\":\"\",\"title\":{\"standoff\":15},\"zerolinecolor\":\"white\",\"zerolinewidth\":2}}},\"title\":{\"font\":{\"color\":\"#4D5663\"}},\"xaxis\":{\"gridcolor\":\"#E1E5ED\",\"showgrid\":true,\"tickfont\":{\"color\":\"#4D5663\"},\"title\":{\"font\":{\"color\":\"#4D5663\"},\"text\":\"\"},\"zerolinecolor\":\"#E1E5ED\"},\"yaxis\":{\"gridcolor\":\"#E1E5ED\",\"showgrid\":true,\"tickfont\":{\"color\":\"#4D5663\"},\"title\":{\"font\":{\"color\":\"#4D5663\"},\"text\":\"\"},\"zerolinecolor\":\"#E1E5ED\"}},                        {\"showLink\": true, \"linkText\": \"Export to plot.ly\", \"plotlyServerURL\": \"https://plot.ly\", \"responsive\": true}                    ).then(function(){\n",
       "                            \n",
       "var gd = document.getElementById('f6e8a0f3-cd4a-42f4-9e21-91a1dfcc941e');\n",
       "var x = new MutationObserver(function (mutations, observer) {{\n",
       "        var display = window.getComputedStyle(gd).display;\n",
       "        if (!display || display === 'none') {{\n",
       "            console.log([gd, 'removed!']);\n",
       "            Plotly.purge(gd);\n",
       "            observer.disconnect();\n",
       "        }}\n",
       "}});\n",
       "\n",
       "// Listen for the removal of the full notebook cells\n",
       "var notebookContainer = gd.closest('#notebook-container');\n",
       "if (notebookContainer) {{\n",
       "    x.observe(notebookContainer, {childList: true});\n",
       "}}\n",
       "\n",
       "// Listen for the clearing of the current output cell\n",
       "var outputEl = gd.closest('.output');\n",
       "if (outputEl) {{\n",
       "    x.observe(outputEl, {childList: true});\n",
       "}}\n",
       "\n",
       "                        })                };                });            </script>        </div>"
      ]
     },
     "metadata": {},
     "output_type": "display_data"
    }
   ],
   "source": [
    "df.iplot(kind='scatter',x='A',y='B',mode='markers',size=10)"
   ]
  },
  {
   "cell_type": "markdown",
   "metadata": {},
   "source": [
    "## Bar Plots"
   ]
  },
  {
   "cell_type": "code",
   "execution_count": 32,
   "metadata": {},
   "outputs": [
    {
     "data": {
      "application/vnd.plotly.v1+json": {
       "config": {
        "linkText": "Export to plot.ly",
        "plotlyServerURL": "https://plot.ly",
        "showLink": true
       },
       "data": [
        {
         "marker": {
          "color": "rgba(255, 153, 51, 0.6)",
          "line": {
           "color": "rgba(255, 153, 51, 1.0)",
           "width": 1
          }
         },
         "name": "Values",
         "orientation": "v",
         "text": "",
         "type": "bar",
         "x": [
          "A",
          "B",
          "C"
         ],
         "y": [
          32,
          43,
          50
         ]
        }
       ],
       "layout": {
        "legend": {
         "bgcolor": "#F5F6F9",
         "font": {
          "color": "#4D5663"
         }
        },
        "paper_bgcolor": "#F5F6F9",
        "plot_bgcolor": "#F5F6F9",
        "template": {
         "data": {
          "bar": [
           {
            "error_x": {
             "color": "#2a3f5f"
            },
            "error_y": {
             "color": "#2a3f5f"
            },
            "marker": {
             "line": {
              "color": "#E5ECF6",
              "width": 0.5
             },
             "pattern": {
              "fillmode": "overlay",
              "size": 10,
              "solidity": 0.2
             }
            },
            "type": "bar"
           }
          ],
          "barpolar": [
           {
            "marker": {
             "line": {
              "color": "#E5ECF6",
              "width": 0.5
             },
             "pattern": {
              "fillmode": "overlay",
              "size": 10,
              "solidity": 0.2
             }
            },
            "type": "barpolar"
           }
          ],
          "carpet": [
           {
            "aaxis": {
             "endlinecolor": "#2a3f5f",
             "gridcolor": "white",
             "linecolor": "white",
             "minorgridcolor": "white",
             "startlinecolor": "#2a3f5f"
            },
            "baxis": {
             "endlinecolor": "#2a3f5f",
             "gridcolor": "white",
             "linecolor": "white",
             "minorgridcolor": "white",
             "startlinecolor": "#2a3f5f"
            },
            "type": "carpet"
           }
          ],
          "choropleth": [
           {
            "colorbar": {
             "outlinewidth": 0,
             "ticks": ""
            },
            "type": "choropleth"
           }
          ],
          "contour": [
           {
            "colorbar": {
             "outlinewidth": 0,
             "ticks": ""
            },
            "colorscale": [
             [
              0,
              "#0d0887"
             ],
             [
              0.1111111111111111,
              "#46039f"
             ],
             [
              0.2222222222222222,
              "#7201a8"
             ],
             [
              0.3333333333333333,
              "#9c179e"
             ],
             [
              0.4444444444444444,
              "#bd3786"
             ],
             [
              0.5555555555555556,
              "#d8576b"
             ],
             [
              0.6666666666666666,
              "#ed7953"
             ],
             [
              0.7777777777777778,
              "#fb9f3a"
             ],
             [
              0.8888888888888888,
              "#fdca26"
             ],
             [
              1,
              "#f0f921"
             ]
            ],
            "type": "contour"
           }
          ],
          "contourcarpet": [
           {
            "colorbar": {
             "outlinewidth": 0,
             "ticks": ""
            },
            "type": "contourcarpet"
           }
          ],
          "heatmap": [
           {
            "colorbar": {
             "outlinewidth": 0,
             "ticks": ""
            },
            "colorscale": [
             [
              0,
              "#0d0887"
             ],
             [
              0.1111111111111111,
              "#46039f"
             ],
             [
              0.2222222222222222,
              "#7201a8"
             ],
             [
              0.3333333333333333,
              "#9c179e"
             ],
             [
              0.4444444444444444,
              "#bd3786"
             ],
             [
              0.5555555555555556,
              "#d8576b"
             ],
             [
              0.6666666666666666,
              "#ed7953"
             ],
             [
              0.7777777777777778,
              "#fb9f3a"
             ],
             [
              0.8888888888888888,
              "#fdca26"
             ],
             [
              1,
              "#f0f921"
             ]
            ],
            "type": "heatmap"
           }
          ],
          "heatmapgl": [
           {
            "colorbar": {
             "outlinewidth": 0,
             "ticks": ""
            },
            "colorscale": [
             [
              0,
              "#0d0887"
             ],
             [
              0.1111111111111111,
              "#46039f"
             ],
             [
              0.2222222222222222,
              "#7201a8"
             ],
             [
              0.3333333333333333,
              "#9c179e"
             ],
             [
              0.4444444444444444,
              "#bd3786"
             ],
             [
              0.5555555555555556,
              "#d8576b"
             ],
             [
              0.6666666666666666,
              "#ed7953"
             ],
             [
              0.7777777777777778,
              "#fb9f3a"
             ],
             [
              0.8888888888888888,
              "#fdca26"
             ],
             [
              1,
              "#f0f921"
             ]
            ],
            "type": "heatmapgl"
           }
          ],
          "histogram": [
           {
            "marker": {
             "pattern": {
              "fillmode": "overlay",
              "size": 10,
              "solidity": 0.2
             }
            },
            "type": "histogram"
           }
          ],
          "histogram2d": [
           {
            "colorbar": {
             "outlinewidth": 0,
             "ticks": ""
            },
            "colorscale": [
             [
              0,
              "#0d0887"
             ],
             [
              0.1111111111111111,
              "#46039f"
             ],
             [
              0.2222222222222222,
              "#7201a8"
             ],
             [
              0.3333333333333333,
              "#9c179e"
             ],
             [
              0.4444444444444444,
              "#bd3786"
             ],
             [
              0.5555555555555556,
              "#d8576b"
             ],
             [
              0.6666666666666666,
              "#ed7953"
             ],
             [
              0.7777777777777778,
              "#fb9f3a"
             ],
             [
              0.8888888888888888,
              "#fdca26"
             ],
             [
              1,
              "#f0f921"
             ]
            ],
            "type": "histogram2d"
           }
          ],
          "histogram2dcontour": [
           {
            "colorbar": {
             "outlinewidth": 0,
             "ticks": ""
            },
            "colorscale": [
             [
              0,
              "#0d0887"
             ],
             [
              0.1111111111111111,
              "#46039f"
             ],
             [
              0.2222222222222222,
              "#7201a8"
             ],
             [
              0.3333333333333333,
              "#9c179e"
             ],
             [
              0.4444444444444444,
              "#bd3786"
             ],
             [
              0.5555555555555556,
              "#d8576b"
             ],
             [
              0.6666666666666666,
              "#ed7953"
             ],
             [
              0.7777777777777778,
              "#fb9f3a"
             ],
             [
              0.8888888888888888,
              "#fdca26"
             ],
             [
              1,
              "#f0f921"
             ]
            ],
            "type": "histogram2dcontour"
           }
          ],
          "mesh3d": [
           {
            "colorbar": {
             "outlinewidth": 0,
             "ticks": ""
            },
            "type": "mesh3d"
           }
          ],
          "parcoords": [
           {
            "line": {
             "colorbar": {
              "outlinewidth": 0,
              "ticks": ""
             }
            },
            "type": "parcoords"
           }
          ],
          "pie": [
           {
            "automargin": true,
            "type": "pie"
           }
          ],
          "scatter": [
           {
            "fillpattern": {
             "fillmode": "overlay",
             "size": 10,
             "solidity": 0.2
            },
            "type": "scatter"
           }
          ],
          "scatter3d": [
           {
            "line": {
             "colorbar": {
              "outlinewidth": 0,
              "ticks": ""
             }
            },
            "marker": {
             "colorbar": {
              "outlinewidth": 0,
              "ticks": ""
             }
            },
            "type": "scatter3d"
           }
          ],
          "scattercarpet": [
           {
            "marker": {
             "colorbar": {
              "outlinewidth": 0,
              "ticks": ""
             }
            },
            "type": "scattercarpet"
           }
          ],
          "scattergeo": [
           {
            "marker": {
             "colorbar": {
              "outlinewidth": 0,
              "ticks": ""
             }
            },
            "type": "scattergeo"
           }
          ],
          "scattergl": [
           {
            "marker": {
             "colorbar": {
              "outlinewidth": 0,
              "ticks": ""
             }
            },
            "type": "scattergl"
           }
          ],
          "scattermapbox": [
           {
            "marker": {
             "colorbar": {
              "outlinewidth": 0,
              "ticks": ""
             }
            },
            "type": "scattermapbox"
           }
          ],
          "scatterpolar": [
           {
            "marker": {
             "colorbar": {
              "outlinewidth": 0,
              "ticks": ""
             }
            },
            "type": "scatterpolar"
           }
          ],
          "scatterpolargl": [
           {
            "marker": {
             "colorbar": {
              "outlinewidth": 0,
              "ticks": ""
             }
            },
            "type": "scatterpolargl"
           }
          ],
          "scatterternary": [
           {
            "marker": {
             "colorbar": {
              "outlinewidth": 0,
              "ticks": ""
             }
            },
            "type": "scatterternary"
           }
          ],
          "surface": [
           {
            "colorbar": {
             "outlinewidth": 0,
             "ticks": ""
            },
            "colorscale": [
             [
              0,
              "#0d0887"
             ],
             [
              0.1111111111111111,
              "#46039f"
             ],
             [
              0.2222222222222222,
              "#7201a8"
             ],
             [
              0.3333333333333333,
              "#9c179e"
             ],
             [
              0.4444444444444444,
              "#bd3786"
             ],
             [
              0.5555555555555556,
              "#d8576b"
             ],
             [
              0.6666666666666666,
              "#ed7953"
             ],
             [
              0.7777777777777778,
              "#fb9f3a"
             ],
             [
              0.8888888888888888,
              "#fdca26"
             ],
             [
              1,
              "#f0f921"
             ]
            ],
            "type": "surface"
           }
          ],
          "table": [
           {
            "cells": {
             "fill": {
              "color": "#EBF0F8"
             },
             "line": {
              "color": "white"
             }
            },
            "header": {
             "fill": {
              "color": "#C8D4E3"
             },
             "line": {
              "color": "white"
             }
            },
            "type": "table"
           }
          ]
         },
         "layout": {
          "annotationdefaults": {
           "arrowcolor": "#2a3f5f",
           "arrowhead": 0,
           "arrowwidth": 1
          },
          "autotypenumbers": "strict",
          "coloraxis": {
           "colorbar": {
            "outlinewidth": 0,
            "ticks": ""
           }
          },
          "colorscale": {
           "diverging": [
            [
             0,
             "#8e0152"
            ],
            [
             0.1,
             "#c51b7d"
            ],
            [
             0.2,
             "#de77ae"
            ],
            [
             0.3,
             "#f1b6da"
            ],
            [
             0.4,
             "#fde0ef"
            ],
            [
             0.5,
             "#f7f7f7"
            ],
            [
             0.6,
             "#e6f5d0"
            ],
            [
             0.7,
             "#b8e186"
            ],
            [
             0.8,
             "#7fbc41"
            ],
            [
             0.9,
             "#4d9221"
            ],
            [
             1,
             "#276419"
            ]
           ],
           "sequential": [
            [
             0,
             "#0d0887"
            ],
            [
             0.1111111111111111,
             "#46039f"
            ],
            [
             0.2222222222222222,
             "#7201a8"
            ],
            [
             0.3333333333333333,
             "#9c179e"
            ],
            [
             0.4444444444444444,
             "#bd3786"
            ],
            [
             0.5555555555555556,
             "#d8576b"
            ],
            [
             0.6666666666666666,
             "#ed7953"
            ],
            [
             0.7777777777777778,
             "#fb9f3a"
            ],
            [
             0.8888888888888888,
             "#fdca26"
            ],
            [
             1,
             "#f0f921"
            ]
           ],
           "sequentialminus": [
            [
             0,
             "#0d0887"
            ],
            [
             0.1111111111111111,
             "#46039f"
            ],
            [
             0.2222222222222222,
             "#7201a8"
            ],
            [
             0.3333333333333333,
             "#9c179e"
            ],
            [
             0.4444444444444444,
             "#bd3786"
            ],
            [
             0.5555555555555556,
             "#d8576b"
            ],
            [
             0.6666666666666666,
             "#ed7953"
            ],
            [
             0.7777777777777778,
             "#fb9f3a"
            ],
            [
             0.8888888888888888,
             "#fdca26"
            ],
            [
             1,
             "#f0f921"
            ]
           ]
          },
          "colorway": [
           "#636efa",
           "#EF553B",
           "#00cc96",
           "#ab63fa",
           "#FFA15A",
           "#19d3f3",
           "#FF6692",
           "#B6E880",
           "#FF97FF",
           "#FECB52"
          ],
          "font": {
           "color": "#2a3f5f"
          },
          "geo": {
           "bgcolor": "white",
           "lakecolor": "white",
           "landcolor": "#E5ECF6",
           "showlakes": true,
           "showland": true,
           "subunitcolor": "white"
          },
          "hoverlabel": {
           "align": "left"
          },
          "hovermode": "closest",
          "mapbox": {
           "style": "light"
          },
          "paper_bgcolor": "white",
          "plot_bgcolor": "#E5ECF6",
          "polar": {
           "angularaxis": {
            "gridcolor": "white",
            "linecolor": "white",
            "ticks": ""
           },
           "bgcolor": "#E5ECF6",
           "radialaxis": {
            "gridcolor": "white",
            "linecolor": "white",
            "ticks": ""
           }
          },
          "scene": {
           "xaxis": {
            "backgroundcolor": "#E5ECF6",
            "gridcolor": "white",
            "gridwidth": 2,
            "linecolor": "white",
            "showbackground": true,
            "ticks": "",
            "zerolinecolor": "white"
           },
           "yaxis": {
            "backgroundcolor": "#E5ECF6",
            "gridcolor": "white",
            "gridwidth": 2,
            "linecolor": "white",
            "showbackground": true,
            "ticks": "",
            "zerolinecolor": "white"
           },
           "zaxis": {
            "backgroundcolor": "#E5ECF6",
            "gridcolor": "white",
            "gridwidth": 2,
            "linecolor": "white",
            "showbackground": true,
            "ticks": "",
            "zerolinecolor": "white"
           }
          },
          "shapedefaults": {
           "line": {
            "color": "#2a3f5f"
           }
          },
          "ternary": {
           "aaxis": {
            "gridcolor": "white",
            "linecolor": "white",
            "ticks": ""
           },
           "baxis": {
            "gridcolor": "white",
            "linecolor": "white",
            "ticks": ""
           },
           "bgcolor": "#E5ECF6",
           "caxis": {
            "gridcolor": "white",
            "linecolor": "white",
            "ticks": ""
           }
          },
          "title": {
           "x": 0.05
          },
          "xaxis": {
           "automargin": true,
           "gridcolor": "white",
           "linecolor": "white",
           "ticks": "",
           "title": {
            "standoff": 15
           },
           "zerolinecolor": "white",
           "zerolinewidth": 2
          },
          "yaxis": {
           "automargin": true,
           "gridcolor": "white",
           "linecolor": "white",
           "ticks": "",
           "title": {
            "standoff": 15
           },
           "zerolinecolor": "white",
           "zerolinewidth": 2
          }
         }
        },
        "title": {
         "font": {
          "color": "#4D5663"
         }
        },
        "xaxis": {
         "gridcolor": "#E1E5ED",
         "showgrid": true,
         "tickfont": {
          "color": "#4D5663"
         },
         "title": {
          "font": {
           "color": "#4D5663"
          },
          "text": ""
         },
         "zerolinecolor": "#E1E5ED"
        },
        "yaxis": {
         "gridcolor": "#E1E5ED",
         "showgrid": true,
         "tickfont": {
          "color": "#4D5663"
         },
         "title": {
          "font": {
           "color": "#4D5663"
          },
          "text": ""
         },
         "zerolinecolor": "#E1E5ED"
        }
       }
      },
      "text/html": [
       "<div>                            <div id=\"934e4b48-038a-4f53-8d8e-f2b64666f49a\" class=\"plotly-graph-div\" style=\"height:525px; width:100%;\"></div>            <script type=\"text/javascript\">                require([\"plotly\"], function(Plotly) {                    window.PLOTLYENV=window.PLOTLYENV || {};\n",
       "                    window.PLOTLYENV.BASE_URL='https://plot.ly';                                    if (document.getElementById(\"934e4b48-038a-4f53-8d8e-f2b64666f49a\")) {                    Plotly.newPlot(                        \"934e4b48-038a-4f53-8d8e-f2b64666f49a\",                        [{\"marker\":{\"color\":\"rgba(255, 153, 51, 0.6)\",\"line\":{\"color\":\"rgba(255, 153, 51, 1.0)\",\"width\":1}},\"name\":\"Values\",\"orientation\":\"v\",\"text\":\"\",\"x\":[\"A\",\"B\",\"C\"],\"y\":[32,43,50],\"type\":\"bar\"}],                        {\"legend\":{\"bgcolor\":\"#F5F6F9\",\"font\":{\"color\":\"#4D5663\"}},\"paper_bgcolor\":\"#F5F6F9\",\"plot_bgcolor\":\"#F5F6F9\",\"template\":{\"data\":{\"barpolar\":[{\"marker\":{\"line\":{\"color\":\"#E5ECF6\",\"width\":0.5},\"pattern\":{\"fillmode\":\"overlay\",\"size\":10,\"solidity\":0.2}},\"type\":\"barpolar\"}],\"bar\":[{\"error_x\":{\"color\":\"#2a3f5f\"},\"error_y\":{\"color\":\"#2a3f5f\"},\"marker\":{\"line\":{\"color\":\"#E5ECF6\",\"width\":0.5},\"pattern\":{\"fillmode\":\"overlay\",\"size\":10,\"solidity\":0.2}},\"type\":\"bar\"}],\"carpet\":[{\"aaxis\":{\"endlinecolor\":\"#2a3f5f\",\"gridcolor\":\"white\",\"linecolor\":\"white\",\"minorgridcolor\":\"white\",\"startlinecolor\":\"#2a3f5f\"},\"baxis\":{\"endlinecolor\":\"#2a3f5f\",\"gridcolor\":\"white\",\"linecolor\":\"white\",\"minorgridcolor\":\"white\",\"startlinecolor\":\"#2a3f5f\"},\"type\":\"carpet\"}],\"choropleth\":[{\"colorbar\":{\"outlinewidth\":0,\"ticks\":\"\"},\"type\":\"choropleth\"}],\"contourcarpet\":[{\"colorbar\":{\"outlinewidth\":0,\"ticks\":\"\"},\"type\":\"contourcarpet\"}],\"contour\":[{\"colorbar\":{\"outlinewidth\":0,\"ticks\":\"\"},\"colorscale\":[[0.0,\"#0d0887\"],[0.1111111111111111,\"#46039f\"],[0.2222222222222222,\"#7201a8\"],[0.3333333333333333,\"#9c179e\"],[0.4444444444444444,\"#bd3786\"],[0.5555555555555556,\"#d8576b\"],[0.6666666666666666,\"#ed7953\"],[0.7777777777777778,\"#fb9f3a\"],[0.8888888888888888,\"#fdca26\"],[1.0,\"#f0f921\"]],\"type\":\"contour\"}],\"heatmapgl\":[{\"colorbar\":{\"outlinewidth\":0,\"ticks\":\"\"},\"colorscale\":[[0.0,\"#0d0887\"],[0.1111111111111111,\"#46039f\"],[0.2222222222222222,\"#7201a8\"],[0.3333333333333333,\"#9c179e\"],[0.4444444444444444,\"#bd3786\"],[0.5555555555555556,\"#d8576b\"],[0.6666666666666666,\"#ed7953\"],[0.7777777777777778,\"#fb9f3a\"],[0.8888888888888888,\"#fdca26\"],[1.0,\"#f0f921\"]],\"type\":\"heatmapgl\"}],\"heatmap\":[{\"colorbar\":{\"outlinewidth\":0,\"ticks\":\"\"},\"colorscale\":[[0.0,\"#0d0887\"],[0.1111111111111111,\"#46039f\"],[0.2222222222222222,\"#7201a8\"],[0.3333333333333333,\"#9c179e\"],[0.4444444444444444,\"#bd3786\"],[0.5555555555555556,\"#d8576b\"],[0.6666666666666666,\"#ed7953\"],[0.7777777777777778,\"#fb9f3a\"],[0.8888888888888888,\"#fdca26\"],[1.0,\"#f0f921\"]],\"type\":\"heatmap\"}],\"histogram2dcontour\":[{\"colorbar\":{\"outlinewidth\":0,\"ticks\":\"\"},\"colorscale\":[[0.0,\"#0d0887\"],[0.1111111111111111,\"#46039f\"],[0.2222222222222222,\"#7201a8\"],[0.3333333333333333,\"#9c179e\"],[0.4444444444444444,\"#bd3786\"],[0.5555555555555556,\"#d8576b\"],[0.6666666666666666,\"#ed7953\"],[0.7777777777777778,\"#fb9f3a\"],[0.8888888888888888,\"#fdca26\"],[1.0,\"#f0f921\"]],\"type\":\"histogram2dcontour\"}],\"histogram2d\":[{\"colorbar\":{\"outlinewidth\":0,\"ticks\":\"\"},\"colorscale\":[[0.0,\"#0d0887\"],[0.1111111111111111,\"#46039f\"],[0.2222222222222222,\"#7201a8\"],[0.3333333333333333,\"#9c179e\"],[0.4444444444444444,\"#bd3786\"],[0.5555555555555556,\"#d8576b\"],[0.6666666666666666,\"#ed7953\"],[0.7777777777777778,\"#fb9f3a\"],[0.8888888888888888,\"#fdca26\"],[1.0,\"#f0f921\"]],\"type\":\"histogram2d\"}],\"histogram\":[{\"marker\":{\"pattern\":{\"fillmode\":\"overlay\",\"size\":10,\"solidity\":0.2}},\"type\":\"histogram\"}],\"mesh3d\":[{\"colorbar\":{\"outlinewidth\":0,\"ticks\":\"\"},\"type\":\"mesh3d\"}],\"parcoords\":[{\"line\":{\"colorbar\":{\"outlinewidth\":0,\"ticks\":\"\"}},\"type\":\"parcoords\"}],\"pie\":[{\"automargin\":true,\"type\":\"pie\"}],\"scatter3d\":[{\"line\":{\"colorbar\":{\"outlinewidth\":0,\"ticks\":\"\"}},\"marker\":{\"colorbar\":{\"outlinewidth\":0,\"ticks\":\"\"}},\"type\":\"scatter3d\"}],\"scattercarpet\":[{\"marker\":{\"colorbar\":{\"outlinewidth\":0,\"ticks\":\"\"}},\"type\":\"scattercarpet\"}],\"scattergeo\":[{\"marker\":{\"colorbar\":{\"outlinewidth\":0,\"ticks\":\"\"}},\"type\":\"scattergeo\"}],\"scattergl\":[{\"marker\":{\"colorbar\":{\"outlinewidth\":0,\"ticks\":\"\"}},\"type\":\"scattergl\"}],\"scattermapbox\":[{\"marker\":{\"colorbar\":{\"outlinewidth\":0,\"ticks\":\"\"}},\"type\":\"scattermapbox\"}],\"scatterpolargl\":[{\"marker\":{\"colorbar\":{\"outlinewidth\":0,\"ticks\":\"\"}},\"type\":\"scatterpolargl\"}],\"scatterpolar\":[{\"marker\":{\"colorbar\":{\"outlinewidth\":0,\"ticks\":\"\"}},\"type\":\"scatterpolar\"}],\"scatter\":[{\"fillpattern\":{\"fillmode\":\"overlay\",\"size\":10,\"solidity\":0.2},\"type\":\"scatter\"}],\"scatterternary\":[{\"marker\":{\"colorbar\":{\"outlinewidth\":0,\"ticks\":\"\"}},\"type\":\"scatterternary\"}],\"surface\":[{\"colorbar\":{\"outlinewidth\":0,\"ticks\":\"\"},\"colorscale\":[[0.0,\"#0d0887\"],[0.1111111111111111,\"#46039f\"],[0.2222222222222222,\"#7201a8\"],[0.3333333333333333,\"#9c179e\"],[0.4444444444444444,\"#bd3786\"],[0.5555555555555556,\"#d8576b\"],[0.6666666666666666,\"#ed7953\"],[0.7777777777777778,\"#fb9f3a\"],[0.8888888888888888,\"#fdca26\"],[1.0,\"#f0f921\"]],\"type\":\"surface\"}],\"table\":[{\"cells\":{\"fill\":{\"color\":\"#EBF0F8\"},\"line\":{\"color\":\"white\"}},\"header\":{\"fill\":{\"color\":\"#C8D4E3\"},\"line\":{\"color\":\"white\"}},\"type\":\"table\"}]},\"layout\":{\"annotationdefaults\":{\"arrowcolor\":\"#2a3f5f\",\"arrowhead\":0,\"arrowwidth\":1},\"autotypenumbers\":\"strict\",\"coloraxis\":{\"colorbar\":{\"outlinewidth\":0,\"ticks\":\"\"}},\"colorscale\":{\"diverging\":[[0,\"#8e0152\"],[0.1,\"#c51b7d\"],[0.2,\"#de77ae\"],[0.3,\"#f1b6da\"],[0.4,\"#fde0ef\"],[0.5,\"#f7f7f7\"],[0.6,\"#e6f5d0\"],[0.7,\"#b8e186\"],[0.8,\"#7fbc41\"],[0.9,\"#4d9221\"],[1,\"#276419\"]],\"sequential\":[[0.0,\"#0d0887\"],[0.1111111111111111,\"#46039f\"],[0.2222222222222222,\"#7201a8\"],[0.3333333333333333,\"#9c179e\"],[0.4444444444444444,\"#bd3786\"],[0.5555555555555556,\"#d8576b\"],[0.6666666666666666,\"#ed7953\"],[0.7777777777777778,\"#fb9f3a\"],[0.8888888888888888,\"#fdca26\"],[1.0,\"#f0f921\"]],\"sequentialminus\":[[0.0,\"#0d0887\"],[0.1111111111111111,\"#46039f\"],[0.2222222222222222,\"#7201a8\"],[0.3333333333333333,\"#9c179e\"],[0.4444444444444444,\"#bd3786\"],[0.5555555555555556,\"#d8576b\"],[0.6666666666666666,\"#ed7953\"],[0.7777777777777778,\"#fb9f3a\"],[0.8888888888888888,\"#fdca26\"],[1.0,\"#f0f921\"]]},\"colorway\":[\"#636efa\",\"#EF553B\",\"#00cc96\",\"#ab63fa\",\"#FFA15A\",\"#19d3f3\",\"#FF6692\",\"#B6E880\",\"#FF97FF\",\"#FECB52\"],\"font\":{\"color\":\"#2a3f5f\"},\"geo\":{\"bgcolor\":\"white\",\"lakecolor\":\"white\",\"landcolor\":\"#E5ECF6\",\"showlakes\":true,\"showland\":true,\"subunitcolor\":\"white\"},\"hoverlabel\":{\"align\":\"left\"},\"hovermode\":\"closest\",\"mapbox\":{\"style\":\"light\"},\"paper_bgcolor\":\"white\",\"plot_bgcolor\":\"#E5ECF6\",\"polar\":{\"angularaxis\":{\"gridcolor\":\"white\",\"linecolor\":\"white\",\"ticks\":\"\"},\"bgcolor\":\"#E5ECF6\",\"radialaxis\":{\"gridcolor\":\"white\",\"linecolor\":\"white\",\"ticks\":\"\"}},\"scene\":{\"xaxis\":{\"backgroundcolor\":\"#E5ECF6\",\"gridcolor\":\"white\",\"gridwidth\":2,\"linecolor\":\"white\",\"showbackground\":true,\"ticks\":\"\",\"zerolinecolor\":\"white\"},\"yaxis\":{\"backgroundcolor\":\"#E5ECF6\",\"gridcolor\":\"white\",\"gridwidth\":2,\"linecolor\":\"white\",\"showbackground\":true,\"ticks\":\"\",\"zerolinecolor\":\"white\"},\"zaxis\":{\"backgroundcolor\":\"#E5ECF6\",\"gridcolor\":\"white\",\"gridwidth\":2,\"linecolor\":\"white\",\"showbackground\":true,\"ticks\":\"\",\"zerolinecolor\":\"white\"}},\"shapedefaults\":{\"line\":{\"color\":\"#2a3f5f\"}},\"ternary\":{\"aaxis\":{\"gridcolor\":\"white\",\"linecolor\":\"white\",\"ticks\":\"\"},\"baxis\":{\"gridcolor\":\"white\",\"linecolor\":\"white\",\"ticks\":\"\"},\"bgcolor\":\"#E5ECF6\",\"caxis\":{\"gridcolor\":\"white\",\"linecolor\":\"white\",\"ticks\":\"\"}},\"title\":{\"x\":0.05},\"xaxis\":{\"automargin\":true,\"gridcolor\":\"white\",\"linecolor\":\"white\",\"ticks\":\"\",\"title\":{\"standoff\":15},\"zerolinecolor\":\"white\",\"zerolinewidth\":2},\"yaxis\":{\"automargin\":true,\"gridcolor\":\"white\",\"linecolor\":\"white\",\"ticks\":\"\",\"title\":{\"standoff\":15},\"zerolinecolor\":\"white\",\"zerolinewidth\":2}}},\"title\":{\"font\":{\"color\":\"#4D5663\"}},\"xaxis\":{\"gridcolor\":\"#E1E5ED\",\"showgrid\":true,\"tickfont\":{\"color\":\"#4D5663\"},\"title\":{\"font\":{\"color\":\"#4D5663\"},\"text\":\"\"},\"zerolinecolor\":\"#E1E5ED\"},\"yaxis\":{\"gridcolor\":\"#E1E5ED\",\"showgrid\":true,\"tickfont\":{\"color\":\"#4D5663\"},\"title\":{\"font\":{\"color\":\"#4D5663\"},\"text\":\"\"},\"zerolinecolor\":\"#E1E5ED\"}},                        {\"showLink\": true, \"linkText\": \"Export to plot.ly\", \"plotlyServerURL\": \"https://plot.ly\", \"responsive\": true}                    ).then(function(){\n",
       "                            \n",
       "var gd = document.getElementById('934e4b48-038a-4f53-8d8e-f2b64666f49a');\n",
       "var x = new MutationObserver(function (mutations, observer) {{\n",
       "        var display = window.getComputedStyle(gd).display;\n",
       "        if (!display || display === 'none') {{\n",
       "            console.log([gd, 'removed!']);\n",
       "            Plotly.purge(gd);\n",
       "            observer.disconnect();\n",
       "        }}\n",
       "}});\n",
       "\n",
       "// Listen for the removal of the full notebook cells\n",
       "var notebookContainer = gd.closest('#notebook-container');\n",
       "if (notebookContainer) {{\n",
       "    x.observe(notebookContainer, {childList: true});\n",
       "}}\n",
       "\n",
       "// Listen for the clearing of the current output cell\n",
       "var outputEl = gd.closest('.output');\n",
       "if (outputEl) {{\n",
       "    x.observe(outputEl, {childList: true});\n",
       "}}\n",
       "\n",
       "                        })                };                });            </script>        </div>"
      ]
     },
     "metadata": {},
     "output_type": "display_data"
    }
   ],
   "source": [
    "df2.iplot(kind='bar',x='Category',y='Values')"
   ]
  },
  {
   "cell_type": "code",
   "execution_count": 17,
   "metadata": {},
   "outputs": [
    {
     "data": {
      "application/vnd.plotly.v1+json": {
       "config": {
        "linkText": "Export to plot.ly",
        "plotlyServerURL": "https://plot.ly",
        "showLink": true
       },
       "data": [
        {
         "marker": {
          "color": "rgba(255, 153, 51, 0.6)",
          "line": {
           "color": "rgba(255, 153, 51, 1.0)",
           "width": 1
          }
         },
         "name": "None",
         "orientation": "v",
         "text": "",
         "type": "bar",
         "x": [
          "A",
          "B",
          "C",
          "D"
         ],
         "y": [
          100,
          100,
          100,
          100
         ]
        }
       ],
       "layout": {
        "legend": {
         "bgcolor": "#F5F6F9",
         "font": {
          "color": "#4D5663"
         }
        },
        "paper_bgcolor": "#F5F6F9",
        "plot_bgcolor": "#F5F6F9",
        "template": {
         "data": {
          "bar": [
           {
            "error_x": {
             "color": "#2a3f5f"
            },
            "error_y": {
             "color": "#2a3f5f"
            },
            "marker": {
             "line": {
              "color": "#E5ECF6",
              "width": 0.5
             },
             "pattern": {
              "fillmode": "overlay",
              "size": 10,
              "solidity": 0.2
             }
            },
            "type": "bar"
           }
          ],
          "barpolar": [
           {
            "marker": {
             "line": {
              "color": "#E5ECF6",
              "width": 0.5
             },
             "pattern": {
              "fillmode": "overlay",
              "size": 10,
              "solidity": 0.2
             }
            },
            "type": "barpolar"
           }
          ],
          "carpet": [
           {
            "aaxis": {
             "endlinecolor": "#2a3f5f",
             "gridcolor": "white",
             "linecolor": "white",
             "minorgridcolor": "white",
             "startlinecolor": "#2a3f5f"
            },
            "baxis": {
             "endlinecolor": "#2a3f5f",
             "gridcolor": "white",
             "linecolor": "white",
             "minorgridcolor": "white",
             "startlinecolor": "#2a3f5f"
            },
            "type": "carpet"
           }
          ],
          "choropleth": [
           {
            "colorbar": {
             "outlinewidth": 0,
             "ticks": ""
            },
            "type": "choropleth"
           }
          ],
          "contour": [
           {
            "colorbar": {
             "outlinewidth": 0,
             "ticks": ""
            },
            "colorscale": [
             [
              0,
              "#0d0887"
             ],
             [
              0.1111111111111111,
              "#46039f"
             ],
             [
              0.2222222222222222,
              "#7201a8"
             ],
             [
              0.3333333333333333,
              "#9c179e"
             ],
             [
              0.4444444444444444,
              "#bd3786"
             ],
             [
              0.5555555555555556,
              "#d8576b"
             ],
             [
              0.6666666666666666,
              "#ed7953"
             ],
             [
              0.7777777777777778,
              "#fb9f3a"
             ],
             [
              0.8888888888888888,
              "#fdca26"
             ],
             [
              1,
              "#f0f921"
             ]
            ],
            "type": "contour"
           }
          ],
          "contourcarpet": [
           {
            "colorbar": {
             "outlinewidth": 0,
             "ticks": ""
            },
            "type": "contourcarpet"
           }
          ],
          "heatmap": [
           {
            "colorbar": {
             "outlinewidth": 0,
             "ticks": ""
            },
            "colorscale": [
             [
              0,
              "#0d0887"
             ],
             [
              0.1111111111111111,
              "#46039f"
             ],
             [
              0.2222222222222222,
              "#7201a8"
             ],
             [
              0.3333333333333333,
              "#9c179e"
             ],
             [
              0.4444444444444444,
              "#bd3786"
             ],
             [
              0.5555555555555556,
              "#d8576b"
             ],
             [
              0.6666666666666666,
              "#ed7953"
             ],
             [
              0.7777777777777778,
              "#fb9f3a"
             ],
             [
              0.8888888888888888,
              "#fdca26"
             ],
             [
              1,
              "#f0f921"
             ]
            ],
            "type": "heatmap"
           }
          ],
          "heatmapgl": [
           {
            "colorbar": {
             "outlinewidth": 0,
             "ticks": ""
            },
            "colorscale": [
             [
              0,
              "#0d0887"
             ],
             [
              0.1111111111111111,
              "#46039f"
             ],
             [
              0.2222222222222222,
              "#7201a8"
             ],
             [
              0.3333333333333333,
              "#9c179e"
             ],
             [
              0.4444444444444444,
              "#bd3786"
             ],
             [
              0.5555555555555556,
              "#d8576b"
             ],
             [
              0.6666666666666666,
              "#ed7953"
             ],
             [
              0.7777777777777778,
              "#fb9f3a"
             ],
             [
              0.8888888888888888,
              "#fdca26"
             ],
             [
              1,
              "#f0f921"
             ]
            ],
            "type": "heatmapgl"
           }
          ],
          "histogram": [
           {
            "marker": {
             "pattern": {
              "fillmode": "overlay",
              "size": 10,
              "solidity": 0.2
             }
            },
            "type": "histogram"
           }
          ],
          "histogram2d": [
           {
            "colorbar": {
             "outlinewidth": 0,
             "ticks": ""
            },
            "colorscale": [
             [
              0,
              "#0d0887"
             ],
             [
              0.1111111111111111,
              "#46039f"
             ],
             [
              0.2222222222222222,
              "#7201a8"
             ],
             [
              0.3333333333333333,
              "#9c179e"
             ],
             [
              0.4444444444444444,
              "#bd3786"
             ],
             [
              0.5555555555555556,
              "#d8576b"
             ],
             [
              0.6666666666666666,
              "#ed7953"
             ],
             [
              0.7777777777777778,
              "#fb9f3a"
             ],
             [
              0.8888888888888888,
              "#fdca26"
             ],
             [
              1,
              "#f0f921"
             ]
            ],
            "type": "histogram2d"
           }
          ],
          "histogram2dcontour": [
           {
            "colorbar": {
             "outlinewidth": 0,
             "ticks": ""
            },
            "colorscale": [
             [
              0,
              "#0d0887"
             ],
             [
              0.1111111111111111,
              "#46039f"
             ],
             [
              0.2222222222222222,
              "#7201a8"
             ],
             [
              0.3333333333333333,
              "#9c179e"
             ],
             [
              0.4444444444444444,
              "#bd3786"
             ],
             [
              0.5555555555555556,
              "#d8576b"
             ],
             [
              0.6666666666666666,
              "#ed7953"
             ],
             [
              0.7777777777777778,
              "#fb9f3a"
             ],
             [
              0.8888888888888888,
              "#fdca26"
             ],
             [
              1,
              "#f0f921"
             ]
            ],
            "type": "histogram2dcontour"
           }
          ],
          "mesh3d": [
           {
            "colorbar": {
             "outlinewidth": 0,
             "ticks": ""
            },
            "type": "mesh3d"
           }
          ],
          "parcoords": [
           {
            "line": {
             "colorbar": {
              "outlinewidth": 0,
              "ticks": ""
             }
            },
            "type": "parcoords"
           }
          ],
          "pie": [
           {
            "automargin": true,
            "type": "pie"
           }
          ],
          "scatter": [
           {
            "fillpattern": {
             "fillmode": "overlay",
             "size": 10,
             "solidity": 0.2
            },
            "type": "scatter"
           }
          ],
          "scatter3d": [
           {
            "line": {
             "colorbar": {
              "outlinewidth": 0,
              "ticks": ""
             }
            },
            "marker": {
             "colorbar": {
              "outlinewidth": 0,
              "ticks": ""
             }
            },
            "type": "scatter3d"
           }
          ],
          "scattercarpet": [
           {
            "marker": {
             "colorbar": {
              "outlinewidth": 0,
              "ticks": ""
             }
            },
            "type": "scattercarpet"
           }
          ],
          "scattergeo": [
           {
            "marker": {
             "colorbar": {
              "outlinewidth": 0,
              "ticks": ""
             }
            },
            "type": "scattergeo"
           }
          ],
          "scattergl": [
           {
            "marker": {
             "colorbar": {
              "outlinewidth": 0,
              "ticks": ""
             }
            },
            "type": "scattergl"
           }
          ],
          "scattermapbox": [
           {
            "marker": {
             "colorbar": {
              "outlinewidth": 0,
              "ticks": ""
             }
            },
            "type": "scattermapbox"
           }
          ],
          "scatterpolar": [
           {
            "marker": {
             "colorbar": {
              "outlinewidth": 0,
              "ticks": ""
             }
            },
            "type": "scatterpolar"
           }
          ],
          "scatterpolargl": [
           {
            "marker": {
             "colorbar": {
              "outlinewidth": 0,
              "ticks": ""
             }
            },
            "type": "scatterpolargl"
           }
          ],
          "scatterternary": [
           {
            "marker": {
             "colorbar": {
              "outlinewidth": 0,
              "ticks": ""
             }
            },
            "type": "scatterternary"
           }
          ],
          "surface": [
           {
            "colorbar": {
             "outlinewidth": 0,
             "ticks": ""
            },
            "colorscale": [
             [
              0,
              "#0d0887"
             ],
             [
              0.1111111111111111,
              "#46039f"
             ],
             [
              0.2222222222222222,
              "#7201a8"
             ],
             [
              0.3333333333333333,
              "#9c179e"
             ],
             [
              0.4444444444444444,
              "#bd3786"
             ],
             [
              0.5555555555555556,
              "#d8576b"
             ],
             [
              0.6666666666666666,
              "#ed7953"
             ],
             [
              0.7777777777777778,
              "#fb9f3a"
             ],
             [
              0.8888888888888888,
              "#fdca26"
             ],
             [
              1,
              "#f0f921"
             ]
            ],
            "type": "surface"
           }
          ],
          "table": [
           {
            "cells": {
             "fill": {
              "color": "#EBF0F8"
             },
             "line": {
              "color": "white"
             }
            },
            "header": {
             "fill": {
              "color": "#C8D4E3"
             },
             "line": {
              "color": "white"
             }
            },
            "type": "table"
           }
          ]
         },
         "layout": {
          "annotationdefaults": {
           "arrowcolor": "#2a3f5f",
           "arrowhead": 0,
           "arrowwidth": 1
          },
          "autotypenumbers": "strict",
          "coloraxis": {
           "colorbar": {
            "outlinewidth": 0,
            "ticks": ""
           }
          },
          "colorscale": {
           "diverging": [
            [
             0,
             "#8e0152"
            ],
            [
             0.1,
             "#c51b7d"
            ],
            [
             0.2,
             "#de77ae"
            ],
            [
             0.3,
             "#f1b6da"
            ],
            [
             0.4,
             "#fde0ef"
            ],
            [
             0.5,
             "#f7f7f7"
            ],
            [
             0.6,
             "#e6f5d0"
            ],
            [
             0.7,
             "#b8e186"
            ],
            [
             0.8,
             "#7fbc41"
            ],
            [
             0.9,
             "#4d9221"
            ],
            [
             1,
             "#276419"
            ]
           ],
           "sequential": [
            [
             0,
             "#0d0887"
            ],
            [
             0.1111111111111111,
             "#46039f"
            ],
            [
             0.2222222222222222,
             "#7201a8"
            ],
            [
             0.3333333333333333,
             "#9c179e"
            ],
            [
             0.4444444444444444,
             "#bd3786"
            ],
            [
             0.5555555555555556,
             "#d8576b"
            ],
            [
             0.6666666666666666,
             "#ed7953"
            ],
            [
             0.7777777777777778,
             "#fb9f3a"
            ],
            [
             0.8888888888888888,
             "#fdca26"
            ],
            [
             1,
             "#f0f921"
            ]
           ],
           "sequentialminus": [
            [
             0,
             "#0d0887"
            ],
            [
             0.1111111111111111,
             "#46039f"
            ],
            [
             0.2222222222222222,
             "#7201a8"
            ],
            [
             0.3333333333333333,
             "#9c179e"
            ],
            [
             0.4444444444444444,
             "#bd3786"
            ],
            [
             0.5555555555555556,
             "#d8576b"
            ],
            [
             0.6666666666666666,
             "#ed7953"
            ],
            [
             0.7777777777777778,
             "#fb9f3a"
            ],
            [
             0.8888888888888888,
             "#fdca26"
            ],
            [
             1,
             "#f0f921"
            ]
           ]
          },
          "colorway": [
           "#636efa",
           "#EF553B",
           "#00cc96",
           "#ab63fa",
           "#FFA15A",
           "#19d3f3",
           "#FF6692",
           "#B6E880",
           "#FF97FF",
           "#FECB52"
          ],
          "font": {
           "color": "#2a3f5f"
          },
          "geo": {
           "bgcolor": "white",
           "lakecolor": "white",
           "landcolor": "#E5ECF6",
           "showlakes": true,
           "showland": true,
           "subunitcolor": "white"
          },
          "hoverlabel": {
           "align": "left"
          },
          "hovermode": "closest",
          "mapbox": {
           "style": "light"
          },
          "paper_bgcolor": "white",
          "plot_bgcolor": "#E5ECF6",
          "polar": {
           "angularaxis": {
            "gridcolor": "white",
            "linecolor": "white",
            "ticks": ""
           },
           "bgcolor": "#E5ECF6",
           "radialaxis": {
            "gridcolor": "white",
            "linecolor": "white",
            "ticks": ""
           }
          },
          "scene": {
           "xaxis": {
            "backgroundcolor": "#E5ECF6",
            "gridcolor": "white",
            "gridwidth": 2,
            "linecolor": "white",
            "showbackground": true,
            "ticks": "",
            "zerolinecolor": "white"
           },
           "yaxis": {
            "backgroundcolor": "#E5ECF6",
            "gridcolor": "white",
            "gridwidth": 2,
            "linecolor": "white",
            "showbackground": true,
            "ticks": "",
            "zerolinecolor": "white"
           },
           "zaxis": {
            "backgroundcolor": "#E5ECF6",
            "gridcolor": "white",
            "gridwidth": 2,
            "linecolor": "white",
            "showbackground": true,
            "ticks": "",
            "zerolinecolor": "white"
           }
          },
          "shapedefaults": {
           "line": {
            "color": "#2a3f5f"
           }
          },
          "ternary": {
           "aaxis": {
            "gridcolor": "white",
            "linecolor": "white",
            "ticks": ""
           },
           "baxis": {
            "gridcolor": "white",
            "linecolor": "white",
            "ticks": ""
           },
           "bgcolor": "#E5ECF6",
           "caxis": {
            "gridcolor": "white",
            "linecolor": "white",
            "ticks": ""
           }
          },
          "title": {
           "x": 0.05
          },
          "xaxis": {
           "automargin": true,
           "gridcolor": "white",
           "linecolor": "white",
           "ticks": "",
           "title": {
            "standoff": 15
           },
           "zerolinecolor": "white",
           "zerolinewidth": 2
          },
          "yaxis": {
           "automargin": true,
           "gridcolor": "white",
           "linecolor": "white",
           "ticks": "",
           "title": {
            "standoff": 15
           },
           "zerolinecolor": "white",
           "zerolinewidth": 2
          }
         }
        },
        "title": {
         "font": {
          "color": "#4D5663"
         }
        },
        "xaxis": {
         "gridcolor": "#E1E5ED",
         "showgrid": true,
         "tickfont": {
          "color": "#4D5663"
         },
         "title": {
          "font": {
           "color": "#4D5663"
          },
          "text": ""
         },
         "zerolinecolor": "#E1E5ED"
        },
        "yaxis": {
         "gridcolor": "#E1E5ED",
         "showgrid": true,
         "tickfont": {
          "color": "#4D5663"
         },
         "title": {
          "font": {
           "color": "#4D5663"
          },
          "text": ""
         },
         "zerolinecolor": "#E1E5ED"
        }
       }
      },
      "text/html": [
       "<div>                            <div id=\"ba8e47ba-d076-498c-8d80-af50a59fd38b\" class=\"plotly-graph-div\" style=\"height:525px; width:100%;\"></div>            <script type=\"text/javascript\">                require([\"plotly\"], function(Plotly) {                    window.PLOTLYENV=window.PLOTLYENV || {};\n",
       "                    window.PLOTLYENV.BASE_URL='https://plot.ly';                                    if (document.getElementById(\"ba8e47ba-d076-498c-8d80-af50a59fd38b\")) {                    Plotly.newPlot(                        \"ba8e47ba-d076-498c-8d80-af50a59fd38b\",                        [{\"marker\":{\"color\":\"rgba(255, 153, 51, 0.6)\",\"line\":{\"color\":\"rgba(255, 153, 51, 1.0)\",\"width\":1}},\"name\":\"None\",\"orientation\":\"v\",\"text\":\"\",\"x\":[\"A\",\"B\",\"C\",\"D\"],\"y\":[100,100,100,100],\"type\":\"bar\"}],                        {\"legend\":{\"bgcolor\":\"#F5F6F9\",\"font\":{\"color\":\"#4D5663\"}},\"paper_bgcolor\":\"#F5F6F9\",\"plot_bgcolor\":\"#F5F6F9\",\"template\":{\"data\":{\"barpolar\":[{\"marker\":{\"line\":{\"color\":\"#E5ECF6\",\"width\":0.5},\"pattern\":{\"fillmode\":\"overlay\",\"size\":10,\"solidity\":0.2}},\"type\":\"barpolar\"}],\"bar\":[{\"error_x\":{\"color\":\"#2a3f5f\"},\"error_y\":{\"color\":\"#2a3f5f\"},\"marker\":{\"line\":{\"color\":\"#E5ECF6\",\"width\":0.5},\"pattern\":{\"fillmode\":\"overlay\",\"size\":10,\"solidity\":0.2}},\"type\":\"bar\"}],\"carpet\":[{\"aaxis\":{\"endlinecolor\":\"#2a3f5f\",\"gridcolor\":\"white\",\"linecolor\":\"white\",\"minorgridcolor\":\"white\",\"startlinecolor\":\"#2a3f5f\"},\"baxis\":{\"endlinecolor\":\"#2a3f5f\",\"gridcolor\":\"white\",\"linecolor\":\"white\",\"minorgridcolor\":\"white\",\"startlinecolor\":\"#2a3f5f\"},\"type\":\"carpet\"}],\"choropleth\":[{\"colorbar\":{\"outlinewidth\":0,\"ticks\":\"\"},\"type\":\"choropleth\"}],\"contourcarpet\":[{\"colorbar\":{\"outlinewidth\":0,\"ticks\":\"\"},\"type\":\"contourcarpet\"}],\"contour\":[{\"colorbar\":{\"outlinewidth\":0,\"ticks\":\"\"},\"colorscale\":[[0.0,\"#0d0887\"],[0.1111111111111111,\"#46039f\"],[0.2222222222222222,\"#7201a8\"],[0.3333333333333333,\"#9c179e\"],[0.4444444444444444,\"#bd3786\"],[0.5555555555555556,\"#d8576b\"],[0.6666666666666666,\"#ed7953\"],[0.7777777777777778,\"#fb9f3a\"],[0.8888888888888888,\"#fdca26\"],[1.0,\"#f0f921\"]],\"type\":\"contour\"}],\"heatmapgl\":[{\"colorbar\":{\"outlinewidth\":0,\"ticks\":\"\"},\"colorscale\":[[0.0,\"#0d0887\"],[0.1111111111111111,\"#46039f\"],[0.2222222222222222,\"#7201a8\"],[0.3333333333333333,\"#9c179e\"],[0.4444444444444444,\"#bd3786\"],[0.5555555555555556,\"#d8576b\"],[0.6666666666666666,\"#ed7953\"],[0.7777777777777778,\"#fb9f3a\"],[0.8888888888888888,\"#fdca26\"],[1.0,\"#f0f921\"]],\"type\":\"heatmapgl\"}],\"heatmap\":[{\"colorbar\":{\"outlinewidth\":0,\"ticks\":\"\"},\"colorscale\":[[0.0,\"#0d0887\"],[0.1111111111111111,\"#46039f\"],[0.2222222222222222,\"#7201a8\"],[0.3333333333333333,\"#9c179e\"],[0.4444444444444444,\"#bd3786\"],[0.5555555555555556,\"#d8576b\"],[0.6666666666666666,\"#ed7953\"],[0.7777777777777778,\"#fb9f3a\"],[0.8888888888888888,\"#fdca26\"],[1.0,\"#f0f921\"]],\"type\":\"heatmap\"}],\"histogram2dcontour\":[{\"colorbar\":{\"outlinewidth\":0,\"ticks\":\"\"},\"colorscale\":[[0.0,\"#0d0887\"],[0.1111111111111111,\"#46039f\"],[0.2222222222222222,\"#7201a8\"],[0.3333333333333333,\"#9c179e\"],[0.4444444444444444,\"#bd3786\"],[0.5555555555555556,\"#d8576b\"],[0.6666666666666666,\"#ed7953\"],[0.7777777777777778,\"#fb9f3a\"],[0.8888888888888888,\"#fdca26\"],[1.0,\"#f0f921\"]],\"type\":\"histogram2dcontour\"}],\"histogram2d\":[{\"colorbar\":{\"outlinewidth\":0,\"ticks\":\"\"},\"colorscale\":[[0.0,\"#0d0887\"],[0.1111111111111111,\"#46039f\"],[0.2222222222222222,\"#7201a8\"],[0.3333333333333333,\"#9c179e\"],[0.4444444444444444,\"#bd3786\"],[0.5555555555555556,\"#d8576b\"],[0.6666666666666666,\"#ed7953\"],[0.7777777777777778,\"#fb9f3a\"],[0.8888888888888888,\"#fdca26\"],[1.0,\"#f0f921\"]],\"type\":\"histogram2d\"}],\"histogram\":[{\"marker\":{\"pattern\":{\"fillmode\":\"overlay\",\"size\":10,\"solidity\":0.2}},\"type\":\"histogram\"}],\"mesh3d\":[{\"colorbar\":{\"outlinewidth\":0,\"ticks\":\"\"},\"type\":\"mesh3d\"}],\"parcoords\":[{\"line\":{\"colorbar\":{\"outlinewidth\":0,\"ticks\":\"\"}},\"type\":\"parcoords\"}],\"pie\":[{\"automargin\":true,\"type\":\"pie\"}],\"scatter3d\":[{\"line\":{\"colorbar\":{\"outlinewidth\":0,\"ticks\":\"\"}},\"marker\":{\"colorbar\":{\"outlinewidth\":0,\"ticks\":\"\"}},\"type\":\"scatter3d\"}],\"scattercarpet\":[{\"marker\":{\"colorbar\":{\"outlinewidth\":0,\"ticks\":\"\"}},\"type\":\"scattercarpet\"}],\"scattergeo\":[{\"marker\":{\"colorbar\":{\"outlinewidth\":0,\"ticks\":\"\"}},\"type\":\"scattergeo\"}],\"scattergl\":[{\"marker\":{\"colorbar\":{\"outlinewidth\":0,\"ticks\":\"\"}},\"type\":\"scattergl\"}],\"scattermapbox\":[{\"marker\":{\"colorbar\":{\"outlinewidth\":0,\"ticks\":\"\"}},\"type\":\"scattermapbox\"}],\"scatterpolargl\":[{\"marker\":{\"colorbar\":{\"outlinewidth\":0,\"ticks\":\"\"}},\"type\":\"scatterpolargl\"}],\"scatterpolar\":[{\"marker\":{\"colorbar\":{\"outlinewidth\":0,\"ticks\":\"\"}},\"type\":\"scatterpolar\"}],\"scatter\":[{\"fillpattern\":{\"fillmode\":\"overlay\",\"size\":10,\"solidity\":0.2},\"type\":\"scatter\"}],\"scatterternary\":[{\"marker\":{\"colorbar\":{\"outlinewidth\":0,\"ticks\":\"\"}},\"type\":\"scatterternary\"}],\"surface\":[{\"colorbar\":{\"outlinewidth\":0,\"ticks\":\"\"},\"colorscale\":[[0.0,\"#0d0887\"],[0.1111111111111111,\"#46039f\"],[0.2222222222222222,\"#7201a8\"],[0.3333333333333333,\"#9c179e\"],[0.4444444444444444,\"#bd3786\"],[0.5555555555555556,\"#d8576b\"],[0.6666666666666666,\"#ed7953\"],[0.7777777777777778,\"#fb9f3a\"],[0.8888888888888888,\"#fdca26\"],[1.0,\"#f0f921\"]],\"type\":\"surface\"}],\"table\":[{\"cells\":{\"fill\":{\"color\":\"#EBF0F8\"},\"line\":{\"color\":\"white\"}},\"header\":{\"fill\":{\"color\":\"#C8D4E3\"},\"line\":{\"color\":\"white\"}},\"type\":\"table\"}]},\"layout\":{\"annotationdefaults\":{\"arrowcolor\":\"#2a3f5f\",\"arrowhead\":0,\"arrowwidth\":1},\"autotypenumbers\":\"strict\",\"coloraxis\":{\"colorbar\":{\"outlinewidth\":0,\"ticks\":\"\"}},\"colorscale\":{\"diverging\":[[0,\"#8e0152\"],[0.1,\"#c51b7d\"],[0.2,\"#de77ae\"],[0.3,\"#f1b6da\"],[0.4,\"#fde0ef\"],[0.5,\"#f7f7f7\"],[0.6,\"#e6f5d0\"],[0.7,\"#b8e186\"],[0.8,\"#7fbc41\"],[0.9,\"#4d9221\"],[1,\"#276419\"]],\"sequential\":[[0.0,\"#0d0887\"],[0.1111111111111111,\"#46039f\"],[0.2222222222222222,\"#7201a8\"],[0.3333333333333333,\"#9c179e\"],[0.4444444444444444,\"#bd3786\"],[0.5555555555555556,\"#d8576b\"],[0.6666666666666666,\"#ed7953\"],[0.7777777777777778,\"#fb9f3a\"],[0.8888888888888888,\"#fdca26\"],[1.0,\"#f0f921\"]],\"sequentialminus\":[[0.0,\"#0d0887\"],[0.1111111111111111,\"#46039f\"],[0.2222222222222222,\"#7201a8\"],[0.3333333333333333,\"#9c179e\"],[0.4444444444444444,\"#bd3786\"],[0.5555555555555556,\"#d8576b\"],[0.6666666666666666,\"#ed7953\"],[0.7777777777777778,\"#fb9f3a\"],[0.8888888888888888,\"#fdca26\"],[1.0,\"#f0f921\"]]},\"colorway\":[\"#636efa\",\"#EF553B\",\"#00cc96\",\"#ab63fa\",\"#FFA15A\",\"#19d3f3\",\"#FF6692\",\"#B6E880\",\"#FF97FF\",\"#FECB52\"],\"font\":{\"color\":\"#2a3f5f\"},\"geo\":{\"bgcolor\":\"white\",\"lakecolor\":\"white\",\"landcolor\":\"#E5ECF6\",\"showlakes\":true,\"showland\":true,\"subunitcolor\":\"white\"},\"hoverlabel\":{\"align\":\"left\"},\"hovermode\":\"closest\",\"mapbox\":{\"style\":\"light\"},\"paper_bgcolor\":\"white\",\"plot_bgcolor\":\"#E5ECF6\",\"polar\":{\"angularaxis\":{\"gridcolor\":\"white\",\"linecolor\":\"white\",\"ticks\":\"\"},\"bgcolor\":\"#E5ECF6\",\"radialaxis\":{\"gridcolor\":\"white\",\"linecolor\":\"white\",\"ticks\":\"\"}},\"scene\":{\"xaxis\":{\"backgroundcolor\":\"#E5ECF6\",\"gridcolor\":\"white\",\"gridwidth\":2,\"linecolor\":\"white\",\"showbackground\":true,\"ticks\":\"\",\"zerolinecolor\":\"white\"},\"yaxis\":{\"backgroundcolor\":\"#E5ECF6\",\"gridcolor\":\"white\",\"gridwidth\":2,\"linecolor\":\"white\",\"showbackground\":true,\"ticks\":\"\",\"zerolinecolor\":\"white\"},\"zaxis\":{\"backgroundcolor\":\"#E5ECF6\",\"gridcolor\":\"white\",\"gridwidth\":2,\"linecolor\":\"white\",\"showbackground\":true,\"ticks\":\"\",\"zerolinecolor\":\"white\"}},\"shapedefaults\":{\"line\":{\"color\":\"#2a3f5f\"}},\"ternary\":{\"aaxis\":{\"gridcolor\":\"white\",\"linecolor\":\"white\",\"ticks\":\"\"},\"baxis\":{\"gridcolor\":\"white\",\"linecolor\":\"white\",\"ticks\":\"\"},\"bgcolor\":\"#E5ECF6\",\"caxis\":{\"gridcolor\":\"white\",\"linecolor\":\"white\",\"ticks\":\"\"}},\"title\":{\"x\":0.05},\"xaxis\":{\"automargin\":true,\"gridcolor\":\"white\",\"linecolor\":\"white\",\"ticks\":\"\",\"title\":{\"standoff\":15},\"zerolinecolor\":\"white\",\"zerolinewidth\":2},\"yaxis\":{\"automargin\":true,\"gridcolor\":\"white\",\"linecolor\":\"white\",\"ticks\":\"\",\"title\":{\"standoff\":15},\"zerolinecolor\":\"white\",\"zerolinewidth\":2}}},\"title\":{\"font\":{\"color\":\"#4D5663\"}},\"xaxis\":{\"gridcolor\":\"#E1E5ED\",\"showgrid\":true,\"tickfont\":{\"color\":\"#4D5663\"},\"title\":{\"font\":{\"color\":\"#4D5663\"},\"text\":\"\"},\"zerolinecolor\":\"#E1E5ED\"},\"yaxis\":{\"gridcolor\":\"#E1E5ED\",\"showgrid\":true,\"tickfont\":{\"color\":\"#4D5663\"},\"title\":{\"font\":{\"color\":\"#4D5663\"},\"text\":\"\"},\"zerolinecolor\":\"#E1E5ED\"}},                        {\"showLink\": true, \"linkText\": \"Export to plot.ly\", \"plotlyServerURL\": \"https://plot.ly\", \"responsive\": true}                    ).then(function(){\n",
       "                            \n",
       "var gd = document.getElementById('ba8e47ba-d076-498c-8d80-af50a59fd38b');\n",
       "var x = new MutationObserver(function (mutations, observer) {{\n",
       "        var display = window.getComputedStyle(gd).display;\n",
       "        if (!display || display === 'none') {{\n",
       "            console.log([gd, 'removed!']);\n",
       "            Plotly.purge(gd);\n",
       "            observer.disconnect();\n",
       "        }}\n",
       "}});\n",
       "\n",
       "// Listen for the removal of the full notebook cells\n",
       "var notebookContainer = gd.closest('#notebook-container');\n",
       "if (notebookContainer) {{\n",
       "    x.observe(notebookContainer, {childList: true});\n",
       "}}\n",
       "\n",
       "// Listen for the clearing of the current output cell\n",
       "var outputEl = gd.closest('.output');\n",
       "if (outputEl) {{\n",
       "    x.observe(outputEl, {childList: true});\n",
       "}}\n",
       "\n",
       "                        })                };                });            </script>        </div>"
      ]
     },
     "metadata": {},
     "output_type": "display_data"
    }
   ],
   "source": [
    "df.count().iplot(kind='bar')"
   ]
  },
  {
   "cell_type": "code",
   "execution_count": 34,
   "metadata": {},
   "outputs": [
    {
     "data": {
      "application/vnd.plotly.v1+json": {
       "config": {
        "linkText": "Export to plot.ly",
        "plotlyServerURL": "https://plot.ly",
        "showLink": true
       },
       "data": [
        {
         "marker": {
          "color": "rgba(255, 153, 51, 0.6)",
          "line": {
           "color": "rgba(255, 153, 51, 1.0)",
           "width": 1
          }
         },
         "name": "None",
         "orientation": "v",
         "text": "",
         "type": "bar",
         "x": [
          "A",
          "B",
          "C",
          "D"
         ],
         "y": [
          0.16529403923479827,
          -0.0034600295940857744,
          0.06435393015140506,
          -0.02882125525302247
         ]
        }
       ],
       "layout": {
        "legend": {
         "bgcolor": "#F5F6F9",
         "font": {
          "color": "#4D5663"
         }
        },
        "paper_bgcolor": "#F5F6F9",
        "plot_bgcolor": "#F5F6F9",
        "template": {
         "data": {
          "bar": [
           {
            "error_x": {
             "color": "#2a3f5f"
            },
            "error_y": {
             "color": "#2a3f5f"
            },
            "marker": {
             "line": {
              "color": "#E5ECF6",
              "width": 0.5
             },
             "pattern": {
              "fillmode": "overlay",
              "size": 10,
              "solidity": 0.2
             }
            },
            "type": "bar"
           }
          ],
          "barpolar": [
           {
            "marker": {
             "line": {
              "color": "#E5ECF6",
              "width": 0.5
             },
             "pattern": {
              "fillmode": "overlay",
              "size": 10,
              "solidity": 0.2
             }
            },
            "type": "barpolar"
           }
          ],
          "carpet": [
           {
            "aaxis": {
             "endlinecolor": "#2a3f5f",
             "gridcolor": "white",
             "linecolor": "white",
             "minorgridcolor": "white",
             "startlinecolor": "#2a3f5f"
            },
            "baxis": {
             "endlinecolor": "#2a3f5f",
             "gridcolor": "white",
             "linecolor": "white",
             "minorgridcolor": "white",
             "startlinecolor": "#2a3f5f"
            },
            "type": "carpet"
           }
          ],
          "choropleth": [
           {
            "colorbar": {
             "outlinewidth": 0,
             "ticks": ""
            },
            "type": "choropleth"
           }
          ],
          "contour": [
           {
            "colorbar": {
             "outlinewidth": 0,
             "ticks": ""
            },
            "colorscale": [
             [
              0,
              "#0d0887"
             ],
             [
              0.1111111111111111,
              "#46039f"
             ],
             [
              0.2222222222222222,
              "#7201a8"
             ],
             [
              0.3333333333333333,
              "#9c179e"
             ],
             [
              0.4444444444444444,
              "#bd3786"
             ],
             [
              0.5555555555555556,
              "#d8576b"
             ],
             [
              0.6666666666666666,
              "#ed7953"
             ],
             [
              0.7777777777777778,
              "#fb9f3a"
             ],
             [
              0.8888888888888888,
              "#fdca26"
             ],
             [
              1,
              "#f0f921"
             ]
            ],
            "type": "contour"
           }
          ],
          "contourcarpet": [
           {
            "colorbar": {
             "outlinewidth": 0,
             "ticks": ""
            },
            "type": "contourcarpet"
           }
          ],
          "heatmap": [
           {
            "colorbar": {
             "outlinewidth": 0,
             "ticks": ""
            },
            "colorscale": [
             [
              0,
              "#0d0887"
             ],
             [
              0.1111111111111111,
              "#46039f"
             ],
             [
              0.2222222222222222,
              "#7201a8"
             ],
             [
              0.3333333333333333,
              "#9c179e"
             ],
             [
              0.4444444444444444,
              "#bd3786"
             ],
             [
              0.5555555555555556,
              "#d8576b"
             ],
             [
              0.6666666666666666,
              "#ed7953"
             ],
             [
              0.7777777777777778,
              "#fb9f3a"
             ],
             [
              0.8888888888888888,
              "#fdca26"
             ],
             [
              1,
              "#f0f921"
             ]
            ],
            "type": "heatmap"
           }
          ],
          "heatmapgl": [
           {
            "colorbar": {
             "outlinewidth": 0,
             "ticks": ""
            },
            "colorscale": [
             [
              0,
              "#0d0887"
             ],
             [
              0.1111111111111111,
              "#46039f"
             ],
             [
              0.2222222222222222,
              "#7201a8"
             ],
             [
              0.3333333333333333,
              "#9c179e"
             ],
             [
              0.4444444444444444,
              "#bd3786"
             ],
             [
              0.5555555555555556,
              "#d8576b"
             ],
             [
              0.6666666666666666,
              "#ed7953"
             ],
             [
              0.7777777777777778,
              "#fb9f3a"
             ],
             [
              0.8888888888888888,
              "#fdca26"
             ],
             [
              1,
              "#f0f921"
             ]
            ],
            "type": "heatmapgl"
           }
          ],
          "histogram": [
           {
            "marker": {
             "pattern": {
              "fillmode": "overlay",
              "size": 10,
              "solidity": 0.2
             }
            },
            "type": "histogram"
           }
          ],
          "histogram2d": [
           {
            "colorbar": {
             "outlinewidth": 0,
             "ticks": ""
            },
            "colorscale": [
             [
              0,
              "#0d0887"
             ],
             [
              0.1111111111111111,
              "#46039f"
             ],
             [
              0.2222222222222222,
              "#7201a8"
             ],
             [
              0.3333333333333333,
              "#9c179e"
             ],
             [
              0.4444444444444444,
              "#bd3786"
             ],
             [
              0.5555555555555556,
              "#d8576b"
             ],
             [
              0.6666666666666666,
              "#ed7953"
             ],
             [
              0.7777777777777778,
              "#fb9f3a"
             ],
             [
              0.8888888888888888,
              "#fdca26"
             ],
             [
              1,
              "#f0f921"
             ]
            ],
            "type": "histogram2d"
           }
          ],
          "histogram2dcontour": [
           {
            "colorbar": {
             "outlinewidth": 0,
             "ticks": ""
            },
            "colorscale": [
             [
              0,
              "#0d0887"
             ],
             [
              0.1111111111111111,
              "#46039f"
             ],
             [
              0.2222222222222222,
              "#7201a8"
             ],
             [
              0.3333333333333333,
              "#9c179e"
             ],
             [
              0.4444444444444444,
              "#bd3786"
             ],
             [
              0.5555555555555556,
              "#d8576b"
             ],
             [
              0.6666666666666666,
              "#ed7953"
             ],
             [
              0.7777777777777778,
              "#fb9f3a"
             ],
             [
              0.8888888888888888,
              "#fdca26"
             ],
             [
              1,
              "#f0f921"
             ]
            ],
            "type": "histogram2dcontour"
           }
          ],
          "mesh3d": [
           {
            "colorbar": {
             "outlinewidth": 0,
             "ticks": ""
            },
            "type": "mesh3d"
           }
          ],
          "parcoords": [
           {
            "line": {
             "colorbar": {
              "outlinewidth": 0,
              "ticks": ""
             }
            },
            "type": "parcoords"
           }
          ],
          "pie": [
           {
            "automargin": true,
            "type": "pie"
           }
          ],
          "scatter": [
           {
            "fillpattern": {
             "fillmode": "overlay",
             "size": 10,
             "solidity": 0.2
            },
            "type": "scatter"
           }
          ],
          "scatter3d": [
           {
            "line": {
             "colorbar": {
              "outlinewidth": 0,
              "ticks": ""
             }
            },
            "marker": {
             "colorbar": {
              "outlinewidth": 0,
              "ticks": ""
             }
            },
            "type": "scatter3d"
           }
          ],
          "scattercarpet": [
           {
            "marker": {
             "colorbar": {
              "outlinewidth": 0,
              "ticks": ""
             }
            },
            "type": "scattercarpet"
           }
          ],
          "scattergeo": [
           {
            "marker": {
             "colorbar": {
              "outlinewidth": 0,
              "ticks": ""
             }
            },
            "type": "scattergeo"
           }
          ],
          "scattergl": [
           {
            "marker": {
             "colorbar": {
              "outlinewidth": 0,
              "ticks": ""
             }
            },
            "type": "scattergl"
           }
          ],
          "scattermapbox": [
           {
            "marker": {
             "colorbar": {
              "outlinewidth": 0,
              "ticks": ""
             }
            },
            "type": "scattermapbox"
           }
          ],
          "scatterpolar": [
           {
            "marker": {
             "colorbar": {
              "outlinewidth": 0,
              "ticks": ""
             }
            },
            "type": "scatterpolar"
           }
          ],
          "scatterpolargl": [
           {
            "marker": {
             "colorbar": {
              "outlinewidth": 0,
              "ticks": ""
             }
            },
            "type": "scatterpolargl"
           }
          ],
          "scatterternary": [
           {
            "marker": {
             "colorbar": {
              "outlinewidth": 0,
              "ticks": ""
             }
            },
            "type": "scatterternary"
           }
          ],
          "surface": [
           {
            "colorbar": {
             "outlinewidth": 0,
             "ticks": ""
            },
            "colorscale": [
             [
              0,
              "#0d0887"
             ],
             [
              0.1111111111111111,
              "#46039f"
             ],
             [
              0.2222222222222222,
              "#7201a8"
             ],
             [
              0.3333333333333333,
              "#9c179e"
             ],
             [
              0.4444444444444444,
              "#bd3786"
             ],
             [
              0.5555555555555556,
              "#d8576b"
             ],
             [
              0.6666666666666666,
              "#ed7953"
             ],
             [
              0.7777777777777778,
              "#fb9f3a"
             ],
             [
              0.8888888888888888,
              "#fdca26"
             ],
             [
              1,
              "#f0f921"
             ]
            ],
            "type": "surface"
           }
          ],
          "table": [
           {
            "cells": {
             "fill": {
              "color": "#EBF0F8"
             },
             "line": {
              "color": "white"
             }
            },
            "header": {
             "fill": {
              "color": "#C8D4E3"
             },
             "line": {
              "color": "white"
             }
            },
            "type": "table"
           }
          ]
         },
         "layout": {
          "annotationdefaults": {
           "arrowcolor": "#2a3f5f",
           "arrowhead": 0,
           "arrowwidth": 1
          },
          "autotypenumbers": "strict",
          "coloraxis": {
           "colorbar": {
            "outlinewidth": 0,
            "ticks": ""
           }
          },
          "colorscale": {
           "diverging": [
            [
             0,
             "#8e0152"
            ],
            [
             0.1,
             "#c51b7d"
            ],
            [
             0.2,
             "#de77ae"
            ],
            [
             0.3,
             "#f1b6da"
            ],
            [
             0.4,
             "#fde0ef"
            ],
            [
             0.5,
             "#f7f7f7"
            ],
            [
             0.6,
             "#e6f5d0"
            ],
            [
             0.7,
             "#b8e186"
            ],
            [
             0.8,
             "#7fbc41"
            ],
            [
             0.9,
             "#4d9221"
            ],
            [
             1,
             "#276419"
            ]
           ],
           "sequential": [
            [
             0,
             "#0d0887"
            ],
            [
             0.1111111111111111,
             "#46039f"
            ],
            [
             0.2222222222222222,
             "#7201a8"
            ],
            [
             0.3333333333333333,
             "#9c179e"
            ],
            [
             0.4444444444444444,
             "#bd3786"
            ],
            [
             0.5555555555555556,
             "#d8576b"
            ],
            [
             0.6666666666666666,
             "#ed7953"
            ],
            [
             0.7777777777777778,
             "#fb9f3a"
            ],
            [
             0.8888888888888888,
             "#fdca26"
            ],
            [
             1,
             "#f0f921"
            ]
           ],
           "sequentialminus": [
            [
             0,
             "#0d0887"
            ],
            [
             0.1111111111111111,
             "#46039f"
            ],
            [
             0.2222222222222222,
             "#7201a8"
            ],
            [
             0.3333333333333333,
             "#9c179e"
            ],
            [
             0.4444444444444444,
             "#bd3786"
            ],
            [
             0.5555555555555556,
             "#d8576b"
            ],
            [
             0.6666666666666666,
             "#ed7953"
            ],
            [
             0.7777777777777778,
             "#fb9f3a"
            ],
            [
             0.8888888888888888,
             "#fdca26"
            ],
            [
             1,
             "#f0f921"
            ]
           ]
          },
          "colorway": [
           "#636efa",
           "#EF553B",
           "#00cc96",
           "#ab63fa",
           "#FFA15A",
           "#19d3f3",
           "#FF6692",
           "#B6E880",
           "#FF97FF",
           "#FECB52"
          ],
          "font": {
           "color": "#2a3f5f"
          },
          "geo": {
           "bgcolor": "white",
           "lakecolor": "white",
           "landcolor": "#E5ECF6",
           "showlakes": true,
           "showland": true,
           "subunitcolor": "white"
          },
          "hoverlabel": {
           "align": "left"
          },
          "hovermode": "closest",
          "mapbox": {
           "style": "light"
          },
          "paper_bgcolor": "white",
          "plot_bgcolor": "#E5ECF6",
          "polar": {
           "angularaxis": {
            "gridcolor": "white",
            "linecolor": "white",
            "ticks": ""
           },
           "bgcolor": "#E5ECF6",
           "radialaxis": {
            "gridcolor": "white",
            "linecolor": "white",
            "ticks": ""
           }
          },
          "scene": {
           "xaxis": {
            "backgroundcolor": "#E5ECF6",
            "gridcolor": "white",
            "gridwidth": 2,
            "linecolor": "white",
            "showbackground": true,
            "ticks": "",
            "zerolinecolor": "white"
           },
           "yaxis": {
            "backgroundcolor": "#E5ECF6",
            "gridcolor": "white",
            "gridwidth": 2,
            "linecolor": "white",
            "showbackground": true,
            "ticks": "",
            "zerolinecolor": "white"
           },
           "zaxis": {
            "backgroundcolor": "#E5ECF6",
            "gridcolor": "white",
            "gridwidth": 2,
            "linecolor": "white",
            "showbackground": true,
            "ticks": "",
            "zerolinecolor": "white"
           }
          },
          "shapedefaults": {
           "line": {
            "color": "#2a3f5f"
           }
          },
          "ternary": {
           "aaxis": {
            "gridcolor": "white",
            "linecolor": "white",
            "ticks": ""
           },
           "baxis": {
            "gridcolor": "white",
            "linecolor": "white",
            "ticks": ""
           },
           "bgcolor": "#E5ECF6",
           "caxis": {
            "gridcolor": "white",
            "linecolor": "white",
            "ticks": ""
           }
          },
          "title": {
           "x": 0.05
          },
          "xaxis": {
           "automargin": true,
           "gridcolor": "white",
           "linecolor": "white",
           "ticks": "",
           "title": {
            "standoff": 15
           },
           "zerolinecolor": "white",
           "zerolinewidth": 2
          },
          "yaxis": {
           "automargin": true,
           "gridcolor": "white",
           "linecolor": "white",
           "ticks": "",
           "title": {
            "standoff": 15
           },
           "zerolinecolor": "white",
           "zerolinewidth": 2
          }
         }
        },
        "title": {
         "font": {
          "color": "#4D5663"
         }
        },
        "xaxis": {
         "gridcolor": "#E1E5ED",
         "showgrid": true,
         "tickfont": {
          "color": "#4D5663"
         },
         "title": {
          "font": {
           "color": "#4D5663"
          },
          "text": ""
         },
         "zerolinecolor": "#E1E5ED"
        },
        "yaxis": {
         "gridcolor": "#E1E5ED",
         "showgrid": true,
         "tickfont": {
          "color": "#4D5663"
         },
         "title": {
          "font": {
           "color": "#4D5663"
          },
          "text": ""
         },
         "zerolinecolor": "#E1E5ED"
        }
       }
      },
      "text/html": [
       "<div>                            <div id=\"01b614df-c588-471f-930a-5d659c24d436\" class=\"plotly-graph-div\" style=\"height:525px; width:100%;\"></div>            <script type=\"text/javascript\">                require([\"plotly\"], function(Plotly) {                    window.PLOTLYENV=window.PLOTLYENV || {};\n",
       "                    window.PLOTLYENV.BASE_URL='https://plot.ly';                                    if (document.getElementById(\"01b614df-c588-471f-930a-5d659c24d436\")) {                    Plotly.newPlot(                        \"01b614df-c588-471f-930a-5d659c24d436\",                        [{\"marker\":{\"color\":\"rgba(255, 153, 51, 0.6)\",\"line\":{\"color\":\"rgba(255, 153, 51, 1.0)\",\"width\":1}},\"name\":\"None\",\"orientation\":\"v\",\"text\":\"\",\"x\":[\"A\",\"B\",\"C\",\"D\"],\"y\":[0.16529403923479827,-0.0034600295940857744,0.06435393015140506,-0.02882125525302247],\"type\":\"bar\"}],                        {\"legend\":{\"bgcolor\":\"#F5F6F9\",\"font\":{\"color\":\"#4D5663\"}},\"paper_bgcolor\":\"#F5F6F9\",\"plot_bgcolor\":\"#F5F6F9\",\"template\":{\"data\":{\"barpolar\":[{\"marker\":{\"line\":{\"color\":\"#E5ECF6\",\"width\":0.5},\"pattern\":{\"fillmode\":\"overlay\",\"size\":10,\"solidity\":0.2}},\"type\":\"barpolar\"}],\"bar\":[{\"error_x\":{\"color\":\"#2a3f5f\"},\"error_y\":{\"color\":\"#2a3f5f\"},\"marker\":{\"line\":{\"color\":\"#E5ECF6\",\"width\":0.5},\"pattern\":{\"fillmode\":\"overlay\",\"size\":10,\"solidity\":0.2}},\"type\":\"bar\"}],\"carpet\":[{\"aaxis\":{\"endlinecolor\":\"#2a3f5f\",\"gridcolor\":\"white\",\"linecolor\":\"white\",\"minorgridcolor\":\"white\",\"startlinecolor\":\"#2a3f5f\"},\"baxis\":{\"endlinecolor\":\"#2a3f5f\",\"gridcolor\":\"white\",\"linecolor\":\"white\",\"minorgridcolor\":\"white\",\"startlinecolor\":\"#2a3f5f\"},\"type\":\"carpet\"}],\"choropleth\":[{\"colorbar\":{\"outlinewidth\":0,\"ticks\":\"\"},\"type\":\"choropleth\"}],\"contourcarpet\":[{\"colorbar\":{\"outlinewidth\":0,\"ticks\":\"\"},\"type\":\"contourcarpet\"}],\"contour\":[{\"colorbar\":{\"outlinewidth\":0,\"ticks\":\"\"},\"colorscale\":[[0.0,\"#0d0887\"],[0.1111111111111111,\"#46039f\"],[0.2222222222222222,\"#7201a8\"],[0.3333333333333333,\"#9c179e\"],[0.4444444444444444,\"#bd3786\"],[0.5555555555555556,\"#d8576b\"],[0.6666666666666666,\"#ed7953\"],[0.7777777777777778,\"#fb9f3a\"],[0.8888888888888888,\"#fdca26\"],[1.0,\"#f0f921\"]],\"type\":\"contour\"}],\"heatmapgl\":[{\"colorbar\":{\"outlinewidth\":0,\"ticks\":\"\"},\"colorscale\":[[0.0,\"#0d0887\"],[0.1111111111111111,\"#46039f\"],[0.2222222222222222,\"#7201a8\"],[0.3333333333333333,\"#9c179e\"],[0.4444444444444444,\"#bd3786\"],[0.5555555555555556,\"#d8576b\"],[0.6666666666666666,\"#ed7953\"],[0.7777777777777778,\"#fb9f3a\"],[0.8888888888888888,\"#fdca26\"],[1.0,\"#f0f921\"]],\"type\":\"heatmapgl\"}],\"heatmap\":[{\"colorbar\":{\"outlinewidth\":0,\"ticks\":\"\"},\"colorscale\":[[0.0,\"#0d0887\"],[0.1111111111111111,\"#46039f\"],[0.2222222222222222,\"#7201a8\"],[0.3333333333333333,\"#9c179e\"],[0.4444444444444444,\"#bd3786\"],[0.5555555555555556,\"#d8576b\"],[0.6666666666666666,\"#ed7953\"],[0.7777777777777778,\"#fb9f3a\"],[0.8888888888888888,\"#fdca26\"],[1.0,\"#f0f921\"]],\"type\":\"heatmap\"}],\"histogram2dcontour\":[{\"colorbar\":{\"outlinewidth\":0,\"ticks\":\"\"},\"colorscale\":[[0.0,\"#0d0887\"],[0.1111111111111111,\"#46039f\"],[0.2222222222222222,\"#7201a8\"],[0.3333333333333333,\"#9c179e\"],[0.4444444444444444,\"#bd3786\"],[0.5555555555555556,\"#d8576b\"],[0.6666666666666666,\"#ed7953\"],[0.7777777777777778,\"#fb9f3a\"],[0.8888888888888888,\"#fdca26\"],[1.0,\"#f0f921\"]],\"type\":\"histogram2dcontour\"}],\"histogram2d\":[{\"colorbar\":{\"outlinewidth\":0,\"ticks\":\"\"},\"colorscale\":[[0.0,\"#0d0887\"],[0.1111111111111111,\"#46039f\"],[0.2222222222222222,\"#7201a8\"],[0.3333333333333333,\"#9c179e\"],[0.4444444444444444,\"#bd3786\"],[0.5555555555555556,\"#d8576b\"],[0.6666666666666666,\"#ed7953\"],[0.7777777777777778,\"#fb9f3a\"],[0.8888888888888888,\"#fdca26\"],[1.0,\"#f0f921\"]],\"type\":\"histogram2d\"}],\"histogram\":[{\"marker\":{\"pattern\":{\"fillmode\":\"overlay\",\"size\":10,\"solidity\":0.2}},\"type\":\"histogram\"}],\"mesh3d\":[{\"colorbar\":{\"outlinewidth\":0,\"ticks\":\"\"},\"type\":\"mesh3d\"}],\"parcoords\":[{\"line\":{\"colorbar\":{\"outlinewidth\":0,\"ticks\":\"\"}},\"type\":\"parcoords\"}],\"pie\":[{\"automargin\":true,\"type\":\"pie\"}],\"scatter3d\":[{\"line\":{\"colorbar\":{\"outlinewidth\":0,\"ticks\":\"\"}},\"marker\":{\"colorbar\":{\"outlinewidth\":0,\"ticks\":\"\"}},\"type\":\"scatter3d\"}],\"scattercarpet\":[{\"marker\":{\"colorbar\":{\"outlinewidth\":0,\"ticks\":\"\"}},\"type\":\"scattercarpet\"}],\"scattergeo\":[{\"marker\":{\"colorbar\":{\"outlinewidth\":0,\"ticks\":\"\"}},\"type\":\"scattergeo\"}],\"scattergl\":[{\"marker\":{\"colorbar\":{\"outlinewidth\":0,\"ticks\":\"\"}},\"type\":\"scattergl\"}],\"scattermapbox\":[{\"marker\":{\"colorbar\":{\"outlinewidth\":0,\"ticks\":\"\"}},\"type\":\"scattermapbox\"}],\"scatterpolargl\":[{\"marker\":{\"colorbar\":{\"outlinewidth\":0,\"ticks\":\"\"}},\"type\":\"scatterpolargl\"}],\"scatterpolar\":[{\"marker\":{\"colorbar\":{\"outlinewidth\":0,\"ticks\":\"\"}},\"type\":\"scatterpolar\"}],\"scatter\":[{\"fillpattern\":{\"fillmode\":\"overlay\",\"size\":10,\"solidity\":0.2},\"type\":\"scatter\"}],\"scatterternary\":[{\"marker\":{\"colorbar\":{\"outlinewidth\":0,\"ticks\":\"\"}},\"type\":\"scatterternary\"}],\"surface\":[{\"colorbar\":{\"outlinewidth\":0,\"ticks\":\"\"},\"colorscale\":[[0.0,\"#0d0887\"],[0.1111111111111111,\"#46039f\"],[0.2222222222222222,\"#7201a8\"],[0.3333333333333333,\"#9c179e\"],[0.4444444444444444,\"#bd3786\"],[0.5555555555555556,\"#d8576b\"],[0.6666666666666666,\"#ed7953\"],[0.7777777777777778,\"#fb9f3a\"],[0.8888888888888888,\"#fdca26\"],[1.0,\"#f0f921\"]],\"type\":\"surface\"}],\"table\":[{\"cells\":{\"fill\":{\"color\":\"#EBF0F8\"},\"line\":{\"color\":\"white\"}},\"header\":{\"fill\":{\"color\":\"#C8D4E3\"},\"line\":{\"color\":\"white\"}},\"type\":\"table\"}]},\"layout\":{\"annotationdefaults\":{\"arrowcolor\":\"#2a3f5f\",\"arrowhead\":0,\"arrowwidth\":1},\"autotypenumbers\":\"strict\",\"coloraxis\":{\"colorbar\":{\"outlinewidth\":0,\"ticks\":\"\"}},\"colorscale\":{\"diverging\":[[0,\"#8e0152\"],[0.1,\"#c51b7d\"],[0.2,\"#de77ae\"],[0.3,\"#f1b6da\"],[0.4,\"#fde0ef\"],[0.5,\"#f7f7f7\"],[0.6,\"#e6f5d0\"],[0.7,\"#b8e186\"],[0.8,\"#7fbc41\"],[0.9,\"#4d9221\"],[1,\"#276419\"]],\"sequential\":[[0.0,\"#0d0887\"],[0.1111111111111111,\"#46039f\"],[0.2222222222222222,\"#7201a8\"],[0.3333333333333333,\"#9c179e\"],[0.4444444444444444,\"#bd3786\"],[0.5555555555555556,\"#d8576b\"],[0.6666666666666666,\"#ed7953\"],[0.7777777777777778,\"#fb9f3a\"],[0.8888888888888888,\"#fdca26\"],[1.0,\"#f0f921\"]],\"sequentialminus\":[[0.0,\"#0d0887\"],[0.1111111111111111,\"#46039f\"],[0.2222222222222222,\"#7201a8\"],[0.3333333333333333,\"#9c179e\"],[0.4444444444444444,\"#bd3786\"],[0.5555555555555556,\"#d8576b\"],[0.6666666666666666,\"#ed7953\"],[0.7777777777777778,\"#fb9f3a\"],[0.8888888888888888,\"#fdca26\"],[1.0,\"#f0f921\"]]},\"colorway\":[\"#636efa\",\"#EF553B\",\"#00cc96\",\"#ab63fa\",\"#FFA15A\",\"#19d3f3\",\"#FF6692\",\"#B6E880\",\"#FF97FF\",\"#FECB52\"],\"font\":{\"color\":\"#2a3f5f\"},\"geo\":{\"bgcolor\":\"white\",\"lakecolor\":\"white\",\"landcolor\":\"#E5ECF6\",\"showlakes\":true,\"showland\":true,\"subunitcolor\":\"white\"},\"hoverlabel\":{\"align\":\"left\"},\"hovermode\":\"closest\",\"mapbox\":{\"style\":\"light\"},\"paper_bgcolor\":\"white\",\"plot_bgcolor\":\"#E5ECF6\",\"polar\":{\"angularaxis\":{\"gridcolor\":\"white\",\"linecolor\":\"white\",\"ticks\":\"\"},\"bgcolor\":\"#E5ECF6\",\"radialaxis\":{\"gridcolor\":\"white\",\"linecolor\":\"white\",\"ticks\":\"\"}},\"scene\":{\"xaxis\":{\"backgroundcolor\":\"#E5ECF6\",\"gridcolor\":\"white\",\"gridwidth\":2,\"linecolor\":\"white\",\"showbackground\":true,\"ticks\":\"\",\"zerolinecolor\":\"white\"},\"yaxis\":{\"backgroundcolor\":\"#E5ECF6\",\"gridcolor\":\"white\",\"gridwidth\":2,\"linecolor\":\"white\",\"showbackground\":true,\"ticks\":\"\",\"zerolinecolor\":\"white\"},\"zaxis\":{\"backgroundcolor\":\"#E5ECF6\",\"gridcolor\":\"white\",\"gridwidth\":2,\"linecolor\":\"white\",\"showbackground\":true,\"ticks\":\"\",\"zerolinecolor\":\"white\"}},\"shapedefaults\":{\"line\":{\"color\":\"#2a3f5f\"}},\"ternary\":{\"aaxis\":{\"gridcolor\":\"white\",\"linecolor\":\"white\",\"ticks\":\"\"},\"baxis\":{\"gridcolor\":\"white\",\"linecolor\":\"white\",\"ticks\":\"\"},\"bgcolor\":\"#E5ECF6\",\"caxis\":{\"gridcolor\":\"white\",\"linecolor\":\"white\",\"ticks\":\"\"}},\"title\":{\"x\":0.05},\"xaxis\":{\"automargin\":true,\"gridcolor\":\"white\",\"linecolor\":\"white\",\"ticks\":\"\",\"title\":{\"standoff\":15},\"zerolinecolor\":\"white\",\"zerolinewidth\":2},\"yaxis\":{\"automargin\":true,\"gridcolor\":\"white\",\"linecolor\":\"white\",\"ticks\":\"\",\"title\":{\"standoff\":15},\"zerolinecolor\":\"white\",\"zerolinewidth\":2}}},\"title\":{\"font\":{\"color\":\"#4D5663\"}},\"xaxis\":{\"gridcolor\":\"#E1E5ED\",\"showgrid\":true,\"tickfont\":{\"color\":\"#4D5663\"},\"title\":{\"font\":{\"color\":\"#4D5663\"},\"text\":\"\"},\"zerolinecolor\":\"#E1E5ED\"},\"yaxis\":{\"gridcolor\":\"#E1E5ED\",\"showgrid\":true,\"tickfont\":{\"color\":\"#4D5663\"},\"title\":{\"font\":{\"color\":\"#4D5663\"},\"text\":\"\"},\"zerolinecolor\":\"#E1E5ED\"}},                        {\"showLink\": true, \"linkText\": \"Export to plot.ly\", \"plotlyServerURL\": \"https://plot.ly\", \"responsive\": true}                    ).then(function(){\n",
       "                            \n",
       "var gd = document.getElementById('01b614df-c588-471f-930a-5d659c24d436');\n",
       "var x = new MutationObserver(function (mutations, observer) {{\n",
       "        var display = window.getComputedStyle(gd).display;\n",
       "        if (!display || display === 'none') {{\n",
       "            console.log([gd, 'removed!']);\n",
       "            Plotly.purge(gd);\n",
       "            observer.disconnect();\n",
       "        }}\n",
       "}});\n",
       "\n",
       "// Listen for the removal of the full notebook cells\n",
       "var notebookContainer = gd.closest('#notebook-container');\n",
       "if (notebookContainer) {{\n",
       "    x.observe(notebookContainer, {childList: true});\n",
       "}}\n",
       "\n",
       "// Listen for the clearing of the current output cell\n",
       "var outputEl = gd.closest('.output');\n",
       "if (outputEl) {{\n",
       "    x.observe(outputEl, {childList: true});\n",
       "}}\n",
       "\n",
       "                        })                };                });            </script>        </div>"
      ]
     },
     "metadata": {},
     "output_type": "display_data"
    }
   ],
   "source": [
    "df.mean().iplot(kind='bar')"
   ]
  },
  {
   "cell_type": "markdown",
   "metadata": {},
   "source": [
    "## Boxplots"
   ]
  },
  {
   "cell_type": "code",
   "execution_count": 34,
   "metadata": {},
   "outputs": [
    {
     "data": {
      "text/html": [
       "<div id=\"5d45edc4-c4ad-4a76-9cf3-b0c8f88287f7\" style=\"height: 525px; width: 100%;\" class=\"plotly-graph-div\"></div><script type=\"text/javascript\">require([\"plotly\"], function(Plotly) { window.PLOTLYENV=window.PLOTLYENV || {};window.PLOTLYENV.BASE_URL=\"https://plot.ly\";Plotly.newPlot(\"5d45edc4-c4ad-4a76-9cf3-b0c8f88287f7\", [{\"name\": \"A\", \"boxpoints\": false, \"y\": [1.8787246669561561, 0.028733616663923985, -0.1587931161277573, -1.2219723462024636, 1.2531523973363488, 0.8312132082951045, 1.1740170898586173, -0.24393002059589958, -0.296966543277261, 0.7621695759158762, 0.04210347865555278, -0.7791970481917073, 0.3943032396655093, -1.0146190736152443, -0.4841710096782867, 0.5522466668361006, -2.77187556758784, -0.5181226698708166, -0.49722040792422156, -1.6534757596659548, -0.06027439377033132, 1.4769243769038323, 1.1796346669498379, -0.7816898015019265, 0.8630132212967984, 0.6590246731638996, -1.1013906677685679, -0.9446804895542242, -1.788022470413331, 0.8775002821729455, 0.3546715768521251, -0.16532125735222183, 1.8914747239632839, -1.1251772915449791, 0.8888981026894395, -0.6066117727706714, 0.8314777742724779, 0.3830457069359529, -0.937459527593053, -0.844561047334305, 1.1280232245052606, -1.640427972598561, 0.8971269652786067, 0.4848047458342485, 0.19373507090654035, -0.7387091317560727, -0.3566733282792827, -0.43158335134818315, -0.4899640124314907, 0.5488715658495908, 0.2821768987731658, -0.8832439438038343, 1.271863067044618, 0.10680856505919414, 0.8269478103679717, -0.03266751467505833, -0.34021520002722894, -0.6769186069469743, 0.7126188256918854, 1.8871150025438166, -0.06742662656190869, -1.4789736197389265, 0.346978601690099, -0.3757389938313092, 0.715285859520045, 1.5994858611908638, -0.3692558358591885, 0.13827360227735647, -0.40690530542342296, 0.636973800943974, 0.14658752987818605, -0.3949906255692418, 1.5076392623927681, -0.15486042602397807, 0.22159940179664614, -1.0878244818277978, -0.03354417910293162, 1.2258839316932069, -0.048951028800266715, -1.1089870994157809, 0.021452684803338333, 1.2548854256528554, -1.0913797662237141, -0.539059741192553, 0.6901269187662552, -1.4810451728120602, -0.8468654201203714, 0.3763927872506507, 0.8120568488462931, 0.0031767062628090745, 0.697742291538818, -0.7429703118062226, -0.842231117346612, -0.0666718362166121, 1.8829720647783421, 1.320112956074407, 0.42394324402947475, 0.466299928509142, 0.9415282138953815, -0.7707938096473991], \"line\": {\"width\": 1.3}, \"type\": \"box\", \"marker\": {\"color\": \"rgba(226, 74, 51, 1.0)\"}}, {\"name\": \"B\", \"boxpoints\": false, \"y\": [0.6887194376286498, 0.1040535242504629, 0.38792642015276635, 1.3934230260395444, -0.5375976688704683, -1.1493608786796612, 0.01342890849383506, -0.47231861415738574, 0.24793169472844812, -0.6232083144122951, -1.2121596694710122, -2.4542371001007464, 0.29855785553142483, 1.2997620162676498, 0.9168047366909585, -0.41040614900130634, 1.3147531456519106, -0.12455263569370086, 0.9366143523054554, 0.23573463729990726, -0.8244746170540388, -0.32685668230128845, 1.501781503113865, 0.9830012153240587, 0.6020112305361386, 0.3688304138086671, 1.0090827131320237, -0.5811720111587422, 0.0512884505619472, -1.6917643070157176, -0.25322144257612356, -0.2937357494665306, 0.7368726362448421, 0.5763424997076779, 0.16472110066593693, -0.374254076023172, 1.1280304809680426, 0.6455371548668151, -0.18000225503004413, -0.9128911232313937, -0.5670695205365133, 0.16138491502455474, 1.2118733837294762, 0.4444506280024997, 0.6834767601409083, 1.8020727241195935, 2.4230878273709062, 0.27701889696287213, 1.4067122280705426, -0.33728919328412016, 0.5154870435338148, 0.7751019637809062, 1.400130435077449, 0.8276591566099151, 1.1268119555303864, 0.7016118169589718, 0.476169530704683, -0.5261125753709399, -1.2129692872143456, 0.6126338497954396, 1.5825905557818922, -0.8173630045970658, 0.1075602248072928, 1.2716988894407462, -0.15615948990467535, -0.2968566839654392, 1.7204934641303604, -0.869876624137026, 0.28935077735906545, -1.2052876742800458, -0.263979336251353, -0.02815365780209253, -0.04062347728476395, 0.943760296027789, -1.7797735906553165, 0.4485755919087686, 0.14778332986993048, 0.5305019463041807, 1.6359913516932165, -0.3437427119285297, 1.9109783094330681, 0.6818924480193401, -0.42214824562337705, 0.8935317581184008, 1.2587495288352297, -0.5992845246668753, 2.7851237345776405, -1.5158096238899554, 0.04177421570103183, 0.48980398157362903, 1.063643861677667, -0.8486329162129157, -1.86936339853131, 0.24761777046722996, 1.290606988097702, 0.17046338292604407, 0.14181179559597848, 0.6505415244850333, -2.5850581533594545, -0.30813091794721653], \"line\": {\"width\": 1.3}, \"type\": \"box\", \"marker\": {\"color\": \"rgba(62, 111, 176, 1.0)\"}}, {\"name\": \"C\", \"boxpoints\": false, \"y\": [1.0667334168325768, 0.04817571551860875, -0.6353709157290994, -0.29979428249659507, 0.30291706303457033, -1.2658520234759039, 0.4984256330100474, -0.4813817437844393, 1.6528819231392327, -1.0387894611418347, -1.4866253379043493, -0.5281135473322252, -0.061645252730345844, 0.7876423965771268, 0.9285191892602837, -3.0483938246413547, -0.371184208418135, 0.11169331199774239, 0.30352330980386477, -1.1851393464396252, -0.3023997655692267, 1.4199893168847753, -0.332851303404407, 0.7955908630250091, 0.5869705278914006, -0.45090328668726354, -0.7814566611757896, -0.1261200409144497, 0.7060858452328673, -0.8894721878843294, 0.6064992291432117, -0.1963991863666514, 0.16697094643083513, -0.06591707111576753, 0.8961422265850149, 0.8939803073905991, 0.2526177880230376, -1.2523243277936627, 0.9749672569040144, 0.9687477057343876, 0.26351967435246515, -0.9517261189215155, -0.18707956459088698, -0.39391833601946274, 0.5273775265831957, -0.48180251718398176, -2.2230374431929953, 2.0999928572789828, 0.5496483529576708, 1.067298459209482, -0.3040289105606048, 0.1352094843666391, -0.9944404721270197, 2.2258275006902912, -0.11689955437978636, 0.41231462999024887, 0.7856039151273921, -0.6894731524779986, -0.8276899193670904, 0.23638272241448607, 1.3266743967632526, 0.9626096963262857, -0.28379390855690406, -0.417413711892243, -1.3341211120615861, 0.9298055489835776, 2.106720126861483, 0.23150307059926345, 0.8864836518334782, 0.4193977048083098, 0.3190869644200757, 0.9673541346062681, 0.42245148076732175, 1.0906377526894717, 1.3887188298690671, -0.19507483218944058, -0.9347090401182315, 0.30126885232107575, 0.42495072953595375, -0.9170212042816844, -1.6965969381460768, -0.011576471618042839, -1.0479065708976978, -0.4749222730814971, 0.4229046102099884, 0.08254929486846736, -0.7783883617548714, -0.17950878512595098, 0.4391940123110264, -1.9667304216807953, -1.5652802021531136, 0.8163770970520242, -0.008375093041838632, 0.5510487504106222, -0.4239325998518183, -0.1297116221823799, -0.10728910870450034, -0.12169367361116121, -0.6905111268638191, -0.2653540299125418], \"line\": {\"width\": 1.3}, \"type\": \"box\", \"marker\": {\"color\": \"rgba(132, 118, 202, 1.0)\"}}, {\"name\": \"D\", \"boxpoints\": false, \"y\": [0.5439560303056027, 1.8421879324257613, -0.6375584499267892, -1.113621595762316, -2.5460826344966634, -1.4694525849240658, 1.5284509091178395, -0.2389286047643509, -1.8771013496698048, 0.7967095179585106, -1.2751392945819797, -0.3919771719871495, 0.6960770780779357, 1.0829877919884603, -0.21798245190329507, 0.10031667681839129, 0.39551692710003933, 0.03022462233656908, -0.3327329523770193, -0.204819010502919, -0.498599044144297, -2.287561059130041, -0.2626249290420713, -2.7487145066091996, -0.666926270349069, -2.0379098459994895, 0.4076679798231559, 1.2245324594636484, -2.0903293143661017, 0.5730523735386692, -0.8155129116660126, -0.9572874252328925, 0.2646752398006613, -1.59152570791709, 0.0934028853207141, -2.602771223170992, 0.560010384592385, 0.449602390416327, -0.005796794476065169, 0.1829347250578045, -0.5607194705468903, -1.1999112237192675, -1.5750218946994066, 0.9111111432091317, -0.2530599561069696, -0.5460310452823662, -0.2531538203527998, 1.5968736605431069, 1.723507060923573, 0.38763182009739877, -1.5443680470309729, 1.2505835233573588, 0.0032375885699842803, 0.3870066878402003, -0.32906689091979147, 0.3856397258220775, -0.1654479720586817, 0.2232842423247386, -0.4418766853437538, -0.6751906059090874, -1.6521803078301385, 0.8305325757578166, 0.6577807720682736, -1.2851830040136305, 0.5089005765755124, 0.5962021316815027, 0.9573351203673642, -1.7458475655160375, -1.7131000048598244, 1.5732405203322046, -0.6605298861077683, -1.3437487967599893, 1.9772828633357302, -0.2856844646078326, 0.19293980157348012, 0.1628250911198371, 0.4208217295167736, 0.5627226183638288, -1.058090429960864, -1.3589615830656872, 2.138807050366944, 0.885718335515041, 0.8374040360650308, 0.49834346725709405, -1.3963572343750588, 2.2245606506923625, 0.19641383189506273, -0.3435398382353588, 0.7215114388529363, -0.8327583822270256, -2.039974975731211, 1.2859290252046311, -1.1577060578657161, 0.36795754346511866, 0.970791311065794, 0.496204293102698, -0.05627542841788665, 0.10113620396598295, 0.7547476274222054, 0.15433234934660506], \"line\": {\"width\": 1.3}, \"type\": \"box\", \"marker\": {\"color\": \"rgba(101, 101, 101, 1.0)\"}}], {\"legend\": {\"font\": {\"color\": \"#666666\"}, \"bgcolor\": \"#FFFFFF\"}, \"titlefont\": {\"color\": \"#151516\"}, \"xaxis1\": {\"titlefont\": {\"color\": \"#666666\"}, \"zerolinecolor\": \"#F6F6F6\", \"title\": \"\", \"tickfont\": {\"color\": \"#666666\"}, \"showgrid\": true, \"gridcolor\": \"#F6F6F6\"}, \"paper_bgcolor\": \"#FFFFFF\", \"plot_bgcolor\": \"#E5E5E5\", \"yaxis1\": {\"titlefont\": {\"color\": \"#666666\"}, \"zerolinecolor\": \"#F6F6F6\", \"title\": \"\", \"tickfont\": {\"color\": \"#666666\"}, \"showgrid\": true, \"gridcolor\": \"#F6F6F6\"}}, {\"showLink\": true, \"linkText\": \"Export to plot.ly\"})});</script>"
      ],
      "text/plain": [
       "<IPython.core.display.HTML object>"
      ]
     },
     "metadata": {},
     "output_type": "display_data"
    }
   ],
   "source": [
    "df.iplot(kind='box')"
   ]
  },
  {
   "cell_type": "markdown",
   "metadata": {},
   "source": [
    "## 3d Surface"
   ]
  },
  {
   "cell_type": "code",
   "execution_count": 41,
   "metadata": {},
   "outputs": [
    {
     "data": {
      "application/vnd.plotly.v1+json": {
       "config": {
        "linkText": "Export to plot.ly",
        "plotlyServerURL": "https://plot.ly",
        "showLink": true
       },
       "data": [
        {
         "colorscale": [
          [
           0,
           "rgb(165,0,38)"
          ],
          [
           0.1,
           "rgb(215,48,39)"
          ],
          [
           0.2,
           "rgb(244,109,67)"
          ],
          [
           0.3,
           "rgb(253,174,97)"
          ],
          [
           0.4,
           "rgb(254,224,144)"
          ],
          [
           0.5,
           "rgb(255,255,191)"
          ],
          [
           0.6,
           "rgb(224,243,248)"
          ],
          [
           0.7,
           "rgb(171,217,233)"
          ],
          [
           0.8,
           "rgb(116,173,209)"
          ],
          [
           0.9,
           "rgb(69,117,180)"
          ],
          [
           1,
           "rgb(49,54,149)"
          ]
         ],
         "type": "surface",
         "x": [
          0,
          1,
          2,
          3,
          4
         ],
         "y": [
          "x",
          "y",
          "z"
         ],
         "z": [
          [
           1,
           2,
           3,
           4,
           5
          ],
          [
           10,
           20,
           30,
           20,
           10
          ],
          [
           500,
           400,
           300,
           200,
           100
          ]
         ]
        }
       ],
       "layout": {
        "legend": {
         "bgcolor": "#F5F6F9",
         "font": {
          "color": "#4D5663"
         }
        },
        "paper_bgcolor": "#F5F6F9",
        "plot_bgcolor": "#F5F6F9",
        "template": {
         "data": {
          "bar": [
           {
            "error_x": {
             "color": "#2a3f5f"
            },
            "error_y": {
             "color": "#2a3f5f"
            },
            "marker": {
             "line": {
              "color": "#E5ECF6",
              "width": 0.5
             },
             "pattern": {
              "fillmode": "overlay",
              "size": 10,
              "solidity": 0.2
             }
            },
            "type": "bar"
           }
          ],
          "barpolar": [
           {
            "marker": {
             "line": {
              "color": "#E5ECF6",
              "width": 0.5
             },
             "pattern": {
              "fillmode": "overlay",
              "size": 10,
              "solidity": 0.2
             }
            },
            "type": "barpolar"
           }
          ],
          "carpet": [
           {
            "aaxis": {
             "endlinecolor": "#2a3f5f",
             "gridcolor": "white",
             "linecolor": "white",
             "minorgridcolor": "white",
             "startlinecolor": "#2a3f5f"
            },
            "baxis": {
             "endlinecolor": "#2a3f5f",
             "gridcolor": "white",
             "linecolor": "white",
             "minorgridcolor": "white",
             "startlinecolor": "#2a3f5f"
            },
            "type": "carpet"
           }
          ],
          "choropleth": [
           {
            "colorbar": {
             "outlinewidth": 0,
             "ticks": ""
            },
            "type": "choropleth"
           }
          ],
          "contour": [
           {
            "colorbar": {
             "outlinewidth": 0,
             "ticks": ""
            },
            "colorscale": [
             [
              0,
              "#0d0887"
             ],
             [
              0.1111111111111111,
              "#46039f"
             ],
             [
              0.2222222222222222,
              "#7201a8"
             ],
             [
              0.3333333333333333,
              "#9c179e"
             ],
             [
              0.4444444444444444,
              "#bd3786"
             ],
             [
              0.5555555555555556,
              "#d8576b"
             ],
             [
              0.6666666666666666,
              "#ed7953"
             ],
             [
              0.7777777777777778,
              "#fb9f3a"
             ],
             [
              0.8888888888888888,
              "#fdca26"
             ],
             [
              1,
              "#f0f921"
             ]
            ],
            "type": "contour"
           }
          ],
          "contourcarpet": [
           {
            "colorbar": {
             "outlinewidth": 0,
             "ticks": ""
            },
            "type": "contourcarpet"
           }
          ],
          "heatmap": [
           {
            "colorbar": {
             "outlinewidth": 0,
             "ticks": ""
            },
            "colorscale": [
             [
              0,
              "#0d0887"
             ],
             [
              0.1111111111111111,
              "#46039f"
             ],
             [
              0.2222222222222222,
              "#7201a8"
             ],
             [
              0.3333333333333333,
              "#9c179e"
             ],
             [
              0.4444444444444444,
              "#bd3786"
             ],
             [
              0.5555555555555556,
              "#d8576b"
             ],
             [
              0.6666666666666666,
              "#ed7953"
             ],
             [
              0.7777777777777778,
              "#fb9f3a"
             ],
             [
              0.8888888888888888,
              "#fdca26"
             ],
             [
              1,
              "#f0f921"
             ]
            ],
            "type": "heatmap"
           }
          ],
          "heatmapgl": [
           {
            "colorbar": {
             "outlinewidth": 0,
             "ticks": ""
            },
            "colorscale": [
             [
              0,
              "#0d0887"
             ],
             [
              0.1111111111111111,
              "#46039f"
             ],
             [
              0.2222222222222222,
              "#7201a8"
             ],
             [
              0.3333333333333333,
              "#9c179e"
             ],
             [
              0.4444444444444444,
              "#bd3786"
             ],
             [
              0.5555555555555556,
              "#d8576b"
             ],
             [
              0.6666666666666666,
              "#ed7953"
             ],
             [
              0.7777777777777778,
              "#fb9f3a"
             ],
             [
              0.8888888888888888,
              "#fdca26"
             ],
             [
              1,
              "#f0f921"
             ]
            ],
            "type": "heatmapgl"
           }
          ],
          "histogram": [
           {
            "marker": {
             "pattern": {
              "fillmode": "overlay",
              "size": 10,
              "solidity": 0.2
             }
            },
            "type": "histogram"
           }
          ],
          "histogram2d": [
           {
            "colorbar": {
             "outlinewidth": 0,
             "ticks": ""
            },
            "colorscale": [
             [
              0,
              "#0d0887"
             ],
             [
              0.1111111111111111,
              "#46039f"
             ],
             [
              0.2222222222222222,
              "#7201a8"
             ],
             [
              0.3333333333333333,
              "#9c179e"
             ],
             [
              0.4444444444444444,
              "#bd3786"
             ],
             [
              0.5555555555555556,
              "#d8576b"
             ],
             [
              0.6666666666666666,
              "#ed7953"
             ],
             [
              0.7777777777777778,
              "#fb9f3a"
             ],
             [
              0.8888888888888888,
              "#fdca26"
             ],
             [
              1,
              "#f0f921"
             ]
            ],
            "type": "histogram2d"
           }
          ],
          "histogram2dcontour": [
           {
            "colorbar": {
             "outlinewidth": 0,
             "ticks": ""
            },
            "colorscale": [
             [
              0,
              "#0d0887"
             ],
             [
              0.1111111111111111,
              "#46039f"
             ],
             [
              0.2222222222222222,
              "#7201a8"
             ],
             [
              0.3333333333333333,
              "#9c179e"
             ],
             [
              0.4444444444444444,
              "#bd3786"
             ],
             [
              0.5555555555555556,
              "#d8576b"
             ],
             [
              0.6666666666666666,
              "#ed7953"
             ],
             [
              0.7777777777777778,
              "#fb9f3a"
             ],
             [
              0.8888888888888888,
              "#fdca26"
             ],
             [
              1,
              "#f0f921"
             ]
            ],
            "type": "histogram2dcontour"
           }
          ],
          "mesh3d": [
           {
            "colorbar": {
             "outlinewidth": 0,
             "ticks": ""
            },
            "type": "mesh3d"
           }
          ],
          "parcoords": [
           {
            "line": {
             "colorbar": {
              "outlinewidth": 0,
              "ticks": ""
             }
            },
            "type": "parcoords"
           }
          ],
          "pie": [
           {
            "automargin": true,
            "type": "pie"
           }
          ],
          "scatter": [
           {
            "fillpattern": {
             "fillmode": "overlay",
             "size": 10,
             "solidity": 0.2
            },
            "type": "scatter"
           }
          ],
          "scatter3d": [
           {
            "line": {
             "colorbar": {
              "outlinewidth": 0,
              "ticks": ""
             }
            },
            "marker": {
             "colorbar": {
              "outlinewidth": 0,
              "ticks": ""
             }
            },
            "type": "scatter3d"
           }
          ],
          "scattercarpet": [
           {
            "marker": {
             "colorbar": {
              "outlinewidth": 0,
              "ticks": ""
             }
            },
            "type": "scattercarpet"
           }
          ],
          "scattergeo": [
           {
            "marker": {
             "colorbar": {
              "outlinewidth": 0,
              "ticks": ""
             }
            },
            "type": "scattergeo"
           }
          ],
          "scattergl": [
           {
            "marker": {
             "colorbar": {
              "outlinewidth": 0,
              "ticks": ""
             }
            },
            "type": "scattergl"
           }
          ],
          "scattermapbox": [
           {
            "marker": {
             "colorbar": {
              "outlinewidth": 0,
              "ticks": ""
             }
            },
            "type": "scattermapbox"
           }
          ],
          "scatterpolar": [
           {
            "marker": {
             "colorbar": {
              "outlinewidth": 0,
              "ticks": ""
             }
            },
            "type": "scatterpolar"
           }
          ],
          "scatterpolargl": [
           {
            "marker": {
             "colorbar": {
              "outlinewidth": 0,
              "ticks": ""
             }
            },
            "type": "scatterpolargl"
           }
          ],
          "scatterternary": [
           {
            "marker": {
             "colorbar": {
              "outlinewidth": 0,
              "ticks": ""
             }
            },
            "type": "scatterternary"
           }
          ],
          "surface": [
           {
            "colorbar": {
             "outlinewidth": 0,
             "ticks": ""
            },
            "colorscale": [
             [
              0,
              "#0d0887"
             ],
             [
              0.1111111111111111,
              "#46039f"
             ],
             [
              0.2222222222222222,
              "#7201a8"
             ],
             [
              0.3333333333333333,
              "#9c179e"
             ],
             [
              0.4444444444444444,
              "#bd3786"
             ],
             [
              0.5555555555555556,
              "#d8576b"
             ],
             [
              0.6666666666666666,
              "#ed7953"
             ],
             [
              0.7777777777777778,
              "#fb9f3a"
             ],
             [
              0.8888888888888888,
              "#fdca26"
             ],
             [
              1,
              "#f0f921"
             ]
            ],
            "type": "surface"
           }
          ],
          "table": [
           {
            "cells": {
             "fill": {
              "color": "#EBF0F8"
             },
             "line": {
              "color": "white"
             }
            },
            "header": {
             "fill": {
              "color": "#C8D4E3"
             },
             "line": {
              "color": "white"
             }
            },
            "type": "table"
           }
          ]
         },
         "layout": {
          "annotationdefaults": {
           "arrowcolor": "#2a3f5f",
           "arrowhead": 0,
           "arrowwidth": 1
          },
          "autotypenumbers": "strict",
          "coloraxis": {
           "colorbar": {
            "outlinewidth": 0,
            "ticks": ""
           }
          },
          "colorscale": {
           "diverging": [
            [
             0,
             "#8e0152"
            ],
            [
             0.1,
             "#c51b7d"
            ],
            [
             0.2,
             "#de77ae"
            ],
            [
             0.3,
             "#f1b6da"
            ],
            [
             0.4,
             "#fde0ef"
            ],
            [
             0.5,
             "#f7f7f7"
            ],
            [
             0.6,
             "#e6f5d0"
            ],
            [
             0.7,
             "#b8e186"
            ],
            [
             0.8,
             "#7fbc41"
            ],
            [
             0.9,
             "#4d9221"
            ],
            [
             1,
             "#276419"
            ]
           ],
           "sequential": [
            [
             0,
             "#0d0887"
            ],
            [
             0.1111111111111111,
             "#46039f"
            ],
            [
             0.2222222222222222,
             "#7201a8"
            ],
            [
             0.3333333333333333,
             "#9c179e"
            ],
            [
             0.4444444444444444,
             "#bd3786"
            ],
            [
             0.5555555555555556,
             "#d8576b"
            ],
            [
             0.6666666666666666,
             "#ed7953"
            ],
            [
             0.7777777777777778,
             "#fb9f3a"
            ],
            [
             0.8888888888888888,
             "#fdca26"
            ],
            [
             1,
             "#f0f921"
            ]
           ],
           "sequentialminus": [
            [
             0,
             "#0d0887"
            ],
            [
             0.1111111111111111,
             "#46039f"
            ],
            [
             0.2222222222222222,
             "#7201a8"
            ],
            [
             0.3333333333333333,
             "#9c179e"
            ],
            [
             0.4444444444444444,
             "#bd3786"
            ],
            [
             0.5555555555555556,
             "#d8576b"
            ],
            [
             0.6666666666666666,
             "#ed7953"
            ],
            [
             0.7777777777777778,
             "#fb9f3a"
            ],
            [
             0.8888888888888888,
             "#fdca26"
            ],
            [
             1,
             "#f0f921"
            ]
           ]
          },
          "colorway": [
           "#636efa",
           "#EF553B",
           "#00cc96",
           "#ab63fa",
           "#FFA15A",
           "#19d3f3",
           "#FF6692",
           "#B6E880",
           "#FF97FF",
           "#FECB52"
          ],
          "font": {
           "color": "#2a3f5f"
          },
          "geo": {
           "bgcolor": "white",
           "lakecolor": "white",
           "landcolor": "#E5ECF6",
           "showlakes": true,
           "showland": true,
           "subunitcolor": "white"
          },
          "hoverlabel": {
           "align": "left"
          },
          "hovermode": "closest",
          "mapbox": {
           "style": "light"
          },
          "paper_bgcolor": "white",
          "plot_bgcolor": "#E5ECF6",
          "polar": {
           "angularaxis": {
            "gridcolor": "white",
            "linecolor": "white",
            "ticks": ""
           },
           "bgcolor": "#E5ECF6",
           "radialaxis": {
            "gridcolor": "white",
            "linecolor": "white",
            "ticks": ""
           }
          },
          "scene": {
           "xaxis": {
            "backgroundcolor": "#E5ECF6",
            "gridcolor": "white",
            "gridwidth": 2,
            "linecolor": "white",
            "showbackground": true,
            "ticks": "",
            "zerolinecolor": "white"
           },
           "yaxis": {
            "backgroundcolor": "#E5ECF6",
            "gridcolor": "white",
            "gridwidth": 2,
            "linecolor": "white",
            "showbackground": true,
            "ticks": "",
            "zerolinecolor": "white"
           },
           "zaxis": {
            "backgroundcolor": "#E5ECF6",
            "gridcolor": "white",
            "gridwidth": 2,
            "linecolor": "white",
            "showbackground": true,
            "ticks": "",
            "zerolinecolor": "white"
           }
          },
          "shapedefaults": {
           "line": {
            "color": "#2a3f5f"
           }
          },
          "ternary": {
           "aaxis": {
            "gridcolor": "white",
            "linecolor": "white",
            "ticks": ""
           },
           "baxis": {
            "gridcolor": "white",
            "linecolor": "white",
            "ticks": ""
           },
           "bgcolor": "#E5ECF6",
           "caxis": {
            "gridcolor": "white",
            "linecolor": "white",
            "ticks": ""
           }
          },
          "title": {
           "x": 0.05
          },
          "xaxis": {
           "automargin": true,
           "gridcolor": "white",
           "linecolor": "white",
           "ticks": "",
           "title": {
            "standoff": 15
           },
           "zerolinecolor": "white",
           "zerolinewidth": 2
          },
          "yaxis": {
           "automargin": true,
           "gridcolor": "white",
           "linecolor": "white",
           "ticks": "",
           "title": {
            "standoff": 15
           },
           "zerolinecolor": "white",
           "zerolinewidth": 2
          }
         }
        },
        "title": {
         "font": {
          "color": "#4D5663"
         }
        },
        "xaxis": {
         "gridcolor": "#E1E5ED",
         "showgrid": true,
         "tickfont": {
          "color": "#4D5663"
         },
         "title": {
          "font": {
           "color": "#4D5663"
          },
          "text": ""
         },
         "zerolinecolor": "#E1E5ED"
        },
        "yaxis": {
         "gridcolor": "#E1E5ED",
         "showgrid": true,
         "tickfont": {
          "color": "#4D5663"
         },
         "title": {
          "font": {
           "color": "#4D5663"
          },
          "text": ""
         },
         "zerolinecolor": "#E1E5ED"
        }
       }
      },
      "text/html": [
       "<div>                            <div id=\"a615e7cb-7b51-4eb7-a6c1-0e929b6fa61b\" class=\"plotly-graph-div\" style=\"height:525px; width:100%;\"></div>            <script type=\"text/javascript\">                require([\"plotly\"], function(Plotly) {                    window.PLOTLYENV=window.PLOTLYENV || {};\n",
       "                    window.PLOTLYENV.BASE_URL='https://plot.ly';                                    if (document.getElementById(\"a615e7cb-7b51-4eb7-a6c1-0e929b6fa61b\")) {                    Plotly.newPlot(                        \"a615e7cb-7b51-4eb7-a6c1-0e929b6fa61b\",                        [{\"colorscale\":[[0.0,\"rgb(165,0,38)\"],[0.1,\"rgb(215,48,39)\"],[0.2,\"rgb(244,109,67)\"],[0.3,\"rgb(253,174,97)\"],[0.4,\"rgb(254,224,144)\"],[0.5,\"rgb(255,255,191)\"],[0.6,\"rgb(224,243,248)\"],[0.7,\"rgb(171,217,233)\"],[0.8,\"rgb(116,173,209)\"],[0.9,\"rgb(69,117,180)\"],[1.0,\"rgb(49,54,149)\"]],\"x\":[0,1,2,3,4],\"y\":[\"x\",\"y\",\"z\"],\"z\":[[1,2,3,4,5],[10,20,30,20,10],[500,400,300,200,100]],\"type\":\"surface\"}],                        {\"legend\":{\"bgcolor\":\"#F5F6F9\",\"font\":{\"color\":\"#4D5663\"}},\"paper_bgcolor\":\"#F5F6F9\",\"plot_bgcolor\":\"#F5F6F9\",\"template\":{\"data\":{\"barpolar\":[{\"marker\":{\"line\":{\"color\":\"#E5ECF6\",\"width\":0.5},\"pattern\":{\"fillmode\":\"overlay\",\"size\":10,\"solidity\":0.2}},\"type\":\"barpolar\"}],\"bar\":[{\"error_x\":{\"color\":\"#2a3f5f\"},\"error_y\":{\"color\":\"#2a3f5f\"},\"marker\":{\"line\":{\"color\":\"#E5ECF6\",\"width\":0.5},\"pattern\":{\"fillmode\":\"overlay\",\"size\":10,\"solidity\":0.2}},\"type\":\"bar\"}],\"carpet\":[{\"aaxis\":{\"endlinecolor\":\"#2a3f5f\",\"gridcolor\":\"white\",\"linecolor\":\"white\",\"minorgridcolor\":\"white\",\"startlinecolor\":\"#2a3f5f\"},\"baxis\":{\"endlinecolor\":\"#2a3f5f\",\"gridcolor\":\"white\",\"linecolor\":\"white\",\"minorgridcolor\":\"white\",\"startlinecolor\":\"#2a3f5f\"},\"type\":\"carpet\"}],\"choropleth\":[{\"colorbar\":{\"outlinewidth\":0,\"ticks\":\"\"},\"type\":\"choropleth\"}],\"contourcarpet\":[{\"colorbar\":{\"outlinewidth\":0,\"ticks\":\"\"},\"type\":\"contourcarpet\"}],\"contour\":[{\"colorbar\":{\"outlinewidth\":0,\"ticks\":\"\"},\"colorscale\":[[0.0,\"#0d0887\"],[0.1111111111111111,\"#46039f\"],[0.2222222222222222,\"#7201a8\"],[0.3333333333333333,\"#9c179e\"],[0.4444444444444444,\"#bd3786\"],[0.5555555555555556,\"#d8576b\"],[0.6666666666666666,\"#ed7953\"],[0.7777777777777778,\"#fb9f3a\"],[0.8888888888888888,\"#fdca26\"],[1.0,\"#f0f921\"]],\"type\":\"contour\"}],\"heatmapgl\":[{\"colorbar\":{\"outlinewidth\":0,\"ticks\":\"\"},\"colorscale\":[[0.0,\"#0d0887\"],[0.1111111111111111,\"#46039f\"],[0.2222222222222222,\"#7201a8\"],[0.3333333333333333,\"#9c179e\"],[0.4444444444444444,\"#bd3786\"],[0.5555555555555556,\"#d8576b\"],[0.6666666666666666,\"#ed7953\"],[0.7777777777777778,\"#fb9f3a\"],[0.8888888888888888,\"#fdca26\"],[1.0,\"#f0f921\"]],\"type\":\"heatmapgl\"}],\"heatmap\":[{\"colorbar\":{\"outlinewidth\":0,\"ticks\":\"\"},\"colorscale\":[[0.0,\"#0d0887\"],[0.1111111111111111,\"#46039f\"],[0.2222222222222222,\"#7201a8\"],[0.3333333333333333,\"#9c179e\"],[0.4444444444444444,\"#bd3786\"],[0.5555555555555556,\"#d8576b\"],[0.6666666666666666,\"#ed7953\"],[0.7777777777777778,\"#fb9f3a\"],[0.8888888888888888,\"#fdca26\"],[1.0,\"#f0f921\"]],\"type\":\"heatmap\"}],\"histogram2dcontour\":[{\"colorbar\":{\"outlinewidth\":0,\"ticks\":\"\"},\"colorscale\":[[0.0,\"#0d0887\"],[0.1111111111111111,\"#46039f\"],[0.2222222222222222,\"#7201a8\"],[0.3333333333333333,\"#9c179e\"],[0.4444444444444444,\"#bd3786\"],[0.5555555555555556,\"#d8576b\"],[0.6666666666666666,\"#ed7953\"],[0.7777777777777778,\"#fb9f3a\"],[0.8888888888888888,\"#fdca26\"],[1.0,\"#f0f921\"]],\"type\":\"histogram2dcontour\"}],\"histogram2d\":[{\"colorbar\":{\"outlinewidth\":0,\"ticks\":\"\"},\"colorscale\":[[0.0,\"#0d0887\"],[0.1111111111111111,\"#46039f\"],[0.2222222222222222,\"#7201a8\"],[0.3333333333333333,\"#9c179e\"],[0.4444444444444444,\"#bd3786\"],[0.5555555555555556,\"#d8576b\"],[0.6666666666666666,\"#ed7953\"],[0.7777777777777778,\"#fb9f3a\"],[0.8888888888888888,\"#fdca26\"],[1.0,\"#f0f921\"]],\"type\":\"histogram2d\"}],\"histogram\":[{\"marker\":{\"pattern\":{\"fillmode\":\"overlay\",\"size\":10,\"solidity\":0.2}},\"type\":\"histogram\"}],\"mesh3d\":[{\"colorbar\":{\"outlinewidth\":0,\"ticks\":\"\"},\"type\":\"mesh3d\"}],\"parcoords\":[{\"line\":{\"colorbar\":{\"outlinewidth\":0,\"ticks\":\"\"}},\"type\":\"parcoords\"}],\"pie\":[{\"automargin\":true,\"type\":\"pie\"}],\"scatter3d\":[{\"line\":{\"colorbar\":{\"outlinewidth\":0,\"ticks\":\"\"}},\"marker\":{\"colorbar\":{\"outlinewidth\":0,\"ticks\":\"\"}},\"type\":\"scatter3d\"}],\"scattercarpet\":[{\"marker\":{\"colorbar\":{\"outlinewidth\":0,\"ticks\":\"\"}},\"type\":\"scattercarpet\"}],\"scattergeo\":[{\"marker\":{\"colorbar\":{\"outlinewidth\":0,\"ticks\":\"\"}},\"type\":\"scattergeo\"}],\"scattergl\":[{\"marker\":{\"colorbar\":{\"outlinewidth\":0,\"ticks\":\"\"}},\"type\":\"scattergl\"}],\"scattermapbox\":[{\"marker\":{\"colorbar\":{\"outlinewidth\":0,\"ticks\":\"\"}},\"type\":\"scattermapbox\"}],\"scatterpolargl\":[{\"marker\":{\"colorbar\":{\"outlinewidth\":0,\"ticks\":\"\"}},\"type\":\"scatterpolargl\"}],\"scatterpolar\":[{\"marker\":{\"colorbar\":{\"outlinewidth\":0,\"ticks\":\"\"}},\"type\":\"scatterpolar\"}],\"scatter\":[{\"fillpattern\":{\"fillmode\":\"overlay\",\"size\":10,\"solidity\":0.2},\"type\":\"scatter\"}],\"scatterternary\":[{\"marker\":{\"colorbar\":{\"outlinewidth\":0,\"ticks\":\"\"}},\"type\":\"scatterternary\"}],\"surface\":[{\"colorbar\":{\"outlinewidth\":0,\"ticks\":\"\"},\"colorscale\":[[0.0,\"#0d0887\"],[0.1111111111111111,\"#46039f\"],[0.2222222222222222,\"#7201a8\"],[0.3333333333333333,\"#9c179e\"],[0.4444444444444444,\"#bd3786\"],[0.5555555555555556,\"#d8576b\"],[0.6666666666666666,\"#ed7953\"],[0.7777777777777778,\"#fb9f3a\"],[0.8888888888888888,\"#fdca26\"],[1.0,\"#f0f921\"]],\"type\":\"surface\"}],\"table\":[{\"cells\":{\"fill\":{\"color\":\"#EBF0F8\"},\"line\":{\"color\":\"white\"}},\"header\":{\"fill\":{\"color\":\"#C8D4E3\"},\"line\":{\"color\":\"white\"}},\"type\":\"table\"}]},\"layout\":{\"annotationdefaults\":{\"arrowcolor\":\"#2a3f5f\",\"arrowhead\":0,\"arrowwidth\":1},\"autotypenumbers\":\"strict\",\"coloraxis\":{\"colorbar\":{\"outlinewidth\":0,\"ticks\":\"\"}},\"colorscale\":{\"diverging\":[[0,\"#8e0152\"],[0.1,\"#c51b7d\"],[0.2,\"#de77ae\"],[0.3,\"#f1b6da\"],[0.4,\"#fde0ef\"],[0.5,\"#f7f7f7\"],[0.6,\"#e6f5d0\"],[0.7,\"#b8e186\"],[0.8,\"#7fbc41\"],[0.9,\"#4d9221\"],[1,\"#276419\"]],\"sequential\":[[0.0,\"#0d0887\"],[0.1111111111111111,\"#46039f\"],[0.2222222222222222,\"#7201a8\"],[0.3333333333333333,\"#9c179e\"],[0.4444444444444444,\"#bd3786\"],[0.5555555555555556,\"#d8576b\"],[0.6666666666666666,\"#ed7953\"],[0.7777777777777778,\"#fb9f3a\"],[0.8888888888888888,\"#fdca26\"],[1.0,\"#f0f921\"]],\"sequentialminus\":[[0.0,\"#0d0887\"],[0.1111111111111111,\"#46039f\"],[0.2222222222222222,\"#7201a8\"],[0.3333333333333333,\"#9c179e\"],[0.4444444444444444,\"#bd3786\"],[0.5555555555555556,\"#d8576b\"],[0.6666666666666666,\"#ed7953\"],[0.7777777777777778,\"#fb9f3a\"],[0.8888888888888888,\"#fdca26\"],[1.0,\"#f0f921\"]]},\"colorway\":[\"#636efa\",\"#EF553B\",\"#00cc96\",\"#ab63fa\",\"#FFA15A\",\"#19d3f3\",\"#FF6692\",\"#B6E880\",\"#FF97FF\",\"#FECB52\"],\"font\":{\"color\":\"#2a3f5f\"},\"geo\":{\"bgcolor\":\"white\",\"lakecolor\":\"white\",\"landcolor\":\"#E5ECF6\",\"showlakes\":true,\"showland\":true,\"subunitcolor\":\"white\"},\"hoverlabel\":{\"align\":\"left\"},\"hovermode\":\"closest\",\"mapbox\":{\"style\":\"light\"},\"paper_bgcolor\":\"white\",\"plot_bgcolor\":\"#E5ECF6\",\"polar\":{\"angularaxis\":{\"gridcolor\":\"white\",\"linecolor\":\"white\",\"ticks\":\"\"},\"bgcolor\":\"#E5ECF6\",\"radialaxis\":{\"gridcolor\":\"white\",\"linecolor\":\"white\",\"ticks\":\"\"}},\"scene\":{\"xaxis\":{\"backgroundcolor\":\"#E5ECF6\",\"gridcolor\":\"white\",\"gridwidth\":2,\"linecolor\":\"white\",\"showbackground\":true,\"ticks\":\"\",\"zerolinecolor\":\"white\"},\"yaxis\":{\"backgroundcolor\":\"#E5ECF6\",\"gridcolor\":\"white\",\"gridwidth\":2,\"linecolor\":\"white\",\"showbackground\":true,\"ticks\":\"\",\"zerolinecolor\":\"white\"},\"zaxis\":{\"backgroundcolor\":\"#E5ECF6\",\"gridcolor\":\"white\",\"gridwidth\":2,\"linecolor\":\"white\",\"showbackground\":true,\"ticks\":\"\",\"zerolinecolor\":\"white\"}},\"shapedefaults\":{\"line\":{\"color\":\"#2a3f5f\"}},\"ternary\":{\"aaxis\":{\"gridcolor\":\"white\",\"linecolor\":\"white\",\"ticks\":\"\"},\"baxis\":{\"gridcolor\":\"white\",\"linecolor\":\"white\",\"ticks\":\"\"},\"bgcolor\":\"#E5ECF6\",\"caxis\":{\"gridcolor\":\"white\",\"linecolor\":\"white\",\"ticks\":\"\"}},\"title\":{\"x\":0.05},\"xaxis\":{\"automargin\":true,\"gridcolor\":\"white\",\"linecolor\":\"white\",\"ticks\":\"\",\"title\":{\"standoff\":15},\"zerolinecolor\":\"white\",\"zerolinewidth\":2},\"yaxis\":{\"automargin\":true,\"gridcolor\":\"white\",\"linecolor\":\"white\",\"ticks\":\"\",\"title\":{\"standoff\":15},\"zerolinecolor\":\"white\",\"zerolinewidth\":2}}},\"title\":{\"font\":{\"color\":\"#4D5663\"}},\"xaxis\":{\"gridcolor\":\"#E1E5ED\",\"showgrid\":true,\"tickfont\":{\"color\":\"#4D5663\"},\"title\":{\"font\":{\"color\":\"#4D5663\"},\"text\":\"\"},\"zerolinecolor\":\"#E1E5ED\"},\"yaxis\":{\"gridcolor\":\"#E1E5ED\",\"showgrid\":true,\"tickfont\":{\"color\":\"#4D5663\"},\"title\":{\"font\":{\"color\":\"#4D5663\"},\"text\":\"\"},\"zerolinecolor\":\"#E1E5ED\"}},                        {\"showLink\": true, \"linkText\": \"Export to plot.ly\", \"plotlyServerURL\": \"https://plot.ly\", \"responsive\": true}                    ).then(function(){\n",
       "                            \n",
       "var gd = document.getElementById('a615e7cb-7b51-4eb7-a6c1-0e929b6fa61b');\n",
       "var x = new MutationObserver(function (mutations, observer) {{\n",
       "        var display = window.getComputedStyle(gd).display;\n",
       "        if (!display || display === 'none') {{\n",
       "            console.log([gd, 'removed!']);\n",
       "            Plotly.purge(gd);\n",
       "            observer.disconnect();\n",
       "        }}\n",
       "}});\n",
       "\n",
       "// Listen for the removal of the full notebook cells\n",
       "var notebookContainer = gd.closest('#notebook-container');\n",
       "if (notebookContainer) {{\n",
       "    x.observe(notebookContainer, {childList: true});\n",
       "}}\n",
       "\n",
       "// Listen for the clearing of the current output cell\n",
       "var outputEl = gd.closest('.output');\n",
       "if (outputEl) {{\n",
       "    x.observe(outputEl, {childList: true});\n",
       "}}\n",
       "\n",
       "                        })                };                });            </script>        </div>"
      ]
     },
     "metadata": {},
     "output_type": "display_data"
    }
   ],
   "source": [
    "df3 = pd.DataFrame({'x':[1,2,3,4,5],'y':[10,20,30,20,10],'z':[500,400,300,200,100]})\n",
    "df3.iplot(kind='surface',colorscale='rdylbu')"
   ]
  },
  {
   "cell_type": "markdown",
   "metadata": {},
   "source": [
    "## Spread"
   ]
  },
  {
   "cell_type": "code",
   "execution_count": 50,
   "metadata": {},
   "outputs": [
    {
     "data": {
      "text/html": [
       "<div id=\"d77d91d4-36ef-4915-a84f-8e43772897cc\" style=\"height: 525px; width: 100%;\" class=\"plotly-graph-div\"></div><script type=\"text/javascript\">require([\"plotly\"], function(Plotly) { window.PLOTLYENV=window.PLOTLYENV || {};window.PLOTLYENV.BASE_URL=\"https://plot.ly\";Plotly.newPlot(\"d77d91d4-36ef-4915-a84f-8e43772897cc\", [{\"x\": [0, 1, 2, 3, 4, 5, 6, 7, 8, 9, 10, 11, 12, 13, 14, 15, 16, 17, 18, 19, 20, 21, 22, 23, 24, 25, 26, 27, 28, 29, 30, 31, 32, 33, 34, 35, 36, 37, 38, 39, 40, 41, 42, 43, 44, 45, 46, 47, 48, 49, 50, 51, 52, 53, 54, 55, 56, 57, 58, 59, 60, 61, 62, 63, 64, 65, 66, 67, 68, 69, 70, 71, 72, 73, 74, 75, 76, 77, 78, 79, 80, 81, 82, 83, 84, 85, 86, 87, 88, 89, 90, 91, 92, 93, 94, 95, 96, 97, 98, 99], \"text\": \"\", \"y\": [1.8787246669561561, 0.028733616663923985, -0.1587931161277573, -1.2219723462024636, 1.2531523973363488, 0.8312132082951045, 1.1740170898586173, -0.24393002059589958, -0.296966543277261, 0.7621695759158762, 0.04210347865555278, -0.7791970481917073, 0.3943032396655093, -1.0146190736152443, -0.4841710096782867, 0.5522466668361006, -2.77187556758784, -0.5181226698708166, -0.49722040792422156, -1.6534757596659548, -0.06027439377033132, 1.4769243769038323, 1.1796346669498379, -0.7816898015019265, 0.8630132212967984, 0.6590246731638996, -1.1013906677685679, -0.9446804895542242, -1.788022470413331, 0.8775002821729455, 0.3546715768521251, -0.16532125735222183, 1.8914747239632839, -1.1251772915449791, 0.8888981026894395, -0.6066117727706714, 0.8314777742724779, 0.3830457069359529, -0.937459527593053, -0.844561047334305, 1.1280232245052606, -1.640427972598561, 0.8971269652786067, 0.4848047458342485, 0.19373507090654035, -0.7387091317560727, -0.3566733282792827, -0.43158335134818315, -0.4899640124314907, 0.5488715658495908, 0.2821768987731658, -0.8832439438038343, 1.271863067044618, 0.10680856505919414, 0.8269478103679717, -0.03266751467505833, -0.34021520002722894, -0.6769186069469743, 0.7126188256918854, 1.8871150025438166, -0.06742662656190869, -1.4789736197389265, 0.346978601690099, -0.3757389938313092, 0.715285859520045, 1.5994858611908638, -0.3692558358591885, 0.13827360227735647, -0.40690530542342296, 0.636973800943974, 0.14658752987818605, -0.3949906255692418, 1.5076392623927681, -0.15486042602397807, 0.22159940179664614, -1.0878244818277978, -0.03354417910293162, 1.2258839316932069, -0.048951028800266715, -1.1089870994157809, 0.021452684803338333, 1.2548854256528554, -1.0913797662237141, -0.539059741192553, 0.6901269187662552, -1.4810451728120602, -0.8468654201203714, 0.3763927872506507, 0.8120568488462931, 0.0031767062628090745, 0.697742291538818, -0.7429703118062226, -0.842231117346612, -0.0666718362166121, 1.8829720647783421, 1.320112956074407, 0.42394324402947475, 0.466299928509142, 0.9415282138953815, -0.7707938096473991], \"mode\": \"lines\", \"line\": {\"dash\": \"solid\", \"width\": 1.3, \"color\": \"rgba(226, 74, 51, 1.0)\"}, \"type\": \"scatter\", \"name\": \"A\"}, {\"x\": [0, 1, 2, 3, 4, 5, 6, 7, 8, 9, 10, 11, 12, 13, 14, 15, 16, 17, 18, 19, 20, 21, 22, 23, 24, 25, 26, 27, 28, 29, 30, 31, 32, 33, 34, 35, 36, 37, 38, 39, 40, 41, 42, 43, 44, 45, 46, 47, 48, 49, 50, 51, 52, 53, 54, 55, 56, 57, 58, 59, 60, 61, 62, 63, 64, 65, 66, 67, 68, 69, 70, 71, 72, 73, 74, 75, 76, 77, 78, 79, 80, 81, 82, 83, 84, 85, 86, 87, 88, 89, 90, 91, 92, 93, 94, 95, 96, 97, 98, 99], \"text\": \"\", \"y\": [0.6887194376286498, 0.1040535242504629, 0.38792642015276635, 1.3934230260395444, -0.5375976688704683, -1.1493608786796612, 0.01342890849383506, -0.47231861415738574, 0.24793169472844812, -0.6232083144122951, -1.2121596694710122, -2.4542371001007464, 0.29855785553142483, 1.2997620162676498, 0.9168047366909585, -0.41040614900130634, 1.3147531456519106, -0.12455263569370086, 0.9366143523054554, 0.23573463729990726, -0.8244746170540388, -0.32685668230128845, 1.501781503113865, 0.9830012153240587, 0.6020112305361386, 0.3688304138086671, 1.0090827131320237, -0.5811720111587422, 0.0512884505619472, -1.6917643070157176, -0.25322144257612356, -0.2937357494665306, 0.7368726362448421, 0.5763424997076779, 0.16472110066593693, -0.374254076023172, 1.1280304809680426, 0.6455371548668151, -0.18000225503004413, -0.9128911232313937, -0.5670695205365133, 0.16138491502455474, 1.2118733837294762, 0.4444506280024997, 0.6834767601409083, 1.8020727241195935, 2.4230878273709062, 0.27701889696287213, 1.4067122280705426, -0.33728919328412016, 0.5154870435338148, 0.7751019637809062, 1.400130435077449, 0.8276591566099151, 1.1268119555303864, 0.7016118169589718, 0.476169530704683, -0.5261125753709399, -1.2129692872143456, 0.6126338497954396, 1.5825905557818922, -0.8173630045970658, 0.1075602248072928, 1.2716988894407462, -0.15615948990467535, -0.2968566839654392, 1.7204934641303604, -0.869876624137026, 0.28935077735906545, -1.2052876742800458, -0.263979336251353, -0.02815365780209253, -0.04062347728476395, 0.943760296027789, -1.7797735906553165, 0.4485755919087686, 0.14778332986993048, 0.5305019463041807, 1.6359913516932165, -0.3437427119285297, 1.9109783094330681, 0.6818924480193401, -0.42214824562337705, 0.8935317581184008, 1.2587495288352297, -0.5992845246668753, 2.7851237345776405, -1.5158096238899554, 0.04177421570103183, 0.48980398157362903, 1.063643861677667, -0.8486329162129157, -1.86936339853131, 0.24761777046722996, 1.290606988097702, 0.17046338292604407, 0.14181179559597848, 0.6505415244850333, -2.5850581533594545, -0.30813091794721653], \"mode\": \"lines\", \"line\": {\"dash\": \"solid\", \"width\": 1.3, \"color\": \"rgba(62, 111, 176, 1.0)\"}, \"type\": \"scatter\", \"name\": \"B\"}, {\"yaxis\": \"y2\", \"mode\": \"lines\", \"xaxis\": \"x2\", \"connectgaps\": false, \"x\": [0, 1, 2, 3, 4, 5, 6, 7, 8, 9, 10, 11, 12, 13, 14, 15, 16, 17, 18, 19, 20, 21, 22, 23, 24, 25, 26, 27, 28, 29, 30, 31, 32, 33, 34, 35, 36, 37, 38, 39, 40, 41, 42, 43, 44, 45, 46, 47, 48, 49, 50, 51, 52, 53, 54, 55, 56, 57, 58, 59, 60, 61, 62, 63, 64, 65, 66, 67, 68, 69, 70, 71, 72, 73, 74, 75, 76, 77, 78, 79, 80, 81, 82, 83, 84, 85, 86, 87, 88, 89, 90, 91, 92, 93, 94, 95, 96, 97, 98, 99], \"showlegend\": false, \"y\": [\"\", -0.0753199075865389, -0.5467195362805236, -2.6153953722420082, \"\", \"\", \"\", \"\", -0.5448982380057091, \"\", \"\", \"\", \"\", -2.314381089882894, -1.4009757463692452, \"\", -4.086628713239751, -0.3935700341771157, -1.433834760229677, -1.889210396965862, \"\", \"\", -0.3221468361640272, -1.764691016825985, \"\", \"\", -2.1104733809005918, -0.36350847839548206, -1.8393109209752783, \"\", \"\", \"\", \"\", -1.701519791252657, \"\", -0.23235769674749934, -0.29655270669556466, -0.26249144793086215, -0.7574572725630089, \"\", \"\", -1.8018128876231159, -0.3147464184508695, \"\", -0.48974168923436795, -2.5407818558756663, -2.779761155650189, -0.7086022483110552, -1.8966762405020332, \"\", -0.23331014476064899, -1.6583459075847404, -0.128267368032831, -0.720850591550721, -0.29986414516241466, -0.7342793316340301, -0.8163847307319119, -0.15080603157603434, \"\", \"\", -1.650017182343801, -0.6616106151418607, \"\", -1.6474378832720553, \"\", \"\", -2.089749299989549, \"\", -0.6962560827824884, \"\", \"\", -0.36683696776714925, \"\", -1.098620722051767, \"\", -1.5364000737365664, -0.1813275089728621, \"\", -1.6849423804934833, -0.7652443874872512, -1.8895256246297298, \"\", -0.6692315206003371, -1.4325914993109539, -0.5686226100689745, -0.8817606481451848, -3.6319891546980116, \"\", \"\", -0.48662727531081995, -0.36590157013884894, \"\", \"\", -0.3142896066838421, \"\", \"\", \"\", -0.18424159597589135, \"\", -0.46266289170018254], \"type\": \"scatter\", \"fill\": \"tozeroy\", \"line\": {\"dash\": \"solid\", \"width\": 0.5, \"color\": \"red\"}, \"name\": \"Spread\"}, {\"yaxis\": \"y2\", \"mode\": \"lines\", \"xaxis\": \"x2\", \"connectgaps\": false, \"x\": [0, 1, 2, 3, 4, 5, 6, 7, 8, 9, 10, 11, 12, 13, 14, 15, 16, 17, 18, 19, 20, 21, 22, 23, 24, 25, 26, 27, 28, 29, 30, 31, 32, 33, 34, 35, 36, 37, 38, 39, 40, 41, 42, 43, 44, 45, 46, 47, 48, 49, 50, 51, 52, 53, 54, 55, 56, 57, 58, 59, 60, 61, 62, 63, 64, 65, 66, 67, 68, 69, 70, 71, 72, 73, 74, 75, 76, 77, 78, 79, 80, 81, 82, 83, 84, 85, 86, 87, 88, 89, 90, 91, 92, 93, 94, 95, 96, 97, 98, 99], \"showlegend\": false, \"y\": [1.1900052293275063, \"\", \"\", \"\", 1.790750066206817, 1.9805740869747657, 1.1605881813647823, 0.22838859356148616, \"\", 1.3853778903281713, 1.254263148126565, 1.675040051909039, 0.09574538413408445, \"\", \"\", 0.9626528158374069, \"\", \"\", \"\", \"\", 0.7642002232837075, 1.8037810592051207, \"\", \"\", 0.2610019907606598, 0.29019425935523246, \"\", \"\", \"\", 2.569264589188663, 0.6078930194282486, 0.12841449211430875, 1.1546020877184417, \"\", 0.7241770020235025, \"\", \"\", \"\", \"\", 0.06833007589708862, 1.6950927450417739, \"\", \"\", 0.040354117831748804, \"\", \"\", \"\", \"\", \"\", 0.8861607591337111, \"\", \"\", \"\", \"\", \"\", \"\", \"\", \"\", 1.9255881129062309, 1.274481152748377, \"\", \"\", 0.23941837688280618, \"\", 0.8714453494247203, 1.896342545156303, \"\", 1.0081502264143825, \"\", 1.8422614752240198, 0.4105668661295391, \"\", 1.5482627396775321, \"\", 2.0013729924519628, \"\", \"\", 0.6953819853890262, \"\", \"\", \"\", 0.5729929776335153, \"\", \"\", \"\", \"\", \"\", 1.8922024111406062, 0.7702826331452614, \"\", \"\", 0.10566260440669306, 1.0271322811846981, \"\", 0.5923650766806401, 1.149649573148363, 0.28213144843349625, \"\", 3.5265863672548363, \"\"], \"type\": \"scatter\", \"fill\": \"tozeroy\", \"line\": {\"dash\": \"solid\", \"width\": 0.5, \"color\": \"green\"}, \"name\": \"Spread\"}], {\"legend\": {\"font\": {\"color\": \"#666666\"}, \"bgcolor\": \"#FFFFFF\"}, \"titlefont\": {\"color\": \"#151516\"}, \"xaxis1\": {\"titlefont\": {\"color\": \"#666666\"}, \"zerolinecolor\": \"#F6F6F6\", \"title\": \"\", \"tickfont\": {\"color\": \"#666666\"}, \"showgrid\": true, \"gridcolor\": \"#F6F6F6\"}, \"paper_bgcolor\": \"#FFFFFF\", \"yaxis2\": {\"titlefont\": {\"color\": \"#666666\"}, \"zerolinecolor\": \"#F6F6F6\", \"title\": \"Spread\", \"tickfont\": {\"color\": \"#666666\"}, \"showgrid\": true, \"domain\": [0, 0.25], \"gridcolor\": \"#F6F6F6\"}, \"plot_bgcolor\": \"#E5E5E5\", \"hovermode\": \"x\", \"xaxis2\": {\"titlefont\": {\"color\": \"#666666\"}, \"zerolinecolor\": \"#F6F6F6\", \"showgrid\": true, \"title\": \"\", \"anchor\": \"y2\", \"tickfont\": {\"color\": \"#666666\"}, \"showticklabels\": false, \"gridcolor\": \"#F6F6F6\"}, \"yaxis1\": {\"titlefont\": {\"color\": \"#666666\"}, \"zerolinecolor\": \"#F6F6F6\", \"title\": \"\", \"tickfont\": {\"color\": \"#666666\"}, \"showgrid\": true, \"domain\": [0.3, 1], \"gridcolor\": \"#F6F6F6\"}}, {\"showLink\": true, \"linkText\": \"Export to plot.ly\"})});</script>"
      ],
      "text/plain": [
       "<IPython.core.display.HTML object>"
      ]
     },
     "metadata": {},
     "output_type": "display_data"
    }
   ],
   "source": [
    "df[['A','B']].iplot(kind='spread')"
   ]
  },
  {
   "cell_type": "markdown",
   "metadata": {},
   "source": [
    "## histogram"
   ]
  },
  {
   "cell_type": "code",
   "execution_count": 46,
   "metadata": {},
   "outputs": [
    {
     "data": {
      "application/vnd.plotly.v1+json": {
       "config": {
        "linkText": "Export to plot.ly",
        "plotlyServerURL": "https://plot.ly",
        "showLink": true
       },
       "data": [
        {
         "histfunc": "count",
         "histnorm": "",
         "marker": {
          "color": "rgba(255, 153, 51, 1.0)",
          "line": {
           "color": "#4D5663",
           "width": 1.3
          }
         },
         "name": "A",
         "nbinsx": 25,
         "opacity": 0.8,
         "orientation": "v",
         "type": "histogram",
         "x": [
          0.9214764218981654,
          0.9959423769262518,
          -1.3172230483026206,
          0.5407245812119383,
          0.642092394587669,
          -0.30864026929741556,
          -0.5064444603327013,
          -0.5082815706886411,
          1.5678242419240762,
          -0.5914735326347423,
          -1.7445375813070596,
          -0.8511532090360143,
          -0.30766078290663085,
          1.5312966921963567,
          0.58170307007244,
          0.7320952946850469,
          0.3738115273086843,
          1.0477262234425586,
          0.32586248987629135,
          0.7806172065163496,
          -1.5995344740588855,
          2.023197403454082,
          2.402146094037926,
          -0.14741254282516394,
          -1.0067375200215045,
          -1.1891762623742206,
          0.12349188869339653,
          0.700258798909914,
          1.413176658445167,
          1.3420667334049952,
          -0.8342798273525154,
          0.025666334238967782,
          -0.24069702509724686,
          0.21364229057549278,
          -1.4426144467776687,
          -0.08932745930767785,
          -0.5284704942944856,
          1.6058386748639275,
          -0.9387770840200482,
          1.2872196386808337,
          -0.19202162275969953,
          0.38100206767575034,
          1.18575609626376,
          0.5553161661699734,
          0.24115791611163684,
          1.4969203576631427,
          -0.5634481211552631,
          2.3703829812061907,
          1.767720902380606,
          0.28017710804105206,
          0.49646553023790985,
          -0.9360754821689791,
          0.5869592300176261,
          -0.09093762307121381,
          1.243246510213567,
          -0.13893385760855262,
          0.7044853625728603,
          -1.1561576840919168,
          -0.7579595928722608,
          -0.21471118458934224,
          0.9257381946080985,
          0.9766127047858868,
          0.6098074478067186,
          1.2146699177361575,
          -0.5123135622157158,
          0.4146388607013162,
          0.4128765741740123,
          -0.47478297707165257,
          -1.3107320275718506,
          -2.0141388970915552,
          0.2149067903001285,
          -0.4501277888894486,
          0.7373901809780066,
          0.6883782375334397,
          -1.0147904664394065,
          0.42183307829222266,
          0.19307449546973163,
          -0.1352813133812439,
          -0.9985451716644858,
          0.21851619701166838,
          0.04588262391096019,
          -0.710749838574289,
          -1.1436647243076707,
          2.0431288115605994,
          0.6826865242180874,
          2.1521093097078667,
          -0.9855146625140069,
          -0.5688666413452645,
          0.7891903836062417,
          -0.9964714269602141,
          -1.528259272876875,
          -0.3176272610541392,
          1.122088699841059,
          0.37043387975814307,
          -2.0079156864099224,
          0.5474650843712826,
          -0.8485065697644134,
          1.207729628300678,
          1.5330545394715986,
          0.7406995419159385
         ]
        },
        {
         "histfunc": "count",
         "histnorm": "",
         "marker": {
          "color": "rgba(55, 128, 191, 1.0)",
          "line": {
           "color": "#4D5663",
           "width": 1.3
          }
         },
         "name": "B",
         "nbinsx": 25,
         "opacity": 0.8,
         "orientation": "v",
         "type": "histogram",
         "x": [
          -0.7644080455499217,
          1.4903826348831475,
          1.7753545095320915,
          -0.21941143583926614,
          1.490906394340638,
          0.05073007190325578,
          0.12891772924536005,
          0.9806341778768883,
          -1.4661106752532236,
          -1.8313822255569998,
          0.47711893311476583,
          0.3131582522918956,
          -1.4876819494001086,
          0.4750270444642189,
          2.0066305754796363,
          -1.5746220778422455,
          0.8510602760662758,
          0.5719808271700746,
          0.6086311492941431,
          -0.21401882438581846,
          -0.008657512498816817,
          0.6462715111133875,
          0.4657825991101462,
          -0.18737563711800978,
          0.16102303677942756,
          -0.3795194564004293,
          0.8805971750184391,
          -1.983928310036097,
          0.1931908606848667,
          -0.573221545296363,
          -0.7290244844446884,
          1.2128004880039103,
          0.4698273138772131,
          0.048029218692651005,
          0.4695259557613381,
          -0.8317369219897317,
          0.5633419089126847,
          -0.8864010907405202,
          -2.641968777183869,
          0.3958577374625747,
          0.5186893701304792,
          1.2774497848166861,
          -0.8941640946451048,
          -1.030456318697221,
          -0.9476122545711053,
          -0.2215741965974773,
          -0.33168783533905394,
          0.2933464634639469,
          1.1867330131865892,
          0.8040438563800378,
          -1.1980813882327417,
          0.8811886381415173,
          -0.24527772072678253,
          -0.6047611251358266,
          0.6776159331532022,
          0.2953541950827958,
          -2.3542882896518726,
          0.7294238680285776,
          -0.806114640441142,
          -0.14848521420104727,
          -0.25456290617086313,
          0.3185997119934261,
          -0.3232354568659813,
          -0.11591756327650839,
          0.45483205884065314,
          0.4621990285026095,
          1.472241567653293,
          0.27327614131344097,
          -0.8793666301201867,
          -0.24006525086929933,
          -0.5416831198154325,
          -0.07269629668585165,
          -0.9455796443367955,
          -0.7776122374725006,
          -0.9957952145034031,
          -1.1588967154402783,
          -0.5692902124415858,
          -0.5048771831228177,
          0.6434105582341395,
          -0.8902449420628814,
          -1.3944901166622579,
          0.019674051335566385,
          0.34807679578906436,
          1.9174342520796577,
          -0.40825511799886244,
          1.0078061832304828,
          -0.3375270586616938,
          1.854701379945328,
          -1.3545874562375024,
          1.5237278750361651,
          -0.20114573136672684,
          2.493310901723775,
          0.2825786235371873,
          -0.5844043067849404,
          0.031369299183915185,
          0.6170880343815135,
          -0.867010872289918,
          -0.435178928798219,
          1.3699292017692202,
          -0.41248911766088653
         ]
        },
        {
         "histfunc": "count",
         "histnorm": "",
         "marker": {
          "color": "rgba(50, 171, 96, 1.0)",
          "line": {
           "color": "#4D5663",
           "width": 1.3
          }
         },
         "name": "C",
         "nbinsx": 25,
         "opacity": 0.8,
         "orientation": "v",
         "type": "histogram",
         "x": [
          0.6795724814774444,
          -0.6460997721147319,
          -0.872278059379454,
          0.8445837428459273,
          -0.8552802771752362,
          1.8529058485348904,
          -0.18992912096939918,
          0.1952167106501059,
          -0.03365206535698738,
          -1.0486226033273647,
          0.46852600909653147,
          -1.3480277868094745,
          -0.36676779335840454,
          -1.2051081750516717,
          -0.878006821054059,
          -0.248851717571586,
          0.44866791095860764,
          -0.32621017728314006,
          0.0720014472126796,
          -0.27332706252766387,
          0.9275892098481517,
          -0.05041755675232206,
          -0.299112030812001,
          -0.5464282421876427,
          0.05709336892023219,
          0.42031546401257247,
          -0.10922724924096787,
          -0.27789067577218984,
          1.6827867476683023,
          0.9433929957851765,
          -0.7342304224911266,
          1.2517899494323421,
          -0.6668099063830136,
          1.3176312954632365,
          -1.5458781800374646,
          -0.7758768096753119,
          -0.48992377954089095,
          0.7860417972491432,
          0.7419036121005584,
          -0.22716702154928284,
          -0.7898817008291449,
          0.036037543848854194,
          0.20141941131199312,
          -2.922271879680576,
          0.6071302979753105,
          0.42931537767202343,
          -1.4383044766491175,
          1.326005237430795,
          1.4303550761184916,
          0.2993658674050363,
          0.20641020960412695,
          1.0618582648755068,
          1.177406936912996,
          0.6672282185643851,
          0.43211285478633854,
          -0.0027378903338220136,
          -1.7887779143677585,
          -0.17518468360779257,
          1.072230904277647,
          0.298516365498507,
          1.750739744536,
          -0.20551624792022177,
          0.4855739222275755,
          -0.8800271571126488,
          0.42804065243412603,
          -0.49974463942008956,
          -0.23931257483586094,
          -0.4844114158946375,
          -0.9115753487650472,
          -0.7038403806153364,
          0.8750361276860149,
          -0.8962732546705771,
          -1.2585615241460633,
          0.5660219219683313,
          -0.9877464756917634,
          1.4420949148229871,
          0.7868510373762299,
          0.9662067703590375,
          -1.0827669346089068,
          0.7023264106022004,
          -0.7619576957811065,
          1.2825947596649692,
          0.39020275774922347,
          -1.2412087902511584,
          2.152321868418625,
          0.4455851210166095,
          -1.2042200645649912,
          -0.540354136444607,
          0.7775003839768371,
          0.006352214567118267,
          0.05346462690416357,
          3.84862503416088,
          1.5626724453880994,
          -0.4242722172567385,
          -1.1710439589676207,
          -1.2427682169121674,
          1.0073725378331815,
          -0.5011740093861006,
          0.7522578523638134,
          0.5871976486818108
         ]
        },
        {
         "histfunc": "count",
         "histnorm": "",
         "marker": {
          "color": "rgba(128, 0, 128, 1.0)",
          "line": {
           "color": "#4D5663",
           "width": 1.3
          }
         },
         "name": "D",
         "nbinsx": 25,
         "opacity": 0.8,
         "orientation": "v",
         "type": "histogram",
         "x": [
          -0.614146173722016,
          -1.0190828297679106,
          -2.111377681769523,
          2.08053019500468,
          -0.2097146138362075,
          -0.5682627462885483,
          0.52176688437635,
          0.5538748722665523,
          0.028923374601988825,
          -0.25310284835559693,
          0.2752446541171908,
          -0.00109620500030881,
          0.3323924381109328,
          0.2030504714395166,
          -0.14685052565543058,
          -0.42788123202001177,
          0.06438256129938687,
          -0.1393077096037046,
          -1.3623823995239333,
          -0.7786870458036529,
          0.0700189755016825,
          0.13692430703896485,
          0.06265196058240893,
          1.704737013294724,
          1.216163095309054,
          -1.3776887648592697,
          0.3035737256786318,
          -0.4732386701099062,
          -1.6158746589170325,
          -0.026025501455843255,
          -0.6746989678986696,
          -0.47986538924502004,
          -1.297947136875073,
          -0.567996382492372,
          -0.2043026276237869,
          0.2355018756607815,
          0.9112120145875349,
          1.2440646505577848,
          0.035846813228632854,
          -0.2154305941161974,
          -0.7529830037111879,
          -0.15875449783838746,
          0.3840348535149428,
          -0.33258002876557585,
          0.10333216991541538,
          -0.278928723638768,
          0.783526246110407,
          -0.654843645224031,
          -0.33381457737032594,
          -0.6810930436711846,
          1.4960446920862744,
          -0.6082583910850962,
          1.066423386185219,
          0.49672756851500294,
          -0.19083968110908212,
          -1.0815026573301187,
          -0.13321264599098848,
          0.259585364619512,
          0.2469479771290042,
          -0.7188419993682617,
          0.7396086276522115,
          -1.1452882053556626,
          0.6268217050102438,
          0.8667170502097167,
          0.9846130921657613,
          0.2286370774357785,
          1.6507016540936037,
          0.2115495519270981,
          0.6837435620451535,
          0.6215635116945479,
          0.23825448149694864,
          -0.7170256791533522,
          1.431376230675145,
          -0.27803042997913113,
          -0.7168614340434113,
          -0.41935503551926223,
          1.1052059444808846,
          0.35168932675090875,
          -0.9911390030962802,
          -0.28071075307792015,
          -0.7151084960595813,
          -0.3604187933023409,
          -1.4068643484778616,
          0.8053573945395175,
          -0.7071401343757189,
          -2.206578321394946,
          0.8588712481107954,
          0.8507948393877712,
          0.2625178022886676,
          1.676452136815169,
          1.065912560596994,
          -2.0916177121211197,
          0.7768399017262884,
          -2.2777100020351395,
          -2.225551486781593,
          1.68291193521316,
          1.361271164025055,
          0.29228318326117503,
          0.3155080934955593,
          -0.3587963063166347
         ]
        }
       ],
       "layout": {
        "barmode": "overlay",
        "legend": {
         "bgcolor": "#F5F6F9",
         "font": {
          "color": "#4D5663"
         }
        },
        "paper_bgcolor": "#F5F6F9",
        "plot_bgcolor": "#F5F6F9",
        "template": {
         "data": {
          "bar": [
           {
            "error_x": {
             "color": "#2a3f5f"
            },
            "error_y": {
             "color": "#2a3f5f"
            },
            "marker": {
             "line": {
              "color": "#E5ECF6",
              "width": 0.5
             },
             "pattern": {
              "fillmode": "overlay",
              "size": 10,
              "solidity": 0.2
             }
            },
            "type": "bar"
           }
          ],
          "barpolar": [
           {
            "marker": {
             "line": {
              "color": "#E5ECF6",
              "width": 0.5
             },
             "pattern": {
              "fillmode": "overlay",
              "size": 10,
              "solidity": 0.2
             }
            },
            "type": "barpolar"
           }
          ],
          "carpet": [
           {
            "aaxis": {
             "endlinecolor": "#2a3f5f",
             "gridcolor": "white",
             "linecolor": "white",
             "minorgridcolor": "white",
             "startlinecolor": "#2a3f5f"
            },
            "baxis": {
             "endlinecolor": "#2a3f5f",
             "gridcolor": "white",
             "linecolor": "white",
             "minorgridcolor": "white",
             "startlinecolor": "#2a3f5f"
            },
            "type": "carpet"
           }
          ],
          "choropleth": [
           {
            "colorbar": {
             "outlinewidth": 0,
             "ticks": ""
            },
            "type": "choropleth"
           }
          ],
          "contour": [
           {
            "colorbar": {
             "outlinewidth": 0,
             "ticks": ""
            },
            "colorscale": [
             [
              0,
              "#0d0887"
             ],
             [
              0.1111111111111111,
              "#46039f"
             ],
             [
              0.2222222222222222,
              "#7201a8"
             ],
             [
              0.3333333333333333,
              "#9c179e"
             ],
             [
              0.4444444444444444,
              "#bd3786"
             ],
             [
              0.5555555555555556,
              "#d8576b"
             ],
             [
              0.6666666666666666,
              "#ed7953"
             ],
             [
              0.7777777777777778,
              "#fb9f3a"
             ],
             [
              0.8888888888888888,
              "#fdca26"
             ],
             [
              1,
              "#f0f921"
             ]
            ],
            "type": "contour"
           }
          ],
          "contourcarpet": [
           {
            "colorbar": {
             "outlinewidth": 0,
             "ticks": ""
            },
            "type": "contourcarpet"
           }
          ],
          "heatmap": [
           {
            "colorbar": {
             "outlinewidth": 0,
             "ticks": ""
            },
            "colorscale": [
             [
              0,
              "#0d0887"
             ],
             [
              0.1111111111111111,
              "#46039f"
             ],
             [
              0.2222222222222222,
              "#7201a8"
             ],
             [
              0.3333333333333333,
              "#9c179e"
             ],
             [
              0.4444444444444444,
              "#bd3786"
             ],
             [
              0.5555555555555556,
              "#d8576b"
             ],
             [
              0.6666666666666666,
              "#ed7953"
             ],
             [
              0.7777777777777778,
              "#fb9f3a"
             ],
             [
              0.8888888888888888,
              "#fdca26"
             ],
             [
              1,
              "#f0f921"
             ]
            ],
            "type": "heatmap"
           }
          ],
          "heatmapgl": [
           {
            "colorbar": {
             "outlinewidth": 0,
             "ticks": ""
            },
            "colorscale": [
             [
              0,
              "#0d0887"
             ],
             [
              0.1111111111111111,
              "#46039f"
             ],
             [
              0.2222222222222222,
              "#7201a8"
             ],
             [
              0.3333333333333333,
              "#9c179e"
             ],
             [
              0.4444444444444444,
              "#bd3786"
             ],
             [
              0.5555555555555556,
              "#d8576b"
             ],
             [
              0.6666666666666666,
              "#ed7953"
             ],
             [
              0.7777777777777778,
              "#fb9f3a"
             ],
             [
              0.8888888888888888,
              "#fdca26"
             ],
             [
              1,
              "#f0f921"
             ]
            ],
            "type": "heatmapgl"
           }
          ],
          "histogram": [
           {
            "marker": {
             "pattern": {
              "fillmode": "overlay",
              "size": 10,
              "solidity": 0.2
             }
            },
            "type": "histogram"
           }
          ],
          "histogram2d": [
           {
            "colorbar": {
             "outlinewidth": 0,
             "ticks": ""
            },
            "colorscale": [
             [
              0,
              "#0d0887"
             ],
             [
              0.1111111111111111,
              "#46039f"
             ],
             [
              0.2222222222222222,
              "#7201a8"
             ],
             [
              0.3333333333333333,
              "#9c179e"
             ],
             [
              0.4444444444444444,
              "#bd3786"
             ],
             [
              0.5555555555555556,
              "#d8576b"
             ],
             [
              0.6666666666666666,
              "#ed7953"
             ],
             [
              0.7777777777777778,
              "#fb9f3a"
             ],
             [
              0.8888888888888888,
              "#fdca26"
             ],
             [
              1,
              "#f0f921"
             ]
            ],
            "type": "histogram2d"
           }
          ],
          "histogram2dcontour": [
           {
            "colorbar": {
             "outlinewidth": 0,
             "ticks": ""
            },
            "colorscale": [
             [
              0,
              "#0d0887"
             ],
             [
              0.1111111111111111,
              "#46039f"
             ],
             [
              0.2222222222222222,
              "#7201a8"
             ],
             [
              0.3333333333333333,
              "#9c179e"
             ],
             [
              0.4444444444444444,
              "#bd3786"
             ],
             [
              0.5555555555555556,
              "#d8576b"
             ],
             [
              0.6666666666666666,
              "#ed7953"
             ],
             [
              0.7777777777777778,
              "#fb9f3a"
             ],
             [
              0.8888888888888888,
              "#fdca26"
             ],
             [
              1,
              "#f0f921"
             ]
            ],
            "type": "histogram2dcontour"
           }
          ],
          "mesh3d": [
           {
            "colorbar": {
             "outlinewidth": 0,
             "ticks": ""
            },
            "type": "mesh3d"
           }
          ],
          "parcoords": [
           {
            "line": {
             "colorbar": {
              "outlinewidth": 0,
              "ticks": ""
             }
            },
            "type": "parcoords"
           }
          ],
          "pie": [
           {
            "automargin": true,
            "type": "pie"
           }
          ],
          "scatter": [
           {
            "fillpattern": {
             "fillmode": "overlay",
             "size": 10,
             "solidity": 0.2
            },
            "type": "scatter"
           }
          ],
          "scatter3d": [
           {
            "line": {
             "colorbar": {
              "outlinewidth": 0,
              "ticks": ""
             }
            },
            "marker": {
             "colorbar": {
              "outlinewidth": 0,
              "ticks": ""
             }
            },
            "type": "scatter3d"
           }
          ],
          "scattercarpet": [
           {
            "marker": {
             "colorbar": {
              "outlinewidth": 0,
              "ticks": ""
             }
            },
            "type": "scattercarpet"
           }
          ],
          "scattergeo": [
           {
            "marker": {
             "colorbar": {
              "outlinewidth": 0,
              "ticks": ""
             }
            },
            "type": "scattergeo"
           }
          ],
          "scattergl": [
           {
            "marker": {
             "colorbar": {
              "outlinewidth": 0,
              "ticks": ""
             }
            },
            "type": "scattergl"
           }
          ],
          "scattermapbox": [
           {
            "marker": {
             "colorbar": {
              "outlinewidth": 0,
              "ticks": ""
             }
            },
            "type": "scattermapbox"
           }
          ],
          "scatterpolar": [
           {
            "marker": {
             "colorbar": {
              "outlinewidth": 0,
              "ticks": ""
             }
            },
            "type": "scatterpolar"
           }
          ],
          "scatterpolargl": [
           {
            "marker": {
             "colorbar": {
              "outlinewidth": 0,
              "ticks": ""
             }
            },
            "type": "scatterpolargl"
           }
          ],
          "scatterternary": [
           {
            "marker": {
             "colorbar": {
              "outlinewidth": 0,
              "ticks": ""
             }
            },
            "type": "scatterternary"
           }
          ],
          "surface": [
           {
            "colorbar": {
             "outlinewidth": 0,
             "ticks": ""
            },
            "colorscale": [
             [
              0,
              "#0d0887"
             ],
             [
              0.1111111111111111,
              "#46039f"
             ],
             [
              0.2222222222222222,
              "#7201a8"
             ],
             [
              0.3333333333333333,
              "#9c179e"
             ],
             [
              0.4444444444444444,
              "#bd3786"
             ],
             [
              0.5555555555555556,
              "#d8576b"
             ],
             [
              0.6666666666666666,
              "#ed7953"
             ],
             [
              0.7777777777777778,
              "#fb9f3a"
             ],
             [
              0.8888888888888888,
              "#fdca26"
             ],
             [
              1,
              "#f0f921"
             ]
            ],
            "type": "surface"
           }
          ],
          "table": [
           {
            "cells": {
             "fill": {
              "color": "#EBF0F8"
             },
             "line": {
              "color": "white"
             }
            },
            "header": {
             "fill": {
              "color": "#C8D4E3"
             },
             "line": {
              "color": "white"
             }
            },
            "type": "table"
           }
          ]
         },
         "layout": {
          "annotationdefaults": {
           "arrowcolor": "#2a3f5f",
           "arrowhead": 0,
           "arrowwidth": 1
          },
          "autotypenumbers": "strict",
          "coloraxis": {
           "colorbar": {
            "outlinewidth": 0,
            "ticks": ""
           }
          },
          "colorscale": {
           "diverging": [
            [
             0,
             "#8e0152"
            ],
            [
             0.1,
             "#c51b7d"
            ],
            [
             0.2,
             "#de77ae"
            ],
            [
             0.3,
             "#f1b6da"
            ],
            [
             0.4,
             "#fde0ef"
            ],
            [
             0.5,
             "#f7f7f7"
            ],
            [
             0.6,
             "#e6f5d0"
            ],
            [
             0.7,
             "#b8e186"
            ],
            [
             0.8,
             "#7fbc41"
            ],
            [
             0.9,
             "#4d9221"
            ],
            [
             1,
             "#276419"
            ]
           ],
           "sequential": [
            [
             0,
             "#0d0887"
            ],
            [
             0.1111111111111111,
             "#46039f"
            ],
            [
             0.2222222222222222,
             "#7201a8"
            ],
            [
             0.3333333333333333,
             "#9c179e"
            ],
            [
             0.4444444444444444,
             "#bd3786"
            ],
            [
             0.5555555555555556,
             "#d8576b"
            ],
            [
             0.6666666666666666,
             "#ed7953"
            ],
            [
             0.7777777777777778,
             "#fb9f3a"
            ],
            [
             0.8888888888888888,
             "#fdca26"
            ],
            [
             1,
             "#f0f921"
            ]
           ],
           "sequentialminus": [
            [
             0,
             "#0d0887"
            ],
            [
             0.1111111111111111,
             "#46039f"
            ],
            [
             0.2222222222222222,
             "#7201a8"
            ],
            [
             0.3333333333333333,
             "#9c179e"
            ],
            [
             0.4444444444444444,
             "#bd3786"
            ],
            [
             0.5555555555555556,
             "#d8576b"
            ],
            [
             0.6666666666666666,
             "#ed7953"
            ],
            [
             0.7777777777777778,
             "#fb9f3a"
            ],
            [
             0.8888888888888888,
             "#fdca26"
            ],
            [
             1,
             "#f0f921"
            ]
           ]
          },
          "colorway": [
           "#636efa",
           "#EF553B",
           "#00cc96",
           "#ab63fa",
           "#FFA15A",
           "#19d3f3",
           "#FF6692",
           "#B6E880",
           "#FF97FF",
           "#FECB52"
          ],
          "font": {
           "color": "#2a3f5f"
          },
          "geo": {
           "bgcolor": "white",
           "lakecolor": "white",
           "landcolor": "#E5ECF6",
           "showlakes": true,
           "showland": true,
           "subunitcolor": "white"
          },
          "hoverlabel": {
           "align": "left"
          },
          "hovermode": "closest",
          "mapbox": {
           "style": "light"
          },
          "paper_bgcolor": "white",
          "plot_bgcolor": "#E5ECF6",
          "polar": {
           "angularaxis": {
            "gridcolor": "white",
            "linecolor": "white",
            "ticks": ""
           },
           "bgcolor": "#E5ECF6",
           "radialaxis": {
            "gridcolor": "white",
            "linecolor": "white",
            "ticks": ""
           }
          },
          "scene": {
           "xaxis": {
            "backgroundcolor": "#E5ECF6",
            "gridcolor": "white",
            "gridwidth": 2,
            "linecolor": "white",
            "showbackground": true,
            "ticks": "",
            "zerolinecolor": "white"
           },
           "yaxis": {
            "backgroundcolor": "#E5ECF6",
            "gridcolor": "white",
            "gridwidth": 2,
            "linecolor": "white",
            "showbackground": true,
            "ticks": "",
            "zerolinecolor": "white"
           },
           "zaxis": {
            "backgroundcolor": "#E5ECF6",
            "gridcolor": "white",
            "gridwidth": 2,
            "linecolor": "white",
            "showbackground": true,
            "ticks": "",
            "zerolinecolor": "white"
           }
          },
          "shapedefaults": {
           "line": {
            "color": "#2a3f5f"
           }
          },
          "ternary": {
           "aaxis": {
            "gridcolor": "white",
            "linecolor": "white",
            "ticks": ""
           },
           "baxis": {
            "gridcolor": "white",
            "linecolor": "white",
            "ticks": ""
           },
           "bgcolor": "#E5ECF6",
           "caxis": {
            "gridcolor": "white",
            "linecolor": "white",
            "ticks": ""
           }
          },
          "title": {
           "x": 0.05
          },
          "xaxis": {
           "automargin": true,
           "gridcolor": "white",
           "linecolor": "white",
           "ticks": "",
           "title": {
            "standoff": 15
           },
           "zerolinecolor": "white",
           "zerolinewidth": 2
          },
          "yaxis": {
           "automargin": true,
           "gridcolor": "white",
           "linecolor": "white",
           "ticks": "",
           "title": {
            "standoff": 15
           },
           "zerolinecolor": "white",
           "zerolinewidth": 2
          }
         }
        },
        "title": {
         "font": {
          "color": "#4D5663"
         }
        },
        "xaxis": {
         "gridcolor": "#E1E5ED",
         "showgrid": true,
         "tickfont": {
          "color": "#4D5663"
         },
         "title": {
          "font": {
           "color": "#4D5663"
          },
          "text": ""
         },
         "zerolinecolor": "#E1E5ED"
        },
        "yaxis": {
         "gridcolor": "#E1E5ED",
         "showgrid": true,
         "tickfont": {
          "color": "#4D5663"
         },
         "title": {
          "font": {
           "color": "#4D5663"
          },
          "text": ""
         },
         "zerolinecolor": "#E1E5ED"
        }
       }
      },
      "text/html": [
       "<div>                            <div id=\"c86ae3ba-8c1e-4c7f-905e-d0f5cdced34b\" class=\"plotly-graph-div\" style=\"height:525px; width:100%;\"></div>            <script type=\"text/javascript\">                require([\"plotly\"], function(Plotly) {                    window.PLOTLYENV=window.PLOTLYENV || {};\n",
       "                    window.PLOTLYENV.BASE_URL='https://plot.ly';                                    if (document.getElementById(\"c86ae3ba-8c1e-4c7f-905e-d0f5cdced34b\")) {                    Plotly.newPlot(                        \"c86ae3ba-8c1e-4c7f-905e-d0f5cdced34b\",                        [{\"histfunc\":\"count\",\"histnorm\":\"\",\"marker\":{\"color\":\"rgba(255, 153, 51, 1.0)\",\"line\":{\"color\":\"#4D5663\",\"width\":1.3}},\"name\":\"A\",\"nbinsx\":25,\"opacity\":0.8,\"orientation\":\"v\",\"x\":[0.9214764218981654,0.9959423769262518,-1.3172230483026206,0.5407245812119383,0.642092394587669,-0.30864026929741556,-0.5064444603327013,-0.5082815706886411,1.5678242419240762,-0.5914735326347423,-1.7445375813070596,-0.8511532090360143,-0.30766078290663085,1.5312966921963567,0.58170307007244,0.7320952946850469,0.3738115273086843,1.0477262234425586,0.32586248987629135,0.7806172065163496,-1.5995344740588855,2.023197403454082,2.402146094037926,-0.14741254282516394,-1.0067375200215045,-1.1891762623742206,0.12349188869339653,0.700258798909914,1.413176658445167,1.3420667334049952,-0.8342798273525154,0.025666334238967782,-0.24069702509724686,0.21364229057549278,-1.4426144467776687,-0.08932745930767785,-0.5284704942944856,1.6058386748639275,-0.9387770840200482,1.2872196386808337,-0.19202162275969953,0.38100206767575034,1.18575609626376,0.5553161661699734,0.24115791611163684,1.4969203576631427,-0.5634481211552631,2.3703829812061907,1.767720902380606,0.28017710804105206,0.49646553023790985,-0.9360754821689791,0.5869592300176261,-0.09093762307121381,1.243246510213567,-0.13893385760855262,0.7044853625728603,-1.1561576840919168,-0.7579595928722608,-0.21471118458934224,0.9257381946080985,0.9766127047858868,0.6098074478067186,1.2146699177361575,-0.5123135622157158,0.4146388607013162,0.4128765741740123,-0.47478297707165257,-1.3107320275718506,-2.0141388970915552,0.2149067903001285,-0.4501277888894486,0.7373901809780066,0.6883782375334397,-1.0147904664394065,0.42183307829222266,0.19307449546973163,-0.1352813133812439,-0.9985451716644858,0.21851619701166838,0.04588262391096019,-0.710749838574289,-1.1436647243076707,2.0431288115605994,0.6826865242180874,2.1521093097078667,-0.9855146625140069,-0.5688666413452645,0.7891903836062417,-0.9964714269602141,-1.528259272876875,-0.3176272610541392,1.122088699841059,0.37043387975814307,-2.0079156864099224,0.5474650843712826,-0.8485065697644134,1.207729628300678,1.5330545394715986,0.7406995419159385],\"type\":\"histogram\"},{\"histfunc\":\"count\",\"histnorm\":\"\",\"marker\":{\"color\":\"rgba(55, 128, 191, 1.0)\",\"line\":{\"color\":\"#4D5663\",\"width\":1.3}},\"name\":\"B\",\"nbinsx\":25,\"opacity\":0.8,\"orientation\":\"v\",\"x\":[-0.7644080455499217,1.4903826348831475,1.7753545095320915,-0.21941143583926614,1.490906394340638,0.05073007190325578,0.12891772924536005,0.9806341778768883,-1.4661106752532236,-1.8313822255569998,0.47711893311476583,0.3131582522918956,-1.4876819494001086,0.4750270444642189,2.0066305754796363,-1.5746220778422455,0.8510602760662758,0.5719808271700746,0.6086311492941431,-0.21401882438581846,-0.008657512498816817,0.6462715111133875,0.4657825991101462,-0.18737563711800978,0.16102303677942756,-0.3795194564004293,0.8805971750184391,-1.983928310036097,0.1931908606848667,-0.573221545296363,-0.7290244844446884,1.2128004880039103,0.4698273138772131,0.048029218692651005,0.4695259557613381,-0.8317369219897317,0.5633419089126847,-0.8864010907405202,-2.641968777183869,0.3958577374625747,0.5186893701304792,1.2774497848166861,-0.8941640946451048,-1.030456318697221,-0.9476122545711053,-0.2215741965974773,-0.33168783533905394,0.2933464634639469,1.1867330131865892,0.8040438563800378,-1.1980813882327417,0.8811886381415173,-0.24527772072678253,-0.6047611251358266,0.6776159331532022,0.2953541950827958,-2.3542882896518726,0.7294238680285776,-0.806114640441142,-0.14848521420104727,-0.25456290617086313,0.3185997119934261,-0.3232354568659813,-0.11591756327650839,0.45483205884065314,0.4621990285026095,1.472241567653293,0.27327614131344097,-0.8793666301201867,-0.24006525086929933,-0.5416831198154325,-0.07269629668585165,-0.9455796443367955,-0.7776122374725006,-0.9957952145034031,-1.1588967154402783,-0.5692902124415858,-0.5048771831228177,0.6434105582341395,-0.8902449420628814,-1.3944901166622579,0.019674051335566385,0.34807679578906436,1.9174342520796577,-0.40825511799886244,1.0078061832304828,-0.3375270586616938,1.854701379945328,-1.3545874562375024,1.5237278750361651,-0.20114573136672684,2.493310901723775,0.2825786235371873,-0.5844043067849404,0.031369299183915185,0.6170880343815135,-0.867010872289918,-0.435178928798219,1.3699292017692202,-0.41248911766088653],\"type\":\"histogram\"},{\"histfunc\":\"count\",\"histnorm\":\"\",\"marker\":{\"color\":\"rgba(50, 171, 96, 1.0)\",\"line\":{\"color\":\"#4D5663\",\"width\":1.3}},\"name\":\"C\",\"nbinsx\":25,\"opacity\":0.8,\"orientation\":\"v\",\"x\":[0.6795724814774444,-0.6460997721147319,-0.872278059379454,0.8445837428459273,-0.8552802771752362,1.8529058485348904,-0.18992912096939918,0.1952167106501059,-0.03365206535698738,-1.0486226033273647,0.46852600909653147,-1.3480277868094745,-0.36676779335840454,-1.2051081750516717,-0.878006821054059,-0.248851717571586,0.44866791095860764,-0.32621017728314006,0.0720014472126796,-0.27332706252766387,0.9275892098481517,-0.05041755675232206,-0.299112030812001,-0.5464282421876427,0.05709336892023219,0.42031546401257247,-0.10922724924096787,-0.27789067577218984,1.6827867476683023,0.9433929957851765,-0.7342304224911266,1.2517899494323421,-0.6668099063830136,1.3176312954632365,-1.5458781800374646,-0.7758768096753119,-0.48992377954089095,0.7860417972491432,0.7419036121005584,-0.22716702154928284,-0.7898817008291449,0.036037543848854194,0.20141941131199312,-2.922271879680576,0.6071302979753105,0.42931537767202343,-1.4383044766491175,1.326005237430795,1.4303550761184916,0.2993658674050363,0.20641020960412695,1.0618582648755068,1.177406936912996,0.6672282185643851,0.43211285478633854,-0.0027378903338220136,-1.7887779143677585,-0.17518468360779257,1.072230904277647,0.298516365498507,1.750739744536,-0.20551624792022177,0.4855739222275755,-0.8800271571126488,0.42804065243412603,-0.49974463942008956,-0.23931257483586094,-0.4844114158946375,-0.9115753487650472,-0.7038403806153364,0.8750361276860149,-0.8962732546705771,-1.2585615241460633,0.5660219219683313,-0.9877464756917634,1.4420949148229871,0.7868510373762299,0.9662067703590375,-1.0827669346089068,0.7023264106022004,-0.7619576957811065,1.2825947596649692,0.39020275774922347,-1.2412087902511584,2.152321868418625,0.4455851210166095,-1.2042200645649912,-0.540354136444607,0.7775003839768371,0.006352214567118267,0.05346462690416357,3.84862503416088,1.5626724453880994,-0.4242722172567385,-1.1710439589676207,-1.2427682169121674,1.0073725378331815,-0.5011740093861006,0.7522578523638134,0.5871976486818108],\"type\":\"histogram\"},{\"histfunc\":\"count\",\"histnorm\":\"\",\"marker\":{\"color\":\"rgba(128, 0, 128, 1.0)\",\"line\":{\"color\":\"#4D5663\",\"width\":1.3}},\"name\":\"D\",\"nbinsx\":25,\"opacity\":0.8,\"orientation\":\"v\",\"x\":[-0.614146173722016,-1.0190828297679106,-2.111377681769523,2.08053019500468,-0.2097146138362075,-0.5682627462885483,0.52176688437635,0.5538748722665523,0.028923374601988825,-0.25310284835559693,0.2752446541171908,-0.00109620500030881,0.3323924381109328,0.2030504714395166,-0.14685052565543058,-0.42788123202001177,0.06438256129938687,-0.1393077096037046,-1.3623823995239333,-0.7786870458036529,0.0700189755016825,0.13692430703896485,0.06265196058240893,1.704737013294724,1.216163095309054,-1.3776887648592697,0.3035737256786318,-0.4732386701099062,-1.6158746589170325,-0.026025501455843255,-0.6746989678986696,-0.47986538924502004,-1.297947136875073,-0.567996382492372,-0.2043026276237869,0.2355018756607815,0.9112120145875349,1.2440646505577848,0.035846813228632854,-0.2154305941161974,-0.7529830037111879,-0.15875449783838746,0.3840348535149428,-0.33258002876557585,0.10333216991541538,-0.278928723638768,0.783526246110407,-0.654843645224031,-0.33381457737032594,-0.6810930436711846,1.4960446920862744,-0.6082583910850962,1.066423386185219,0.49672756851500294,-0.19083968110908212,-1.0815026573301187,-0.13321264599098848,0.259585364619512,0.2469479771290042,-0.7188419993682617,0.7396086276522115,-1.1452882053556626,0.6268217050102438,0.8667170502097167,0.9846130921657613,0.2286370774357785,1.6507016540936037,0.2115495519270981,0.6837435620451535,0.6215635116945479,0.23825448149694864,-0.7170256791533522,1.431376230675145,-0.27803042997913113,-0.7168614340434113,-0.41935503551926223,1.1052059444808846,0.35168932675090875,-0.9911390030962802,-0.28071075307792015,-0.7151084960595813,-0.3604187933023409,-1.4068643484778616,0.8053573945395175,-0.7071401343757189,-2.206578321394946,0.8588712481107954,0.8507948393877712,0.2625178022886676,1.676452136815169,1.065912560596994,-2.0916177121211197,0.7768399017262884,-2.2777100020351395,-2.225551486781593,1.68291193521316,1.361271164025055,0.29228318326117503,0.3155080934955593,-0.3587963063166347],\"type\":\"histogram\"}],                        {\"barmode\":\"overlay\",\"legend\":{\"bgcolor\":\"#F5F6F9\",\"font\":{\"color\":\"#4D5663\"}},\"paper_bgcolor\":\"#F5F6F9\",\"plot_bgcolor\":\"#F5F6F9\",\"template\":{\"data\":{\"barpolar\":[{\"marker\":{\"line\":{\"color\":\"#E5ECF6\",\"width\":0.5},\"pattern\":{\"fillmode\":\"overlay\",\"size\":10,\"solidity\":0.2}},\"type\":\"barpolar\"}],\"bar\":[{\"error_x\":{\"color\":\"#2a3f5f\"},\"error_y\":{\"color\":\"#2a3f5f\"},\"marker\":{\"line\":{\"color\":\"#E5ECF6\",\"width\":0.5},\"pattern\":{\"fillmode\":\"overlay\",\"size\":10,\"solidity\":0.2}},\"type\":\"bar\"}],\"carpet\":[{\"aaxis\":{\"endlinecolor\":\"#2a3f5f\",\"gridcolor\":\"white\",\"linecolor\":\"white\",\"minorgridcolor\":\"white\",\"startlinecolor\":\"#2a3f5f\"},\"baxis\":{\"endlinecolor\":\"#2a3f5f\",\"gridcolor\":\"white\",\"linecolor\":\"white\",\"minorgridcolor\":\"white\",\"startlinecolor\":\"#2a3f5f\"},\"type\":\"carpet\"}],\"choropleth\":[{\"colorbar\":{\"outlinewidth\":0,\"ticks\":\"\"},\"type\":\"choropleth\"}],\"contourcarpet\":[{\"colorbar\":{\"outlinewidth\":0,\"ticks\":\"\"},\"type\":\"contourcarpet\"}],\"contour\":[{\"colorbar\":{\"outlinewidth\":0,\"ticks\":\"\"},\"colorscale\":[[0.0,\"#0d0887\"],[0.1111111111111111,\"#46039f\"],[0.2222222222222222,\"#7201a8\"],[0.3333333333333333,\"#9c179e\"],[0.4444444444444444,\"#bd3786\"],[0.5555555555555556,\"#d8576b\"],[0.6666666666666666,\"#ed7953\"],[0.7777777777777778,\"#fb9f3a\"],[0.8888888888888888,\"#fdca26\"],[1.0,\"#f0f921\"]],\"type\":\"contour\"}],\"heatmapgl\":[{\"colorbar\":{\"outlinewidth\":0,\"ticks\":\"\"},\"colorscale\":[[0.0,\"#0d0887\"],[0.1111111111111111,\"#46039f\"],[0.2222222222222222,\"#7201a8\"],[0.3333333333333333,\"#9c179e\"],[0.4444444444444444,\"#bd3786\"],[0.5555555555555556,\"#d8576b\"],[0.6666666666666666,\"#ed7953\"],[0.7777777777777778,\"#fb9f3a\"],[0.8888888888888888,\"#fdca26\"],[1.0,\"#f0f921\"]],\"type\":\"heatmapgl\"}],\"heatmap\":[{\"colorbar\":{\"outlinewidth\":0,\"ticks\":\"\"},\"colorscale\":[[0.0,\"#0d0887\"],[0.1111111111111111,\"#46039f\"],[0.2222222222222222,\"#7201a8\"],[0.3333333333333333,\"#9c179e\"],[0.4444444444444444,\"#bd3786\"],[0.5555555555555556,\"#d8576b\"],[0.6666666666666666,\"#ed7953\"],[0.7777777777777778,\"#fb9f3a\"],[0.8888888888888888,\"#fdca26\"],[1.0,\"#f0f921\"]],\"type\":\"heatmap\"}],\"histogram2dcontour\":[{\"colorbar\":{\"outlinewidth\":0,\"ticks\":\"\"},\"colorscale\":[[0.0,\"#0d0887\"],[0.1111111111111111,\"#46039f\"],[0.2222222222222222,\"#7201a8\"],[0.3333333333333333,\"#9c179e\"],[0.4444444444444444,\"#bd3786\"],[0.5555555555555556,\"#d8576b\"],[0.6666666666666666,\"#ed7953\"],[0.7777777777777778,\"#fb9f3a\"],[0.8888888888888888,\"#fdca26\"],[1.0,\"#f0f921\"]],\"type\":\"histogram2dcontour\"}],\"histogram2d\":[{\"colorbar\":{\"outlinewidth\":0,\"ticks\":\"\"},\"colorscale\":[[0.0,\"#0d0887\"],[0.1111111111111111,\"#46039f\"],[0.2222222222222222,\"#7201a8\"],[0.3333333333333333,\"#9c179e\"],[0.4444444444444444,\"#bd3786\"],[0.5555555555555556,\"#d8576b\"],[0.6666666666666666,\"#ed7953\"],[0.7777777777777778,\"#fb9f3a\"],[0.8888888888888888,\"#fdca26\"],[1.0,\"#f0f921\"]],\"type\":\"histogram2d\"}],\"histogram\":[{\"marker\":{\"pattern\":{\"fillmode\":\"overlay\",\"size\":10,\"solidity\":0.2}},\"type\":\"histogram\"}],\"mesh3d\":[{\"colorbar\":{\"outlinewidth\":0,\"ticks\":\"\"},\"type\":\"mesh3d\"}],\"parcoords\":[{\"line\":{\"colorbar\":{\"outlinewidth\":0,\"ticks\":\"\"}},\"type\":\"parcoords\"}],\"pie\":[{\"automargin\":true,\"type\":\"pie\"}],\"scatter3d\":[{\"line\":{\"colorbar\":{\"outlinewidth\":0,\"ticks\":\"\"}},\"marker\":{\"colorbar\":{\"outlinewidth\":0,\"ticks\":\"\"}},\"type\":\"scatter3d\"}],\"scattercarpet\":[{\"marker\":{\"colorbar\":{\"outlinewidth\":0,\"ticks\":\"\"}},\"type\":\"scattercarpet\"}],\"scattergeo\":[{\"marker\":{\"colorbar\":{\"outlinewidth\":0,\"ticks\":\"\"}},\"type\":\"scattergeo\"}],\"scattergl\":[{\"marker\":{\"colorbar\":{\"outlinewidth\":0,\"ticks\":\"\"}},\"type\":\"scattergl\"}],\"scattermapbox\":[{\"marker\":{\"colorbar\":{\"outlinewidth\":0,\"ticks\":\"\"}},\"type\":\"scattermapbox\"}],\"scatterpolargl\":[{\"marker\":{\"colorbar\":{\"outlinewidth\":0,\"ticks\":\"\"}},\"type\":\"scatterpolargl\"}],\"scatterpolar\":[{\"marker\":{\"colorbar\":{\"outlinewidth\":0,\"ticks\":\"\"}},\"type\":\"scatterpolar\"}],\"scatter\":[{\"fillpattern\":{\"fillmode\":\"overlay\",\"size\":10,\"solidity\":0.2},\"type\":\"scatter\"}],\"scatterternary\":[{\"marker\":{\"colorbar\":{\"outlinewidth\":0,\"ticks\":\"\"}},\"type\":\"scatterternary\"}],\"surface\":[{\"colorbar\":{\"outlinewidth\":0,\"ticks\":\"\"},\"colorscale\":[[0.0,\"#0d0887\"],[0.1111111111111111,\"#46039f\"],[0.2222222222222222,\"#7201a8\"],[0.3333333333333333,\"#9c179e\"],[0.4444444444444444,\"#bd3786\"],[0.5555555555555556,\"#d8576b\"],[0.6666666666666666,\"#ed7953\"],[0.7777777777777778,\"#fb9f3a\"],[0.8888888888888888,\"#fdca26\"],[1.0,\"#f0f921\"]],\"type\":\"surface\"}],\"table\":[{\"cells\":{\"fill\":{\"color\":\"#EBF0F8\"},\"line\":{\"color\":\"white\"}},\"header\":{\"fill\":{\"color\":\"#C8D4E3\"},\"line\":{\"color\":\"white\"}},\"type\":\"table\"}]},\"layout\":{\"annotationdefaults\":{\"arrowcolor\":\"#2a3f5f\",\"arrowhead\":0,\"arrowwidth\":1},\"autotypenumbers\":\"strict\",\"coloraxis\":{\"colorbar\":{\"outlinewidth\":0,\"ticks\":\"\"}},\"colorscale\":{\"diverging\":[[0,\"#8e0152\"],[0.1,\"#c51b7d\"],[0.2,\"#de77ae\"],[0.3,\"#f1b6da\"],[0.4,\"#fde0ef\"],[0.5,\"#f7f7f7\"],[0.6,\"#e6f5d0\"],[0.7,\"#b8e186\"],[0.8,\"#7fbc41\"],[0.9,\"#4d9221\"],[1,\"#276419\"]],\"sequential\":[[0.0,\"#0d0887\"],[0.1111111111111111,\"#46039f\"],[0.2222222222222222,\"#7201a8\"],[0.3333333333333333,\"#9c179e\"],[0.4444444444444444,\"#bd3786\"],[0.5555555555555556,\"#d8576b\"],[0.6666666666666666,\"#ed7953\"],[0.7777777777777778,\"#fb9f3a\"],[0.8888888888888888,\"#fdca26\"],[1.0,\"#f0f921\"]],\"sequentialminus\":[[0.0,\"#0d0887\"],[0.1111111111111111,\"#46039f\"],[0.2222222222222222,\"#7201a8\"],[0.3333333333333333,\"#9c179e\"],[0.4444444444444444,\"#bd3786\"],[0.5555555555555556,\"#d8576b\"],[0.6666666666666666,\"#ed7953\"],[0.7777777777777778,\"#fb9f3a\"],[0.8888888888888888,\"#fdca26\"],[1.0,\"#f0f921\"]]},\"colorway\":[\"#636efa\",\"#EF553B\",\"#00cc96\",\"#ab63fa\",\"#FFA15A\",\"#19d3f3\",\"#FF6692\",\"#B6E880\",\"#FF97FF\",\"#FECB52\"],\"font\":{\"color\":\"#2a3f5f\"},\"geo\":{\"bgcolor\":\"white\",\"lakecolor\":\"white\",\"landcolor\":\"#E5ECF6\",\"showlakes\":true,\"showland\":true,\"subunitcolor\":\"white\"},\"hoverlabel\":{\"align\":\"left\"},\"hovermode\":\"closest\",\"mapbox\":{\"style\":\"light\"},\"paper_bgcolor\":\"white\",\"plot_bgcolor\":\"#E5ECF6\",\"polar\":{\"angularaxis\":{\"gridcolor\":\"white\",\"linecolor\":\"white\",\"ticks\":\"\"},\"bgcolor\":\"#E5ECF6\",\"radialaxis\":{\"gridcolor\":\"white\",\"linecolor\":\"white\",\"ticks\":\"\"}},\"scene\":{\"xaxis\":{\"backgroundcolor\":\"#E5ECF6\",\"gridcolor\":\"white\",\"gridwidth\":2,\"linecolor\":\"white\",\"showbackground\":true,\"ticks\":\"\",\"zerolinecolor\":\"white\"},\"yaxis\":{\"backgroundcolor\":\"#E5ECF6\",\"gridcolor\":\"white\",\"gridwidth\":2,\"linecolor\":\"white\",\"showbackground\":true,\"ticks\":\"\",\"zerolinecolor\":\"white\"},\"zaxis\":{\"backgroundcolor\":\"#E5ECF6\",\"gridcolor\":\"white\",\"gridwidth\":2,\"linecolor\":\"white\",\"showbackground\":true,\"ticks\":\"\",\"zerolinecolor\":\"white\"}},\"shapedefaults\":{\"line\":{\"color\":\"#2a3f5f\"}},\"ternary\":{\"aaxis\":{\"gridcolor\":\"white\",\"linecolor\":\"white\",\"ticks\":\"\"},\"baxis\":{\"gridcolor\":\"white\",\"linecolor\":\"white\",\"ticks\":\"\"},\"bgcolor\":\"#E5ECF6\",\"caxis\":{\"gridcolor\":\"white\",\"linecolor\":\"white\",\"ticks\":\"\"}},\"title\":{\"x\":0.05},\"xaxis\":{\"automargin\":true,\"gridcolor\":\"white\",\"linecolor\":\"white\",\"ticks\":\"\",\"title\":{\"standoff\":15},\"zerolinecolor\":\"white\",\"zerolinewidth\":2},\"yaxis\":{\"automargin\":true,\"gridcolor\":\"white\",\"linecolor\":\"white\",\"ticks\":\"\",\"title\":{\"standoff\":15},\"zerolinecolor\":\"white\",\"zerolinewidth\":2}}},\"title\":{\"font\":{\"color\":\"#4D5663\"}},\"xaxis\":{\"gridcolor\":\"#E1E5ED\",\"showgrid\":true,\"tickfont\":{\"color\":\"#4D5663\"},\"title\":{\"font\":{\"color\":\"#4D5663\"},\"text\":\"\"},\"zerolinecolor\":\"#E1E5ED\"},\"yaxis\":{\"gridcolor\":\"#E1E5ED\",\"showgrid\":true,\"tickfont\":{\"color\":\"#4D5663\"},\"title\":{\"font\":{\"color\":\"#4D5663\"},\"text\":\"\"},\"zerolinecolor\":\"#E1E5ED\"}},                        {\"showLink\": true, \"linkText\": \"Export to plot.ly\", \"plotlyServerURL\": \"https://plot.ly\", \"responsive\": true}                    ).then(function(){\n",
       "                            \n",
       "var gd = document.getElementById('c86ae3ba-8c1e-4c7f-905e-d0f5cdced34b');\n",
       "var x = new MutationObserver(function (mutations, observer) {{\n",
       "        var display = window.getComputedStyle(gd).display;\n",
       "        if (!display || display === 'none') {{\n",
       "            console.log([gd, 'removed!']);\n",
       "            Plotly.purge(gd);\n",
       "            observer.disconnect();\n",
       "        }}\n",
       "}});\n",
       "\n",
       "// Listen for the removal of the full notebook cells\n",
       "var notebookContainer = gd.closest('#notebook-container');\n",
       "if (notebookContainer) {{\n",
       "    x.observe(notebookContainer, {childList: true});\n",
       "}}\n",
       "\n",
       "// Listen for the clearing of the current output cell\n",
       "var outputEl = gd.closest('.output');\n",
       "if (outputEl) {{\n",
       "    x.observe(outputEl, {childList: true});\n",
       "}}\n",
       "\n",
       "                        })                };                });            </script>        </div>"
      ]
     },
     "metadata": {},
     "output_type": "display_data"
    }
   ],
   "source": [
    "df.iplot(kind='hist',bins=25)"
   ]
  },
  {
   "cell_type": "code",
   "execution_count": 45,
   "metadata": {
    "scrolled": false
   },
   "outputs": [
    {
     "data": {
      "application/vnd.plotly.v1+json": {
       "config": {
        "linkText": "Export to plot.ly",
        "plotlyServerURL": "https://plot.ly",
        "showLink": true
       },
       "data": [
        {
         "histfunc": "count",
         "histnorm": "",
         "marker": {
          "color": "rgba(255, 153, 51, 1.0)",
          "line": {
           "color": "#4D5663",
           "width": 1.3
          }
         },
         "name": "A",
         "nbinsx": 25,
         "opacity": 0.8,
         "orientation": "v",
         "type": "histogram",
         "x": [
          0.9214764218981654,
          0.9959423769262518,
          -1.3172230483026206,
          0.5407245812119383,
          0.642092394587669,
          -0.30864026929741556,
          -0.5064444603327013,
          -0.5082815706886411,
          1.5678242419240762,
          -0.5914735326347423,
          -1.7445375813070596,
          -0.8511532090360143,
          -0.30766078290663085,
          1.5312966921963567,
          0.58170307007244,
          0.7320952946850469,
          0.3738115273086843,
          1.0477262234425586,
          0.32586248987629135,
          0.7806172065163496,
          -1.5995344740588855,
          2.023197403454082,
          2.402146094037926,
          -0.14741254282516394,
          -1.0067375200215045,
          -1.1891762623742206,
          0.12349188869339653,
          0.700258798909914,
          1.413176658445167,
          1.3420667334049952,
          -0.8342798273525154,
          0.025666334238967782,
          -0.24069702509724686,
          0.21364229057549278,
          -1.4426144467776687,
          -0.08932745930767785,
          -0.5284704942944856,
          1.6058386748639275,
          -0.9387770840200482,
          1.2872196386808337,
          -0.19202162275969953,
          0.38100206767575034,
          1.18575609626376,
          0.5553161661699734,
          0.24115791611163684,
          1.4969203576631427,
          -0.5634481211552631,
          2.3703829812061907,
          1.767720902380606,
          0.28017710804105206,
          0.49646553023790985,
          -0.9360754821689791,
          0.5869592300176261,
          -0.09093762307121381,
          1.243246510213567,
          -0.13893385760855262,
          0.7044853625728603,
          -1.1561576840919168,
          -0.7579595928722608,
          -0.21471118458934224,
          0.9257381946080985,
          0.9766127047858868,
          0.6098074478067186,
          1.2146699177361575,
          -0.5123135622157158,
          0.4146388607013162,
          0.4128765741740123,
          -0.47478297707165257,
          -1.3107320275718506,
          -2.0141388970915552,
          0.2149067903001285,
          -0.4501277888894486,
          0.7373901809780066,
          0.6883782375334397,
          -1.0147904664394065,
          0.42183307829222266,
          0.19307449546973163,
          -0.1352813133812439,
          -0.9985451716644858,
          0.21851619701166838,
          0.04588262391096019,
          -0.710749838574289,
          -1.1436647243076707,
          2.0431288115605994,
          0.6826865242180874,
          2.1521093097078667,
          -0.9855146625140069,
          -0.5688666413452645,
          0.7891903836062417,
          -0.9964714269602141,
          -1.528259272876875,
          -0.3176272610541392,
          1.122088699841059,
          0.37043387975814307,
          -2.0079156864099224,
          0.5474650843712826,
          -0.8485065697644134,
          1.207729628300678,
          1.5330545394715986,
          0.7406995419159385
         ]
        }
       ],
       "layout": {
        "barmode": "overlay",
        "legend": {
         "bgcolor": "#F5F6F9",
         "font": {
          "color": "#4D5663"
         }
        },
        "paper_bgcolor": "#F5F6F9",
        "plot_bgcolor": "#F5F6F9",
        "template": {
         "data": {
          "bar": [
           {
            "error_x": {
             "color": "#2a3f5f"
            },
            "error_y": {
             "color": "#2a3f5f"
            },
            "marker": {
             "line": {
              "color": "#E5ECF6",
              "width": 0.5
             },
             "pattern": {
              "fillmode": "overlay",
              "size": 10,
              "solidity": 0.2
             }
            },
            "type": "bar"
           }
          ],
          "barpolar": [
           {
            "marker": {
             "line": {
              "color": "#E5ECF6",
              "width": 0.5
             },
             "pattern": {
              "fillmode": "overlay",
              "size": 10,
              "solidity": 0.2
             }
            },
            "type": "barpolar"
           }
          ],
          "carpet": [
           {
            "aaxis": {
             "endlinecolor": "#2a3f5f",
             "gridcolor": "white",
             "linecolor": "white",
             "minorgridcolor": "white",
             "startlinecolor": "#2a3f5f"
            },
            "baxis": {
             "endlinecolor": "#2a3f5f",
             "gridcolor": "white",
             "linecolor": "white",
             "minorgridcolor": "white",
             "startlinecolor": "#2a3f5f"
            },
            "type": "carpet"
           }
          ],
          "choropleth": [
           {
            "colorbar": {
             "outlinewidth": 0,
             "ticks": ""
            },
            "type": "choropleth"
           }
          ],
          "contour": [
           {
            "colorbar": {
             "outlinewidth": 0,
             "ticks": ""
            },
            "colorscale": [
             [
              0,
              "#0d0887"
             ],
             [
              0.1111111111111111,
              "#46039f"
             ],
             [
              0.2222222222222222,
              "#7201a8"
             ],
             [
              0.3333333333333333,
              "#9c179e"
             ],
             [
              0.4444444444444444,
              "#bd3786"
             ],
             [
              0.5555555555555556,
              "#d8576b"
             ],
             [
              0.6666666666666666,
              "#ed7953"
             ],
             [
              0.7777777777777778,
              "#fb9f3a"
             ],
             [
              0.8888888888888888,
              "#fdca26"
             ],
             [
              1,
              "#f0f921"
             ]
            ],
            "type": "contour"
           }
          ],
          "contourcarpet": [
           {
            "colorbar": {
             "outlinewidth": 0,
             "ticks": ""
            },
            "type": "contourcarpet"
           }
          ],
          "heatmap": [
           {
            "colorbar": {
             "outlinewidth": 0,
             "ticks": ""
            },
            "colorscale": [
             [
              0,
              "#0d0887"
             ],
             [
              0.1111111111111111,
              "#46039f"
             ],
             [
              0.2222222222222222,
              "#7201a8"
             ],
             [
              0.3333333333333333,
              "#9c179e"
             ],
             [
              0.4444444444444444,
              "#bd3786"
             ],
             [
              0.5555555555555556,
              "#d8576b"
             ],
             [
              0.6666666666666666,
              "#ed7953"
             ],
             [
              0.7777777777777778,
              "#fb9f3a"
             ],
             [
              0.8888888888888888,
              "#fdca26"
             ],
             [
              1,
              "#f0f921"
             ]
            ],
            "type": "heatmap"
           }
          ],
          "heatmapgl": [
           {
            "colorbar": {
             "outlinewidth": 0,
             "ticks": ""
            },
            "colorscale": [
             [
              0,
              "#0d0887"
             ],
             [
              0.1111111111111111,
              "#46039f"
             ],
             [
              0.2222222222222222,
              "#7201a8"
             ],
             [
              0.3333333333333333,
              "#9c179e"
             ],
             [
              0.4444444444444444,
              "#bd3786"
             ],
             [
              0.5555555555555556,
              "#d8576b"
             ],
             [
              0.6666666666666666,
              "#ed7953"
             ],
             [
              0.7777777777777778,
              "#fb9f3a"
             ],
             [
              0.8888888888888888,
              "#fdca26"
             ],
             [
              1,
              "#f0f921"
             ]
            ],
            "type": "heatmapgl"
           }
          ],
          "histogram": [
           {
            "marker": {
             "pattern": {
              "fillmode": "overlay",
              "size": 10,
              "solidity": 0.2
             }
            },
            "type": "histogram"
           }
          ],
          "histogram2d": [
           {
            "colorbar": {
             "outlinewidth": 0,
             "ticks": ""
            },
            "colorscale": [
             [
              0,
              "#0d0887"
             ],
             [
              0.1111111111111111,
              "#46039f"
             ],
             [
              0.2222222222222222,
              "#7201a8"
             ],
             [
              0.3333333333333333,
              "#9c179e"
             ],
             [
              0.4444444444444444,
              "#bd3786"
             ],
             [
              0.5555555555555556,
              "#d8576b"
             ],
             [
              0.6666666666666666,
              "#ed7953"
             ],
             [
              0.7777777777777778,
              "#fb9f3a"
             ],
             [
              0.8888888888888888,
              "#fdca26"
             ],
             [
              1,
              "#f0f921"
             ]
            ],
            "type": "histogram2d"
           }
          ],
          "histogram2dcontour": [
           {
            "colorbar": {
             "outlinewidth": 0,
             "ticks": ""
            },
            "colorscale": [
             [
              0,
              "#0d0887"
             ],
             [
              0.1111111111111111,
              "#46039f"
             ],
             [
              0.2222222222222222,
              "#7201a8"
             ],
             [
              0.3333333333333333,
              "#9c179e"
             ],
             [
              0.4444444444444444,
              "#bd3786"
             ],
             [
              0.5555555555555556,
              "#d8576b"
             ],
             [
              0.6666666666666666,
              "#ed7953"
             ],
             [
              0.7777777777777778,
              "#fb9f3a"
             ],
             [
              0.8888888888888888,
              "#fdca26"
             ],
             [
              1,
              "#f0f921"
             ]
            ],
            "type": "histogram2dcontour"
           }
          ],
          "mesh3d": [
           {
            "colorbar": {
             "outlinewidth": 0,
             "ticks": ""
            },
            "type": "mesh3d"
           }
          ],
          "parcoords": [
           {
            "line": {
             "colorbar": {
              "outlinewidth": 0,
              "ticks": ""
             }
            },
            "type": "parcoords"
           }
          ],
          "pie": [
           {
            "automargin": true,
            "type": "pie"
           }
          ],
          "scatter": [
           {
            "fillpattern": {
             "fillmode": "overlay",
             "size": 10,
             "solidity": 0.2
            },
            "type": "scatter"
           }
          ],
          "scatter3d": [
           {
            "line": {
             "colorbar": {
              "outlinewidth": 0,
              "ticks": ""
             }
            },
            "marker": {
             "colorbar": {
              "outlinewidth": 0,
              "ticks": ""
             }
            },
            "type": "scatter3d"
           }
          ],
          "scattercarpet": [
           {
            "marker": {
             "colorbar": {
              "outlinewidth": 0,
              "ticks": ""
             }
            },
            "type": "scattercarpet"
           }
          ],
          "scattergeo": [
           {
            "marker": {
             "colorbar": {
              "outlinewidth": 0,
              "ticks": ""
             }
            },
            "type": "scattergeo"
           }
          ],
          "scattergl": [
           {
            "marker": {
             "colorbar": {
              "outlinewidth": 0,
              "ticks": ""
             }
            },
            "type": "scattergl"
           }
          ],
          "scattermapbox": [
           {
            "marker": {
             "colorbar": {
              "outlinewidth": 0,
              "ticks": ""
             }
            },
            "type": "scattermapbox"
           }
          ],
          "scatterpolar": [
           {
            "marker": {
             "colorbar": {
              "outlinewidth": 0,
              "ticks": ""
             }
            },
            "type": "scatterpolar"
           }
          ],
          "scatterpolargl": [
           {
            "marker": {
             "colorbar": {
              "outlinewidth": 0,
              "ticks": ""
             }
            },
            "type": "scatterpolargl"
           }
          ],
          "scatterternary": [
           {
            "marker": {
             "colorbar": {
              "outlinewidth": 0,
              "ticks": ""
             }
            },
            "type": "scatterternary"
           }
          ],
          "surface": [
           {
            "colorbar": {
             "outlinewidth": 0,
             "ticks": ""
            },
            "colorscale": [
             [
              0,
              "#0d0887"
             ],
             [
              0.1111111111111111,
              "#46039f"
             ],
             [
              0.2222222222222222,
              "#7201a8"
             ],
             [
              0.3333333333333333,
              "#9c179e"
             ],
             [
              0.4444444444444444,
              "#bd3786"
             ],
             [
              0.5555555555555556,
              "#d8576b"
             ],
             [
              0.6666666666666666,
              "#ed7953"
             ],
             [
              0.7777777777777778,
              "#fb9f3a"
             ],
             [
              0.8888888888888888,
              "#fdca26"
             ],
             [
              1,
              "#f0f921"
             ]
            ],
            "type": "surface"
           }
          ],
          "table": [
           {
            "cells": {
             "fill": {
              "color": "#EBF0F8"
             },
             "line": {
              "color": "white"
             }
            },
            "header": {
             "fill": {
              "color": "#C8D4E3"
             },
             "line": {
              "color": "white"
             }
            },
            "type": "table"
           }
          ]
         },
         "layout": {
          "annotationdefaults": {
           "arrowcolor": "#2a3f5f",
           "arrowhead": 0,
           "arrowwidth": 1
          },
          "autotypenumbers": "strict",
          "coloraxis": {
           "colorbar": {
            "outlinewidth": 0,
            "ticks": ""
           }
          },
          "colorscale": {
           "diverging": [
            [
             0,
             "#8e0152"
            ],
            [
             0.1,
             "#c51b7d"
            ],
            [
             0.2,
             "#de77ae"
            ],
            [
             0.3,
             "#f1b6da"
            ],
            [
             0.4,
             "#fde0ef"
            ],
            [
             0.5,
             "#f7f7f7"
            ],
            [
             0.6,
             "#e6f5d0"
            ],
            [
             0.7,
             "#b8e186"
            ],
            [
             0.8,
             "#7fbc41"
            ],
            [
             0.9,
             "#4d9221"
            ],
            [
             1,
             "#276419"
            ]
           ],
           "sequential": [
            [
             0,
             "#0d0887"
            ],
            [
             0.1111111111111111,
             "#46039f"
            ],
            [
             0.2222222222222222,
             "#7201a8"
            ],
            [
             0.3333333333333333,
             "#9c179e"
            ],
            [
             0.4444444444444444,
             "#bd3786"
            ],
            [
             0.5555555555555556,
             "#d8576b"
            ],
            [
             0.6666666666666666,
             "#ed7953"
            ],
            [
             0.7777777777777778,
             "#fb9f3a"
            ],
            [
             0.8888888888888888,
             "#fdca26"
            ],
            [
             1,
             "#f0f921"
            ]
           ],
           "sequentialminus": [
            [
             0,
             "#0d0887"
            ],
            [
             0.1111111111111111,
             "#46039f"
            ],
            [
             0.2222222222222222,
             "#7201a8"
            ],
            [
             0.3333333333333333,
             "#9c179e"
            ],
            [
             0.4444444444444444,
             "#bd3786"
            ],
            [
             0.5555555555555556,
             "#d8576b"
            ],
            [
             0.6666666666666666,
             "#ed7953"
            ],
            [
             0.7777777777777778,
             "#fb9f3a"
            ],
            [
             0.8888888888888888,
             "#fdca26"
            ],
            [
             1,
             "#f0f921"
            ]
           ]
          },
          "colorway": [
           "#636efa",
           "#EF553B",
           "#00cc96",
           "#ab63fa",
           "#FFA15A",
           "#19d3f3",
           "#FF6692",
           "#B6E880",
           "#FF97FF",
           "#FECB52"
          ],
          "font": {
           "color": "#2a3f5f"
          },
          "geo": {
           "bgcolor": "white",
           "lakecolor": "white",
           "landcolor": "#E5ECF6",
           "showlakes": true,
           "showland": true,
           "subunitcolor": "white"
          },
          "hoverlabel": {
           "align": "left"
          },
          "hovermode": "closest",
          "mapbox": {
           "style": "light"
          },
          "paper_bgcolor": "white",
          "plot_bgcolor": "#E5ECF6",
          "polar": {
           "angularaxis": {
            "gridcolor": "white",
            "linecolor": "white",
            "ticks": ""
           },
           "bgcolor": "#E5ECF6",
           "radialaxis": {
            "gridcolor": "white",
            "linecolor": "white",
            "ticks": ""
           }
          },
          "scene": {
           "xaxis": {
            "backgroundcolor": "#E5ECF6",
            "gridcolor": "white",
            "gridwidth": 2,
            "linecolor": "white",
            "showbackground": true,
            "ticks": "",
            "zerolinecolor": "white"
           },
           "yaxis": {
            "backgroundcolor": "#E5ECF6",
            "gridcolor": "white",
            "gridwidth": 2,
            "linecolor": "white",
            "showbackground": true,
            "ticks": "",
            "zerolinecolor": "white"
           },
           "zaxis": {
            "backgroundcolor": "#E5ECF6",
            "gridcolor": "white",
            "gridwidth": 2,
            "linecolor": "white",
            "showbackground": true,
            "ticks": "",
            "zerolinecolor": "white"
           }
          },
          "shapedefaults": {
           "line": {
            "color": "#2a3f5f"
           }
          },
          "ternary": {
           "aaxis": {
            "gridcolor": "white",
            "linecolor": "white",
            "ticks": ""
           },
           "baxis": {
            "gridcolor": "white",
            "linecolor": "white",
            "ticks": ""
           },
           "bgcolor": "#E5ECF6",
           "caxis": {
            "gridcolor": "white",
            "linecolor": "white",
            "ticks": ""
           }
          },
          "title": {
           "x": 0.05
          },
          "xaxis": {
           "automargin": true,
           "gridcolor": "white",
           "linecolor": "white",
           "ticks": "",
           "title": {
            "standoff": 15
           },
           "zerolinecolor": "white",
           "zerolinewidth": 2
          },
          "yaxis": {
           "automargin": true,
           "gridcolor": "white",
           "linecolor": "white",
           "ticks": "",
           "title": {
            "standoff": 15
           },
           "zerolinecolor": "white",
           "zerolinewidth": 2
          }
         }
        },
        "title": {
         "font": {
          "color": "#4D5663"
         }
        },
        "xaxis": {
         "gridcolor": "#E1E5ED",
         "showgrid": true,
         "tickfont": {
          "color": "#4D5663"
         },
         "title": {
          "font": {
           "color": "#4D5663"
          },
          "text": ""
         },
         "zerolinecolor": "#E1E5ED"
        },
        "yaxis": {
         "gridcolor": "#E1E5ED",
         "showgrid": true,
         "tickfont": {
          "color": "#4D5663"
         },
         "title": {
          "font": {
           "color": "#4D5663"
          },
          "text": ""
         },
         "zerolinecolor": "#E1E5ED"
        }
       }
      },
      "text/html": [
       "<div>                            <div id=\"91320567-e89a-4173-904c-f89eec12887c\" class=\"plotly-graph-div\" style=\"height:525px; width:100%;\"></div>            <script type=\"text/javascript\">                require([\"plotly\"], function(Plotly) {                    window.PLOTLYENV=window.PLOTLYENV || {};\n",
       "                    window.PLOTLYENV.BASE_URL='https://plot.ly';                                    if (document.getElementById(\"91320567-e89a-4173-904c-f89eec12887c\")) {                    Plotly.newPlot(                        \"91320567-e89a-4173-904c-f89eec12887c\",                        [{\"histfunc\":\"count\",\"histnorm\":\"\",\"marker\":{\"color\":\"rgba(255, 153, 51, 1.0)\",\"line\":{\"color\":\"#4D5663\",\"width\":1.3}},\"name\":\"A\",\"nbinsx\":25,\"opacity\":0.8,\"orientation\":\"v\",\"x\":[0.9214764218981654,0.9959423769262518,-1.3172230483026206,0.5407245812119383,0.642092394587669,-0.30864026929741556,-0.5064444603327013,-0.5082815706886411,1.5678242419240762,-0.5914735326347423,-1.7445375813070596,-0.8511532090360143,-0.30766078290663085,1.5312966921963567,0.58170307007244,0.7320952946850469,0.3738115273086843,1.0477262234425586,0.32586248987629135,0.7806172065163496,-1.5995344740588855,2.023197403454082,2.402146094037926,-0.14741254282516394,-1.0067375200215045,-1.1891762623742206,0.12349188869339653,0.700258798909914,1.413176658445167,1.3420667334049952,-0.8342798273525154,0.025666334238967782,-0.24069702509724686,0.21364229057549278,-1.4426144467776687,-0.08932745930767785,-0.5284704942944856,1.6058386748639275,-0.9387770840200482,1.2872196386808337,-0.19202162275969953,0.38100206767575034,1.18575609626376,0.5553161661699734,0.24115791611163684,1.4969203576631427,-0.5634481211552631,2.3703829812061907,1.767720902380606,0.28017710804105206,0.49646553023790985,-0.9360754821689791,0.5869592300176261,-0.09093762307121381,1.243246510213567,-0.13893385760855262,0.7044853625728603,-1.1561576840919168,-0.7579595928722608,-0.21471118458934224,0.9257381946080985,0.9766127047858868,0.6098074478067186,1.2146699177361575,-0.5123135622157158,0.4146388607013162,0.4128765741740123,-0.47478297707165257,-1.3107320275718506,-2.0141388970915552,0.2149067903001285,-0.4501277888894486,0.7373901809780066,0.6883782375334397,-1.0147904664394065,0.42183307829222266,0.19307449546973163,-0.1352813133812439,-0.9985451716644858,0.21851619701166838,0.04588262391096019,-0.710749838574289,-1.1436647243076707,2.0431288115605994,0.6826865242180874,2.1521093097078667,-0.9855146625140069,-0.5688666413452645,0.7891903836062417,-0.9964714269602141,-1.528259272876875,-0.3176272610541392,1.122088699841059,0.37043387975814307,-2.0079156864099224,0.5474650843712826,-0.8485065697644134,1.207729628300678,1.5330545394715986,0.7406995419159385],\"type\":\"histogram\"}],                        {\"barmode\":\"overlay\",\"legend\":{\"bgcolor\":\"#F5F6F9\",\"font\":{\"color\":\"#4D5663\"}},\"paper_bgcolor\":\"#F5F6F9\",\"plot_bgcolor\":\"#F5F6F9\",\"template\":{\"data\":{\"barpolar\":[{\"marker\":{\"line\":{\"color\":\"#E5ECF6\",\"width\":0.5},\"pattern\":{\"fillmode\":\"overlay\",\"size\":10,\"solidity\":0.2}},\"type\":\"barpolar\"}],\"bar\":[{\"error_x\":{\"color\":\"#2a3f5f\"},\"error_y\":{\"color\":\"#2a3f5f\"},\"marker\":{\"line\":{\"color\":\"#E5ECF6\",\"width\":0.5},\"pattern\":{\"fillmode\":\"overlay\",\"size\":10,\"solidity\":0.2}},\"type\":\"bar\"}],\"carpet\":[{\"aaxis\":{\"endlinecolor\":\"#2a3f5f\",\"gridcolor\":\"white\",\"linecolor\":\"white\",\"minorgridcolor\":\"white\",\"startlinecolor\":\"#2a3f5f\"},\"baxis\":{\"endlinecolor\":\"#2a3f5f\",\"gridcolor\":\"white\",\"linecolor\":\"white\",\"minorgridcolor\":\"white\",\"startlinecolor\":\"#2a3f5f\"},\"type\":\"carpet\"}],\"choropleth\":[{\"colorbar\":{\"outlinewidth\":0,\"ticks\":\"\"},\"type\":\"choropleth\"}],\"contourcarpet\":[{\"colorbar\":{\"outlinewidth\":0,\"ticks\":\"\"},\"type\":\"contourcarpet\"}],\"contour\":[{\"colorbar\":{\"outlinewidth\":0,\"ticks\":\"\"},\"colorscale\":[[0.0,\"#0d0887\"],[0.1111111111111111,\"#46039f\"],[0.2222222222222222,\"#7201a8\"],[0.3333333333333333,\"#9c179e\"],[0.4444444444444444,\"#bd3786\"],[0.5555555555555556,\"#d8576b\"],[0.6666666666666666,\"#ed7953\"],[0.7777777777777778,\"#fb9f3a\"],[0.8888888888888888,\"#fdca26\"],[1.0,\"#f0f921\"]],\"type\":\"contour\"}],\"heatmapgl\":[{\"colorbar\":{\"outlinewidth\":0,\"ticks\":\"\"},\"colorscale\":[[0.0,\"#0d0887\"],[0.1111111111111111,\"#46039f\"],[0.2222222222222222,\"#7201a8\"],[0.3333333333333333,\"#9c179e\"],[0.4444444444444444,\"#bd3786\"],[0.5555555555555556,\"#d8576b\"],[0.6666666666666666,\"#ed7953\"],[0.7777777777777778,\"#fb9f3a\"],[0.8888888888888888,\"#fdca26\"],[1.0,\"#f0f921\"]],\"type\":\"heatmapgl\"}],\"heatmap\":[{\"colorbar\":{\"outlinewidth\":0,\"ticks\":\"\"},\"colorscale\":[[0.0,\"#0d0887\"],[0.1111111111111111,\"#46039f\"],[0.2222222222222222,\"#7201a8\"],[0.3333333333333333,\"#9c179e\"],[0.4444444444444444,\"#bd3786\"],[0.5555555555555556,\"#d8576b\"],[0.6666666666666666,\"#ed7953\"],[0.7777777777777778,\"#fb9f3a\"],[0.8888888888888888,\"#fdca26\"],[1.0,\"#f0f921\"]],\"type\":\"heatmap\"}],\"histogram2dcontour\":[{\"colorbar\":{\"outlinewidth\":0,\"ticks\":\"\"},\"colorscale\":[[0.0,\"#0d0887\"],[0.1111111111111111,\"#46039f\"],[0.2222222222222222,\"#7201a8\"],[0.3333333333333333,\"#9c179e\"],[0.4444444444444444,\"#bd3786\"],[0.5555555555555556,\"#d8576b\"],[0.6666666666666666,\"#ed7953\"],[0.7777777777777778,\"#fb9f3a\"],[0.8888888888888888,\"#fdca26\"],[1.0,\"#f0f921\"]],\"type\":\"histogram2dcontour\"}],\"histogram2d\":[{\"colorbar\":{\"outlinewidth\":0,\"ticks\":\"\"},\"colorscale\":[[0.0,\"#0d0887\"],[0.1111111111111111,\"#46039f\"],[0.2222222222222222,\"#7201a8\"],[0.3333333333333333,\"#9c179e\"],[0.4444444444444444,\"#bd3786\"],[0.5555555555555556,\"#d8576b\"],[0.6666666666666666,\"#ed7953\"],[0.7777777777777778,\"#fb9f3a\"],[0.8888888888888888,\"#fdca26\"],[1.0,\"#f0f921\"]],\"type\":\"histogram2d\"}],\"histogram\":[{\"marker\":{\"pattern\":{\"fillmode\":\"overlay\",\"size\":10,\"solidity\":0.2}},\"type\":\"histogram\"}],\"mesh3d\":[{\"colorbar\":{\"outlinewidth\":0,\"ticks\":\"\"},\"type\":\"mesh3d\"}],\"parcoords\":[{\"line\":{\"colorbar\":{\"outlinewidth\":0,\"ticks\":\"\"}},\"type\":\"parcoords\"}],\"pie\":[{\"automargin\":true,\"type\":\"pie\"}],\"scatter3d\":[{\"line\":{\"colorbar\":{\"outlinewidth\":0,\"ticks\":\"\"}},\"marker\":{\"colorbar\":{\"outlinewidth\":0,\"ticks\":\"\"}},\"type\":\"scatter3d\"}],\"scattercarpet\":[{\"marker\":{\"colorbar\":{\"outlinewidth\":0,\"ticks\":\"\"}},\"type\":\"scattercarpet\"}],\"scattergeo\":[{\"marker\":{\"colorbar\":{\"outlinewidth\":0,\"ticks\":\"\"}},\"type\":\"scattergeo\"}],\"scattergl\":[{\"marker\":{\"colorbar\":{\"outlinewidth\":0,\"ticks\":\"\"}},\"type\":\"scattergl\"}],\"scattermapbox\":[{\"marker\":{\"colorbar\":{\"outlinewidth\":0,\"ticks\":\"\"}},\"type\":\"scattermapbox\"}],\"scatterpolargl\":[{\"marker\":{\"colorbar\":{\"outlinewidth\":0,\"ticks\":\"\"}},\"type\":\"scatterpolargl\"}],\"scatterpolar\":[{\"marker\":{\"colorbar\":{\"outlinewidth\":0,\"ticks\":\"\"}},\"type\":\"scatterpolar\"}],\"scatter\":[{\"fillpattern\":{\"fillmode\":\"overlay\",\"size\":10,\"solidity\":0.2},\"type\":\"scatter\"}],\"scatterternary\":[{\"marker\":{\"colorbar\":{\"outlinewidth\":0,\"ticks\":\"\"}},\"type\":\"scatterternary\"}],\"surface\":[{\"colorbar\":{\"outlinewidth\":0,\"ticks\":\"\"},\"colorscale\":[[0.0,\"#0d0887\"],[0.1111111111111111,\"#46039f\"],[0.2222222222222222,\"#7201a8\"],[0.3333333333333333,\"#9c179e\"],[0.4444444444444444,\"#bd3786\"],[0.5555555555555556,\"#d8576b\"],[0.6666666666666666,\"#ed7953\"],[0.7777777777777778,\"#fb9f3a\"],[0.8888888888888888,\"#fdca26\"],[1.0,\"#f0f921\"]],\"type\":\"surface\"}],\"table\":[{\"cells\":{\"fill\":{\"color\":\"#EBF0F8\"},\"line\":{\"color\":\"white\"}},\"header\":{\"fill\":{\"color\":\"#C8D4E3\"},\"line\":{\"color\":\"white\"}},\"type\":\"table\"}]},\"layout\":{\"annotationdefaults\":{\"arrowcolor\":\"#2a3f5f\",\"arrowhead\":0,\"arrowwidth\":1},\"autotypenumbers\":\"strict\",\"coloraxis\":{\"colorbar\":{\"outlinewidth\":0,\"ticks\":\"\"}},\"colorscale\":{\"diverging\":[[0,\"#8e0152\"],[0.1,\"#c51b7d\"],[0.2,\"#de77ae\"],[0.3,\"#f1b6da\"],[0.4,\"#fde0ef\"],[0.5,\"#f7f7f7\"],[0.6,\"#e6f5d0\"],[0.7,\"#b8e186\"],[0.8,\"#7fbc41\"],[0.9,\"#4d9221\"],[1,\"#276419\"]],\"sequential\":[[0.0,\"#0d0887\"],[0.1111111111111111,\"#46039f\"],[0.2222222222222222,\"#7201a8\"],[0.3333333333333333,\"#9c179e\"],[0.4444444444444444,\"#bd3786\"],[0.5555555555555556,\"#d8576b\"],[0.6666666666666666,\"#ed7953\"],[0.7777777777777778,\"#fb9f3a\"],[0.8888888888888888,\"#fdca26\"],[1.0,\"#f0f921\"]],\"sequentialminus\":[[0.0,\"#0d0887\"],[0.1111111111111111,\"#46039f\"],[0.2222222222222222,\"#7201a8\"],[0.3333333333333333,\"#9c179e\"],[0.4444444444444444,\"#bd3786\"],[0.5555555555555556,\"#d8576b\"],[0.6666666666666666,\"#ed7953\"],[0.7777777777777778,\"#fb9f3a\"],[0.8888888888888888,\"#fdca26\"],[1.0,\"#f0f921\"]]},\"colorway\":[\"#636efa\",\"#EF553B\",\"#00cc96\",\"#ab63fa\",\"#FFA15A\",\"#19d3f3\",\"#FF6692\",\"#B6E880\",\"#FF97FF\",\"#FECB52\"],\"font\":{\"color\":\"#2a3f5f\"},\"geo\":{\"bgcolor\":\"white\",\"lakecolor\":\"white\",\"landcolor\":\"#E5ECF6\",\"showlakes\":true,\"showland\":true,\"subunitcolor\":\"white\"},\"hoverlabel\":{\"align\":\"left\"},\"hovermode\":\"closest\",\"mapbox\":{\"style\":\"light\"},\"paper_bgcolor\":\"white\",\"plot_bgcolor\":\"#E5ECF6\",\"polar\":{\"angularaxis\":{\"gridcolor\":\"white\",\"linecolor\":\"white\",\"ticks\":\"\"},\"bgcolor\":\"#E5ECF6\",\"radialaxis\":{\"gridcolor\":\"white\",\"linecolor\":\"white\",\"ticks\":\"\"}},\"scene\":{\"xaxis\":{\"backgroundcolor\":\"#E5ECF6\",\"gridcolor\":\"white\",\"gridwidth\":2,\"linecolor\":\"white\",\"showbackground\":true,\"ticks\":\"\",\"zerolinecolor\":\"white\"},\"yaxis\":{\"backgroundcolor\":\"#E5ECF6\",\"gridcolor\":\"white\",\"gridwidth\":2,\"linecolor\":\"white\",\"showbackground\":true,\"ticks\":\"\",\"zerolinecolor\":\"white\"},\"zaxis\":{\"backgroundcolor\":\"#E5ECF6\",\"gridcolor\":\"white\",\"gridwidth\":2,\"linecolor\":\"white\",\"showbackground\":true,\"ticks\":\"\",\"zerolinecolor\":\"white\"}},\"shapedefaults\":{\"line\":{\"color\":\"#2a3f5f\"}},\"ternary\":{\"aaxis\":{\"gridcolor\":\"white\",\"linecolor\":\"white\",\"ticks\":\"\"},\"baxis\":{\"gridcolor\":\"white\",\"linecolor\":\"white\",\"ticks\":\"\"},\"bgcolor\":\"#E5ECF6\",\"caxis\":{\"gridcolor\":\"white\",\"linecolor\":\"white\",\"ticks\":\"\"}},\"title\":{\"x\":0.05},\"xaxis\":{\"automargin\":true,\"gridcolor\":\"white\",\"linecolor\":\"white\",\"ticks\":\"\",\"title\":{\"standoff\":15},\"zerolinecolor\":\"white\",\"zerolinewidth\":2},\"yaxis\":{\"automargin\":true,\"gridcolor\":\"white\",\"linecolor\":\"white\",\"ticks\":\"\",\"title\":{\"standoff\":15},\"zerolinecolor\":\"white\",\"zerolinewidth\":2}}},\"title\":{\"font\":{\"color\":\"#4D5663\"}},\"xaxis\":{\"gridcolor\":\"#E1E5ED\",\"showgrid\":true,\"tickfont\":{\"color\":\"#4D5663\"},\"title\":{\"font\":{\"color\":\"#4D5663\"},\"text\":\"\"},\"zerolinecolor\":\"#E1E5ED\"},\"yaxis\":{\"gridcolor\":\"#E1E5ED\",\"showgrid\":true,\"tickfont\":{\"color\":\"#4D5663\"},\"title\":{\"font\":{\"color\":\"#4D5663\"},\"text\":\"\"},\"zerolinecolor\":\"#E1E5ED\"}},                        {\"showLink\": true, \"linkText\": \"Export to plot.ly\", \"plotlyServerURL\": \"https://plot.ly\", \"responsive\": true}                    ).then(function(){\n",
       "                            \n",
       "var gd = document.getElementById('91320567-e89a-4173-904c-f89eec12887c');\n",
       "var x = new MutationObserver(function (mutations, observer) {{\n",
       "        var display = window.getComputedStyle(gd).display;\n",
       "        if (!display || display === 'none') {{\n",
       "            console.log([gd, 'removed!']);\n",
       "            Plotly.purge(gd);\n",
       "            observer.disconnect();\n",
       "        }}\n",
       "}});\n",
       "\n",
       "// Listen for the removal of the full notebook cells\n",
       "var notebookContainer = gd.closest('#notebook-container');\n",
       "if (notebookContainer) {{\n",
       "    x.observe(notebookContainer, {childList: true});\n",
       "}}\n",
       "\n",
       "// Listen for the clearing of the current output cell\n",
       "var outputEl = gd.closest('.output');\n",
       "if (outputEl) {{\n",
       "    x.observe(outputEl, {childList: true});\n",
       "}}\n",
       "\n",
       "                        })                };                });            </script>        </div>"
      ]
     },
     "metadata": {},
     "output_type": "display_data"
    }
   ],
   "source": [
    "df['A'].iplot(kind='hist',bins=25)"
   ]
  },
  {
   "cell_type": "code",
   "execution_count": 50,
   "metadata": {},
   "outputs": [
    {
     "data": {
      "application/vnd.plotly.v1+json": {
       "config": {
        "linkText": "Export to plot.ly",
        "plotlyServerURL": "https://plot.ly",
        "showLink": true
       },
       "data": [
        {
         "marker": {
          "color": [
           "rgb(255, 153, 51)",
           "rgb(55, 128, 191)",
           "rgb(50, 171, 96)",
           "rgb(128, 0, 128)",
           "rgb(219, 64, 82)",
           "rgb(0, 128, 128)",
           "rgb(255, 255, 51)",
           "rgb(128, 128, 0)",
           "rgb(251, 128, 114)",
           "rgb(128, 177, 211)"
          ],
          "line": {
           "width": 1.3
          },
          "size": [
           65,
           45,
           42,
           67,
           42,
           82,
           52,
           58,
           54,
           39,
           62,
           35,
           49,
           37,
           42,
           51,
           61,
           50,
           56,
           51,
           68,
           54,
           50,
           47,
           56,
           61,
           53,
           51,
           80,
           69,
           44,
           73,
           45,
           74,
           32,
           43,
           47,
           66,
           66,
           51,
           43,
           55,
           58,
           12,
           64,
           61,
           33,
           74,
           76,
           59,
           58,
           70,
           72,
           65,
           61,
           55,
           28,
           52,
           70,
           59,
           81,
           52,
           62,
           42,
           61,
           47,
           51,
           48,
           41,
           44,
           68,
           41,
           36,
           63,
           40,
           76,
           66,
           69,
           39,
           65,
           43,
           74,
           60,
           36,
           86,
           61,
           37,
           47,
           66,
           55,
           55,
           112,
           78,
           48,
           37,
           36,
           70,
           47,
           66,
           63
          ],
          "symbol": "circle"
         },
         "mode": "markers",
         "text": "",
         "type": "scatter",
         "x": [
          0.9214764218981654,
          0.9959423769262518,
          -1.3172230483026206,
          0.5407245812119383,
          0.642092394587669,
          -0.30864026929741556,
          -0.5064444603327013,
          -0.5082815706886411,
          1.5678242419240762,
          -0.5914735326347423,
          -1.7445375813070596,
          -0.8511532090360143,
          -0.30766078290663085,
          1.5312966921963567,
          0.58170307007244,
          0.7320952946850469,
          0.3738115273086843,
          1.0477262234425586,
          0.32586248987629135,
          0.7806172065163496,
          -1.5995344740588855,
          2.023197403454082,
          2.402146094037926,
          -0.14741254282516394,
          -1.0067375200215045,
          -1.1891762623742206,
          0.12349188869339653,
          0.700258798909914,
          1.413176658445167,
          1.3420667334049952,
          -0.8342798273525154,
          0.025666334238967782,
          -0.24069702509724686,
          0.21364229057549278,
          -1.4426144467776687,
          -0.08932745930767785,
          -0.5284704942944856,
          1.6058386748639275,
          -0.9387770840200482,
          1.2872196386808337,
          -0.19202162275969953,
          0.38100206767575034,
          1.18575609626376,
          0.5553161661699734,
          0.24115791611163684,
          1.4969203576631427,
          -0.5634481211552631,
          2.3703829812061907,
          1.767720902380606,
          0.28017710804105206,
          0.49646553023790985,
          -0.9360754821689791,
          0.5869592300176261,
          -0.09093762307121381,
          1.243246510213567,
          -0.13893385760855262,
          0.7044853625728603,
          -1.1561576840919168,
          -0.7579595928722608,
          -0.21471118458934224,
          0.9257381946080985,
          0.9766127047858868,
          0.6098074478067186,
          1.2146699177361575,
          -0.5123135622157158,
          0.4146388607013162,
          0.4128765741740123,
          -0.47478297707165257,
          -1.3107320275718506,
          -2.0141388970915552,
          0.2149067903001285,
          -0.4501277888894486,
          0.7373901809780066,
          0.6883782375334397,
          -1.0147904664394065,
          0.42183307829222266,
          0.19307449546973163,
          -0.1352813133812439,
          -0.9985451716644858,
          0.21851619701166838,
          0.04588262391096019,
          -0.710749838574289,
          -1.1436647243076707,
          2.0431288115605994,
          0.6826865242180874,
          2.1521093097078667,
          -0.9855146625140069,
          -0.5688666413452645,
          0.7891903836062417,
          -0.9964714269602141,
          -1.528259272876875,
          -0.3176272610541392,
          1.122088699841059,
          0.37043387975814307,
          -2.0079156864099224,
          0.5474650843712826,
          -0.8485065697644134,
          1.207729628300678,
          1.5330545394715986,
          0.7406995419159385
         ],
         "y": [
          -0.7644080455499217,
          1.4903826348831475,
          1.7753545095320915,
          -0.21941143583926614,
          1.490906394340638,
          0.05073007190325578,
          0.12891772924536005,
          0.9806341778768883,
          -1.4661106752532236,
          -1.8313822255569998,
          0.47711893311476583,
          0.3131582522918956,
          -1.4876819494001086,
          0.4750270444642189,
          2.0066305754796363,
          -1.5746220778422455,
          0.8510602760662758,
          0.5719808271700746,
          0.6086311492941431,
          -0.21401882438581846,
          -0.008657512498816817,
          0.6462715111133875,
          0.4657825991101462,
          -0.18737563711800978,
          0.16102303677942756,
          -0.3795194564004293,
          0.8805971750184391,
          -1.983928310036097,
          0.1931908606848667,
          -0.573221545296363,
          -0.7290244844446884,
          1.2128004880039103,
          0.4698273138772131,
          0.048029218692651005,
          0.4695259557613381,
          -0.8317369219897317,
          0.5633419089126847,
          -0.8864010907405202,
          -2.641968777183869,
          0.3958577374625747,
          0.5186893701304792,
          1.2774497848166861,
          -0.8941640946451048,
          -1.030456318697221,
          -0.9476122545711053,
          -0.2215741965974773,
          -0.33168783533905394,
          0.2933464634639469,
          1.1867330131865892,
          0.8040438563800378,
          -1.1980813882327417,
          0.8811886381415173,
          -0.24527772072678253,
          -0.6047611251358266,
          0.6776159331532022,
          0.2953541950827958,
          -2.3542882896518726,
          0.7294238680285776,
          -0.806114640441142,
          -0.14848521420104727,
          -0.25456290617086313,
          0.3185997119934261,
          -0.3232354568659813,
          -0.11591756327650839,
          0.45483205884065314,
          0.4621990285026095,
          1.472241567653293,
          0.27327614131344097,
          -0.8793666301201867,
          -0.24006525086929933,
          -0.5416831198154325,
          -0.07269629668585165,
          -0.9455796443367955,
          -0.7776122374725006,
          -0.9957952145034031,
          -1.1588967154402783,
          -0.5692902124415858,
          -0.5048771831228177,
          0.6434105582341395,
          -0.8902449420628814,
          -1.3944901166622579,
          0.019674051335566385,
          0.34807679578906436,
          1.9174342520796577,
          -0.40825511799886244,
          1.0078061832304828,
          -0.3375270586616938,
          1.854701379945328,
          -1.3545874562375024,
          1.5237278750361651,
          -0.20114573136672684,
          2.493310901723775,
          0.2825786235371873,
          -0.5844043067849404,
          0.031369299183915185,
          0.6170880343815135,
          -0.867010872289918,
          -0.435178928798219,
          1.3699292017692202,
          -0.41248911766088653
         ]
        }
       ],
       "layout": {
        "legend": {
         "bgcolor": "#F5F6F9",
         "font": {
          "color": "#4D5663"
         }
        },
        "paper_bgcolor": "#F5F6F9",
        "plot_bgcolor": "#F5F6F9",
        "template": {
         "data": {
          "bar": [
           {
            "error_x": {
             "color": "#2a3f5f"
            },
            "error_y": {
             "color": "#2a3f5f"
            },
            "marker": {
             "line": {
              "color": "#E5ECF6",
              "width": 0.5
             },
             "pattern": {
              "fillmode": "overlay",
              "size": 10,
              "solidity": 0.2
             }
            },
            "type": "bar"
           }
          ],
          "barpolar": [
           {
            "marker": {
             "line": {
              "color": "#E5ECF6",
              "width": 0.5
             },
             "pattern": {
              "fillmode": "overlay",
              "size": 10,
              "solidity": 0.2
             }
            },
            "type": "barpolar"
           }
          ],
          "carpet": [
           {
            "aaxis": {
             "endlinecolor": "#2a3f5f",
             "gridcolor": "white",
             "linecolor": "white",
             "minorgridcolor": "white",
             "startlinecolor": "#2a3f5f"
            },
            "baxis": {
             "endlinecolor": "#2a3f5f",
             "gridcolor": "white",
             "linecolor": "white",
             "minorgridcolor": "white",
             "startlinecolor": "#2a3f5f"
            },
            "type": "carpet"
           }
          ],
          "choropleth": [
           {
            "colorbar": {
             "outlinewidth": 0,
             "ticks": ""
            },
            "type": "choropleth"
           }
          ],
          "contour": [
           {
            "colorbar": {
             "outlinewidth": 0,
             "ticks": ""
            },
            "colorscale": [
             [
              0,
              "#0d0887"
             ],
             [
              0.1111111111111111,
              "#46039f"
             ],
             [
              0.2222222222222222,
              "#7201a8"
             ],
             [
              0.3333333333333333,
              "#9c179e"
             ],
             [
              0.4444444444444444,
              "#bd3786"
             ],
             [
              0.5555555555555556,
              "#d8576b"
             ],
             [
              0.6666666666666666,
              "#ed7953"
             ],
             [
              0.7777777777777778,
              "#fb9f3a"
             ],
             [
              0.8888888888888888,
              "#fdca26"
             ],
             [
              1,
              "#f0f921"
             ]
            ],
            "type": "contour"
           }
          ],
          "contourcarpet": [
           {
            "colorbar": {
             "outlinewidth": 0,
             "ticks": ""
            },
            "type": "contourcarpet"
           }
          ],
          "heatmap": [
           {
            "colorbar": {
             "outlinewidth": 0,
             "ticks": ""
            },
            "colorscale": [
             [
              0,
              "#0d0887"
             ],
             [
              0.1111111111111111,
              "#46039f"
             ],
             [
              0.2222222222222222,
              "#7201a8"
             ],
             [
              0.3333333333333333,
              "#9c179e"
             ],
             [
              0.4444444444444444,
              "#bd3786"
             ],
             [
              0.5555555555555556,
              "#d8576b"
             ],
             [
              0.6666666666666666,
              "#ed7953"
             ],
             [
              0.7777777777777778,
              "#fb9f3a"
             ],
             [
              0.8888888888888888,
              "#fdca26"
             ],
             [
              1,
              "#f0f921"
             ]
            ],
            "type": "heatmap"
           }
          ],
          "heatmapgl": [
           {
            "colorbar": {
             "outlinewidth": 0,
             "ticks": ""
            },
            "colorscale": [
             [
              0,
              "#0d0887"
             ],
             [
              0.1111111111111111,
              "#46039f"
             ],
             [
              0.2222222222222222,
              "#7201a8"
             ],
             [
              0.3333333333333333,
              "#9c179e"
             ],
             [
              0.4444444444444444,
              "#bd3786"
             ],
             [
              0.5555555555555556,
              "#d8576b"
             ],
             [
              0.6666666666666666,
              "#ed7953"
             ],
             [
              0.7777777777777778,
              "#fb9f3a"
             ],
             [
              0.8888888888888888,
              "#fdca26"
             ],
             [
              1,
              "#f0f921"
             ]
            ],
            "type": "heatmapgl"
           }
          ],
          "histogram": [
           {
            "marker": {
             "pattern": {
              "fillmode": "overlay",
              "size": 10,
              "solidity": 0.2
             }
            },
            "type": "histogram"
           }
          ],
          "histogram2d": [
           {
            "colorbar": {
             "outlinewidth": 0,
             "ticks": ""
            },
            "colorscale": [
             [
              0,
              "#0d0887"
             ],
             [
              0.1111111111111111,
              "#46039f"
             ],
             [
              0.2222222222222222,
              "#7201a8"
             ],
             [
              0.3333333333333333,
              "#9c179e"
             ],
             [
              0.4444444444444444,
              "#bd3786"
             ],
             [
              0.5555555555555556,
              "#d8576b"
             ],
             [
              0.6666666666666666,
              "#ed7953"
             ],
             [
              0.7777777777777778,
              "#fb9f3a"
             ],
             [
              0.8888888888888888,
              "#fdca26"
             ],
             [
              1,
              "#f0f921"
             ]
            ],
            "type": "histogram2d"
           }
          ],
          "histogram2dcontour": [
           {
            "colorbar": {
             "outlinewidth": 0,
             "ticks": ""
            },
            "colorscale": [
             [
              0,
              "#0d0887"
             ],
             [
              0.1111111111111111,
              "#46039f"
             ],
             [
              0.2222222222222222,
              "#7201a8"
             ],
             [
              0.3333333333333333,
              "#9c179e"
             ],
             [
              0.4444444444444444,
              "#bd3786"
             ],
             [
              0.5555555555555556,
              "#d8576b"
             ],
             [
              0.6666666666666666,
              "#ed7953"
             ],
             [
              0.7777777777777778,
              "#fb9f3a"
             ],
             [
              0.8888888888888888,
              "#fdca26"
             ],
             [
              1,
              "#f0f921"
             ]
            ],
            "type": "histogram2dcontour"
           }
          ],
          "mesh3d": [
           {
            "colorbar": {
             "outlinewidth": 0,
             "ticks": ""
            },
            "type": "mesh3d"
           }
          ],
          "parcoords": [
           {
            "line": {
             "colorbar": {
              "outlinewidth": 0,
              "ticks": ""
             }
            },
            "type": "parcoords"
           }
          ],
          "pie": [
           {
            "automargin": true,
            "type": "pie"
           }
          ],
          "scatter": [
           {
            "fillpattern": {
             "fillmode": "overlay",
             "size": 10,
             "solidity": 0.2
            },
            "type": "scatter"
           }
          ],
          "scatter3d": [
           {
            "line": {
             "colorbar": {
              "outlinewidth": 0,
              "ticks": ""
             }
            },
            "marker": {
             "colorbar": {
              "outlinewidth": 0,
              "ticks": ""
             }
            },
            "type": "scatter3d"
           }
          ],
          "scattercarpet": [
           {
            "marker": {
             "colorbar": {
              "outlinewidth": 0,
              "ticks": ""
             }
            },
            "type": "scattercarpet"
           }
          ],
          "scattergeo": [
           {
            "marker": {
             "colorbar": {
              "outlinewidth": 0,
              "ticks": ""
             }
            },
            "type": "scattergeo"
           }
          ],
          "scattergl": [
           {
            "marker": {
             "colorbar": {
              "outlinewidth": 0,
              "ticks": ""
             }
            },
            "type": "scattergl"
           }
          ],
          "scattermapbox": [
           {
            "marker": {
             "colorbar": {
              "outlinewidth": 0,
              "ticks": ""
             }
            },
            "type": "scattermapbox"
           }
          ],
          "scatterpolar": [
           {
            "marker": {
             "colorbar": {
              "outlinewidth": 0,
              "ticks": ""
             }
            },
            "type": "scatterpolar"
           }
          ],
          "scatterpolargl": [
           {
            "marker": {
             "colorbar": {
              "outlinewidth": 0,
              "ticks": ""
             }
            },
            "type": "scatterpolargl"
           }
          ],
          "scatterternary": [
           {
            "marker": {
             "colorbar": {
              "outlinewidth": 0,
              "ticks": ""
             }
            },
            "type": "scatterternary"
           }
          ],
          "surface": [
           {
            "colorbar": {
             "outlinewidth": 0,
             "ticks": ""
            },
            "colorscale": [
             [
              0,
              "#0d0887"
             ],
             [
              0.1111111111111111,
              "#46039f"
             ],
             [
              0.2222222222222222,
              "#7201a8"
             ],
             [
              0.3333333333333333,
              "#9c179e"
             ],
             [
              0.4444444444444444,
              "#bd3786"
             ],
             [
              0.5555555555555556,
              "#d8576b"
             ],
             [
              0.6666666666666666,
              "#ed7953"
             ],
             [
              0.7777777777777778,
              "#fb9f3a"
             ],
             [
              0.8888888888888888,
              "#fdca26"
             ],
             [
              1,
              "#f0f921"
             ]
            ],
            "type": "surface"
           }
          ],
          "table": [
           {
            "cells": {
             "fill": {
              "color": "#EBF0F8"
             },
             "line": {
              "color": "white"
             }
            },
            "header": {
             "fill": {
              "color": "#C8D4E3"
             },
             "line": {
              "color": "white"
             }
            },
            "type": "table"
           }
          ]
         },
         "layout": {
          "annotationdefaults": {
           "arrowcolor": "#2a3f5f",
           "arrowhead": 0,
           "arrowwidth": 1
          },
          "autotypenumbers": "strict",
          "coloraxis": {
           "colorbar": {
            "outlinewidth": 0,
            "ticks": ""
           }
          },
          "colorscale": {
           "diverging": [
            [
             0,
             "#8e0152"
            ],
            [
             0.1,
             "#c51b7d"
            ],
            [
             0.2,
             "#de77ae"
            ],
            [
             0.3,
             "#f1b6da"
            ],
            [
             0.4,
             "#fde0ef"
            ],
            [
             0.5,
             "#f7f7f7"
            ],
            [
             0.6,
             "#e6f5d0"
            ],
            [
             0.7,
             "#b8e186"
            ],
            [
             0.8,
             "#7fbc41"
            ],
            [
             0.9,
             "#4d9221"
            ],
            [
             1,
             "#276419"
            ]
           ],
           "sequential": [
            [
             0,
             "#0d0887"
            ],
            [
             0.1111111111111111,
             "#46039f"
            ],
            [
             0.2222222222222222,
             "#7201a8"
            ],
            [
             0.3333333333333333,
             "#9c179e"
            ],
            [
             0.4444444444444444,
             "#bd3786"
            ],
            [
             0.5555555555555556,
             "#d8576b"
            ],
            [
             0.6666666666666666,
             "#ed7953"
            ],
            [
             0.7777777777777778,
             "#fb9f3a"
            ],
            [
             0.8888888888888888,
             "#fdca26"
            ],
            [
             1,
             "#f0f921"
            ]
           ],
           "sequentialminus": [
            [
             0,
             "#0d0887"
            ],
            [
             0.1111111111111111,
             "#46039f"
            ],
            [
             0.2222222222222222,
             "#7201a8"
            ],
            [
             0.3333333333333333,
             "#9c179e"
            ],
            [
             0.4444444444444444,
             "#bd3786"
            ],
            [
             0.5555555555555556,
             "#d8576b"
            ],
            [
             0.6666666666666666,
             "#ed7953"
            ],
            [
             0.7777777777777778,
             "#fb9f3a"
            ],
            [
             0.8888888888888888,
             "#fdca26"
            ],
            [
             1,
             "#f0f921"
            ]
           ]
          },
          "colorway": [
           "#636efa",
           "#EF553B",
           "#00cc96",
           "#ab63fa",
           "#FFA15A",
           "#19d3f3",
           "#FF6692",
           "#B6E880",
           "#FF97FF",
           "#FECB52"
          ],
          "font": {
           "color": "#2a3f5f"
          },
          "geo": {
           "bgcolor": "white",
           "lakecolor": "white",
           "landcolor": "#E5ECF6",
           "showlakes": true,
           "showland": true,
           "subunitcolor": "white"
          },
          "hoverlabel": {
           "align": "left"
          },
          "hovermode": "closest",
          "mapbox": {
           "style": "light"
          },
          "paper_bgcolor": "white",
          "plot_bgcolor": "#E5ECF6",
          "polar": {
           "angularaxis": {
            "gridcolor": "white",
            "linecolor": "white",
            "ticks": ""
           },
           "bgcolor": "#E5ECF6",
           "radialaxis": {
            "gridcolor": "white",
            "linecolor": "white",
            "ticks": ""
           }
          },
          "scene": {
           "xaxis": {
            "backgroundcolor": "#E5ECF6",
            "gridcolor": "white",
            "gridwidth": 2,
            "linecolor": "white",
            "showbackground": true,
            "ticks": "",
            "zerolinecolor": "white"
           },
           "yaxis": {
            "backgroundcolor": "#E5ECF6",
            "gridcolor": "white",
            "gridwidth": 2,
            "linecolor": "white",
            "showbackground": true,
            "ticks": "",
            "zerolinecolor": "white"
           },
           "zaxis": {
            "backgroundcolor": "#E5ECF6",
            "gridcolor": "white",
            "gridwidth": 2,
            "linecolor": "white",
            "showbackground": true,
            "ticks": "",
            "zerolinecolor": "white"
           }
          },
          "shapedefaults": {
           "line": {
            "color": "#2a3f5f"
           }
          },
          "ternary": {
           "aaxis": {
            "gridcolor": "white",
            "linecolor": "white",
            "ticks": ""
           },
           "baxis": {
            "gridcolor": "white",
            "linecolor": "white",
            "ticks": ""
           },
           "bgcolor": "#E5ECF6",
           "caxis": {
            "gridcolor": "white",
            "linecolor": "white",
            "ticks": ""
           }
          },
          "title": {
           "x": 0.05
          },
          "xaxis": {
           "automargin": true,
           "gridcolor": "white",
           "linecolor": "white",
           "ticks": "",
           "title": {
            "standoff": 15
           },
           "zerolinecolor": "white",
           "zerolinewidth": 2
          },
          "yaxis": {
           "automargin": true,
           "gridcolor": "white",
           "linecolor": "white",
           "ticks": "",
           "title": {
            "standoff": 15
           },
           "zerolinecolor": "white",
           "zerolinewidth": 2
          }
         }
        },
        "title": {
         "font": {
          "color": "#4D5663"
         }
        },
        "xaxis": {
         "gridcolor": "#E1E5ED",
         "showgrid": true,
         "tickfont": {
          "color": "#4D5663"
         },
         "title": {
          "font": {
           "color": "#4D5663"
          },
          "text": ""
         },
         "zerolinecolor": "#E1E5ED"
        },
        "yaxis": {
         "gridcolor": "#E1E5ED",
         "showgrid": true,
         "tickfont": {
          "color": "#4D5663"
         },
         "title": {
          "font": {
           "color": "#4D5663"
          },
          "text": ""
         },
         "zerolinecolor": "#E1E5ED"
        }
       }
      },
      "text/html": [
       "<div>                            <div id=\"efded10e-7f30-4f1c-855a-3180f2b48e4c\" class=\"plotly-graph-div\" style=\"height:525px; width:100%;\"></div>            <script type=\"text/javascript\">                require([\"plotly\"], function(Plotly) {                    window.PLOTLYENV=window.PLOTLYENV || {};\n",
       "                    window.PLOTLYENV.BASE_URL='https://plot.ly';                                    if (document.getElementById(\"efded10e-7f30-4f1c-855a-3180f2b48e4c\")) {                    Plotly.newPlot(                        \"efded10e-7f30-4f1c-855a-3180f2b48e4c\",                        [{\"marker\":{\"color\":[\"rgb(255, 153, 51)\",\"rgb(55, 128, 191)\",\"rgb(50, 171, 96)\",\"rgb(128, 0, 128)\",\"rgb(219, 64, 82)\",\"rgb(0, 128, 128)\",\"rgb(255, 255, 51)\",\"rgb(128, 128, 0)\",\"rgb(251, 128, 114)\",\"rgb(128, 177, 211)\"],\"line\":{\"width\":1.3},\"size\":[65,45,42,67,42,82,52,58,54,39,62,35,49,37,42,51,61,50,56,51,68,54,50,47,56,61,53,51,80,69,44,73,45,74,32,43,47,66,66,51,43,55,58,12,64,61,33,74,76,59,58,70,72,65,61,55,28,52,70,59,81,52,62,42,61,47,51,48,41,44,68,41,36,63,40,76,66,69,39,65,43,74,60,36,86,61,37,47,66,55,55,112,78,48,37,36,70,47,66,63],\"symbol\":\"circle\"},\"mode\":\"markers\",\"text\":\"\",\"x\":[0.9214764218981654,0.9959423769262518,-1.3172230483026206,0.5407245812119383,0.642092394587669,-0.30864026929741556,-0.5064444603327013,-0.5082815706886411,1.5678242419240762,-0.5914735326347423,-1.7445375813070596,-0.8511532090360143,-0.30766078290663085,1.5312966921963567,0.58170307007244,0.7320952946850469,0.3738115273086843,1.0477262234425586,0.32586248987629135,0.7806172065163496,-1.5995344740588855,2.023197403454082,2.402146094037926,-0.14741254282516394,-1.0067375200215045,-1.1891762623742206,0.12349188869339653,0.700258798909914,1.413176658445167,1.3420667334049952,-0.8342798273525154,0.025666334238967782,-0.24069702509724686,0.21364229057549278,-1.4426144467776687,-0.08932745930767785,-0.5284704942944856,1.6058386748639275,-0.9387770840200482,1.2872196386808337,-0.19202162275969953,0.38100206767575034,1.18575609626376,0.5553161661699734,0.24115791611163684,1.4969203576631427,-0.5634481211552631,2.3703829812061907,1.767720902380606,0.28017710804105206,0.49646553023790985,-0.9360754821689791,0.5869592300176261,-0.09093762307121381,1.243246510213567,-0.13893385760855262,0.7044853625728603,-1.1561576840919168,-0.7579595928722608,-0.21471118458934224,0.9257381946080985,0.9766127047858868,0.6098074478067186,1.2146699177361575,-0.5123135622157158,0.4146388607013162,0.4128765741740123,-0.47478297707165257,-1.3107320275718506,-2.0141388970915552,0.2149067903001285,-0.4501277888894486,0.7373901809780066,0.6883782375334397,-1.0147904664394065,0.42183307829222266,0.19307449546973163,-0.1352813133812439,-0.9985451716644858,0.21851619701166838,0.04588262391096019,-0.710749838574289,-1.1436647243076707,2.0431288115605994,0.6826865242180874,2.1521093097078667,-0.9855146625140069,-0.5688666413452645,0.7891903836062417,-0.9964714269602141,-1.528259272876875,-0.3176272610541392,1.122088699841059,0.37043387975814307,-2.0079156864099224,0.5474650843712826,-0.8485065697644134,1.207729628300678,1.5330545394715986,0.7406995419159385],\"y\":[-0.7644080455499217,1.4903826348831475,1.7753545095320915,-0.21941143583926614,1.490906394340638,0.05073007190325578,0.12891772924536005,0.9806341778768883,-1.4661106752532236,-1.8313822255569998,0.47711893311476583,0.3131582522918956,-1.4876819494001086,0.4750270444642189,2.0066305754796363,-1.5746220778422455,0.8510602760662758,0.5719808271700746,0.6086311492941431,-0.21401882438581846,-0.008657512498816817,0.6462715111133875,0.4657825991101462,-0.18737563711800978,0.16102303677942756,-0.3795194564004293,0.8805971750184391,-1.983928310036097,0.1931908606848667,-0.573221545296363,-0.7290244844446884,1.2128004880039103,0.4698273138772131,0.048029218692651005,0.4695259557613381,-0.8317369219897317,0.5633419089126847,-0.8864010907405202,-2.641968777183869,0.3958577374625747,0.5186893701304792,1.2774497848166861,-0.8941640946451048,-1.030456318697221,-0.9476122545711053,-0.2215741965974773,-0.33168783533905394,0.2933464634639469,1.1867330131865892,0.8040438563800378,-1.1980813882327417,0.8811886381415173,-0.24527772072678253,-0.6047611251358266,0.6776159331532022,0.2953541950827958,-2.3542882896518726,0.7294238680285776,-0.806114640441142,-0.14848521420104727,-0.25456290617086313,0.3185997119934261,-0.3232354568659813,-0.11591756327650839,0.45483205884065314,0.4621990285026095,1.472241567653293,0.27327614131344097,-0.8793666301201867,-0.24006525086929933,-0.5416831198154325,-0.07269629668585165,-0.9455796443367955,-0.7776122374725006,-0.9957952145034031,-1.1588967154402783,-0.5692902124415858,-0.5048771831228177,0.6434105582341395,-0.8902449420628814,-1.3944901166622579,0.019674051335566385,0.34807679578906436,1.9174342520796577,-0.40825511799886244,1.0078061832304828,-0.3375270586616938,1.854701379945328,-1.3545874562375024,1.5237278750361651,-0.20114573136672684,2.493310901723775,0.2825786235371873,-0.5844043067849404,0.031369299183915185,0.6170880343815135,-0.867010872289918,-0.435178928798219,1.3699292017692202,-0.41248911766088653],\"type\":\"scatter\"}],                        {\"legend\":{\"bgcolor\":\"#F5F6F9\",\"font\":{\"color\":\"#4D5663\"}},\"paper_bgcolor\":\"#F5F6F9\",\"plot_bgcolor\":\"#F5F6F9\",\"template\":{\"data\":{\"barpolar\":[{\"marker\":{\"line\":{\"color\":\"#E5ECF6\",\"width\":0.5},\"pattern\":{\"fillmode\":\"overlay\",\"size\":10,\"solidity\":0.2}},\"type\":\"barpolar\"}],\"bar\":[{\"error_x\":{\"color\":\"#2a3f5f\"},\"error_y\":{\"color\":\"#2a3f5f\"},\"marker\":{\"line\":{\"color\":\"#E5ECF6\",\"width\":0.5},\"pattern\":{\"fillmode\":\"overlay\",\"size\":10,\"solidity\":0.2}},\"type\":\"bar\"}],\"carpet\":[{\"aaxis\":{\"endlinecolor\":\"#2a3f5f\",\"gridcolor\":\"white\",\"linecolor\":\"white\",\"minorgridcolor\":\"white\",\"startlinecolor\":\"#2a3f5f\"},\"baxis\":{\"endlinecolor\":\"#2a3f5f\",\"gridcolor\":\"white\",\"linecolor\":\"white\",\"minorgridcolor\":\"white\",\"startlinecolor\":\"#2a3f5f\"},\"type\":\"carpet\"}],\"choropleth\":[{\"colorbar\":{\"outlinewidth\":0,\"ticks\":\"\"},\"type\":\"choropleth\"}],\"contourcarpet\":[{\"colorbar\":{\"outlinewidth\":0,\"ticks\":\"\"},\"type\":\"contourcarpet\"}],\"contour\":[{\"colorbar\":{\"outlinewidth\":0,\"ticks\":\"\"},\"colorscale\":[[0.0,\"#0d0887\"],[0.1111111111111111,\"#46039f\"],[0.2222222222222222,\"#7201a8\"],[0.3333333333333333,\"#9c179e\"],[0.4444444444444444,\"#bd3786\"],[0.5555555555555556,\"#d8576b\"],[0.6666666666666666,\"#ed7953\"],[0.7777777777777778,\"#fb9f3a\"],[0.8888888888888888,\"#fdca26\"],[1.0,\"#f0f921\"]],\"type\":\"contour\"}],\"heatmapgl\":[{\"colorbar\":{\"outlinewidth\":0,\"ticks\":\"\"},\"colorscale\":[[0.0,\"#0d0887\"],[0.1111111111111111,\"#46039f\"],[0.2222222222222222,\"#7201a8\"],[0.3333333333333333,\"#9c179e\"],[0.4444444444444444,\"#bd3786\"],[0.5555555555555556,\"#d8576b\"],[0.6666666666666666,\"#ed7953\"],[0.7777777777777778,\"#fb9f3a\"],[0.8888888888888888,\"#fdca26\"],[1.0,\"#f0f921\"]],\"type\":\"heatmapgl\"}],\"heatmap\":[{\"colorbar\":{\"outlinewidth\":0,\"ticks\":\"\"},\"colorscale\":[[0.0,\"#0d0887\"],[0.1111111111111111,\"#46039f\"],[0.2222222222222222,\"#7201a8\"],[0.3333333333333333,\"#9c179e\"],[0.4444444444444444,\"#bd3786\"],[0.5555555555555556,\"#d8576b\"],[0.6666666666666666,\"#ed7953\"],[0.7777777777777778,\"#fb9f3a\"],[0.8888888888888888,\"#fdca26\"],[1.0,\"#f0f921\"]],\"type\":\"heatmap\"}],\"histogram2dcontour\":[{\"colorbar\":{\"outlinewidth\":0,\"ticks\":\"\"},\"colorscale\":[[0.0,\"#0d0887\"],[0.1111111111111111,\"#46039f\"],[0.2222222222222222,\"#7201a8\"],[0.3333333333333333,\"#9c179e\"],[0.4444444444444444,\"#bd3786\"],[0.5555555555555556,\"#d8576b\"],[0.6666666666666666,\"#ed7953\"],[0.7777777777777778,\"#fb9f3a\"],[0.8888888888888888,\"#fdca26\"],[1.0,\"#f0f921\"]],\"type\":\"histogram2dcontour\"}],\"histogram2d\":[{\"colorbar\":{\"outlinewidth\":0,\"ticks\":\"\"},\"colorscale\":[[0.0,\"#0d0887\"],[0.1111111111111111,\"#46039f\"],[0.2222222222222222,\"#7201a8\"],[0.3333333333333333,\"#9c179e\"],[0.4444444444444444,\"#bd3786\"],[0.5555555555555556,\"#d8576b\"],[0.6666666666666666,\"#ed7953\"],[0.7777777777777778,\"#fb9f3a\"],[0.8888888888888888,\"#fdca26\"],[1.0,\"#f0f921\"]],\"type\":\"histogram2d\"}],\"histogram\":[{\"marker\":{\"pattern\":{\"fillmode\":\"overlay\",\"size\":10,\"solidity\":0.2}},\"type\":\"histogram\"}],\"mesh3d\":[{\"colorbar\":{\"outlinewidth\":0,\"ticks\":\"\"},\"type\":\"mesh3d\"}],\"parcoords\":[{\"line\":{\"colorbar\":{\"outlinewidth\":0,\"ticks\":\"\"}},\"type\":\"parcoords\"}],\"pie\":[{\"automargin\":true,\"type\":\"pie\"}],\"scatter3d\":[{\"line\":{\"colorbar\":{\"outlinewidth\":0,\"ticks\":\"\"}},\"marker\":{\"colorbar\":{\"outlinewidth\":0,\"ticks\":\"\"}},\"type\":\"scatter3d\"}],\"scattercarpet\":[{\"marker\":{\"colorbar\":{\"outlinewidth\":0,\"ticks\":\"\"}},\"type\":\"scattercarpet\"}],\"scattergeo\":[{\"marker\":{\"colorbar\":{\"outlinewidth\":0,\"ticks\":\"\"}},\"type\":\"scattergeo\"}],\"scattergl\":[{\"marker\":{\"colorbar\":{\"outlinewidth\":0,\"ticks\":\"\"}},\"type\":\"scattergl\"}],\"scattermapbox\":[{\"marker\":{\"colorbar\":{\"outlinewidth\":0,\"ticks\":\"\"}},\"type\":\"scattermapbox\"}],\"scatterpolargl\":[{\"marker\":{\"colorbar\":{\"outlinewidth\":0,\"ticks\":\"\"}},\"type\":\"scatterpolargl\"}],\"scatterpolar\":[{\"marker\":{\"colorbar\":{\"outlinewidth\":0,\"ticks\":\"\"}},\"type\":\"scatterpolar\"}],\"scatter\":[{\"fillpattern\":{\"fillmode\":\"overlay\",\"size\":10,\"solidity\":0.2},\"type\":\"scatter\"}],\"scatterternary\":[{\"marker\":{\"colorbar\":{\"outlinewidth\":0,\"ticks\":\"\"}},\"type\":\"scatterternary\"}],\"surface\":[{\"colorbar\":{\"outlinewidth\":0,\"ticks\":\"\"},\"colorscale\":[[0.0,\"#0d0887\"],[0.1111111111111111,\"#46039f\"],[0.2222222222222222,\"#7201a8\"],[0.3333333333333333,\"#9c179e\"],[0.4444444444444444,\"#bd3786\"],[0.5555555555555556,\"#d8576b\"],[0.6666666666666666,\"#ed7953\"],[0.7777777777777778,\"#fb9f3a\"],[0.8888888888888888,\"#fdca26\"],[1.0,\"#f0f921\"]],\"type\":\"surface\"}],\"table\":[{\"cells\":{\"fill\":{\"color\":\"#EBF0F8\"},\"line\":{\"color\":\"white\"}},\"header\":{\"fill\":{\"color\":\"#C8D4E3\"},\"line\":{\"color\":\"white\"}},\"type\":\"table\"}]},\"layout\":{\"annotationdefaults\":{\"arrowcolor\":\"#2a3f5f\",\"arrowhead\":0,\"arrowwidth\":1},\"autotypenumbers\":\"strict\",\"coloraxis\":{\"colorbar\":{\"outlinewidth\":0,\"ticks\":\"\"}},\"colorscale\":{\"diverging\":[[0,\"#8e0152\"],[0.1,\"#c51b7d\"],[0.2,\"#de77ae\"],[0.3,\"#f1b6da\"],[0.4,\"#fde0ef\"],[0.5,\"#f7f7f7\"],[0.6,\"#e6f5d0\"],[0.7,\"#b8e186\"],[0.8,\"#7fbc41\"],[0.9,\"#4d9221\"],[1,\"#276419\"]],\"sequential\":[[0.0,\"#0d0887\"],[0.1111111111111111,\"#46039f\"],[0.2222222222222222,\"#7201a8\"],[0.3333333333333333,\"#9c179e\"],[0.4444444444444444,\"#bd3786\"],[0.5555555555555556,\"#d8576b\"],[0.6666666666666666,\"#ed7953\"],[0.7777777777777778,\"#fb9f3a\"],[0.8888888888888888,\"#fdca26\"],[1.0,\"#f0f921\"]],\"sequentialminus\":[[0.0,\"#0d0887\"],[0.1111111111111111,\"#46039f\"],[0.2222222222222222,\"#7201a8\"],[0.3333333333333333,\"#9c179e\"],[0.4444444444444444,\"#bd3786\"],[0.5555555555555556,\"#d8576b\"],[0.6666666666666666,\"#ed7953\"],[0.7777777777777778,\"#fb9f3a\"],[0.8888888888888888,\"#fdca26\"],[1.0,\"#f0f921\"]]},\"colorway\":[\"#636efa\",\"#EF553B\",\"#00cc96\",\"#ab63fa\",\"#FFA15A\",\"#19d3f3\",\"#FF6692\",\"#B6E880\",\"#FF97FF\",\"#FECB52\"],\"font\":{\"color\":\"#2a3f5f\"},\"geo\":{\"bgcolor\":\"white\",\"lakecolor\":\"white\",\"landcolor\":\"#E5ECF6\",\"showlakes\":true,\"showland\":true,\"subunitcolor\":\"white\"},\"hoverlabel\":{\"align\":\"left\"},\"hovermode\":\"closest\",\"mapbox\":{\"style\":\"light\"},\"paper_bgcolor\":\"white\",\"plot_bgcolor\":\"#E5ECF6\",\"polar\":{\"angularaxis\":{\"gridcolor\":\"white\",\"linecolor\":\"white\",\"ticks\":\"\"},\"bgcolor\":\"#E5ECF6\",\"radialaxis\":{\"gridcolor\":\"white\",\"linecolor\":\"white\",\"ticks\":\"\"}},\"scene\":{\"xaxis\":{\"backgroundcolor\":\"#E5ECF6\",\"gridcolor\":\"white\",\"gridwidth\":2,\"linecolor\":\"white\",\"showbackground\":true,\"ticks\":\"\",\"zerolinecolor\":\"white\"},\"yaxis\":{\"backgroundcolor\":\"#E5ECF6\",\"gridcolor\":\"white\",\"gridwidth\":2,\"linecolor\":\"white\",\"showbackground\":true,\"ticks\":\"\",\"zerolinecolor\":\"white\"},\"zaxis\":{\"backgroundcolor\":\"#E5ECF6\",\"gridcolor\":\"white\",\"gridwidth\":2,\"linecolor\":\"white\",\"showbackground\":true,\"ticks\":\"\",\"zerolinecolor\":\"white\"}},\"shapedefaults\":{\"line\":{\"color\":\"#2a3f5f\"}},\"ternary\":{\"aaxis\":{\"gridcolor\":\"white\",\"linecolor\":\"white\",\"ticks\":\"\"},\"baxis\":{\"gridcolor\":\"white\",\"linecolor\":\"white\",\"ticks\":\"\"},\"bgcolor\":\"#E5ECF6\",\"caxis\":{\"gridcolor\":\"white\",\"linecolor\":\"white\",\"ticks\":\"\"}},\"title\":{\"x\":0.05},\"xaxis\":{\"automargin\":true,\"gridcolor\":\"white\",\"linecolor\":\"white\",\"ticks\":\"\",\"title\":{\"standoff\":15},\"zerolinecolor\":\"white\",\"zerolinewidth\":2},\"yaxis\":{\"automargin\":true,\"gridcolor\":\"white\",\"linecolor\":\"white\",\"ticks\":\"\",\"title\":{\"standoff\":15},\"zerolinecolor\":\"white\",\"zerolinewidth\":2}}},\"title\":{\"font\":{\"color\":\"#4D5663\"}},\"xaxis\":{\"gridcolor\":\"#E1E5ED\",\"showgrid\":true,\"tickfont\":{\"color\":\"#4D5663\"},\"title\":{\"font\":{\"color\":\"#4D5663\"},\"text\":\"\"},\"zerolinecolor\":\"#E1E5ED\"},\"yaxis\":{\"gridcolor\":\"#E1E5ED\",\"showgrid\":true,\"tickfont\":{\"color\":\"#4D5663\"},\"title\":{\"font\":{\"color\":\"#4D5663\"},\"text\":\"\"},\"zerolinecolor\":\"#E1E5ED\"}},                        {\"showLink\": true, \"linkText\": \"Export to plot.ly\", \"plotlyServerURL\": \"https://plot.ly\", \"responsive\": true}                    ).then(function(){\n",
       "                            \n",
       "var gd = document.getElementById('efded10e-7f30-4f1c-855a-3180f2b48e4c');\n",
       "var x = new MutationObserver(function (mutations, observer) {{\n",
       "        var display = window.getComputedStyle(gd).display;\n",
       "        if (!display || display === 'none') {{\n",
       "            console.log([gd, 'removed!']);\n",
       "            Plotly.purge(gd);\n",
       "            observer.disconnect();\n",
       "        }}\n",
       "}});\n",
       "\n",
       "// Listen for the removal of the full notebook cells\n",
       "var notebookContainer = gd.closest('#notebook-container');\n",
       "if (notebookContainer) {{\n",
       "    x.observe(notebookContainer, {childList: true});\n",
       "}}\n",
       "\n",
       "// Listen for the clearing of the current output cell\n",
       "var outputEl = gd.closest('.output');\n",
       "if (outputEl) {{\n",
       "    x.observe(outputEl, {childList: true});\n",
       "}}\n",
       "\n",
       "                        })                };                });            </script>        </div>"
      ]
     },
     "metadata": {},
     "output_type": "display_data"
    }
   ],
   "source": [
    "df.iplot(kind='bubble',x='A',y='B',size='C')"
   ]
  },
  {
   "cell_type": "markdown",
   "metadata": {},
   "source": [
    "## scatter_matrix()\n",
    "\n",
    "Similar to sns.pairplot()"
   ]
  },
  {
   "cell_type": "code",
   "execution_count": 13,
   "metadata": {
    "scrolled": false
   },
   "outputs": [
    {
     "data": {
      "text/html": [
       "<div id=\"86d216e5-0500-405c-9cd1-7e410922bc7b\" style=\"height: 525px; width: 100%;\" class=\"plotly-graph-div\"></div><script type=\"text/javascript\">require([\"plotly\"], function(Plotly) { window.PLOTLYENV=window.PLOTLYENV || {};window.PLOTLYENV.BASE_URL=\"https://plot.ly\";Plotly.newPlot(\"86d216e5-0500-405c-9cd1-7e410922bc7b\", [{\"yaxis\": \"y1\", \"x\": [1.8787246669561561, 0.028733616663923985, -0.1587931161277573, -1.2219723462024636, 1.2531523973363488, 0.8312132082951045, 1.1740170898586173, -0.24393002059589958, -0.296966543277261, 0.7621695759158762, 0.04210347865555278, -0.7791970481917073, 0.3943032396655093, -1.0146190736152443, -0.4841710096782867, 0.5522466668361006, -2.77187556758784, -0.5181226698708166, -0.49722040792422156, -1.6534757596659548, -0.06027439377033132, 1.4769243769038323, 1.1796346669498379, -0.7816898015019265, 0.8630132212967984, 0.6590246731638996, -1.1013906677685679, -0.9446804895542242, -1.788022470413331, 0.8775002821729455, 0.3546715768521251, -0.16532125735222183, 1.8914747239632839, -1.1251772915449791, 0.8888981026894395, -0.6066117727706714, 0.8314777742724779, 0.3830457069359529, -0.937459527593053, -0.844561047334305, 1.1280232245052606, -1.640427972598561, 0.8971269652786067, 0.4848047458342485, 0.19373507090654035, -0.7387091317560727, -0.3566733282792827, -0.43158335134818315, -0.4899640124314907, 0.5488715658495908, 0.2821768987731658, -0.8832439438038343, 1.271863067044618, 0.10680856505919414, 0.8269478103679717, -0.03266751467505833, -0.34021520002722894, -0.6769186069469743, 0.7126188256918854, 1.8871150025438166, -0.06742662656190869, -1.4789736197389265, 0.346978601690099, -0.3757389938313092, 0.715285859520045, 1.5994858611908638, -0.3692558358591885, 0.13827360227735647, -0.40690530542342296, 0.636973800943974, 0.14658752987818605, -0.3949906255692418, 1.5076392623927681, -0.15486042602397807, 0.22159940179664614, -1.0878244818277978, -0.03354417910293162, 1.2258839316932069, -0.048951028800266715, -1.1089870994157809, 0.021452684803338333, 1.2548854256528554, -1.0913797662237141, -0.539059741192553, 0.6901269187662552, -1.4810451728120602, -0.8468654201203714, 0.3763927872506507, 0.8120568488462931, 0.0031767062628090745, 0.697742291538818, -0.7429703118062226, -0.842231117346612, -0.0666718362166121, 1.8829720647783421, 1.320112956074407, 0.42394324402947475, 0.466299928509142, 0.9415282138953815, -0.7707938096473991], \"orientation\": \"v\", \"name\": \"A\", \"opacity\": 0.8, \"histfunc\": \"count\", \"type\": \"histogram\", \"histnorm\": \"\", \"nbinsx\": 10, \"marker\": {\"line\": {\"width\": 1.3, \"color\": \"#D9D9D9\"}, \"color\": \"rgba(226, 74, 51, 1.0)\"}, \"xaxis\": \"x1\"}, {\"yaxis\": \"y2\", \"mode\": \"markers\", \"text\": \"\", \"xaxis\": \"x2\", \"x\": [0.6887194376286498, 0.1040535242504629, 0.38792642015276635, 1.3934230260395444, -0.5375976688704683, -1.1493608786796612, 0.01342890849383506, -0.47231861415738574, 0.24793169472844812, -0.6232083144122951, -1.2121596694710122, -2.4542371001007464, 0.29855785553142483, 1.2997620162676498, 0.9168047366909585, -0.41040614900130634, 1.3147531456519106, -0.12455263569370086, 0.9366143523054554, 0.23573463729990726, -0.8244746170540388, -0.32685668230128845, 1.501781503113865, 0.9830012153240587, 0.6020112305361386, 0.3688304138086671, 1.0090827131320237, -0.5811720111587422, 0.0512884505619472, -1.6917643070157176, -0.25322144257612356, -0.2937357494665306, 0.7368726362448421, 0.5763424997076779, 0.16472110066593693, -0.374254076023172, 1.1280304809680426, 0.6455371548668151, -0.18000225503004413, -0.9128911232313937, -0.5670695205365133, 0.16138491502455474, 1.2118733837294762, 0.4444506280024997, 0.6834767601409083, 1.8020727241195935, 2.4230878273709062, 0.27701889696287213, 1.4067122280705426, -0.33728919328412016, 0.5154870435338148, 0.7751019637809062, 1.400130435077449, 0.8276591566099151, 1.1268119555303864, 0.7016118169589718, 0.476169530704683, -0.5261125753709399, -1.2129692872143456, 0.6126338497954396, 1.5825905557818922, -0.8173630045970658, 0.1075602248072928, 1.2716988894407462, -0.15615948990467535, -0.2968566839654392, 1.7204934641303604, -0.869876624137026, 0.28935077735906545, -1.2052876742800458, -0.263979336251353, -0.02815365780209253, -0.04062347728476395, 0.943760296027789, -1.7797735906553165, 0.4485755919087686, 0.14778332986993048, 0.5305019463041807, 1.6359913516932165, -0.3437427119285297, 1.9109783094330681, 0.6818924480193401, -0.42214824562337705, 0.8935317581184008, 1.2587495288352297, -0.5992845246668753, 2.7851237345776405, -1.5158096238899554, 0.04177421570103183, 0.48980398157362903, 1.063643861677667, -0.8486329162129157, -1.86936339853131, 0.24761777046722996, 1.290606988097702, 0.17046338292604407, 0.14181179559597848, 0.6505415244850333, -2.5850581533594545, -0.30813091794721653], \"y\": [1.8787246669561561, 0.028733616663923985, -0.1587931161277573, -1.2219723462024636, 1.2531523973363488, 0.8312132082951045, 1.1740170898586173, -0.24393002059589958, -0.296966543277261, 0.7621695759158762, 0.04210347865555278, -0.7791970481917073, 0.3943032396655093, -1.0146190736152443, -0.4841710096782867, 0.5522466668361006, -2.77187556758784, -0.5181226698708166, -0.49722040792422156, -1.6534757596659548, -0.06027439377033132, 1.4769243769038323, 1.1796346669498379, -0.7816898015019265, 0.8630132212967984, 0.6590246731638996, -1.1013906677685679, -0.9446804895542242, -1.788022470413331, 0.8775002821729455, 0.3546715768521251, -0.16532125735222183, 1.8914747239632839, -1.1251772915449791, 0.8888981026894395, -0.6066117727706714, 0.8314777742724779, 0.3830457069359529, -0.937459527593053, -0.844561047334305, 1.1280232245052606, -1.640427972598561, 0.8971269652786067, 0.4848047458342485, 0.19373507090654035, -0.7387091317560727, -0.3566733282792827, -0.43158335134818315, -0.4899640124314907, 0.5488715658495908, 0.2821768987731658, -0.8832439438038343, 1.271863067044618, 0.10680856505919414, 0.8269478103679717, -0.03266751467505833, -0.34021520002722894, -0.6769186069469743, 0.7126188256918854, 1.8871150025438166, -0.06742662656190869, -1.4789736197389265, 0.346978601690099, -0.3757389938313092, 0.715285859520045, 1.5994858611908638, -0.3692558358591885, 0.13827360227735647, -0.40690530542342296, 0.636973800943974, 0.14658752987818605, -0.3949906255692418, 1.5076392623927681, -0.15486042602397807, 0.22159940179664614, -1.0878244818277978, -0.03354417910293162, 1.2258839316932069, -0.048951028800266715, -1.1089870994157809, 0.021452684803338333, 1.2548854256528554, -1.0913797662237141, -0.539059741192553, 0.6901269187662552, -1.4810451728120602, -0.8468654201203714, 0.3763927872506507, 0.8120568488462931, 0.0031767062628090745, 0.697742291538818, -0.7429703118062226, -0.842231117346612, -0.0666718362166121, 1.8829720647783421, 1.320112956074407, 0.42394324402947475, 0.466299928509142, 0.9415282138953815, -0.7707938096473991], \"type\": \"scatter\", \"line\": {\"dash\": \"solid\", \"width\": 1.3, \"color\": \"rgba(128, 128, 128, 1.0)\"}, \"marker\": {\"size\": 2, \"symbol\": \"dot\"}, \"name\": \"A\"}, {\"yaxis\": \"y3\", \"mode\": \"markers\", \"text\": \"\", \"xaxis\": \"x3\", \"x\": [1.0667334168325768, 0.04817571551860875, -0.6353709157290994, -0.29979428249659507, 0.30291706303457033, -1.2658520234759039, 0.4984256330100474, -0.4813817437844393, 1.6528819231392327, -1.0387894611418347, -1.4866253379043493, -0.5281135473322252, -0.061645252730345844, 0.7876423965771268, 0.9285191892602837, -3.0483938246413547, -0.371184208418135, 0.11169331199774239, 0.30352330980386477, -1.1851393464396252, -0.3023997655692267, 1.4199893168847753, -0.332851303404407, 0.7955908630250091, 0.5869705278914006, -0.45090328668726354, -0.7814566611757896, -0.1261200409144497, 0.7060858452328673, -0.8894721878843294, 0.6064992291432117, -0.1963991863666514, 0.16697094643083513, -0.06591707111576753, 0.8961422265850149, 0.8939803073905991, 0.2526177880230376, -1.2523243277936627, 0.9749672569040144, 0.9687477057343876, 0.26351967435246515, -0.9517261189215155, -0.18707956459088698, -0.39391833601946274, 0.5273775265831957, -0.48180251718398176, -2.2230374431929953, 2.0999928572789828, 0.5496483529576708, 1.067298459209482, -0.3040289105606048, 0.1352094843666391, -0.9944404721270197, 2.2258275006902912, -0.11689955437978636, 0.41231462999024887, 0.7856039151273921, -0.6894731524779986, -0.8276899193670904, 0.23638272241448607, 1.3266743967632526, 0.9626096963262857, -0.28379390855690406, -0.417413711892243, -1.3341211120615861, 0.9298055489835776, 2.106720126861483, 0.23150307059926345, 0.8864836518334782, 0.4193977048083098, 0.3190869644200757, 0.9673541346062681, 0.42245148076732175, 1.0906377526894717, 1.3887188298690671, -0.19507483218944058, -0.9347090401182315, 0.30126885232107575, 0.42495072953595375, -0.9170212042816844, -1.6965969381460768, -0.011576471618042839, -1.0479065708976978, -0.4749222730814971, 0.4229046102099884, 0.08254929486846736, -0.7783883617548714, -0.17950878512595098, 0.4391940123110264, -1.9667304216807953, -1.5652802021531136, 0.8163770970520242, -0.008375093041838632, 0.5510487504106222, -0.4239325998518183, -0.1297116221823799, -0.10728910870450034, -0.12169367361116121, -0.6905111268638191, -0.2653540299125418], \"y\": [1.8787246669561561, 0.028733616663923985, -0.1587931161277573, -1.2219723462024636, 1.2531523973363488, 0.8312132082951045, 1.1740170898586173, -0.24393002059589958, -0.296966543277261, 0.7621695759158762, 0.04210347865555278, -0.7791970481917073, 0.3943032396655093, -1.0146190736152443, -0.4841710096782867, 0.5522466668361006, -2.77187556758784, -0.5181226698708166, -0.49722040792422156, -1.6534757596659548, -0.06027439377033132, 1.4769243769038323, 1.1796346669498379, -0.7816898015019265, 0.8630132212967984, 0.6590246731638996, -1.1013906677685679, -0.9446804895542242, -1.788022470413331, 0.8775002821729455, 0.3546715768521251, -0.16532125735222183, 1.8914747239632839, -1.1251772915449791, 0.8888981026894395, -0.6066117727706714, 0.8314777742724779, 0.3830457069359529, -0.937459527593053, -0.844561047334305, 1.1280232245052606, -1.640427972598561, 0.8971269652786067, 0.4848047458342485, 0.19373507090654035, -0.7387091317560727, -0.3566733282792827, -0.43158335134818315, -0.4899640124314907, 0.5488715658495908, 0.2821768987731658, -0.8832439438038343, 1.271863067044618, 0.10680856505919414, 0.8269478103679717, -0.03266751467505833, -0.34021520002722894, -0.6769186069469743, 0.7126188256918854, 1.8871150025438166, -0.06742662656190869, -1.4789736197389265, 0.346978601690099, -0.3757389938313092, 0.715285859520045, 1.5994858611908638, -0.3692558358591885, 0.13827360227735647, -0.40690530542342296, 0.636973800943974, 0.14658752987818605, -0.3949906255692418, 1.5076392623927681, -0.15486042602397807, 0.22159940179664614, -1.0878244818277978, -0.03354417910293162, 1.2258839316932069, -0.048951028800266715, -1.1089870994157809, 0.021452684803338333, 1.2548854256528554, -1.0913797662237141, -0.539059741192553, 0.6901269187662552, -1.4810451728120602, -0.8468654201203714, 0.3763927872506507, 0.8120568488462931, 0.0031767062628090745, 0.697742291538818, -0.7429703118062226, -0.842231117346612, -0.0666718362166121, 1.8829720647783421, 1.320112956074407, 0.42394324402947475, 0.466299928509142, 0.9415282138953815, -0.7707938096473991], \"type\": \"scatter\", \"line\": {\"dash\": \"solid\", \"width\": 1.3, \"color\": \"rgba(128, 128, 128, 1.0)\"}, \"marker\": {\"size\": 2, \"symbol\": \"dot\"}, \"name\": \"A\"}, {\"yaxis\": \"y4\", \"mode\": \"markers\", \"text\": \"\", \"xaxis\": \"x4\", \"x\": [0.5439560303056027, 1.8421879324257613, -0.6375584499267892, -1.113621595762316, -2.5460826344966634, -1.4694525849240658, 1.5284509091178395, -0.2389286047643509, -1.8771013496698048, 0.7967095179585106, -1.2751392945819797, -0.3919771719871495, 0.6960770780779357, 1.0829877919884603, -0.21798245190329507, 0.10031667681839129, 0.39551692710003933, 0.03022462233656908, -0.3327329523770193, -0.204819010502919, -0.498599044144297, -2.287561059130041, -0.2626249290420713, -2.7487145066091996, -0.666926270349069, -2.0379098459994895, 0.4076679798231559, 1.2245324594636484, -2.0903293143661017, 0.5730523735386692, -0.8155129116660126, -0.9572874252328925, 0.2646752398006613, -1.59152570791709, 0.0934028853207141, -2.602771223170992, 0.560010384592385, 0.449602390416327, -0.005796794476065169, 0.1829347250578045, -0.5607194705468903, -1.1999112237192675, -1.5750218946994066, 0.9111111432091317, -0.2530599561069696, -0.5460310452823662, -0.2531538203527998, 1.5968736605431069, 1.723507060923573, 0.38763182009739877, -1.5443680470309729, 1.2505835233573588, 0.0032375885699842803, 0.3870066878402003, -0.32906689091979147, 0.3856397258220775, -0.1654479720586817, 0.2232842423247386, -0.4418766853437538, -0.6751906059090874, -1.6521803078301385, 0.8305325757578166, 0.6577807720682736, -1.2851830040136305, 0.5089005765755124, 0.5962021316815027, 0.9573351203673642, -1.7458475655160375, -1.7131000048598244, 1.5732405203322046, -0.6605298861077683, -1.3437487967599893, 1.9772828633357302, -0.2856844646078326, 0.19293980157348012, 0.1628250911198371, 0.4208217295167736, 0.5627226183638288, -1.058090429960864, -1.3589615830656872, 2.138807050366944, 0.885718335515041, 0.8374040360650308, 0.49834346725709405, -1.3963572343750588, 2.2245606506923625, 0.19641383189506273, -0.3435398382353588, 0.7215114388529363, -0.8327583822270256, -2.039974975731211, 1.2859290252046311, -1.1577060578657161, 0.36795754346511866, 0.970791311065794, 0.496204293102698, -0.05627542841788665, 0.10113620396598295, 0.7547476274222054, 0.15433234934660506], \"y\": [1.8787246669561561, 0.028733616663923985, -0.1587931161277573, -1.2219723462024636, 1.2531523973363488, 0.8312132082951045, 1.1740170898586173, -0.24393002059589958, -0.296966543277261, 0.7621695759158762, 0.04210347865555278, -0.7791970481917073, 0.3943032396655093, -1.0146190736152443, -0.4841710096782867, 0.5522466668361006, -2.77187556758784, -0.5181226698708166, -0.49722040792422156, -1.6534757596659548, -0.06027439377033132, 1.4769243769038323, 1.1796346669498379, -0.7816898015019265, 0.8630132212967984, 0.6590246731638996, -1.1013906677685679, -0.9446804895542242, -1.788022470413331, 0.8775002821729455, 0.3546715768521251, -0.16532125735222183, 1.8914747239632839, -1.1251772915449791, 0.8888981026894395, -0.6066117727706714, 0.8314777742724779, 0.3830457069359529, -0.937459527593053, -0.844561047334305, 1.1280232245052606, -1.640427972598561, 0.8971269652786067, 0.4848047458342485, 0.19373507090654035, -0.7387091317560727, -0.3566733282792827, -0.43158335134818315, -0.4899640124314907, 0.5488715658495908, 0.2821768987731658, -0.8832439438038343, 1.271863067044618, 0.10680856505919414, 0.8269478103679717, -0.03266751467505833, -0.34021520002722894, -0.6769186069469743, 0.7126188256918854, 1.8871150025438166, -0.06742662656190869, -1.4789736197389265, 0.346978601690099, -0.3757389938313092, 0.715285859520045, 1.5994858611908638, -0.3692558358591885, 0.13827360227735647, -0.40690530542342296, 0.636973800943974, 0.14658752987818605, -0.3949906255692418, 1.5076392623927681, -0.15486042602397807, 0.22159940179664614, -1.0878244818277978, -0.03354417910293162, 1.2258839316932069, -0.048951028800266715, -1.1089870994157809, 0.021452684803338333, 1.2548854256528554, -1.0913797662237141, -0.539059741192553, 0.6901269187662552, -1.4810451728120602, -0.8468654201203714, 0.3763927872506507, 0.8120568488462931, 0.0031767062628090745, 0.697742291538818, -0.7429703118062226, -0.842231117346612, -0.0666718362166121, 1.8829720647783421, 1.320112956074407, 0.42394324402947475, 0.466299928509142, 0.9415282138953815, -0.7707938096473991], \"type\": \"scatter\", \"line\": {\"dash\": \"solid\", \"width\": 1.3, \"color\": \"rgba(128, 128, 128, 1.0)\"}, \"marker\": {\"size\": 2, \"symbol\": \"dot\"}, \"name\": \"A\"}, {\"yaxis\": \"y5\", \"mode\": \"markers\", \"text\": \"\", \"xaxis\": \"x5\", \"x\": [1.8787246669561561, 0.028733616663923985, -0.1587931161277573, -1.2219723462024636, 1.2531523973363488, 0.8312132082951045, 1.1740170898586173, -0.24393002059589958, -0.296966543277261, 0.7621695759158762, 0.04210347865555278, -0.7791970481917073, 0.3943032396655093, -1.0146190736152443, -0.4841710096782867, 0.5522466668361006, -2.77187556758784, -0.5181226698708166, -0.49722040792422156, -1.6534757596659548, -0.06027439377033132, 1.4769243769038323, 1.1796346669498379, -0.7816898015019265, 0.8630132212967984, 0.6590246731638996, -1.1013906677685679, -0.9446804895542242, -1.788022470413331, 0.8775002821729455, 0.3546715768521251, -0.16532125735222183, 1.8914747239632839, -1.1251772915449791, 0.8888981026894395, -0.6066117727706714, 0.8314777742724779, 0.3830457069359529, -0.937459527593053, -0.844561047334305, 1.1280232245052606, -1.640427972598561, 0.8971269652786067, 0.4848047458342485, 0.19373507090654035, -0.7387091317560727, -0.3566733282792827, -0.43158335134818315, -0.4899640124314907, 0.5488715658495908, 0.2821768987731658, -0.8832439438038343, 1.271863067044618, 0.10680856505919414, 0.8269478103679717, -0.03266751467505833, -0.34021520002722894, -0.6769186069469743, 0.7126188256918854, 1.8871150025438166, -0.06742662656190869, -1.4789736197389265, 0.346978601690099, -0.3757389938313092, 0.715285859520045, 1.5994858611908638, -0.3692558358591885, 0.13827360227735647, -0.40690530542342296, 0.636973800943974, 0.14658752987818605, -0.3949906255692418, 1.5076392623927681, -0.15486042602397807, 0.22159940179664614, -1.0878244818277978, -0.03354417910293162, 1.2258839316932069, -0.048951028800266715, -1.1089870994157809, 0.021452684803338333, 1.2548854256528554, -1.0913797662237141, -0.539059741192553, 0.6901269187662552, -1.4810451728120602, -0.8468654201203714, 0.3763927872506507, 0.8120568488462931, 0.0031767062628090745, 0.697742291538818, -0.7429703118062226, -0.842231117346612, -0.0666718362166121, 1.8829720647783421, 1.320112956074407, 0.42394324402947475, 0.466299928509142, 0.9415282138953815, -0.7707938096473991], \"y\": [0.6887194376286498, 0.1040535242504629, 0.38792642015276635, 1.3934230260395444, -0.5375976688704683, -1.1493608786796612, 0.01342890849383506, -0.47231861415738574, 0.24793169472844812, -0.6232083144122951, -1.2121596694710122, -2.4542371001007464, 0.29855785553142483, 1.2997620162676498, 0.9168047366909585, -0.41040614900130634, 1.3147531456519106, -0.12455263569370086, 0.9366143523054554, 0.23573463729990726, -0.8244746170540388, -0.32685668230128845, 1.501781503113865, 0.9830012153240587, 0.6020112305361386, 0.3688304138086671, 1.0090827131320237, -0.5811720111587422, 0.0512884505619472, -1.6917643070157176, -0.25322144257612356, -0.2937357494665306, 0.7368726362448421, 0.5763424997076779, 0.16472110066593693, -0.374254076023172, 1.1280304809680426, 0.6455371548668151, -0.18000225503004413, -0.9128911232313937, -0.5670695205365133, 0.16138491502455474, 1.2118733837294762, 0.4444506280024997, 0.6834767601409083, 1.8020727241195935, 2.4230878273709062, 0.27701889696287213, 1.4067122280705426, -0.33728919328412016, 0.5154870435338148, 0.7751019637809062, 1.400130435077449, 0.8276591566099151, 1.1268119555303864, 0.7016118169589718, 0.476169530704683, -0.5261125753709399, -1.2129692872143456, 0.6126338497954396, 1.5825905557818922, -0.8173630045970658, 0.1075602248072928, 1.2716988894407462, -0.15615948990467535, -0.2968566839654392, 1.7204934641303604, -0.869876624137026, 0.28935077735906545, -1.2052876742800458, -0.263979336251353, -0.02815365780209253, -0.04062347728476395, 0.943760296027789, -1.7797735906553165, 0.4485755919087686, 0.14778332986993048, 0.5305019463041807, 1.6359913516932165, -0.3437427119285297, 1.9109783094330681, 0.6818924480193401, -0.42214824562337705, 0.8935317581184008, 1.2587495288352297, -0.5992845246668753, 2.7851237345776405, -1.5158096238899554, 0.04177421570103183, 0.48980398157362903, 1.063643861677667, -0.8486329162129157, -1.86936339853131, 0.24761777046722996, 1.290606988097702, 0.17046338292604407, 0.14181179559597848, 0.6505415244850333, -2.5850581533594545, -0.30813091794721653], \"type\": \"scatter\", \"line\": {\"dash\": \"solid\", \"width\": 1.3, \"color\": \"rgba(128, 128, 128, 1.0)\"}, \"marker\": {\"size\": 2, \"symbol\": \"dot\"}, \"name\": \"B\"}, {\"yaxis\": \"y6\", \"x\": [0.6887194376286498, 0.1040535242504629, 0.38792642015276635, 1.3934230260395444, -0.5375976688704683, -1.1493608786796612, 0.01342890849383506, -0.47231861415738574, 0.24793169472844812, -0.6232083144122951, -1.2121596694710122, -2.4542371001007464, 0.29855785553142483, 1.2997620162676498, 0.9168047366909585, -0.41040614900130634, 1.3147531456519106, -0.12455263569370086, 0.9366143523054554, 0.23573463729990726, -0.8244746170540388, -0.32685668230128845, 1.501781503113865, 0.9830012153240587, 0.6020112305361386, 0.3688304138086671, 1.0090827131320237, -0.5811720111587422, 0.0512884505619472, -1.6917643070157176, -0.25322144257612356, -0.2937357494665306, 0.7368726362448421, 0.5763424997076779, 0.16472110066593693, -0.374254076023172, 1.1280304809680426, 0.6455371548668151, -0.18000225503004413, -0.9128911232313937, -0.5670695205365133, 0.16138491502455474, 1.2118733837294762, 0.4444506280024997, 0.6834767601409083, 1.8020727241195935, 2.4230878273709062, 0.27701889696287213, 1.4067122280705426, -0.33728919328412016, 0.5154870435338148, 0.7751019637809062, 1.400130435077449, 0.8276591566099151, 1.1268119555303864, 0.7016118169589718, 0.476169530704683, -0.5261125753709399, -1.2129692872143456, 0.6126338497954396, 1.5825905557818922, -0.8173630045970658, 0.1075602248072928, 1.2716988894407462, -0.15615948990467535, -0.2968566839654392, 1.7204934641303604, -0.869876624137026, 0.28935077735906545, -1.2052876742800458, -0.263979336251353, -0.02815365780209253, -0.04062347728476395, 0.943760296027789, -1.7797735906553165, 0.4485755919087686, 0.14778332986993048, 0.5305019463041807, 1.6359913516932165, -0.3437427119285297, 1.9109783094330681, 0.6818924480193401, -0.42214824562337705, 0.8935317581184008, 1.2587495288352297, -0.5992845246668753, 2.7851237345776405, -1.5158096238899554, 0.04177421570103183, 0.48980398157362903, 1.063643861677667, -0.8486329162129157, -1.86936339853131, 0.24761777046722996, 1.290606988097702, 0.17046338292604407, 0.14181179559597848, 0.6505415244850333, -2.5850581533594545, -0.30813091794721653], \"orientation\": \"v\", \"name\": \"B\", \"opacity\": 0.8, \"histfunc\": \"count\", \"type\": \"histogram\", \"histnorm\": \"\", \"nbinsx\": 10, \"marker\": {\"line\": {\"width\": 1.3, \"color\": \"#D9D9D9\"}, \"color\": \"rgba(62, 111, 176, 1.0)\"}, \"xaxis\": \"x6\"}, {\"yaxis\": \"y7\", \"mode\": \"markers\", \"text\": \"\", \"xaxis\": \"x7\", \"x\": [1.0667334168325768, 0.04817571551860875, -0.6353709157290994, -0.29979428249659507, 0.30291706303457033, -1.2658520234759039, 0.4984256330100474, -0.4813817437844393, 1.6528819231392327, -1.0387894611418347, -1.4866253379043493, -0.5281135473322252, -0.061645252730345844, 0.7876423965771268, 0.9285191892602837, -3.0483938246413547, -0.371184208418135, 0.11169331199774239, 0.30352330980386477, -1.1851393464396252, -0.3023997655692267, 1.4199893168847753, -0.332851303404407, 0.7955908630250091, 0.5869705278914006, -0.45090328668726354, -0.7814566611757896, -0.1261200409144497, 0.7060858452328673, -0.8894721878843294, 0.6064992291432117, -0.1963991863666514, 0.16697094643083513, -0.06591707111576753, 0.8961422265850149, 0.8939803073905991, 0.2526177880230376, -1.2523243277936627, 0.9749672569040144, 0.9687477057343876, 0.26351967435246515, -0.9517261189215155, -0.18707956459088698, -0.39391833601946274, 0.5273775265831957, -0.48180251718398176, -2.2230374431929953, 2.0999928572789828, 0.5496483529576708, 1.067298459209482, -0.3040289105606048, 0.1352094843666391, -0.9944404721270197, 2.2258275006902912, -0.11689955437978636, 0.41231462999024887, 0.7856039151273921, -0.6894731524779986, -0.8276899193670904, 0.23638272241448607, 1.3266743967632526, 0.9626096963262857, -0.28379390855690406, -0.417413711892243, -1.3341211120615861, 0.9298055489835776, 2.106720126861483, 0.23150307059926345, 0.8864836518334782, 0.4193977048083098, 0.3190869644200757, 0.9673541346062681, 0.42245148076732175, 1.0906377526894717, 1.3887188298690671, -0.19507483218944058, -0.9347090401182315, 0.30126885232107575, 0.42495072953595375, -0.9170212042816844, -1.6965969381460768, -0.011576471618042839, -1.0479065708976978, -0.4749222730814971, 0.4229046102099884, 0.08254929486846736, -0.7783883617548714, -0.17950878512595098, 0.4391940123110264, -1.9667304216807953, -1.5652802021531136, 0.8163770970520242, -0.008375093041838632, 0.5510487504106222, -0.4239325998518183, -0.1297116221823799, -0.10728910870450034, -0.12169367361116121, -0.6905111268638191, -0.2653540299125418], \"y\": [0.6887194376286498, 0.1040535242504629, 0.38792642015276635, 1.3934230260395444, -0.5375976688704683, -1.1493608786796612, 0.01342890849383506, -0.47231861415738574, 0.24793169472844812, -0.6232083144122951, -1.2121596694710122, -2.4542371001007464, 0.29855785553142483, 1.2997620162676498, 0.9168047366909585, -0.41040614900130634, 1.3147531456519106, -0.12455263569370086, 0.9366143523054554, 0.23573463729990726, -0.8244746170540388, -0.32685668230128845, 1.501781503113865, 0.9830012153240587, 0.6020112305361386, 0.3688304138086671, 1.0090827131320237, -0.5811720111587422, 0.0512884505619472, -1.6917643070157176, -0.25322144257612356, -0.2937357494665306, 0.7368726362448421, 0.5763424997076779, 0.16472110066593693, -0.374254076023172, 1.1280304809680426, 0.6455371548668151, -0.18000225503004413, -0.9128911232313937, -0.5670695205365133, 0.16138491502455474, 1.2118733837294762, 0.4444506280024997, 0.6834767601409083, 1.8020727241195935, 2.4230878273709062, 0.27701889696287213, 1.4067122280705426, -0.33728919328412016, 0.5154870435338148, 0.7751019637809062, 1.400130435077449, 0.8276591566099151, 1.1268119555303864, 0.7016118169589718, 0.476169530704683, -0.5261125753709399, -1.2129692872143456, 0.6126338497954396, 1.5825905557818922, -0.8173630045970658, 0.1075602248072928, 1.2716988894407462, -0.15615948990467535, -0.2968566839654392, 1.7204934641303604, -0.869876624137026, 0.28935077735906545, -1.2052876742800458, -0.263979336251353, -0.02815365780209253, -0.04062347728476395, 0.943760296027789, -1.7797735906553165, 0.4485755919087686, 0.14778332986993048, 0.5305019463041807, 1.6359913516932165, -0.3437427119285297, 1.9109783094330681, 0.6818924480193401, -0.42214824562337705, 0.8935317581184008, 1.2587495288352297, -0.5992845246668753, 2.7851237345776405, -1.5158096238899554, 0.04177421570103183, 0.48980398157362903, 1.063643861677667, -0.8486329162129157, -1.86936339853131, 0.24761777046722996, 1.290606988097702, 0.17046338292604407, 0.14181179559597848, 0.6505415244850333, -2.5850581533594545, -0.30813091794721653], \"type\": \"scatter\", \"line\": {\"dash\": \"solid\", \"width\": 1.3, \"color\": \"rgba(128, 128, 128, 1.0)\"}, \"marker\": {\"size\": 2, \"symbol\": \"dot\"}, \"name\": \"B\"}, {\"yaxis\": \"y8\", \"mode\": \"markers\", \"text\": \"\", \"xaxis\": \"x8\", \"x\": [0.5439560303056027, 1.8421879324257613, -0.6375584499267892, -1.113621595762316, -2.5460826344966634, -1.4694525849240658, 1.5284509091178395, -0.2389286047643509, -1.8771013496698048, 0.7967095179585106, -1.2751392945819797, -0.3919771719871495, 0.6960770780779357, 1.0829877919884603, -0.21798245190329507, 0.10031667681839129, 0.39551692710003933, 0.03022462233656908, -0.3327329523770193, -0.204819010502919, -0.498599044144297, -2.287561059130041, -0.2626249290420713, -2.7487145066091996, -0.666926270349069, -2.0379098459994895, 0.4076679798231559, 1.2245324594636484, -2.0903293143661017, 0.5730523735386692, -0.8155129116660126, -0.9572874252328925, 0.2646752398006613, -1.59152570791709, 0.0934028853207141, -2.602771223170992, 0.560010384592385, 0.449602390416327, -0.005796794476065169, 0.1829347250578045, -0.5607194705468903, -1.1999112237192675, -1.5750218946994066, 0.9111111432091317, -0.2530599561069696, -0.5460310452823662, -0.2531538203527998, 1.5968736605431069, 1.723507060923573, 0.38763182009739877, -1.5443680470309729, 1.2505835233573588, 0.0032375885699842803, 0.3870066878402003, -0.32906689091979147, 0.3856397258220775, -0.1654479720586817, 0.2232842423247386, -0.4418766853437538, -0.6751906059090874, -1.6521803078301385, 0.8305325757578166, 0.6577807720682736, -1.2851830040136305, 0.5089005765755124, 0.5962021316815027, 0.9573351203673642, -1.7458475655160375, -1.7131000048598244, 1.5732405203322046, -0.6605298861077683, -1.3437487967599893, 1.9772828633357302, -0.2856844646078326, 0.19293980157348012, 0.1628250911198371, 0.4208217295167736, 0.5627226183638288, -1.058090429960864, -1.3589615830656872, 2.138807050366944, 0.885718335515041, 0.8374040360650308, 0.49834346725709405, -1.3963572343750588, 2.2245606506923625, 0.19641383189506273, -0.3435398382353588, 0.7215114388529363, -0.8327583822270256, -2.039974975731211, 1.2859290252046311, -1.1577060578657161, 0.36795754346511866, 0.970791311065794, 0.496204293102698, -0.05627542841788665, 0.10113620396598295, 0.7547476274222054, 0.15433234934660506], \"y\": [0.6887194376286498, 0.1040535242504629, 0.38792642015276635, 1.3934230260395444, -0.5375976688704683, -1.1493608786796612, 0.01342890849383506, -0.47231861415738574, 0.24793169472844812, -0.6232083144122951, -1.2121596694710122, -2.4542371001007464, 0.29855785553142483, 1.2997620162676498, 0.9168047366909585, -0.41040614900130634, 1.3147531456519106, -0.12455263569370086, 0.9366143523054554, 0.23573463729990726, -0.8244746170540388, -0.32685668230128845, 1.501781503113865, 0.9830012153240587, 0.6020112305361386, 0.3688304138086671, 1.0090827131320237, -0.5811720111587422, 0.0512884505619472, -1.6917643070157176, -0.25322144257612356, -0.2937357494665306, 0.7368726362448421, 0.5763424997076779, 0.16472110066593693, -0.374254076023172, 1.1280304809680426, 0.6455371548668151, -0.18000225503004413, -0.9128911232313937, -0.5670695205365133, 0.16138491502455474, 1.2118733837294762, 0.4444506280024997, 0.6834767601409083, 1.8020727241195935, 2.4230878273709062, 0.27701889696287213, 1.4067122280705426, -0.33728919328412016, 0.5154870435338148, 0.7751019637809062, 1.400130435077449, 0.8276591566099151, 1.1268119555303864, 0.7016118169589718, 0.476169530704683, -0.5261125753709399, -1.2129692872143456, 0.6126338497954396, 1.5825905557818922, -0.8173630045970658, 0.1075602248072928, 1.2716988894407462, -0.15615948990467535, -0.2968566839654392, 1.7204934641303604, -0.869876624137026, 0.28935077735906545, -1.2052876742800458, -0.263979336251353, -0.02815365780209253, -0.04062347728476395, 0.943760296027789, -1.7797735906553165, 0.4485755919087686, 0.14778332986993048, 0.5305019463041807, 1.6359913516932165, -0.3437427119285297, 1.9109783094330681, 0.6818924480193401, -0.42214824562337705, 0.8935317581184008, 1.2587495288352297, -0.5992845246668753, 2.7851237345776405, -1.5158096238899554, 0.04177421570103183, 0.48980398157362903, 1.063643861677667, -0.8486329162129157, -1.86936339853131, 0.24761777046722996, 1.290606988097702, 0.17046338292604407, 0.14181179559597848, 0.6505415244850333, -2.5850581533594545, -0.30813091794721653], \"type\": \"scatter\", \"line\": {\"dash\": \"solid\", \"width\": 1.3, \"color\": \"rgba(128, 128, 128, 1.0)\"}, \"marker\": {\"size\": 2, \"symbol\": \"dot\"}, \"name\": \"B\"}, {\"yaxis\": \"y9\", \"mode\": \"markers\", \"text\": \"\", \"xaxis\": \"x9\", \"x\": [1.8787246669561561, 0.028733616663923985, -0.1587931161277573, -1.2219723462024636, 1.2531523973363488, 0.8312132082951045, 1.1740170898586173, -0.24393002059589958, -0.296966543277261, 0.7621695759158762, 0.04210347865555278, -0.7791970481917073, 0.3943032396655093, -1.0146190736152443, -0.4841710096782867, 0.5522466668361006, -2.77187556758784, -0.5181226698708166, -0.49722040792422156, -1.6534757596659548, -0.06027439377033132, 1.4769243769038323, 1.1796346669498379, -0.7816898015019265, 0.8630132212967984, 0.6590246731638996, -1.1013906677685679, -0.9446804895542242, -1.788022470413331, 0.8775002821729455, 0.3546715768521251, -0.16532125735222183, 1.8914747239632839, -1.1251772915449791, 0.8888981026894395, -0.6066117727706714, 0.8314777742724779, 0.3830457069359529, -0.937459527593053, -0.844561047334305, 1.1280232245052606, -1.640427972598561, 0.8971269652786067, 0.4848047458342485, 0.19373507090654035, -0.7387091317560727, -0.3566733282792827, -0.43158335134818315, -0.4899640124314907, 0.5488715658495908, 0.2821768987731658, -0.8832439438038343, 1.271863067044618, 0.10680856505919414, 0.8269478103679717, -0.03266751467505833, -0.34021520002722894, -0.6769186069469743, 0.7126188256918854, 1.8871150025438166, -0.06742662656190869, -1.4789736197389265, 0.346978601690099, -0.3757389938313092, 0.715285859520045, 1.5994858611908638, -0.3692558358591885, 0.13827360227735647, -0.40690530542342296, 0.636973800943974, 0.14658752987818605, -0.3949906255692418, 1.5076392623927681, -0.15486042602397807, 0.22159940179664614, -1.0878244818277978, -0.03354417910293162, 1.2258839316932069, -0.048951028800266715, -1.1089870994157809, 0.021452684803338333, 1.2548854256528554, -1.0913797662237141, -0.539059741192553, 0.6901269187662552, -1.4810451728120602, -0.8468654201203714, 0.3763927872506507, 0.8120568488462931, 0.0031767062628090745, 0.697742291538818, -0.7429703118062226, -0.842231117346612, -0.0666718362166121, 1.8829720647783421, 1.320112956074407, 0.42394324402947475, 0.466299928509142, 0.9415282138953815, -0.7707938096473991], \"y\": [1.0667334168325768, 0.04817571551860875, -0.6353709157290994, -0.29979428249659507, 0.30291706303457033, -1.2658520234759039, 0.4984256330100474, -0.4813817437844393, 1.6528819231392327, -1.0387894611418347, -1.4866253379043493, -0.5281135473322252, -0.061645252730345844, 0.7876423965771268, 0.9285191892602837, -3.0483938246413547, -0.371184208418135, 0.11169331199774239, 0.30352330980386477, -1.1851393464396252, -0.3023997655692267, 1.4199893168847753, -0.332851303404407, 0.7955908630250091, 0.5869705278914006, -0.45090328668726354, -0.7814566611757896, -0.1261200409144497, 0.7060858452328673, -0.8894721878843294, 0.6064992291432117, -0.1963991863666514, 0.16697094643083513, -0.06591707111576753, 0.8961422265850149, 0.8939803073905991, 0.2526177880230376, -1.2523243277936627, 0.9749672569040144, 0.9687477057343876, 0.26351967435246515, -0.9517261189215155, -0.18707956459088698, -0.39391833601946274, 0.5273775265831957, -0.48180251718398176, -2.2230374431929953, 2.0999928572789828, 0.5496483529576708, 1.067298459209482, -0.3040289105606048, 0.1352094843666391, -0.9944404721270197, 2.2258275006902912, -0.11689955437978636, 0.41231462999024887, 0.7856039151273921, -0.6894731524779986, -0.8276899193670904, 0.23638272241448607, 1.3266743967632526, 0.9626096963262857, -0.28379390855690406, -0.417413711892243, -1.3341211120615861, 0.9298055489835776, 2.106720126861483, 0.23150307059926345, 0.8864836518334782, 0.4193977048083098, 0.3190869644200757, 0.9673541346062681, 0.42245148076732175, 1.0906377526894717, 1.3887188298690671, -0.19507483218944058, -0.9347090401182315, 0.30126885232107575, 0.42495072953595375, -0.9170212042816844, -1.6965969381460768, -0.011576471618042839, -1.0479065708976978, -0.4749222730814971, 0.4229046102099884, 0.08254929486846736, -0.7783883617548714, -0.17950878512595098, 0.4391940123110264, -1.9667304216807953, -1.5652802021531136, 0.8163770970520242, -0.008375093041838632, 0.5510487504106222, -0.4239325998518183, -0.1297116221823799, -0.10728910870450034, -0.12169367361116121, -0.6905111268638191, -0.2653540299125418], \"type\": \"scatter\", \"line\": {\"dash\": \"solid\", \"width\": 1.3, \"color\": \"rgba(128, 128, 128, 1.0)\"}, \"marker\": {\"size\": 2, \"symbol\": \"dot\"}, \"name\": \"C\"}, {\"yaxis\": \"y10\", \"mode\": \"markers\", \"text\": \"\", \"xaxis\": \"x10\", \"x\": [0.6887194376286498, 0.1040535242504629, 0.38792642015276635, 1.3934230260395444, -0.5375976688704683, -1.1493608786796612, 0.01342890849383506, -0.47231861415738574, 0.24793169472844812, -0.6232083144122951, -1.2121596694710122, -2.4542371001007464, 0.29855785553142483, 1.2997620162676498, 0.9168047366909585, -0.41040614900130634, 1.3147531456519106, -0.12455263569370086, 0.9366143523054554, 0.23573463729990726, -0.8244746170540388, -0.32685668230128845, 1.501781503113865, 0.9830012153240587, 0.6020112305361386, 0.3688304138086671, 1.0090827131320237, -0.5811720111587422, 0.0512884505619472, -1.6917643070157176, -0.25322144257612356, -0.2937357494665306, 0.7368726362448421, 0.5763424997076779, 0.16472110066593693, -0.374254076023172, 1.1280304809680426, 0.6455371548668151, -0.18000225503004413, -0.9128911232313937, -0.5670695205365133, 0.16138491502455474, 1.2118733837294762, 0.4444506280024997, 0.6834767601409083, 1.8020727241195935, 2.4230878273709062, 0.27701889696287213, 1.4067122280705426, -0.33728919328412016, 0.5154870435338148, 0.7751019637809062, 1.400130435077449, 0.8276591566099151, 1.1268119555303864, 0.7016118169589718, 0.476169530704683, -0.5261125753709399, -1.2129692872143456, 0.6126338497954396, 1.5825905557818922, -0.8173630045970658, 0.1075602248072928, 1.2716988894407462, -0.15615948990467535, -0.2968566839654392, 1.7204934641303604, -0.869876624137026, 0.28935077735906545, -1.2052876742800458, -0.263979336251353, -0.02815365780209253, -0.04062347728476395, 0.943760296027789, -1.7797735906553165, 0.4485755919087686, 0.14778332986993048, 0.5305019463041807, 1.6359913516932165, -0.3437427119285297, 1.9109783094330681, 0.6818924480193401, -0.42214824562337705, 0.8935317581184008, 1.2587495288352297, -0.5992845246668753, 2.7851237345776405, -1.5158096238899554, 0.04177421570103183, 0.48980398157362903, 1.063643861677667, -0.8486329162129157, -1.86936339853131, 0.24761777046722996, 1.290606988097702, 0.17046338292604407, 0.14181179559597848, 0.6505415244850333, -2.5850581533594545, -0.30813091794721653], \"y\": [1.0667334168325768, 0.04817571551860875, -0.6353709157290994, -0.29979428249659507, 0.30291706303457033, -1.2658520234759039, 0.4984256330100474, -0.4813817437844393, 1.6528819231392327, -1.0387894611418347, -1.4866253379043493, -0.5281135473322252, -0.061645252730345844, 0.7876423965771268, 0.9285191892602837, -3.0483938246413547, -0.371184208418135, 0.11169331199774239, 0.30352330980386477, -1.1851393464396252, -0.3023997655692267, 1.4199893168847753, -0.332851303404407, 0.7955908630250091, 0.5869705278914006, -0.45090328668726354, -0.7814566611757896, -0.1261200409144497, 0.7060858452328673, -0.8894721878843294, 0.6064992291432117, -0.1963991863666514, 0.16697094643083513, -0.06591707111576753, 0.8961422265850149, 0.8939803073905991, 0.2526177880230376, -1.2523243277936627, 0.9749672569040144, 0.9687477057343876, 0.26351967435246515, -0.9517261189215155, -0.18707956459088698, -0.39391833601946274, 0.5273775265831957, -0.48180251718398176, -2.2230374431929953, 2.0999928572789828, 0.5496483529576708, 1.067298459209482, -0.3040289105606048, 0.1352094843666391, -0.9944404721270197, 2.2258275006902912, -0.11689955437978636, 0.41231462999024887, 0.7856039151273921, -0.6894731524779986, -0.8276899193670904, 0.23638272241448607, 1.3266743967632526, 0.9626096963262857, -0.28379390855690406, -0.417413711892243, -1.3341211120615861, 0.9298055489835776, 2.106720126861483, 0.23150307059926345, 0.8864836518334782, 0.4193977048083098, 0.3190869644200757, 0.9673541346062681, 0.42245148076732175, 1.0906377526894717, 1.3887188298690671, -0.19507483218944058, -0.9347090401182315, 0.30126885232107575, 0.42495072953595375, -0.9170212042816844, -1.6965969381460768, -0.011576471618042839, -1.0479065708976978, -0.4749222730814971, 0.4229046102099884, 0.08254929486846736, -0.7783883617548714, -0.17950878512595098, 0.4391940123110264, -1.9667304216807953, -1.5652802021531136, 0.8163770970520242, -0.008375093041838632, 0.5510487504106222, -0.4239325998518183, -0.1297116221823799, -0.10728910870450034, -0.12169367361116121, -0.6905111268638191, -0.2653540299125418], \"type\": \"scatter\", \"line\": {\"dash\": \"solid\", \"width\": 1.3, \"color\": \"rgba(128, 128, 128, 1.0)\"}, \"marker\": {\"size\": 2, \"symbol\": \"dot\"}, \"name\": \"C\"}, {\"yaxis\": \"y11\", \"x\": [1.0667334168325768, 0.04817571551860875, -0.6353709157290994, -0.29979428249659507, 0.30291706303457033, -1.2658520234759039, 0.4984256330100474, -0.4813817437844393, 1.6528819231392327, -1.0387894611418347, -1.4866253379043493, -0.5281135473322252, -0.061645252730345844, 0.7876423965771268, 0.9285191892602837, -3.0483938246413547, -0.371184208418135, 0.11169331199774239, 0.30352330980386477, -1.1851393464396252, -0.3023997655692267, 1.4199893168847753, -0.332851303404407, 0.7955908630250091, 0.5869705278914006, -0.45090328668726354, -0.7814566611757896, -0.1261200409144497, 0.7060858452328673, -0.8894721878843294, 0.6064992291432117, -0.1963991863666514, 0.16697094643083513, -0.06591707111576753, 0.8961422265850149, 0.8939803073905991, 0.2526177880230376, -1.2523243277936627, 0.9749672569040144, 0.9687477057343876, 0.26351967435246515, -0.9517261189215155, -0.18707956459088698, -0.39391833601946274, 0.5273775265831957, -0.48180251718398176, -2.2230374431929953, 2.0999928572789828, 0.5496483529576708, 1.067298459209482, -0.3040289105606048, 0.1352094843666391, -0.9944404721270197, 2.2258275006902912, -0.11689955437978636, 0.41231462999024887, 0.7856039151273921, -0.6894731524779986, -0.8276899193670904, 0.23638272241448607, 1.3266743967632526, 0.9626096963262857, -0.28379390855690406, -0.417413711892243, -1.3341211120615861, 0.9298055489835776, 2.106720126861483, 0.23150307059926345, 0.8864836518334782, 0.4193977048083098, 0.3190869644200757, 0.9673541346062681, 0.42245148076732175, 1.0906377526894717, 1.3887188298690671, -0.19507483218944058, -0.9347090401182315, 0.30126885232107575, 0.42495072953595375, -0.9170212042816844, -1.6965969381460768, -0.011576471618042839, -1.0479065708976978, -0.4749222730814971, 0.4229046102099884, 0.08254929486846736, -0.7783883617548714, -0.17950878512595098, 0.4391940123110264, -1.9667304216807953, -1.5652802021531136, 0.8163770970520242, -0.008375093041838632, 0.5510487504106222, -0.4239325998518183, -0.1297116221823799, -0.10728910870450034, -0.12169367361116121, -0.6905111268638191, -0.2653540299125418], \"orientation\": \"v\", \"name\": \"C\", \"opacity\": 0.8, \"histfunc\": \"count\", \"type\": \"histogram\", \"histnorm\": \"\", \"nbinsx\": 10, \"marker\": {\"line\": {\"width\": 1.3, \"color\": \"#D9D9D9\"}, \"color\": \"rgba(132, 118, 202, 1.0)\"}, \"xaxis\": \"x11\"}, {\"yaxis\": \"y12\", \"mode\": \"markers\", \"text\": \"\", \"xaxis\": \"x12\", \"x\": [0.5439560303056027, 1.8421879324257613, -0.6375584499267892, -1.113621595762316, -2.5460826344966634, -1.4694525849240658, 1.5284509091178395, -0.2389286047643509, -1.8771013496698048, 0.7967095179585106, -1.2751392945819797, -0.3919771719871495, 0.6960770780779357, 1.0829877919884603, -0.21798245190329507, 0.10031667681839129, 0.39551692710003933, 0.03022462233656908, -0.3327329523770193, -0.204819010502919, -0.498599044144297, -2.287561059130041, -0.2626249290420713, -2.7487145066091996, -0.666926270349069, -2.0379098459994895, 0.4076679798231559, 1.2245324594636484, -2.0903293143661017, 0.5730523735386692, -0.8155129116660126, -0.9572874252328925, 0.2646752398006613, -1.59152570791709, 0.0934028853207141, -2.602771223170992, 0.560010384592385, 0.449602390416327, -0.005796794476065169, 0.1829347250578045, -0.5607194705468903, -1.1999112237192675, -1.5750218946994066, 0.9111111432091317, -0.2530599561069696, -0.5460310452823662, -0.2531538203527998, 1.5968736605431069, 1.723507060923573, 0.38763182009739877, -1.5443680470309729, 1.2505835233573588, 0.0032375885699842803, 0.3870066878402003, -0.32906689091979147, 0.3856397258220775, -0.1654479720586817, 0.2232842423247386, -0.4418766853437538, -0.6751906059090874, -1.6521803078301385, 0.8305325757578166, 0.6577807720682736, -1.2851830040136305, 0.5089005765755124, 0.5962021316815027, 0.9573351203673642, -1.7458475655160375, -1.7131000048598244, 1.5732405203322046, -0.6605298861077683, -1.3437487967599893, 1.9772828633357302, -0.2856844646078326, 0.19293980157348012, 0.1628250911198371, 0.4208217295167736, 0.5627226183638288, -1.058090429960864, -1.3589615830656872, 2.138807050366944, 0.885718335515041, 0.8374040360650308, 0.49834346725709405, -1.3963572343750588, 2.2245606506923625, 0.19641383189506273, -0.3435398382353588, 0.7215114388529363, -0.8327583822270256, -2.039974975731211, 1.2859290252046311, -1.1577060578657161, 0.36795754346511866, 0.970791311065794, 0.496204293102698, -0.05627542841788665, 0.10113620396598295, 0.7547476274222054, 0.15433234934660506], \"y\": [1.0667334168325768, 0.04817571551860875, -0.6353709157290994, -0.29979428249659507, 0.30291706303457033, -1.2658520234759039, 0.4984256330100474, -0.4813817437844393, 1.6528819231392327, -1.0387894611418347, -1.4866253379043493, -0.5281135473322252, -0.061645252730345844, 0.7876423965771268, 0.9285191892602837, -3.0483938246413547, -0.371184208418135, 0.11169331199774239, 0.30352330980386477, -1.1851393464396252, -0.3023997655692267, 1.4199893168847753, -0.332851303404407, 0.7955908630250091, 0.5869705278914006, -0.45090328668726354, -0.7814566611757896, -0.1261200409144497, 0.7060858452328673, -0.8894721878843294, 0.6064992291432117, -0.1963991863666514, 0.16697094643083513, -0.06591707111576753, 0.8961422265850149, 0.8939803073905991, 0.2526177880230376, -1.2523243277936627, 0.9749672569040144, 0.9687477057343876, 0.26351967435246515, -0.9517261189215155, -0.18707956459088698, -0.39391833601946274, 0.5273775265831957, -0.48180251718398176, -2.2230374431929953, 2.0999928572789828, 0.5496483529576708, 1.067298459209482, -0.3040289105606048, 0.1352094843666391, -0.9944404721270197, 2.2258275006902912, -0.11689955437978636, 0.41231462999024887, 0.7856039151273921, -0.6894731524779986, -0.8276899193670904, 0.23638272241448607, 1.3266743967632526, 0.9626096963262857, -0.28379390855690406, -0.417413711892243, -1.3341211120615861, 0.9298055489835776, 2.106720126861483, 0.23150307059926345, 0.8864836518334782, 0.4193977048083098, 0.3190869644200757, 0.9673541346062681, 0.42245148076732175, 1.0906377526894717, 1.3887188298690671, -0.19507483218944058, -0.9347090401182315, 0.30126885232107575, 0.42495072953595375, -0.9170212042816844, -1.6965969381460768, -0.011576471618042839, -1.0479065708976978, -0.4749222730814971, 0.4229046102099884, 0.08254929486846736, -0.7783883617548714, -0.17950878512595098, 0.4391940123110264, -1.9667304216807953, -1.5652802021531136, 0.8163770970520242, -0.008375093041838632, 0.5510487504106222, -0.4239325998518183, -0.1297116221823799, -0.10728910870450034, -0.12169367361116121, -0.6905111268638191, -0.2653540299125418], \"type\": \"scatter\", \"line\": {\"dash\": \"solid\", \"width\": 1.3, \"color\": \"rgba(128, 128, 128, 1.0)\"}, \"marker\": {\"size\": 2, \"symbol\": \"dot\"}, \"name\": \"C\"}, {\"yaxis\": \"y13\", \"mode\": \"markers\", \"text\": \"\", \"xaxis\": \"x13\", \"x\": [1.8787246669561561, 0.028733616663923985, -0.1587931161277573, -1.2219723462024636, 1.2531523973363488, 0.8312132082951045, 1.1740170898586173, -0.24393002059589958, -0.296966543277261, 0.7621695759158762, 0.04210347865555278, -0.7791970481917073, 0.3943032396655093, -1.0146190736152443, -0.4841710096782867, 0.5522466668361006, -2.77187556758784, -0.5181226698708166, -0.49722040792422156, -1.6534757596659548, -0.06027439377033132, 1.4769243769038323, 1.1796346669498379, -0.7816898015019265, 0.8630132212967984, 0.6590246731638996, -1.1013906677685679, -0.9446804895542242, -1.788022470413331, 0.8775002821729455, 0.3546715768521251, -0.16532125735222183, 1.8914747239632839, -1.1251772915449791, 0.8888981026894395, -0.6066117727706714, 0.8314777742724779, 0.3830457069359529, -0.937459527593053, -0.844561047334305, 1.1280232245052606, -1.640427972598561, 0.8971269652786067, 0.4848047458342485, 0.19373507090654035, -0.7387091317560727, -0.3566733282792827, -0.43158335134818315, -0.4899640124314907, 0.5488715658495908, 0.2821768987731658, -0.8832439438038343, 1.271863067044618, 0.10680856505919414, 0.8269478103679717, -0.03266751467505833, -0.34021520002722894, -0.6769186069469743, 0.7126188256918854, 1.8871150025438166, -0.06742662656190869, -1.4789736197389265, 0.346978601690099, -0.3757389938313092, 0.715285859520045, 1.5994858611908638, -0.3692558358591885, 0.13827360227735647, -0.40690530542342296, 0.636973800943974, 0.14658752987818605, -0.3949906255692418, 1.5076392623927681, -0.15486042602397807, 0.22159940179664614, -1.0878244818277978, -0.03354417910293162, 1.2258839316932069, -0.048951028800266715, -1.1089870994157809, 0.021452684803338333, 1.2548854256528554, -1.0913797662237141, -0.539059741192553, 0.6901269187662552, -1.4810451728120602, -0.8468654201203714, 0.3763927872506507, 0.8120568488462931, 0.0031767062628090745, 0.697742291538818, -0.7429703118062226, -0.842231117346612, -0.0666718362166121, 1.8829720647783421, 1.320112956074407, 0.42394324402947475, 0.466299928509142, 0.9415282138953815, -0.7707938096473991], \"y\": [0.5439560303056027, 1.8421879324257613, -0.6375584499267892, -1.113621595762316, -2.5460826344966634, -1.4694525849240658, 1.5284509091178395, -0.2389286047643509, -1.8771013496698048, 0.7967095179585106, -1.2751392945819797, -0.3919771719871495, 0.6960770780779357, 1.0829877919884603, -0.21798245190329507, 0.10031667681839129, 0.39551692710003933, 0.03022462233656908, -0.3327329523770193, -0.204819010502919, -0.498599044144297, -2.287561059130041, -0.2626249290420713, -2.7487145066091996, -0.666926270349069, -2.0379098459994895, 0.4076679798231559, 1.2245324594636484, -2.0903293143661017, 0.5730523735386692, -0.8155129116660126, -0.9572874252328925, 0.2646752398006613, -1.59152570791709, 0.0934028853207141, -2.602771223170992, 0.560010384592385, 0.449602390416327, -0.005796794476065169, 0.1829347250578045, -0.5607194705468903, -1.1999112237192675, -1.5750218946994066, 0.9111111432091317, -0.2530599561069696, -0.5460310452823662, -0.2531538203527998, 1.5968736605431069, 1.723507060923573, 0.38763182009739877, -1.5443680470309729, 1.2505835233573588, 0.0032375885699842803, 0.3870066878402003, -0.32906689091979147, 0.3856397258220775, -0.1654479720586817, 0.2232842423247386, -0.4418766853437538, -0.6751906059090874, -1.6521803078301385, 0.8305325757578166, 0.6577807720682736, -1.2851830040136305, 0.5089005765755124, 0.5962021316815027, 0.9573351203673642, -1.7458475655160375, -1.7131000048598244, 1.5732405203322046, -0.6605298861077683, -1.3437487967599893, 1.9772828633357302, -0.2856844646078326, 0.19293980157348012, 0.1628250911198371, 0.4208217295167736, 0.5627226183638288, -1.058090429960864, -1.3589615830656872, 2.138807050366944, 0.885718335515041, 0.8374040360650308, 0.49834346725709405, -1.3963572343750588, 2.2245606506923625, 0.19641383189506273, -0.3435398382353588, 0.7215114388529363, -0.8327583822270256, -2.039974975731211, 1.2859290252046311, -1.1577060578657161, 0.36795754346511866, 0.970791311065794, 0.496204293102698, -0.05627542841788665, 0.10113620396598295, 0.7547476274222054, 0.15433234934660506], \"type\": \"scatter\", \"line\": {\"dash\": \"solid\", \"width\": 1.3, \"color\": \"rgba(128, 128, 128, 1.0)\"}, \"marker\": {\"size\": 2, \"symbol\": \"dot\"}, \"name\": \"D\"}, {\"yaxis\": \"y14\", \"mode\": \"markers\", \"text\": \"\", \"xaxis\": \"x14\", \"x\": [0.6887194376286498, 0.1040535242504629, 0.38792642015276635, 1.3934230260395444, -0.5375976688704683, -1.1493608786796612, 0.01342890849383506, -0.47231861415738574, 0.24793169472844812, -0.6232083144122951, -1.2121596694710122, -2.4542371001007464, 0.29855785553142483, 1.2997620162676498, 0.9168047366909585, -0.41040614900130634, 1.3147531456519106, -0.12455263569370086, 0.9366143523054554, 0.23573463729990726, -0.8244746170540388, -0.32685668230128845, 1.501781503113865, 0.9830012153240587, 0.6020112305361386, 0.3688304138086671, 1.0090827131320237, -0.5811720111587422, 0.0512884505619472, -1.6917643070157176, -0.25322144257612356, -0.2937357494665306, 0.7368726362448421, 0.5763424997076779, 0.16472110066593693, -0.374254076023172, 1.1280304809680426, 0.6455371548668151, -0.18000225503004413, -0.9128911232313937, -0.5670695205365133, 0.16138491502455474, 1.2118733837294762, 0.4444506280024997, 0.6834767601409083, 1.8020727241195935, 2.4230878273709062, 0.27701889696287213, 1.4067122280705426, -0.33728919328412016, 0.5154870435338148, 0.7751019637809062, 1.400130435077449, 0.8276591566099151, 1.1268119555303864, 0.7016118169589718, 0.476169530704683, -0.5261125753709399, -1.2129692872143456, 0.6126338497954396, 1.5825905557818922, -0.8173630045970658, 0.1075602248072928, 1.2716988894407462, -0.15615948990467535, -0.2968566839654392, 1.7204934641303604, -0.869876624137026, 0.28935077735906545, -1.2052876742800458, -0.263979336251353, -0.02815365780209253, -0.04062347728476395, 0.943760296027789, -1.7797735906553165, 0.4485755919087686, 0.14778332986993048, 0.5305019463041807, 1.6359913516932165, -0.3437427119285297, 1.9109783094330681, 0.6818924480193401, -0.42214824562337705, 0.8935317581184008, 1.2587495288352297, -0.5992845246668753, 2.7851237345776405, -1.5158096238899554, 0.04177421570103183, 0.48980398157362903, 1.063643861677667, -0.8486329162129157, -1.86936339853131, 0.24761777046722996, 1.290606988097702, 0.17046338292604407, 0.14181179559597848, 0.6505415244850333, -2.5850581533594545, -0.30813091794721653], \"y\": [0.5439560303056027, 1.8421879324257613, -0.6375584499267892, -1.113621595762316, -2.5460826344966634, -1.4694525849240658, 1.5284509091178395, -0.2389286047643509, -1.8771013496698048, 0.7967095179585106, -1.2751392945819797, -0.3919771719871495, 0.6960770780779357, 1.0829877919884603, -0.21798245190329507, 0.10031667681839129, 0.39551692710003933, 0.03022462233656908, -0.3327329523770193, -0.204819010502919, -0.498599044144297, -2.287561059130041, -0.2626249290420713, -2.7487145066091996, -0.666926270349069, -2.0379098459994895, 0.4076679798231559, 1.2245324594636484, -2.0903293143661017, 0.5730523735386692, -0.8155129116660126, -0.9572874252328925, 0.2646752398006613, -1.59152570791709, 0.0934028853207141, -2.602771223170992, 0.560010384592385, 0.449602390416327, -0.005796794476065169, 0.1829347250578045, -0.5607194705468903, -1.1999112237192675, -1.5750218946994066, 0.9111111432091317, -0.2530599561069696, -0.5460310452823662, -0.2531538203527998, 1.5968736605431069, 1.723507060923573, 0.38763182009739877, -1.5443680470309729, 1.2505835233573588, 0.0032375885699842803, 0.3870066878402003, -0.32906689091979147, 0.3856397258220775, -0.1654479720586817, 0.2232842423247386, -0.4418766853437538, -0.6751906059090874, -1.6521803078301385, 0.8305325757578166, 0.6577807720682736, -1.2851830040136305, 0.5089005765755124, 0.5962021316815027, 0.9573351203673642, -1.7458475655160375, -1.7131000048598244, 1.5732405203322046, -0.6605298861077683, -1.3437487967599893, 1.9772828633357302, -0.2856844646078326, 0.19293980157348012, 0.1628250911198371, 0.4208217295167736, 0.5627226183638288, -1.058090429960864, -1.3589615830656872, 2.138807050366944, 0.885718335515041, 0.8374040360650308, 0.49834346725709405, -1.3963572343750588, 2.2245606506923625, 0.19641383189506273, -0.3435398382353588, 0.7215114388529363, -0.8327583822270256, -2.039974975731211, 1.2859290252046311, -1.1577060578657161, 0.36795754346511866, 0.970791311065794, 0.496204293102698, -0.05627542841788665, 0.10113620396598295, 0.7547476274222054, 0.15433234934660506], \"type\": \"scatter\", \"line\": {\"dash\": \"solid\", \"width\": 1.3, \"color\": \"rgba(128, 128, 128, 1.0)\"}, \"marker\": {\"size\": 2, \"symbol\": \"dot\"}, \"name\": \"D\"}, {\"yaxis\": \"y15\", \"mode\": \"markers\", \"text\": \"\", \"xaxis\": \"x15\", \"x\": [1.0667334168325768, 0.04817571551860875, -0.6353709157290994, -0.29979428249659507, 0.30291706303457033, -1.2658520234759039, 0.4984256330100474, -0.4813817437844393, 1.6528819231392327, -1.0387894611418347, -1.4866253379043493, -0.5281135473322252, -0.061645252730345844, 0.7876423965771268, 0.9285191892602837, -3.0483938246413547, -0.371184208418135, 0.11169331199774239, 0.30352330980386477, -1.1851393464396252, -0.3023997655692267, 1.4199893168847753, -0.332851303404407, 0.7955908630250091, 0.5869705278914006, -0.45090328668726354, -0.7814566611757896, -0.1261200409144497, 0.7060858452328673, -0.8894721878843294, 0.6064992291432117, -0.1963991863666514, 0.16697094643083513, -0.06591707111576753, 0.8961422265850149, 0.8939803073905991, 0.2526177880230376, -1.2523243277936627, 0.9749672569040144, 0.9687477057343876, 0.26351967435246515, -0.9517261189215155, -0.18707956459088698, -0.39391833601946274, 0.5273775265831957, -0.48180251718398176, -2.2230374431929953, 2.0999928572789828, 0.5496483529576708, 1.067298459209482, -0.3040289105606048, 0.1352094843666391, -0.9944404721270197, 2.2258275006902912, -0.11689955437978636, 0.41231462999024887, 0.7856039151273921, -0.6894731524779986, -0.8276899193670904, 0.23638272241448607, 1.3266743967632526, 0.9626096963262857, -0.28379390855690406, -0.417413711892243, -1.3341211120615861, 0.9298055489835776, 2.106720126861483, 0.23150307059926345, 0.8864836518334782, 0.4193977048083098, 0.3190869644200757, 0.9673541346062681, 0.42245148076732175, 1.0906377526894717, 1.3887188298690671, -0.19507483218944058, -0.9347090401182315, 0.30126885232107575, 0.42495072953595375, -0.9170212042816844, -1.6965969381460768, -0.011576471618042839, -1.0479065708976978, -0.4749222730814971, 0.4229046102099884, 0.08254929486846736, -0.7783883617548714, -0.17950878512595098, 0.4391940123110264, -1.9667304216807953, -1.5652802021531136, 0.8163770970520242, -0.008375093041838632, 0.5510487504106222, -0.4239325998518183, -0.1297116221823799, -0.10728910870450034, -0.12169367361116121, -0.6905111268638191, -0.2653540299125418], \"y\": [0.5439560303056027, 1.8421879324257613, -0.6375584499267892, -1.113621595762316, -2.5460826344966634, -1.4694525849240658, 1.5284509091178395, -0.2389286047643509, -1.8771013496698048, 0.7967095179585106, -1.2751392945819797, -0.3919771719871495, 0.6960770780779357, 1.0829877919884603, -0.21798245190329507, 0.10031667681839129, 0.39551692710003933, 0.03022462233656908, -0.3327329523770193, -0.204819010502919, -0.498599044144297, -2.287561059130041, -0.2626249290420713, -2.7487145066091996, -0.666926270349069, -2.0379098459994895, 0.4076679798231559, 1.2245324594636484, -2.0903293143661017, 0.5730523735386692, -0.8155129116660126, -0.9572874252328925, 0.2646752398006613, -1.59152570791709, 0.0934028853207141, -2.602771223170992, 0.560010384592385, 0.449602390416327, -0.005796794476065169, 0.1829347250578045, -0.5607194705468903, -1.1999112237192675, -1.5750218946994066, 0.9111111432091317, -0.2530599561069696, -0.5460310452823662, -0.2531538203527998, 1.5968736605431069, 1.723507060923573, 0.38763182009739877, -1.5443680470309729, 1.2505835233573588, 0.0032375885699842803, 0.3870066878402003, -0.32906689091979147, 0.3856397258220775, -0.1654479720586817, 0.2232842423247386, -0.4418766853437538, -0.6751906059090874, -1.6521803078301385, 0.8305325757578166, 0.6577807720682736, -1.2851830040136305, 0.5089005765755124, 0.5962021316815027, 0.9573351203673642, -1.7458475655160375, -1.7131000048598244, 1.5732405203322046, -0.6605298861077683, -1.3437487967599893, 1.9772828633357302, -0.2856844646078326, 0.19293980157348012, 0.1628250911198371, 0.4208217295167736, 0.5627226183638288, -1.058090429960864, -1.3589615830656872, 2.138807050366944, 0.885718335515041, 0.8374040360650308, 0.49834346725709405, -1.3963572343750588, 2.2245606506923625, 0.19641383189506273, -0.3435398382353588, 0.7215114388529363, -0.8327583822270256, -2.039974975731211, 1.2859290252046311, -1.1577060578657161, 0.36795754346511866, 0.970791311065794, 0.496204293102698, -0.05627542841788665, 0.10113620396598295, 0.7547476274222054, 0.15433234934660506], \"type\": \"scatter\", \"line\": {\"dash\": \"solid\", \"width\": 1.3, \"color\": \"rgba(128, 128, 128, 1.0)\"}, \"marker\": {\"size\": 2, \"symbol\": \"dot\"}, \"name\": \"D\"}, {\"yaxis\": \"y16\", \"x\": [0.5439560303056027, 1.8421879324257613, -0.6375584499267892, -1.113621595762316, -2.5460826344966634, -1.4694525849240658, 1.5284509091178395, -0.2389286047643509, -1.8771013496698048, 0.7967095179585106, -1.2751392945819797, -0.3919771719871495, 0.6960770780779357, 1.0829877919884603, -0.21798245190329507, 0.10031667681839129, 0.39551692710003933, 0.03022462233656908, -0.3327329523770193, -0.204819010502919, -0.498599044144297, -2.287561059130041, -0.2626249290420713, -2.7487145066091996, -0.666926270349069, -2.0379098459994895, 0.4076679798231559, 1.2245324594636484, -2.0903293143661017, 0.5730523735386692, -0.8155129116660126, -0.9572874252328925, 0.2646752398006613, -1.59152570791709, 0.0934028853207141, -2.602771223170992, 0.560010384592385, 0.449602390416327, -0.005796794476065169, 0.1829347250578045, -0.5607194705468903, -1.1999112237192675, -1.5750218946994066, 0.9111111432091317, -0.2530599561069696, -0.5460310452823662, -0.2531538203527998, 1.5968736605431069, 1.723507060923573, 0.38763182009739877, -1.5443680470309729, 1.2505835233573588, 0.0032375885699842803, 0.3870066878402003, -0.32906689091979147, 0.3856397258220775, -0.1654479720586817, 0.2232842423247386, -0.4418766853437538, -0.6751906059090874, -1.6521803078301385, 0.8305325757578166, 0.6577807720682736, -1.2851830040136305, 0.5089005765755124, 0.5962021316815027, 0.9573351203673642, -1.7458475655160375, -1.7131000048598244, 1.5732405203322046, -0.6605298861077683, -1.3437487967599893, 1.9772828633357302, -0.2856844646078326, 0.19293980157348012, 0.1628250911198371, 0.4208217295167736, 0.5627226183638288, -1.058090429960864, -1.3589615830656872, 2.138807050366944, 0.885718335515041, 0.8374040360650308, 0.49834346725709405, -1.3963572343750588, 2.2245606506923625, 0.19641383189506273, -0.3435398382353588, 0.7215114388529363, -0.8327583822270256, -2.039974975731211, 1.2859290252046311, -1.1577060578657161, 0.36795754346511866, 0.970791311065794, 0.496204293102698, -0.05627542841788665, 0.10113620396598295, 0.7547476274222054, 0.15433234934660506], \"orientation\": \"v\", \"name\": \"D\", \"opacity\": 0.8, \"histfunc\": \"count\", \"type\": \"histogram\", \"histnorm\": \"\", \"nbinsx\": 10, \"marker\": {\"line\": {\"width\": 1.3, \"color\": \"#D9D9D9\"}, \"color\": \"rgba(101, 101, 101, 1.0)\"}, \"xaxis\": \"x16\"}], {\"xaxis14\": {\"anchor\": \"y14\", \"domain\": [0.2625, 0.475]}, \"titlefont\": {\"color\": \"#151516\"}, \"xaxis16\": {\"anchor\": \"y16\", \"domain\": [0.7875000000000001, 1.0]}, \"yaxis15\": {\"anchor\": \"x15\", \"domain\": [0.0, 0.1975]}, \"yaxis16\": {\"anchor\": \"x16\", \"domain\": [0.0, 0.1975]}, \"paper_bgcolor\": \"#FFFFFF\", \"yaxis4\": {\"anchor\": \"x4\", \"domain\": [0.8025, 1.0]}, \"plot_bgcolor\": \"#E5E5E5\", \"xaxis15\": {\"anchor\": \"y15\", \"domain\": [0.525, 0.7375]}, \"xaxis2\": {\"anchor\": \"y2\", \"domain\": [0.2625, 0.475]}, \"yaxis10\": {\"anchor\": \"x10\", \"domain\": [0.2675, 0.465]}, \"yaxis11\": {\"anchor\": \"x11\", \"domain\": [0.2675, 0.465]}, \"xaxis5\": {\"anchor\": \"y5\", \"domain\": [0.0, 0.2125]}, \"xaxis1\": {\"anchor\": \"y1\", \"zerolinecolor\": \"#F6F6F6\", \"title\": \"\", \"titlefont\": {\"color\": \"#666666\"}, \"tickfont\": {\"color\": \"#666666\"}, \"showgrid\": false, \"domain\": [0.0, 0.2125], \"gridcolor\": \"#F6F6F6\"}, \"xaxis4\": {\"anchor\": \"y4\", \"domain\": [0.7875000000000001, 1.0]}, \"yaxis14\": {\"anchor\": \"x14\", \"domain\": [0.0, 0.1975]}, \"xaxis11\": {\"anchor\": \"y11\", \"domain\": [0.525, 0.7375]}, \"xaxis10\": {\"anchor\": \"y10\", \"domain\": [0.2625, 0.475]}, \"yaxis13\": {\"anchor\": \"x13\", \"domain\": [0.0, 0.1975]}, \"yaxis9\": {\"anchor\": \"x9\", \"domain\": [0.2675, 0.465]}, \"xaxis6\": {\"anchor\": \"y6\", \"domain\": [0.2625, 0.475]}, \"xaxis9\": {\"anchor\": \"y9\", \"domain\": [0.0, 0.2125]}, \"yaxis2\": {\"anchor\": \"x2\", \"domain\": [0.8025, 1.0]}, \"xaxis3\": {\"anchor\": \"y3\", \"domain\": [0.525, 0.7375]}, \"xaxis7\": {\"anchor\": \"y7\", \"domain\": [0.525, 0.7375]}, \"xaxis13\": {\"anchor\": \"y13\", \"domain\": [0.0, 0.2125]}, \"xaxis8\": {\"anchor\": \"y8\", \"domain\": [0.7875000000000001, 1.0]}, \"yaxis1\": {\"anchor\": \"x1\", \"zerolinecolor\": \"#F6F6F6\", \"title\": \"\", \"titlefont\": {\"color\": \"#666666\"}, \"tickfont\": {\"color\": \"#666666\"}, \"showgrid\": false, \"domain\": [0.8025, 1.0], \"gridcolor\": \"#F6F6F6\"}, \"legend\": {\"font\": {\"color\": \"#666666\"}, \"bgcolor\": \"#FFFFFF\"}, \"xaxis12\": {\"anchor\": \"y12\", \"domain\": [0.7875000000000001, 1.0]}, \"bargap\": 0.02, \"yaxis8\": {\"anchor\": \"x8\", \"domain\": [0.535, 0.7325]}, \"showlegend\": false, \"yaxis3\": {\"anchor\": \"x3\", \"domain\": [0.8025, 1.0]}, \"yaxis12\": {\"anchor\": \"x12\", \"domain\": [0.2675, 0.465]}, \"yaxis7\": {\"anchor\": \"x7\", \"domain\": [0.535, 0.7325]}, \"yaxis5\": {\"anchor\": \"x5\", \"domain\": [0.535, 0.7325]}, \"yaxis6\": {\"anchor\": \"x6\", \"domain\": [0.535, 0.7325]}}, {\"showLink\": true, \"linkText\": \"Export to plot.ly\"})});</script>"
      ],
      "text/plain": [
       "<IPython.core.display.HTML object>"
      ]
     },
     "metadata": {},
     "output_type": "display_data"
    }
   ],
   "source": [
    "df.scatter_matrix()"
   ]
  },
  {
   "cell_type": "code",
   "execution_count": 52,
   "metadata": {},
   "outputs": [
    {
     "data": {
      "application/vnd.plotly.v1+json": {
       "config": {
        "linkText": "Export to plot.ly",
        "plotlyServerURL": "https://plot.ly",
        "showLink": true
       },
       "data": [
        {
         "line": {
          "color": "rgba(255, 153, 51, 1.0)",
          "dash": "solid",
          "shape": "linear",
          "width": 1.3
         },
         "mode": "lines",
         "name": "A",
         "text": "",
         "type": "scatter",
         "x": [
          0,
          1,
          2,
          3,
          4,
          5,
          6,
          7,
          8,
          9,
          10,
          11,
          12,
          13,
          14,
          15,
          16,
          17,
          18,
          19,
          20,
          21,
          22,
          23,
          24,
          25,
          26,
          27,
          28,
          29,
          30,
          31,
          32,
          33,
          34,
          35,
          36,
          37,
          38,
          39,
          40,
          41,
          42,
          43,
          44,
          45,
          46,
          47,
          48,
          49,
          50,
          51,
          52,
          53,
          54,
          55,
          56,
          57,
          58,
          59,
          60,
          61,
          62,
          63,
          64,
          65,
          66,
          67,
          68,
          69,
          70,
          71,
          72,
          73,
          74,
          75,
          76,
          77,
          78,
          79,
          80,
          81,
          82,
          83,
          84,
          85,
          86,
          87,
          88,
          89,
          90,
          91,
          92,
          93,
          94,
          95,
          96,
          97,
          98,
          99
         ],
         "y": [
          0.9214764218981654,
          0.9959423769262518,
          -1.3172230483026206,
          0.5407245812119383,
          0.642092394587669,
          -0.30864026929741556,
          -0.5064444603327013,
          -0.5082815706886411,
          1.5678242419240762,
          -0.5914735326347423,
          -1.7445375813070596,
          -0.8511532090360143,
          -0.30766078290663085,
          1.5312966921963567,
          0.58170307007244,
          0.7320952946850469,
          0.3738115273086843,
          1.0477262234425586,
          0.32586248987629135,
          0.7806172065163496,
          -1.5995344740588855,
          2.023197403454082,
          2.402146094037926,
          -0.14741254282516394,
          -1.0067375200215045,
          -1.1891762623742206,
          0.12349188869339653,
          0.700258798909914,
          1.413176658445167,
          1.3420667334049952,
          -0.8342798273525154,
          0.025666334238967782,
          -0.24069702509724686,
          0.21364229057549278,
          -1.4426144467776687,
          -0.08932745930767785,
          -0.5284704942944856,
          1.6058386748639275,
          -0.9387770840200482,
          1.2872196386808337,
          -0.19202162275969953,
          0.38100206767575034,
          1.18575609626376,
          0.5553161661699734,
          0.24115791611163684,
          1.4969203576631427,
          -0.5634481211552631,
          2.3703829812061907,
          1.767720902380606,
          0.28017710804105206,
          0.49646553023790985,
          -0.9360754821689791,
          0.5869592300176261,
          -0.09093762307121381,
          1.243246510213567,
          -0.13893385760855262,
          0.7044853625728603,
          -1.1561576840919168,
          -0.7579595928722608,
          -0.21471118458934224,
          0.9257381946080985,
          0.9766127047858868,
          0.6098074478067186,
          1.2146699177361575,
          -0.5123135622157158,
          0.4146388607013162,
          0.4128765741740123,
          -0.47478297707165257,
          -1.3107320275718506,
          -2.0141388970915552,
          0.2149067903001285,
          -0.4501277888894486,
          0.7373901809780066,
          0.6883782375334397,
          -1.0147904664394065,
          0.42183307829222266,
          0.19307449546973163,
          -0.1352813133812439,
          -0.9985451716644858,
          0.21851619701166838,
          0.04588262391096019,
          -0.710749838574289,
          -1.1436647243076707,
          2.0431288115605994,
          0.6826865242180874,
          2.1521093097078667,
          -0.9855146625140069,
          -0.5688666413452645,
          0.7891903836062417,
          -0.9964714269602141,
          -1.528259272876875,
          -0.3176272610541392,
          1.122088699841059,
          0.37043387975814307,
          -2.0079156864099224,
          0.5474650843712826,
          -0.8485065697644134,
          1.207729628300678,
          1.5330545394715986,
          0.7406995419159385
         ]
        },
        {
         "line": {
          "color": "rgba(55, 128, 191, 1.0)",
          "dash": "solid",
          "shape": "linear",
          "width": 1.3
         },
         "mode": "lines",
         "name": "B",
         "text": "",
         "type": "scatter",
         "x": [
          0,
          1,
          2,
          3,
          4,
          5,
          6,
          7,
          8,
          9,
          10,
          11,
          12,
          13,
          14,
          15,
          16,
          17,
          18,
          19,
          20,
          21,
          22,
          23,
          24,
          25,
          26,
          27,
          28,
          29,
          30,
          31,
          32,
          33,
          34,
          35,
          36,
          37,
          38,
          39,
          40,
          41,
          42,
          43,
          44,
          45,
          46,
          47,
          48,
          49,
          50,
          51,
          52,
          53,
          54,
          55,
          56,
          57,
          58,
          59,
          60,
          61,
          62,
          63,
          64,
          65,
          66,
          67,
          68,
          69,
          70,
          71,
          72,
          73,
          74,
          75,
          76,
          77,
          78,
          79,
          80,
          81,
          82,
          83,
          84,
          85,
          86,
          87,
          88,
          89,
          90,
          91,
          92,
          93,
          94,
          95,
          96,
          97,
          98,
          99
         ],
         "y": [
          0.15706837634824367,
          2.486325011809399,
          0.4581314612294709,
          0.3213131453726722,
          2.132998788928307,
          -0.25791019739415977,
          -0.37752673108734125,
          0.47235260718824723,
          0.10171356667085263,
          -2.422855758191742,
          -1.2674186481922938,
          -0.5379949567441187,
          -1.7953427323067395,
          2.0063237366605757,
          2.5883336455520762,
          -0.8425267831571986,
          1.2248718033749602,
          1.6197070506126332,
          0.9344936391704344,
          0.5665983821305312,
          -1.6081919865577023,
          2.6694689145674695,
          2.8679286931480723,
          -0.3347881799431737,
          -0.845714483242077,
          -1.56869571877465,
          1.0040890637118356,
          -1.2836695111261829,
          1.6063675191300337,
          0.7688451881086321,
          -1.5633043117972036,
          1.238466822242878,
          0.22913028877996625,
          0.26167150926814375,
          -0.9730884910163307,
          -0.9210643812974095,
          0.03487141461819909,
          0.7194375841234073,
          -3.5807458612039174,
          1.6830773761434084,
          0.3266677473707797,
          1.6584518524924365,
          0.2915920016186553,
          -0.4751401525272477,
          -0.7064543384594685,
          1.2753461610656653,
          -0.8951359564943171,
          2.6637294446701376,
          2.9544539155671954,
          1.0842209644210898,
          -0.7016158579948318,
          -0.0548868440274618,
          0.3416815092908435,
          -0.6956987482070404,
          1.9208624433667691,
          0.1564203374742432,
          -1.6498029270790124,
          -0.42673381606333916,
          -1.5640742333134028,
          -0.3631963987903895,
          0.6711752884372353,
          1.2952124167793129,
          0.28657199094073726,
          1.0987523544596491,
          -0.05748150337506264,
          0.8768378892039257,
          1.8851181418273053,
          -0.2015068357582116,
          -2.190098657692037,
          -2.2542041479608548,
          -0.326776329515304,
          -0.5228240855753002,
          -0.20818946335878896,
          -0.08923399993906089,
          -2.0105856809428095,
          -0.7370636371480557,
          -0.3762157169718542,
          -0.6401584965040616,
          -0.35513461343034625,
          -0.671728745051213,
          -1.3486074927512977,
          -0.6910757872387225,
          -0.7955879285186064,
          3.960563063640257,
          0.27443140621922496,
          3.1599154929383495,
          -1.3230417211757006,
          1.2858347386000635,
          -0.5653970726312607,
          0.5272564480759511,
          -1.7294050042436018,
          2.175683640669636,
          1.4046673233782463,
          -0.2139704270267973,
          -1.9765463872260072,
          1.1645531187527962,
          -1.7155174420543315,
          0.7725506995024589,
          2.902983741240819,
          0.3282104242550519
         ]
        },
        {
         "line": {
          "color": "rgba(50, 171, 96, 1.0)",
          "dash": "solid",
          "shape": "linear",
          "width": 1.3
         },
         "mode": "lines",
         "name": "C",
         "text": "",
         "type": "scatter",
         "x": [
          0,
          1,
          2,
          3,
          4,
          5,
          6,
          7,
          8,
          9,
          10,
          11,
          12,
          13,
          14,
          15,
          16,
          17,
          18,
          19,
          20,
          21,
          22,
          23,
          24,
          25,
          26,
          27,
          28,
          29,
          30,
          31,
          32,
          33,
          34,
          35,
          36,
          37,
          38,
          39,
          40,
          41,
          42,
          43,
          44,
          45,
          46,
          47,
          48,
          49,
          50,
          51,
          52,
          53,
          54,
          55,
          56,
          57,
          58,
          59,
          60,
          61,
          62,
          63,
          64,
          65,
          66,
          67,
          68,
          69,
          70,
          71,
          72,
          73,
          74,
          75,
          76,
          77,
          78,
          79,
          80,
          81,
          82,
          83,
          84,
          85,
          86,
          87,
          88,
          89,
          90,
          91,
          92,
          93,
          94,
          95,
          96,
          97,
          98,
          99
         ],
         "y": [
          0.8366408578256881,
          1.8402252396946672,
          -0.4141465981499831,
          1.1658968882185996,
          1.2777185117530707,
          1.5949956511407306,
          -0.5674558520567404,
          0.6675693178383532,
          0.06806150131386525,
          -3.4714783615191065,
          -0.7988926390957622,
          -1.8860227435535932,
          -2.162110525665144,
          0.8012155616089041,
          1.7103268244980172,
          -1.0913785007287846,
          1.6735397143335677,
          1.2934968733294931,
          1.006495086383114,
          0.2932713196028673,
          -0.6806027767095506,
          2.6190513578151475,
          2.5688166623360713,
          -0.8812164221308165,
          -0.7886211143218448,
          -1.1483802547620776,
          0.8948618144708678,
          -1.5615601868983728,
          3.2891542667983362,
          1.7122381838938088,
          -2.2975347342883303,
          2.49025677167522,
          -0.4376796176030474,
          1.5793028047313804,
          -2.5189666710537955,
          -1.6969411909727214,
          -0.45505236492269185,
          1.5054793813725507,
          -2.838842249103359,
          1.4559103545941254,
          -0.4632139534583652,
          1.6944893963412908,
          0.49301141293064843,
          -3.3974120322078236,
          -0.099324040484158,
          1.7046615387376889,
          -2.3334404331434344,
          3.9897346821009325,
          4.384808991685687,
          1.3835868318261262,
          -0.4952056483907049,
          1.006971420848045,
          1.5190884462038396,
          -0.028470529642655285,
          2.352975298153108,
          0.15368244714042117,
          -3.438580841446771,
          -0.6019184996711318,
          -0.4918433290357558,
          -0.06468003329188249,
          2.421915032973235,
          1.0896961688590912,
          0.7721459131683128,
          0.21872519734700036,
          0.3705591490590634,
          0.3770932497838361,
          1.6458055669914444,
          -0.685918251652849,
          -3.1016740064570842,
          -2.958044528576191,
          0.5482597981707109,
          -1.4190973402458773,
          -1.4667509875048523,
          0.47678792202927045,
          -2.998332156634573,
          0.7050312776749315,
          0.41063532040437567,
          0.3260482738549758,
          -1.4379015480392532,
          0.030597665550987307,
          -2.110565188532404,
          0.5915189724262466,
          -0.4053851707693829,
          2.719354273389099,
          2.42675327463785,
          3.605500613954959,
          -2.527261785740692,
          0.7454806021554565,
          0.21210331134557636,
          0.5336086626430694,
          -1.6759403773394381,
          6.024308674830516,
          2.9673397687663456,
          -0.6382426442835358,
          -3.1475903461936277,
          -0.07821509815937122,
          -0.7081449042211501,
          0.27137669011635834,
          3.6552415936046323,
          0.9154080729368628
         ]
        },
        {
         "line": {
          "color": "rgba(128, 0, 128, 1.0)",
          "dash": "solid",
          "shape": "linear",
          "width": 1.3
         },
         "mode": "lines",
         "name": "D",
         "text": "",
         "type": "scatter",
         "x": [
          0,
          1,
          2,
          3,
          4,
          5,
          6,
          7,
          8,
          9,
          10,
          11,
          12,
          13,
          14,
          15,
          16,
          17,
          18,
          19,
          20,
          21,
          22,
          23,
          24,
          25,
          26,
          27,
          28,
          29,
          30,
          31,
          32,
          33,
          34,
          35,
          36,
          37,
          38,
          39,
          40,
          41,
          42,
          43,
          44,
          45,
          46,
          47,
          48,
          49,
          50,
          51,
          52,
          53,
          54,
          55,
          56,
          57,
          58,
          59,
          60,
          61,
          62,
          63,
          64,
          65,
          66,
          67,
          68,
          69,
          70,
          71,
          72,
          73,
          74,
          75,
          76,
          77,
          78,
          79,
          80,
          81,
          82,
          83,
          84,
          85,
          86,
          87,
          88,
          89,
          90,
          91,
          92,
          93,
          94,
          95,
          96,
          97,
          98,
          99
         ],
         "y": [
          0.22249468410367212,
          0.8211424099267566,
          -2.525524279919506,
          3.2464270832232796,
          1.0680038979168631,
          1.0267329048521823,
          -0.045688967680390435,
          1.2214441901049056,
          0.09698487591585407,
          -3.7245812098747035,
          -0.5236479849785715,
          -1.887118948553902,
          -1.8297180875542112,
          1.0042660330484208,
          1.5634762988425865,
          -1.5192597327487964,
          1.7379222756329546,
          1.1541891637257886,
          -0.35588731314081934,
          -0.4854157262007856,
          -0.6105838012078681,
          2.7559756648541125,
          2.6314686229184803,
          0.8235205911639074,
          0.4275419809872093,
          -2.5260690196213473,
          1.1984355401494995,
          -2.034798857008279,
          1.6732796078813037,
          1.6862126824379655,
          -2.972233702187,
          2.0103913824302,
          -1.7356267544781203,
          1.0113064222390085,
          -2.7232692986775824,
          -1.46143931531194,
          0.456159649664843,
          2.7495440319303355,
          -2.802995435874726,
          1.240479760477928,
          -1.216196957169553,
          1.5357348985029033,
          0.8770462664455912,
          -3.7299920609733994,
          0.00400812943125739,
          1.4257328150989208,
          -1.5499141870330275,
          3.3348910368769014,
          4.050994414315361,
          0.7024937881549416,
          1.0008390436955694,
          0.39871302976294876,
          2.5855118323890585,
          0.46825703887234765,
          2.162135617044026,
          -0.9278202101896975,
          -3.5717934874377595,
          -0.3423331350516198,
          -0.24489535190675157,
          -0.7835220326601442,
          3.1615236606254467,
          -0.055592036496571406,
          1.3989676181785566,
          1.085442247556717,
          1.3551722412248246,
          0.6057303272196146,
          3.296507221085048,
          -0.4743686997257509,
          -2.4179304444119305,
          -2.336481016881643,
          0.7865142796676595,
          -2.1361230193992293,
          -0.035374756829707366,
          0.19875749205013932,
          -3.715193590677984,
          0.2856762421556692,
          1.5158412648852604,
          0.6777376006058846,
          -2.4290405511355333,
          -0.25011308752693284,
          -2.8256736845919854,
          0.23110017912390574,
          -1.8122495192472445,
          3.5247116679286163,
          1.719613140262131,
          1.3989222925600129,
          -1.6683905376298964,
          1.5962754415432276,
          0.474621113634244,
          2.2100607994582386,
          -0.6100278167424442,
          3.9326909627093967,
          3.744179670492634,
          -2.9159526463186753,
          -5.373141832975221,
          1.6046968370537888,
          0.6531262598039049,
          0.5636598733775333,
          3.9707496871001915,
          0.556611766620228
         ]
        }
       ],
       "layout": {
        "legend": {
         "bgcolor": "#F5F6F9",
         "font": {
          "color": "#4D5663"
         }
        },
        "paper_bgcolor": "#F5F6F9",
        "plot_bgcolor": "#F5F6F9",
        "template": {
         "data": {
          "bar": [
           {
            "error_x": {
             "color": "#2a3f5f"
            },
            "error_y": {
             "color": "#2a3f5f"
            },
            "marker": {
             "line": {
              "color": "#E5ECF6",
              "width": 0.5
             },
             "pattern": {
              "fillmode": "overlay",
              "size": 10,
              "solidity": 0.2
             }
            },
            "type": "bar"
           }
          ],
          "barpolar": [
           {
            "marker": {
             "line": {
              "color": "#E5ECF6",
              "width": 0.5
             },
             "pattern": {
              "fillmode": "overlay",
              "size": 10,
              "solidity": 0.2
             }
            },
            "type": "barpolar"
           }
          ],
          "carpet": [
           {
            "aaxis": {
             "endlinecolor": "#2a3f5f",
             "gridcolor": "white",
             "linecolor": "white",
             "minorgridcolor": "white",
             "startlinecolor": "#2a3f5f"
            },
            "baxis": {
             "endlinecolor": "#2a3f5f",
             "gridcolor": "white",
             "linecolor": "white",
             "minorgridcolor": "white",
             "startlinecolor": "#2a3f5f"
            },
            "type": "carpet"
           }
          ],
          "choropleth": [
           {
            "colorbar": {
             "outlinewidth": 0,
             "ticks": ""
            },
            "type": "choropleth"
           }
          ],
          "contour": [
           {
            "colorbar": {
             "outlinewidth": 0,
             "ticks": ""
            },
            "colorscale": [
             [
              0,
              "#0d0887"
             ],
             [
              0.1111111111111111,
              "#46039f"
             ],
             [
              0.2222222222222222,
              "#7201a8"
             ],
             [
              0.3333333333333333,
              "#9c179e"
             ],
             [
              0.4444444444444444,
              "#bd3786"
             ],
             [
              0.5555555555555556,
              "#d8576b"
             ],
             [
              0.6666666666666666,
              "#ed7953"
             ],
             [
              0.7777777777777778,
              "#fb9f3a"
             ],
             [
              0.8888888888888888,
              "#fdca26"
             ],
             [
              1,
              "#f0f921"
             ]
            ],
            "type": "contour"
           }
          ],
          "contourcarpet": [
           {
            "colorbar": {
             "outlinewidth": 0,
             "ticks": ""
            },
            "type": "contourcarpet"
           }
          ],
          "heatmap": [
           {
            "colorbar": {
             "outlinewidth": 0,
             "ticks": ""
            },
            "colorscale": [
             [
              0,
              "#0d0887"
             ],
             [
              0.1111111111111111,
              "#46039f"
             ],
             [
              0.2222222222222222,
              "#7201a8"
             ],
             [
              0.3333333333333333,
              "#9c179e"
             ],
             [
              0.4444444444444444,
              "#bd3786"
             ],
             [
              0.5555555555555556,
              "#d8576b"
             ],
             [
              0.6666666666666666,
              "#ed7953"
             ],
             [
              0.7777777777777778,
              "#fb9f3a"
             ],
             [
              0.8888888888888888,
              "#fdca26"
             ],
             [
              1,
              "#f0f921"
             ]
            ],
            "type": "heatmap"
           }
          ],
          "heatmapgl": [
           {
            "colorbar": {
             "outlinewidth": 0,
             "ticks": ""
            },
            "colorscale": [
             [
              0,
              "#0d0887"
             ],
             [
              0.1111111111111111,
              "#46039f"
             ],
             [
              0.2222222222222222,
              "#7201a8"
             ],
             [
              0.3333333333333333,
              "#9c179e"
             ],
             [
              0.4444444444444444,
              "#bd3786"
             ],
             [
              0.5555555555555556,
              "#d8576b"
             ],
             [
              0.6666666666666666,
              "#ed7953"
             ],
             [
              0.7777777777777778,
              "#fb9f3a"
             ],
             [
              0.8888888888888888,
              "#fdca26"
             ],
             [
              1,
              "#f0f921"
             ]
            ],
            "type": "heatmapgl"
           }
          ],
          "histogram": [
           {
            "marker": {
             "pattern": {
              "fillmode": "overlay",
              "size": 10,
              "solidity": 0.2
             }
            },
            "type": "histogram"
           }
          ],
          "histogram2d": [
           {
            "colorbar": {
             "outlinewidth": 0,
             "ticks": ""
            },
            "colorscale": [
             [
              0,
              "#0d0887"
             ],
             [
              0.1111111111111111,
              "#46039f"
             ],
             [
              0.2222222222222222,
              "#7201a8"
             ],
             [
              0.3333333333333333,
              "#9c179e"
             ],
             [
              0.4444444444444444,
              "#bd3786"
             ],
             [
              0.5555555555555556,
              "#d8576b"
             ],
             [
              0.6666666666666666,
              "#ed7953"
             ],
             [
              0.7777777777777778,
              "#fb9f3a"
             ],
             [
              0.8888888888888888,
              "#fdca26"
             ],
             [
              1,
              "#f0f921"
             ]
            ],
            "type": "histogram2d"
           }
          ],
          "histogram2dcontour": [
           {
            "colorbar": {
             "outlinewidth": 0,
             "ticks": ""
            },
            "colorscale": [
             [
              0,
              "#0d0887"
             ],
             [
              0.1111111111111111,
              "#46039f"
             ],
             [
              0.2222222222222222,
              "#7201a8"
             ],
             [
              0.3333333333333333,
              "#9c179e"
             ],
             [
              0.4444444444444444,
              "#bd3786"
             ],
             [
              0.5555555555555556,
              "#d8576b"
             ],
             [
              0.6666666666666666,
              "#ed7953"
             ],
             [
              0.7777777777777778,
              "#fb9f3a"
             ],
             [
              0.8888888888888888,
              "#fdca26"
             ],
             [
              1,
              "#f0f921"
             ]
            ],
            "type": "histogram2dcontour"
           }
          ],
          "mesh3d": [
           {
            "colorbar": {
             "outlinewidth": 0,
             "ticks": ""
            },
            "type": "mesh3d"
           }
          ],
          "parcoords": [
           {
            "line": {
             "colorbar": {
              "outlinewidth": 0,
              "ticks": ""
             }
            },
            "type": "parcoords"
           }
          ],
          "pie": [
           {
            "automargin": true,
            "type": "pie"
           }
          ],
          "scatter": [
           {
            "fillpattern": {
             "fillmode": "overlay",
             "size": 10,
             "solidity": 0.2
            },
            "type": "scatter"
           }
          ],
          "scatter3d": [
           {
            "line": {
             "colorbar": {
              "outlinewidth": 0,
              "ticks": ""
             }
            },
            "marker": {
             "colorbar": {
              "outlinewidth": 0,
              "ticks": ""
             }
            },
            "type": "scatter3d"
           }
          ],
          "scattercarpet": [
           {
            "marker": {
             "colorbar": {
              "outlinewidth": 0,
              "ticks": ""
             }
            },
            "type": "scattercarpet"
           }
          ],
          "scattergeo": [
           {
            "marker": {
             "colorbar": {
              "outlinewidth": 0,
              "ticks": ""
             }
            },
            "type": "scattergeo"
           }
          ],
          "scattergl": [
           {
            "marker": {
             "colorbar": {
              "outlinewidth": 0,
              "ticks": ""
             }
            },
            "type": "scattergl"
           }
          ],
          "scattermapbox": [
           {
            "marker": {
             "colorbar": {
              "outlinewidth": 0,
              "ticks": ""
             }
            },
            "type": "scattermapbox"
           }
          ],
          "scatterpolar": [
           {
            "marker": {
             "colorbar": {
              "outlinewidth": 0,
              "ticks": ""
             }
            },
            "type": "scatterpolar"
           }
          ],
          "scatterpolargl": [
           {
            "marker": {
             "colorbar": {
              "outlinewidth": 0,
              "ticks": ""
             }
            },
            "type": "scatterpolargl"
           }
          ],
          "scatterternary": [
           {
            "marker": {
             "colorbar": {
              "outlinewidth": 0,
              "ticks": ""
             }
            },
            "type": "scatterternary"
           }
          ],
          "surface": [
           {
            "colorbar": {
             "outlinewidth": 0,
             "ticks": ""
            },
            "colorscale": [
             [
              0,
              "#0d0887"
             ],
             [
              0.1111111111111111,
              "#46039f"
             ],
             [
              0.2222222222222222,
              "#7201a8"
             ],
             [
              0.3333333333333333,
              "#9c179e"
             ],
             [
              0.4444444444444444,
              "#bd3786"
             ],
             [
              0.5555555555555556,
              "#d8576b"
             ],
             [
              0.6666666666666666,
              "#ed7953"
             ],
             [
              0.7777777777777778,
              "#fb9f3a"
             ],
             [
              0.8888888888888888,
              "#fdca26"
             ],
             [
              1,
              "#f0f921"
             ]
            ],
            "type": "surface"
           }
          ],
          "table": [
           {
            "cells": {
             "fill": {
              "color": "#EBF0F8"
             },
             "line": {
              "color": "white"
             }
            },
            "header": {
             "fill": {
              "color": "#C8D4E3"
             },
             "line": {
              "color": "white"
             }
            },
            "type": "table"
           }
          ]
         },
         "layout": {
          "annotationdefaults": {
           "arrowcolor": "#2a3f5f",
           "arrowhead": 0,
           "arrowwidth": 1
          },
          "autotypenumbers": "strict",
          "coloraxis": {
           "colorbar": {
            "outlinewidth": 0,
            "ticks": ""
           }
          },
          "colorscale": {
           "diverging": [
            [
             0,
             "#8e0152"
            ],
            [
             0.1,
             "#c51b7d"
            ],
            [
             0.2,
             "#de77ae"
            ],
            [
             0.3,
             "#f1b6da"
            ],
            [
             0.4,
             "#fde0ef"
            ],
            [
             0.5,
             "#f7f7f7"
            ],
            [
             0.6,
             "#e6f5d0"
            ],
            [
             0.7,
             "#b8e186"
            ],
            [
             0.8,
             "#7fbc41"
            ],
            [
             0.9,
             "#4d9221"
            ],
            [
             1,
             "#276419"
            ]
           ],
           "sequential": [
            [
             0,
             "#0d0887"
            ],
            [
             0.1111111111111111,
             "#46039f"
            ],
            [
             0.2222222222222222,
             "#7201a8"
            ],
            [
             0.3333333333333333,
             "#9c179e"
            ],
            [
             0.4444444444444444,
             "#bd3786"
            ],
            [
             0.5555555555555556,
             "#d8576b"
            ],
            [
             0.6666666666666666,
             "#ed7953"
            ],
            [
             0.7777777777777778,
             "#fb9f3a"
            ],
            [
             0.8888888888888888,
             "#fdca26"
            ],
            [
             1,
             "#f0f921"
            ]
           ],
           "sequentialminus": [
            [
             0,
             "#0d0887"
            ],
            [
             0.1111111111111111,
             "#46039f"
            ],
            [
             0.2222222222222222,
             "#7201a8"
            ],
            [
             0.3333333333333333,
             "#9c179e"
            ],
            [
             0.4444444444444444,
             "#bd3786"
            ],
            [
             0.5555555555555556,
             "#d8576b"
            ],
            [
             0.6666666666666666,
             "#ed7953"
            ],
            [
             0.7777777777777778,
             "#fb9f3a"
            ],
            [
             0.8888888888888888,
             "#fdca26"
            ],
            [
             1,
             "#f0f921"
            ]
           ]
          },
          "colorway": [
           "#636efa",
           "#EF553B",
           "#00cc96",
           "#ab63fa",
           "#FFA15A",
           "#19d3f3",
           "#FF6692",
           "#B6E880",
           "#FF97FF",
           "#FECB52"
          ],
          "font": {
           "color": "#2a3f5f"
          },
          "geo": {
           "bgcolor": "white",
           "lakecolor": "white",
           "landcolor": "#E5ECF6",
           "showlakes": true,
           "showland": true,
           "subunitcolor": "white"
          },
          "hoverlabel": {
           "align": "left"
          },
          "hovermode": "closest",
          "mapbox": {
           "style": "light"
          },
          "paper_bgcolor": "white",
          "plot_bgcolor": "#E5ECF6",
          "polar": {
           "angularaxis": {
            "gridcolor": "white",
            "linecolor": "white",
            "ticks": ""
           },
           "bgcolor": "#E5ECF6",
           "radialaxis": {
            "gridcolor": "white",
            "linecolor": "white",
            "ticks": ""
           }
          },
          "scene": {
           "xaxis": {
            "backgroundcolor": "#E5ECF6",
            "gridcolor": "white",
            "gridwidth": 2,
            "linecolor": "white",
            "showbackground": true,
            "ticks": "",
            "zerolinecolor": "white"
           },
           "yaxis": {
            "backgroundcolor": "#E5ECF6",
            "gridcolor": "white",
            "gridwidth": 2,
            "linecolor": "white",
            "showbackground": true,
            "ticks": "",
            "zerolinecolor": "white"
           },
           "zaxis": {
            "backgroundcolor": "#E5ECF6",
            "gridcolor": "white",
            "gridwidth": 2,
            "linecolor": "white",
            "showbackground": true,
            "ticks": "",
            "zerolinecolor": "white"
           }
          },
          "shapedefaults": {
           "line": {
            "color": "#2a3f5f"
           }
          },
          "ternary": {
           "aaxis": {
            "gridcolor": "white",
            "linecolor": "white",
            "ticks": ""
           },
           "baxis": {
            "gridcolor": "white",
            "linecolor": "white",
            "ticks": ""
           },
           "bgcolor": "#E5ECF6",
           "caxis": {
            "gridcolor": "white",
            "linecolor": "white",
            "ticks": ""
           }
          },
          "title": {
           "x": 0.05
          },
          "xaxis": {
           "automargin": true,
           "gridcolor": "white",
           "linecolor": "white",
           "ticks": "",
           "title": {
            "standoff": 15
           },
           "zerolinecolor": "white",
           "zerolinewidth": 2
          },
          "yaxis": {
           "automargin": true,
           "gridcolor": "white",
           "linecolor": "white",
           "ticks": "",
           "title": {
            "standoff": 15
           },
           "zerolinecolor": "white",
           "zerolinewidth": 2
          }
         }
        },
        "title": {
         "font": {
          "color": "#4D5663"
         }
        },
        "xaxis": {
         "gridcolor": "#E1E5ED",
         "showgrid": true,
         "tickfont": {
          "color": "#4D5663"
         },
         "title": {
          "font": {
           "color": "#4D5663"
          },
          "text": ""
         },
         "zerolinecolor": "#E1E5ED"
        },
        "yaxis": {
         "gridcolor": "#E1E5ED",
         "showgrid": true,
         "tickfont": {
          "color": "#4D5663"
         },
         "title": {
          "font": {
           "color": "#4D5663"
          },
          "text": ""
         },
         "zerolinecolor": "#E1E5ED"
        }
       }
      },
      "text/html": [
       "<div>                            <div id=\"fcd8fa78-feca-4e7b-b2f5-2ee2cb610ce7\" class=\"plotly-graph-div\" style=\"height:525px; width:100%;\"></div>            <script type=\"text/javascript\">                require([\"plotly\"], function(Plotly) {                    window.PLOTLYENV=window.PLOTLYENV || {};\n",
       "                    window.PLOTLYENV.BASE_URL='https://plot.ly';                                    if (document.getElementById(\"fcd8fa78-feca-4e7b-b2f5-2ee2cb610ce7\")) {                    Plotly.newPlot(                        \"fcd8fa78-feca-4e7b-b2f5-2ee2cb610ce7\",                        [{\"line\":{\"color\":\"rgba(255, 153, 51, 1.0)\",\"dash\":\"solid\",\"shape\":\"linear\",\"width\":1.3},\"mode\":\"lines\",\"name\":\"A\",\"text\":\"\",\"x\":[0,1,2,3,4,5,6,7,8,9,10,11,12,13,14,15,16,17,18,19,20,21,22,23,24,25,26,27,28,29,30,31,32,33,34,35,36,37,38,39,40,41,42,43,44,45,46,47,48,49,50,51,52,53,54,55,56,57,58,59,60,61,62,63,64,65,66,67,68,69,70,71,72,73,74,75,76,77,78,79,80,81,82,83,84,85,86,87,88,89,90,91,92,93,94,95,96,97,98,99],\"y\":[0.9214764218981654,0.9959423769262518,-1.3172230483026206,0.5407245812119383,0.642092394587669,-0.30864026929741556,-0.5064444603327013,-0.5082815706886411,1.5678242419240762,-0.5914735326347423,-1.7445375813070596,-0.8511532090360143,-0.30766078290663085,1.5312966921963567,0.58170307007244,0.7320952946850469,0.3738115273086843,1.0477262234425586,0.32586248987629135,0.7806172065163496,-1.5995344740588855,2.023197403454082,2.402146094037926,-0.14741254282516394,-1.0067375200215045,-1.1891762623742206,0.12349188869339653,0.700258798909914,1.413176658445167,1.3420667334049952,-0.8342798273525154,0.025666334238967782,-0.24069702509724686,0.21364229057549278,-1.4426144467776687,-0.08932745930767785,-0.5284704942944856,1.6058386748639275,-0.9387770840200482,1.2872196386808337,-0.19202162275969953,0.38100206767575034,1.18575609626376,0.5553161661699734,0.24115791611163684,1.4969203576631427,-0.5634481211552631,2.3703829812061907,1.767720902380606,0.28017710804105206,0.49646553023790985,-0.9360754821689791,0.5869592300176261,-0.09093762307121381,1.243246510213567,-0.13893385760855262,0.7044853625728603,-1.1561576840919168,-0.7579595928722608,-0.21471118458934224,0.9257381946080985,0.9766127047858868,0.6098074478067186,1.2146699177361575,-0.5123135622157158,0.4146388607013162,0.4128765741740123,-0.47478297707165257,-1.3107320275718506,-2.0141388970915552,0.2149067903001285,-0.4501277888894486,0.7373901809780066,0.6883782375334397,-1.0147904664394065,0.42183307829222266,0.19307449546973163,-0.1352813133812439,-0.9985451716644858,0.21851619701166838,0.04588262391096019,-0.710749838574289,-1.1436647243076707,2.0431288115605994,0.6826865242180874,2.1521093097078667,-0.9855146625140069,-0.5688666413452645,0.7891903836062417,-0.9964714269602141,-1.528259272876875,-0.3176272610541392,1.122088699841059,0.37043387975814307,-2.0079156864099224,0.5474650843712826,-0.8485065697644134,1.207729628300678,1.5330545394715986,0.7406995419159385],\"type\":\"scatter\"},{\"line\":{\"color\":\"rgba(55, 128, 191, 1.0)\",\"dash\":\"solid\",\"shape\":\"linear\",\"width\":1.3},\"mode\":\"lines\",\"name\":\"B\",\"text\":\"\",\"x\":[0,1,2,3,4,5,6,7,8,9,10,11,12,13,14,15,16,17,18,19,20,21,22,23,24,25,26,27,28,29,30,31,32,33,34,35,36,37,38,39,40,41,42,43,44,45,46,47,48,49,50,51,52,53,54,55,56,57,58,59,60,61,62,63,64,65,66,67,68,69,70,71,72,73,74,75,76,77,78,79,80,81,82,83,84,85,86,87,88,89,90,91,92,93,94,95,96,97,98,99],\"y\":[0.15706837634824367,2.486325011809399,0.4581314612294709,0.3213131453726722,2.132998788928307,-0.25791019739415977,-0.37752673108734125,0.47235260718824723,0.10171356667085263,-2.422855758191742,-1.2674186481922938,-0.5379949567441187,-1.7953427323067395,2.0063237366605757,2.5883336455520762,-0.8425267831571986,1.2248718033749602,1.6197070506126332,0.9344936391704344,0.5665983821305312,-1.6081919865577023,2.6694689145674695,2.8679286931480723,-0.3347881799431737,-0.845714483242077,-1.56869571877465,1.0040890637118356,-1.2836695111261829,1.6063675191300337,0.7688451881086321,-1.5633043117972036,1.238466822242878,0.22913028877996625,0.26167150926814375,-0.9730884910163307,-0.9210643812974095,0.03487141461819909,0.7194375841234073,-3.5807458612039174,1.6830773761434084,0.3266677473707797,1.6584518524924365,0.2915920016186553,-0.4751401525272477,-0.7064543384594685,1.2753461610656653,-0.8951359564943171,2.6637294446701376,2.9544539155671954,1.0842209644210898,-0.7016158579948318,-0.0548868440274618,0.3416815092908435,-0.6956987482070404,1.9208624433667691,0.1564203374742432,-1.6498029270790124,-0.42673381606333916,-1.5640742333134028,-0.3631963987903895,0.6711752884372353,1.2952124167793129,0.28657199094073726,1.0987523544596491,-0.05748150337506264,0.8768378892039257,1.8851181418273053,-0.2015068357582116,-2.190098657692037,-2.2542041479608548,-0.326776329515304,-0.5228240855753002,-0.20818946335878896,-0.08923399993906089,-2.0105856809428095,-0.7370636371480557,-0.3762157169718542,-0.6401584965040616,-0.35513461343034625,-0.671728745051213,-1.3486074927512977,-0.6910757872387225,-0.7955879285186064,3.960563063640257,0.27443140621922496,3.1599154929383495,-1.3230417211757006,1.2858347386000635,-0.5653970726312607,0.5272564480759511,-1.7294050042436018,2.175683640669636,1.4046673233782463,-0.2139704270267973,-1.9765463872260072,1.1645531187527962,-1.7155174420543315,0.7725506995024589,2.902983741240819,0.3282104242550519],\"type\":\"scatter\"},{\"line\":{\"color\":\"rgba(50, 171, 96, 1.0)\",\"dash\":\"solid\",\"shape\":\"linear\",\"width\":1.3},\"mode\":\"lines\",\"name\":\"C\",\"text\":\"\",\"x\":[0,1,2,3,4,5,6,7,8,9,10,11,12,13,14,15,16,17,18,19,20,21,22,23,24,25,26,27,28,29,30,31,32,33,34,35,36,37,38,39,40,41,42,43,44,45,46,47,48,49,50,51,52,53,54,55,56,57,58,59,60,61,62,63,64,65,66,67,68,69,70,71,72,73,74,75,76,77,78,79,80,81,82,83,84,85,86,87,88,89,90,91,92,93,94,95,96,97,98,99],\"y\":[0.8366408578256881,1.8402252396946672,-0.4141465981499831,1.1658968882185996,1.2777185117530707,1.5949956511407306,-0.5674558520567404,0.6675693178383532,0.06806150131386525,-3.4714783615191065,-0.7988926390957622,-1.8860227435535932,-2.162110525665144,0.8012155616089041,1.7103268244980172,-1.0913785007287846,1.6735397143335677,1.2934968733294931,1.006495086383114,0.2932713196028673,-0.6806027767095506,2.6190513578151475,2.5688166623360713,-0.8812164221308165,-0.7886211143218448,-1.1483802547620776,0.8948618144708678,-1.5615601868983728,3.2891542667983362,1.7122381838938088,-2.2975347342883303,2.49025677167522,-0.4376796176030474,1.5793028047313804,-2.5189666710537955,-1.6969411909727214,-0.45505236492269185,1.5054793813725507,-2.838842249103359,1.4559103545941254,-0.4632139534583652,1.6944893963412908,0.49301141293064843,-3.3974120322078236,-0.099324040484158,1.7046615387376889,-2.3334404331434344,3.9897346821009325,4.384808991685687,1.3835868318261262,-0.4952056483907049,1.006971420848045,1.5190884462038396,-0.028470529642655285,2.352975298153108,0.15368244714042117,-3.438580841446771,-0.6019184996711318,-0.4918433290357558,-0.06468003329188249,2.421915032973235,1.0896961688590912,0.7721459131683128,0.21872519734700036,0.3705591490590634,0.3770932497838361,1.6458055669914444,-0.685918251652849,-3.1016740064570842,-2.958044528576191,0.5482597981707109,-1.4190973402458773,-1.4667509875048523,0.47678792202927045,-2.998332156634573,0.7050312776749315,0.41063532040437567,0.3260482738549758,-1.4379015480392532,0.030597665550987307,-2.110565188532404,0.5915189724262466,-0.4053851707693829,2.719354273389099,2.42675327463785,3.605500613954959,-2.527261785740692,0.7454806021554565,0.21210331134557636,0.5336086626430694,-1.6759403773394381,6.024308674830516,2.9673397687663456,-0.6382426442835358,-3.1475903461936277,-0.07821509815937122,-0.7081449042211501,0.27137669011635834,3.6552415936046323,0.9154080729368628],\"type\":\"scatter\"},{\"line\":{\"color\":\"rgba(128, 0, 128, 1.0)\",\"dash\":\"solid\",\"shape\":\"linear\",\"width\":1.3},\"mode\":\"lines\",\"name\":\"D\",\"text\":\"\",\"x\":[0,1,2,3,4,5,6,7,8,9,10,11,12,13,14,15,16,17,18,19,20,21,22,23,24,25,26,27,28,29,30,31,32,33,34,35,36,37,38,39,40,41,42,43,44,45,46,47,48,49,50,51,52,53,54,55,56,57,58,59,60,61,62,63,64,65,66,67,68,69,70,71,72,73,74,75,76,77,78,79,80,81,82,83,84,85,86,87,88,89,90,91,92,93,94,95,96,97,98,99],\"y\":[0.22249468410367212,0.8211424099267566,-2.525524279919506,3.2464270832232796,1.0680038979168631,1.0267329048521823,-0.045688967680390435,1.2214441901049056,0.09698487591585407,-3.7245812098747035,-0.5236479849785715,-1.887118948553902,-1.8297180875542112,1.0042660330484208,1.5634762988425865,-1.5192597327487964,1.7379222756329546,1.1541891637257886,-0.35588731314081934,-0.4854157262007856,-0.6105838012078681,2.7559756648541125,2.6314686229184803,0.8235205911639074,0.4275419809872093,-2.5260690196213473,1.1984355401494995,-2.034798857008279,1.6732796078813037,1.6862126824379655,-2.972233702187,2.0103913824302,-1.7356267544781203,1.0113064222390085,-2.7232692986775824,-1.46143931531194,0.456159649664843,2.7495440319303355,-2.802995435874726,1.240479760477928,-1.216196957169553,1.5357348985029033,0.8770462664455912,-3.7299920609733994,0.00400812943125739,1.4257328150989208,-1.5499141870330275,3.3348910368769014,4.050994414315361,0.7024937881549416,1.0008390436955694,0.39871302976294876,2.5855118323890585,0.46825703887234765,2.162135617044026,-0.9278202101896975,-3.5717934874377595,-0.3423331350516198,-0.24489535190675157,-0.7835220326601442,3.1615236606254467,-0.055592036496571406,1.3989676181785566,1.085442247556717,1.3551722412248246,0.6057303272196146,3.296507221085048,-0.4743686997257509,-2.4179304444119305,-2.336481016881643,0.7865142796676595,-2.1361230193992293,-0.035374756829707366,0.19875749205013932,-3.715193590677984,0.2856762421556692,1.5158412648852604,0.6777376006058846,-2.4290405511355333,-0.25011308752693284,-2.8256736845919854,0.23110017912390574,-1.8122495192472445,3.5247116679286163,1.719613140262131,1.3989222925600129,-1.6683905376298964,1.5962754415432276,0.474621113634244,2.2100607994582386,-0.6100278167424442,3.9326909627093967,3.744179670492634,-2.9159526463186753,-5.373141832975221,1.6046968370537888,0.6531262598039049,0.5636598733775333,3.9707496871001915,0.556611766620228],\"type\":\"scatter\"}],                        {\"legend\":{\"bgcolor\":\"#F5F6F9\",\"font\":{\"color\":\"#4D5663\"}},\"paper_bgcolor\":\"#F5F6F9\",\"plot_bgcolor\":\"#F5F6F9\",\"template\":{\"data\":{\"barpolar\":[{\"marker\":{\"line\":{\"color\":\"#E5ECF6\",\"width\":0.5},\"pattern\":{\"fillmode\":\"overlay\",\"size\":10,\"solidity\":0.2}},\"type\":\"barpolar\"}],\"bar\":[{\"error_x\":{\"color\":\"#2a3f5f\"},\"error_y\":{\"color\":\"#2a3f5f\"},\"marker\":{\"line\":{\"color\":\"#E5ECF6\",\"width\":0.5},\"pattern\":{\"fillmode\":\"overlay\",\"size\":10,\"solidity\":0.2}},\"type\":\"bar\"}],\"carpet\":[{\"aaxis\":{\"endlinecolor\":\"#2a3f5f\",\"gridcolor\":\"white\",\"linecolor\":\"white\",\"minorgridcolor\":\"white\",\"startlinecolor\":\"#2a3f5f\"},\"baxis\":{\"endlinecolor\":\"#2a3f5f\",\"gridcolor\":\"white\",\"linecolor\":\"white\",\"minorgridcolor\":\"white\",\"startlinecolor\":\"#2a3f5f\"},\"type\":\"carpet\"}],\"choropleth\":[{\"colorbar\":{\"outlinewidth\":0,\"ticks\":\"\"},\"type\":\"choropleth\"}],\"contourcarpet\":[{\"colorbar\":{\"outlinewidth\":0,\"ticks\":\"\"},\"type\":\"contourcarpet\"}],\"contour\":[{\"colorbar\":{\"outlinewidth\":0,\"ticks\":\"\"},\"colorscale\":[[0.0,\"#0d0887\"],[0.1111111111111111,\"#46039f\"],[0.2222222222222222,\"#7201a8\"],[0.3333333333333333,\"#9c179e\"],[0.4444444444444444,\"#bd3786\"],[0.5555555555555556,\"#d8576b\"],[0.6666666666666666,\"#ed7953\"],[0.7777777777777778,\"#fb9f3a\"],[0.8888888888888888,\"#fdca26\"],[1.0,\"#f0f921\"]],\"type\":\"contour\"}],\"heatmapgl\":[{\"colorbar\":{\"outlinewidth\":0,\"ticks\":\"\"},\"colorscale\":[[0.0,\"#0d0887\"],[0.1111111111111111,\"#46039f\"],[0.2222222222222222,\"#7201a8\"],[0.3333333333333333,\"#9c179e\"],[0.4444444444444444,\"#bd3786\"],[0.5555555555555556,\"#d8576b\"],[0.6666666666666666,\"#ed7953\"],[0.7777777777777778,\"#fb9f3a\"],[0.8888888888888888,\"#fdca26\"],[1.0,\"#f0f921\"]],\"type\":\"heatmapgl\"}],\"heatmap\":[{\"colorbar\":{\"outlinewidth\":0,\"ticks\":\"\"},\"colorscale\":[[0.0,\"#0d0887\"],[0.1111111111111111,\"#46039f\"],[0.2222222222222222,\"#7201a8\"],[0.3333333333333333,\"#9c179e\"],[0.4444444444444444,\"#bd3786\"],[0.5555555555555556,\"#d8576b\"],[0.6666666666666666,\"#ed7953\"],[0.7777777777777778,\"#fb9f3a\"],[0.8888888888888888,\"#fdca26\"],[1.0,\"#f0f921\"]],\"type\":\"heatmap\"}],\"histogram2dcontour\":[{\"colorbar\":{\"outlinewidth\":0,\"ticks\":\"\"},\"colorscale\":[[0.0,\"#0d0887\"],[0.1111111111111111,\"#46039f\"],[0.2222222222222222,\"#7201a8\"],[0.3333333333333333,\"#9c179e\"],[0.4444444444444444,\"#bd3786\"],[0.5555555555555556,\"#d8576b\"],[0.6666666666666666,\"#ed7953\"],[0.7777777777777778,\"#fb9f3a\"],[0.8888888888888888,\"#fdca26\"],[1.0,\"#f0f921\"]],\"type\":\"histogram2dcontour\"}],\"histogram2d\":[{\"colorbar\":{\"outlinewidth\":0,\"ticks\":\"\"},\"colorscale\":[[0.0,\"#0d0887\"],[0.1111111111111111,\"#46039f\"],[0.2222222222222222,\"#7201a8\"],[0.3333333333333333,\"#9c179e\"],[0.4444444444444444,\"#bd3786\"],[0.5555555555555556,\"#d8576b\"],[0.6666666666666666,\"#ed7953\"],[0.7777777777777778,\"#fb9f3a\"],[0.8888888888888888,\"#fdca26\"],[1.0,\"#f0f921\"]],\"type\":\"histogram2d\"}],\"histogram\":[{\"marker\":{\"pattern\":{\"fillmode\":\"overlay\",\"size\":10,\"solidity\":0.2}},\"type\":\"histogram\"}],\"mesh3d\":[{\"colorbar\":{\"outlinewidth\":0,\"ticks\":\"\"},\"type\":\"mesh3d\"}],\"parcoords\":[{\"line\":{\"colorbar\":{\"outlinewidth\":0,\"ticks\":\"\"}},\"type\":\"parcoords\"}],\"pie\":[{\"automargin\":true,\"type\":\"pie\"}],\"scatter3d\":[{\"line\":{\"colorbar\":{\"outlinewidth\":0,\"ticks\":\"\"}},\"marker\":{\"colorbar\":{\"outlinewidth\":0,\"ticks\":\"\"}},\"type\":\"scatter3d\"}],\"scattercarpet\":[{\"marker\":{\"colorbar\":{\"outlinewidth\":0,\"ticks\":\"\"}},\"type\":\"scattercarpet\"}],\"scattergeo\":[{\"marker\":{\"colorbar\":{\"outlinewidth\":0,\"ticks\":\"\"}},\"type\":\"scattergeo\"}],\"scattergl\":[{\"marker\":{\"colorbar\":{\"outlinewidth\":0,\"ticks\":\"\"}},\"type\":\"scattergl\"}],\"scattermapbox\":[{\"marker\":{\"colorbar\":{\"outlinewidth\":0,\"ticks\":\"\"}},\"type\":\"scattermapbox\"}],\"scatterpolargl\":[{\"marker\":{\"colorbar\":{\"outlinewidth\":0,\"ticks\":\"\"}},\"type\":\"scatterpolargl\"}],\"scatterpolar\":[{\"marker\":{\"colorbar\":{\"outlinewidth\":0,\"ticks\":\"\"}},\"type\":\"scatterpolar\"}],\"scatter\":[{\"fillpattern\":{\"fillmode\":\"overlay\",\"size\":10,\"solidity\":0.2},\"type\":\"scatter\"}],\"scatterternary\":[{\"marker\":{\"colorbar\":{\"outlinewidth\":0,\"ticks\":\"\"}},\"type\":\"scatterternary\"}],\"surface\":[{\"colorbar\":{\"outlinewidth\":0,\"ticks\":\"\"},\"colorscale\":[[0.0,\"#0d0887\"],[0.1111111111111111,\"#46039f\"],[0.2222222222222222,\"#7201a8\"],[0.3333333333333333,\"#9c179e\"],[0.4444444444444444,\"#bd3786\"],[0.5555555555555556,\"#d8576b\"],[0.6666666666666666,\"#ed7953\"],[0.7777777777777778,\"#fb9f3a\"],[0.8888888888888888,\"#fdca26\"],[1.0,\"#f0f921\"]],\"type\":\"surface\"}],\"table\":[{\"cells\":{\"fill\":{\"color\":\"#EBF0F8\"},\"line\":{\"color\":\"white\"}},\"header\":{\"fill\":{\"color\":\"#C8D4E3\"},\"line\":{\"color\":\"white\"}},\"type\":\"table\"}]},\"layout\":{\"annotationdefaults\":{\"arrowcolor\":\"#2a3f5f\",\"arrowhead\":0,\"arrowwidth\":1},\"autotypenumbers\":\"strict\",\"coloraxis\":{\"colorbar\":{\"outlinewidth\":0,\"ticks\":\"\"}},\"colorscale\":{\"diverging\":[[0,\"#8e0152\"],[0.1,\"#c51b7d\"],[0.2,\"#de77ae\"],[0.3,\"#f1b6da\"],[0.4,\"#fde0ef\"],[0.5,\"#f7f7f7\"],[0.6,\"#e6f5d0\"],[0.7,\"#b8e186\"],[0.8,\"#7fbc41\"],[0.9,\"#4d9221\"],[1,\"#276419\"]],\"sequential\":[[0.0,\"#0d0887\"],[0.1111111111111111,\"#46039f\"],[0.2222222222222222,\"#7201a8\"],[0.3333333333333333,\"#9c179e\"],[0.4444444444444444,\"#bd3786\"],[0.5555555555555556,\"#d8576b\"],[0.6666666666666666,\"#ed7953\"],[0.7777777777777778,\"#fb9f3a\"],[0.8888888888888888,\"#fdca26\"],[1.0,\"#f0f921\"]],\"sequentialminus\":[[0.0,\"#0d0887\"],[0.1111111111111111,\"#46039f\"],[0.2222222222222222,\"#7201a8\"],[0.3333333333333333,\"#9c179e\"],[0.4444444444444444,\"#bd3786\"],[0.5555555555555556,\"#d8576b\"],[0.6666666666666666,\"#ed7953\"],[0.7777777777777778,\"#fb9f3a\"],[0.8888888888888888,\"#fdca26\"],[1.0,\"#f0f921\"]]},\"colorway\":[\"#636efa\",\"#EF553B\",\"#00cc96\",\"#ab63fa\",\"#FFA15A\",\"#19d3f3\",\"#FF6692\",\"#B6E880\",\"#FF97FF\",\"#FECB52\"],\"font\":{\"color\":\"#2a3f5f\"},\"geo\":{\"bgcolor\":\"white\",\"lakecolor\":\"white\",\"landcolor\":\"#E5ECF6\",\"showlakes\":true,\"showland\":true,\"subunitcolor\":\"white\"},\"hoverlabel\":{\"align\":\"left\"},\"hovermode\":\"closest\",\"mapbox\":{\"style\":\"light\"},\"paper_bgcolor\":\"white\",\"plot_bgcolor\":\"#E5ECF6\",\"polar\":{\"angularaxis\":{\"gridcolor\":\"white\",\"linecolor\":\"white\",\"ticks\":\"\"},\"bgcolor\":\"#E5ECF6\",\"radialaxis\":{\"gridcolor\":\"white\",\"linecolor\":\"white\",\"ticks\":\"\"}},\"scene\":{\"xaxis\":{\"backgroundcolor\":\"#E5ECF6\",\"gridcolor\":\"white\",\"gridwidth\":2,\"linecolor\":\"white\",\"showbackground\":true,\"ticks\":\"\",\"zerolinecolor\":\"white\"},\"yaxis\":{\"backgroundcolor\":\"#E5ECF6\",\"gridcolor\":\"white\",\"gridwidth\":2,\"linecolor\":\"white\",\"showbackground\":true,\"ticks\":\"\",\"zerolinecolor\":\"white\"},\"zaxis\":{\"backgroundcolor\":\"#E5ECF6\",\"gridcolor\":\"white\",\"gridwidth\":2,\"linecolor\":\"white\",\"showbackground\":true,\"ticks\":\"\",\"zerolinecolor\":\"white\"}},\"shapedefaults\":{\"line\":{\"color\":\"#2a3f5f\"}},\"ternary\":{\"aaxis\":{\"gridcolor\":\"white\",\"linecolor\":\"white\",\"ticks\":\"\"},\"baxis\":{\"gridcolor\":\"white\",\"linecolor\":\"white\",\"ticks\":\"\"},\"bgcolor\":\"#E5ECF6\",\"caxis\":{\"gridcolor\":\"white\",\"linecolor\":\"white\",\"ticks\":\"\"}},\"title\":{\"x\":0.05},\"xaxis\":{\"automargin\":true,\"gridcolor\":\"white\",\"linecolor\":\"white\",\"ticks\":\"\",\"title\":{\"standoff\":15},\"zerolinecolor\":\"white\",\"zerolinewidth\":2},\"yaxis\":{\"automargin\":true,\"gridcolor\":\"white\",\"linecolor\":\"white\",\"ticks\":\"\",\"title\":{\"standoff\":15},\"zerolinecolor\":\"white\",\"zerolinewidth\":2}}},\"title\":{\"font\":{\"color\":\"#4D5663\"}},\"xaxis\":{\"gridcolor\":\"#E1E5ED\",\"showgrid\":true,\"tickfont\":{\"color\":\"#4D5663\"},\"title\":{\"font\":{\"color\":\"#4D5663\"},\"text\":\"\"},\"zerolinecolor\":\"#E1E5ED\"},\"yaxis\":{\"gridcolor\":\"#E1E5ED\",\"showgrid\":true,\"tickfont\":{\"color\":\"#4D5663\"},\"title\":{\"font\":{\"color\":\"#4D5663\"},\"text\":\"\"},\"zerolinecolor\":\"#E1E5ED\"}},                        {\"showLink\": true, \"linkText\": \"Export to plot.ly\", \"plotlyServerURL\": \"https://plot.ly\", \"responsive\": true}                    ).then(function(){\n",
       "                            \n",
       "var gd = document.getElementById('fcd8fa78-feca-4e7b-b2f5-2ee2cb610ce7');\n",
       "var x = new MutationObserver(function (mutations, observer) {{\n",
       "        var display = window.getComputedStyle(gd).display;\n",
       "        if (!display || display === 'none') {{\n",
       "            console.log([gd, 'removed!']);\n",
       "            Plotly.purge(gd);\n",
       "            observer.disconnect();\n",
       "        }}\n",
       "}});\n",
       "\n",
       "// Listen for the removal of the full notebook cells\n",
       "var notebookContainer = gd.closest('#notebook-container');\n",
       "if (notebookContainer) {{\n",
       "    x.observe(notebookContainer, {childList: true});\n",
       "}}\n",
       "\n",
       "// Listen for the clearing of the current output cell\n",
       "var outputEl = gd.closest('.output');\n",
       "if (outputEl) {{\n",
       "    x.observe(outputEl, {childList: true});\n",
       "}}\n",
       "\n",
       "                        })                };                });            </script>        </div>"
      ]
     },
     "metadata": {},
     "output_type": "display_data"
    }
   ],
   "source": [
    "df.iplot(kind='area')"
   ]
  },
  {
   "cell_type": "markdown",
   "metadata": {
    "collapsed": true
   },
   "source": [
    "# Great Job!"
   ]
  }
 ],
 "metadata": {
  "kernelspec": {
   "display_name": "Python 3 (ipykernel)",
   "language": "python",
   "name": "python3"
  },
  "language_info": {
   "codemirror_mode": {
    "name": "ipython",
    "version": 3
   },
   "file_extension": ".py",
   "mimetype": "text/x-python",
   "name": "python",
   "nbconvert_exporter": "python",
   "pygments_lexer": "ipython3",
   "version": "3.10.4"
  }
 },
 "nbformat": 4,
 "nbformat_minor": 1
}
